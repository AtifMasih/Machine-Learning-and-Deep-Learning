{
 "cells": [
  {
   "cell_type": "code",
   "execution_count": 1,
   "id": "17165693",
   "metadata": {
    "_cell_guid": "b1076dfc-b9ad-4769-8c92-a6c4dae69d19",
    "_uuid": "8f2839f25d086af736a60e9eeb907d3b93b6e0e5",
    "execution": {
     "iopub.execute_input": "2024-07-23T13:15:58.313098Z",
     "iopub.status.busy": "2024-07-23T13:15:58.312584Z",
     "iopub.status.idle": "2024-07-23T13:15:59.397585Z",
     "shell.execute_reply": "2024-07-23T13:15:59.396367Z"
    },
    "papermill": {
     "duration": 1.107031,
     "end_time": "2024-07-23T13:15:59.400469",
     "exception": false,
     "start_time": "2024-07-23T13:15:58.293438",
     "status": "completed"
    },
    "tags": []
   },
   "outputs": [
    {
     "name": "stdout",
     "output_type": "stream",
     "text": [
      "/kaggle/input/insurance1/insurance.csv\n"
     ]
    }
   ],
   "source": [
    "# This Python 3 environment comes with many helpful analytics libraries installed\n",
    "# It is defined by the kaggle/python Docker image: https://github.com/kaggle/docker-python\n",
    "# For example, here's several helpful packages to load\n",
    "\n",
    "import numpy as np # linear algebra\n",
    "import pandas as pd # data processing, CSV file I/O (e.g. pd.read_csv)\n",
    "\n",
    "# Input data files are available in the read-only \"../input/\" directory\n",
    "# For example, running this (by clicking run or pressing Shift+Enter) will list all files under the input directory\n",
    "\n",
    "import os\n",
    "for dirname, _, filenames in os.walk('/kaggle/input'):\n",
    "    for filename in filenames:\n",
    "        print(os.path.join(dirname, filename))\n",
    "\n",
    "# You can write up to 20GB to the current directory (/kaggle/working/) that gets preserved as output when you create a version using \"Save & Run All\" \n",
    "# You can also write temporary files to /kaggle/temp/, but they won't be saved outside of the current session"
   ]
  },
  {
   "cell_type": "code",
   "execution_count": 2,
   "id": "70fe0258",
   "metadata": {
    "execution": {
     "iopub.execute_input": "2024-07-23T13:15:59.437921Z",
     "iopub.status.busy": "2024-07-23T13:15:59.437381Z",
     "iopub.status.idle": "2024-07-23T13:15:59.487672Z",
     "shell.execute_reply": "2024-07-23T13:15:59.486104Z"
    },
    "papermill": {
     "duration": 0.072498,
     "end_time": "2024-07-23T13:15:59.490957",
     "exception": false,
     "start_time": "2024-07-23T13:15:59.418459",
     "status": "completed"
    },
    "tags": []
   },
   "outputs": [
    {
     "data": {
      "text/html": [
       "<div>\n",
       "<style scoped>\n",
       "    .dataframe tbody tr th:only-of-type {\n",
       "        vertical-align: middle;\n",
       "    }\n",
       "\n",
       "    .dataframe tbody tr th {\n",
       "        vertical-align: top;\n",
       "    }\n",
       "\n",
       "    .dataframe thead th {\n",
       "        text-align: right;\n",
       "    }\n",
       "</style>\n",
       "<table border=\"1\" class=\"dataframe\">\n",
       "  <thead>\n",
       "    <tr style=\"text-align: right;\">\n",
       "      <th></th>\n",
       "      <th>age</th>\n",
       "      <th>sex</th>\n",
       "      <th>bmi</th>\n",
       "      <th>children</th>\n",
       "      <th>smoker</th>\n",
       "      <th>region</th>\n",
       "      <th>charges</th>\n",
       "    </tr>\n",
       "  </thead>\n",
       "  <tbody>\n",
       "    <tr>\n",
       "      <th>0</th>\n",
       "      <td>19</td>\n",
       "      <td>female</td>\n",
       "      <td>27.900</td>\n",
       "      <td>0</td>\n",
       "      <td>yes</td>\n",
       "      <td>southwest</td>\n",
       "      <td>16884.92400</td>\n",
       "    </tr>\n",
       "    <tr>\n",
       "      <th>1</th>\n",
       "      <td>18</td>\n",
       "      <td>male</td>\n",
       "      <td>33.770</td>\n",
       "      <td>1</td>\n",
       "      <td>no</td>\n",
       "      <td>southeast</td>\n",
       "      <td>1725.55230</td>\n",
       "    </tr>\n",
       "    <tr>\n",
       "      <th>2</th>\n",
       "      <td>28</td>\n",
       "      <td>male</td>\n",
       "      <td>33.000</td>\n",
       "      <td>3</td>\n",
       "      <td>no</td>\n",
       "      <td>southeast</td>\n",
       "      <td>4449.46200</td>\n",
       "    </tr>\n",
       "    <tr>\n",
       "      <th>3</th>\n",
       "      <td>33</td>\n",
       "      <td>male</td>\n",
       "      <td>22.705</td>\n",
       "      <td>0</td>\n",
       "      <td>no</td>\n",
       "      <td>northwest</td>\n",
       "      <td>21984.47061</td>\n",
       "    </tr>\n",
       "    <tr>\n",
       "      <th>4</th>\n",
       "      <td>32</td>\n",
       "      <td>male</td>\n",
       "      <td>28.880</td>\n",
       "      <td>0</td>\n",
       "      <td>no</td>\n",
       "      <td>northwest</td>\n",
       "      <td>3866.85520</td>\n",
       "    </tr>\n",
       "  </tbody>\n",
       "</table>\n",
       "</div>"
      ],
      "text/plain": [
       "   age     sex     bmi  children smoker     region      charges\n",
       "0   19  female  27.900         0    yes  southwest  16884.92400\n",
       "1   18    male  33.770         1     no  southeast   1725.55230\n",
       "2   28    male  33.000         3     no  southeast   4449.46200\n",
       "3   33    male  22.705         0     no  northwest  21984.47061\n",
       "4   32    male  28.880         0     no  northwest   3866.85520"
      ]
     },
     "execution_count": 2,
     "metadata": {},
     "output_type": "execute_result"
    }
   ],
   "source": [
    "dataset= pd.read_csv('/kaggle/input/insurance1/insurance.csv')\n",
    "dataset.head()"
   ]
  },
  {
   "cell_type": "markdown",
   "id": "e43876d4",
   "metadata": {
    "papermill": {
     "duration": 0.018578,
     "end_time": "2024-07-23T13:15:59.528117",
     "exception": false,
     "start_time": "2024-07-23T13:15:59.509539",
     "status": "completed"
    },
    "tags": []
   },
   "source": [
    "**Import libraries for data preprocessing**"
   ]
  },
  {
   "cell_type": "code",
   "execution_count": 3,
   "id": "e18e846e",
   "metadata": {
    "execution": {
     "iopub.execute_input": "2024-07-23T13:15:59.566942Z",
     "iopub.status.busy": "2024-07-23T13:15:59.566488Z",
     "iopub.status.idle": "2024-07-23T13:16:01.151886Z",
     "shell.execute_reply": "2024-07-23T13:16:01.150789Z"
    },
    "papermill": {
     "duration": 1.608402,
     "end_time": "2024-07-23T13:16:01.154815",
     "exception": false,
     "start_time": "2024-07-23T13:15:59.546413",
     "status": "completed"
    },
    "tags": []
   },
   "outputs": [],
   "source": [
    "import matplotlib.pyplot as plt\n",
    "import seaborn as sns"
   ]
  },
  {
   "cell_type": "code",
   "execution_count": 4,
   "id": "edd9c133",
   "metadata": {
    "execution": {
     "iopub.execute_input": "2024-07-23T13:16:01.191961Z",
     "iopub.status.busy": "2024-07-23T13:16:01.191497Z",
     "iopub.status.idle": "2024-07-23T13:16:01.200088Z",
     "shell.execute_reply": "2024-07-23T13:16:01.198668Z"
    },
    "papermill": {
     "duration": 0.030885,
     "end_time": "2024-07-23T13:16:01.202863",
     "exception": false,
     "start_time": "2024-07-23T13:16:01.171978",
     "status": "completed"
    },
    "tags": []
   },
   "outputs": [
    {
     "data": {
      "text/plain": [
       "(1338, 7)"
      ]
     },
     "execution_count": 4,
     "metadata": {},
     "output_type": "execute_result"
    }
   ],
   "source": [
    "dataset.shape"
   ]
  },
  {
   "cell_type": "code",
   "execution_count": 5,
   "id": "1a8aa775",
   "metadata": {
    "execution": {
     "iopub.execute_input": "2024-07-23T13:16:01.240108Z",
     "iopub.status.busy": "2024-07-23T13:16:01.238945Z",
     "iopub.status.idle": "2024-07-23T13:16:01.265792Z",
     "shell.execute_reply": "2024-07-23T13:16:01.264392Z"
    },
    "papermill": {
     "duration": 0.048347,
     "end_time": "2024-07-23T13:16:01.268515",
     "exception": false,
     "start_time": "2024-07-23T13:16:01.220168",
     "status": "completed"
    },
    "tags": []
   },
   "outputs": [
    {
     "name": "stdout",
     "output_type": "stream",
     "text": [
      "<class 'pandas.core.frame.DataFrame'>\n",
      "RangeIndex: 1338 entries, 0 to 1337\n",
      "Data columns (total 7 columns):\n",
      " #   Column    Non-Null Count  Dtype  \n",
      "---  ------    --------------  -----  \n",
      " 0   age       1338 non-null   int64  \n",
      " 1   sex       1338 non-null   object \n",
      " 2   bmi       1338 non-null   float64\n",
      " 3   children  1338 non-null   int64  \n",
      " 4   smoker    1338 non-null   object \n",
      " 5   region    1338 non-null   object \n",
      " 6   charges   1338 non-null   float64\n",
      "dtypes: float64(2), int64(2), object(3)\n",
      "memory usage: 73.3+ KB\n"
     ]
    }
   ],
   "source": [
    "dataset.info()"
   ]
  },
  {
   "cell_type": "code",
   "execution_count": 6,
   "id": "f9ab4d86",
   "metadata": {
    "execution": {
     "iopub.execute_input": "2024-07-23T13:16:01.305612Z",
     "iopub.status.busy": "2024-07-23T13:16:01.305167Z",
     "iopub.status.idle": "2024-07-23T13:16:01.333167Z",
     "shell.execute_reply": "2024-07-23T13:16:01.331928Z"
    },
    "papermill": {
     "duration": 0.050365,
     "end_time": "2024-07-23T13:16:01.336253",
     "exception": false,
     "start_time": "2024-07-23T13:16:01.285888",
     "status": "completed"
    },
    "tags": []
   },
   "outputs": [
    {
     "data": {
      "text/html": [
       "<div>\n",
       "<style scoped>\n",
       "    .dataframe tbody tr th:only-of-type {\n",
       "        vertical-align: middle;\n",
       "    }\n",
       "\n",
       "    .dataframe tbody tr th {\n",
       "        vertical-align: top;\n",
       "    }\n",
       "\n",
       "    .dataframe thead th {\n",
       "        text-align: right;\n",
       "    }\n",
       "</style>\n",
       "<table border=\"1\" class=\"dataframe\">\n",
       "  <thead>\n",
       "    <tr style=\"text-align: right;\">\n",
       "      <th></th>\n",
       "      <th>age</th>\n",
       "      <th>bmi</th>\n",
       "      <th>children</th>\n",
       "      <th>charges</th>\n",
       "    </tr>\n",
       "  </thead>\n",
       "  <tbody>\n",
       "    <tr>\n",
       "      <th>count</th>\n",
       "      <td>1338.000000</td>\n",
       "      <td>1338.000000</td>\n",
       "      <td>1338.000000</td>\n",
       "      <td>1338.000000</td>\n",
       "    </tr>\n",
       "    <tr>\n",
       "      <th>mean</th>\n",
       "      <td>39.207025</td>\n",
       "      <td>30.663397</td>\n",
       "      <td>1.094918</td>\n",
       "      <td>13270.422265</td>\n",
       "    </tr>\n",
       "    <tr>\n",
       "      <th>std</th>\n",
       "      <td>14.049960</td>\n",
       "      <td>6.098187</td>\n",
       "      <td>1.205493</td>\n",
       "      <td>12110.011237</td>\n",
       "    </tr>\n",
       "    <tr>\n",
       "      <th>min</th>\n",
       "      <td>18.000000</td>\n",
       "      <td>15.960000</td>\n",
       "      <td>0.000000</td>\n",
       "      <td>1121.873900</td>\n",
       "    </tr>\n",
       "    <tr>\n",
       "      <th>25%</th>\n",
       "      <td>27.000000</td>\n",
       "      <td>26.296250</td>\n",
       "      <td>0.000000</td>\n",
       "      <td>4740.287150</td>\n",
       "    </tr>\n",
       "    <tr>\n",
       "      <th>50%</th>\n",
       "      <td>39.000000</td>\n",
       "      <td>30.400000</td>\n",
       "      <td>1.000000</td>\n",
       "      <td>9382.033000</td>\n",
       "    </tr>\n",
       "    <tr>\n",
       "      <th>75%</th>\n",
       "      <td>51.000000</td>\n",
       "      <td>34.693750</td>\n",
       "      <td>2.000000</td>\n",
       "      <td>16639.912515</td>\n",
       "    </tr>\n",
       "    <tr>\n",
       "      <th>max</th>\n",
       "      <td>64.000000</td>\n",
       "      <td>53.130000</td>\n",
       "      <td>5.000000</td>\n",
       "      <td>63770.428010</td>\n",
       "    </tr>\n",
       "  </tbody>\n",
       "</table>\n",
       "</div>"
      ],
      "text/plain": [
       "               age          bmi     children       charges\n",
       "count  1338.000000  1338.000000  1338.000000   1338.000000\n",
       "mean     39.207025    30.663397     1.094918  13270.422265\n",
       "std      14.049960     6.098187     1.205493  12110.011237\n",
       "min      18.000000    15.960000     0.000000   1121.873900\n",
       "25%      27.000000    26.296250     0.000000   4740.287150\n",
       "50%      39.000000    30.400000     1.000000   9382.033000\n",
       "75%      51.000000    34.693750     2.000000  16639.912515\n",
       "max      64.000000    53.130000     5.000000  63770.428010"
      ]
     },
     "execution_count": 6,
     "metadata": {},
     "output_type": "execute_result"
    }
   ],
   "source": [
    "dataset.describe()"
   ]
  },
  {
   "cell_type": "code",
   "execution_count": 7,
   "id": "a823f57e",
   "metadata": {
    "execution": {
     "iopub.execute_input": "2024-07-23T13:16:01.374116Z",
     "iopub.status.busy": "2024-07-23T13:16:01.373674Z",
     "iopub.status.idle": "2024-07-23T13:16:01.383200Z",
     "shell.execute_reply": "2024-07-23T13:16:01.382021Z"
    },
    "papermill": {
     "duration": 0.03155,
     "end_time": "2024-07-23T13:16:01.385980",
     "exception": false,
     "start_time": "2024-07-23T13:16:01.354430",
     "status": "completed"
    },
    "tags": []
   },
   "outputs": [
    {
     "data": {
      "text/plain": [
       "Index(['sex', 'smoker', 'region'], dtype='object')"
      ]
     },
     "execution_count": 7,
     "metadata": {},
     "output_type": "execute_result"
    }
   ],
   "source": [
    "dataset.select_dtypes(include = 'object').columns"
   ]
  },
  {
   "cell_type": "code",
   "execution_count": 8,
   "id": "419d3b62",
   "metadata": {
    "execution": {
     "iopub.execute_input": "2024-07-23T13:16:01.424473Z",
     "iopub.status.busy": "2024-07-23T13:16:01.424071Z",
     "iopub.status.idle": "2024-07-23T13:16:01.433165Z",
     "shell.execute_reply": "2024-07-23T13:16:01.431915Z"
    },
    "papermill": {
     "duration": 0.031864,
     "end_time": "2024-07-23T13:16:01.435700",
     "exception": false,
     "start_time": "2024-07-23T13:16:01.403836",
     "status": "completed"
    },
    "tags": []
   },
   "outputs": [
    {
     "data": {
      "text/plain": [
       "3"
      ]
     },
     "execution_count": 8,
     "metadata": {},
     "output_type": "execute_result"
    }
   ],
   "source": [
    "len(dataset.select_dtypes(include = 'object').columns)"
   ]
  },
  {
   "cell_type": "code",
   "execution_count": 9,
   "id": "b4ced68a",
   "metadata": {
    "execution": {
     "iopub.execute_input": "2024-07-23T13:16:01.474593Z",
     "iopub.status.busy": "2024-07-23T13:16:01.474156Z",
     "iopub.status.idle": "2024-07-23T13:16:01.483570Z",
     "shell.execute_reply": "2024-07-23T13:16:01.482237Z"
    },
    "papermill": {
     "duration": 0.032584,
     "end_time": "2024-07-23T13:16:01.486249",
     "exception": false,
     "start_time": "2024-07-23T13:16:01.453665",
     "status": "completed"
    },
    "tags": []
   },
   "outputs": [
    {
     "data": {
      "text/plain": [
       "Index(['age', 'bmi', 'children', 'charges'], dtype='object')"
      ]
     },
     "execution_count": 9,
     "metadata": {},
     "output_type": "execute_result"
    }
   ],
   "source": [
    "dataset.select_dtypes(include = ['float64','int64']).columns"
   ]
  },
  {
   "cell_type": "code",
   "execution_count": 10,
   "id": "591a88e2",
   "metadata": {
    "execution": {
     "iopub.execute_input": "2024-07-23T13:16:01.528277Z",
     "iopub.status.busy": "2024-07-23T13:16:01.527149Z",
     "iopub.status.idle": "2024-07-23T13:16:01.537209Z",
     "shell.execute_reply": "2024-07-23T13:16:01.535895Z"
    },
    "papermill": {
     "duration": 0.035088,
     "end_time": "2024-07-23T13:16:01.539868",
     "exception": false,
     "start_time": "2024-07-23T13:16:01.504780",
     "status": "completed"
    },
    "tags": []
   },
   "outputs": [
    {
     "data": {
      "text/plain": [
       "4"
      ]
     },
     "execution_count": 10,
     "metadata": {},
     "output_type": "execute_result"
    }
   ],
   "source": [
    "len(dataset.select_dtypes(include = ['float64','int64']).columns)"
   ]
  },
  {
   "cell_type": "markdown",
   "id": "9519b333",
   "metadata": {
    "papermill": {
     "duration": 0.018685,
     "end_time": "2024-07-23T13:16:01.578158",
     "exception": false,
     "start_time": "2024-07-23T13:16:01.559473",
     "status": "completed"
    },
    "tags": []
   },
   "source": [
    "**check missing values**"
   ]
  },
  {
   "cell_type": "code",
   "execution_count": 11,
   "id": "e85d934c",
   "metadata": {
    "execution": {
     "iopub.execute_input": "2024-07-23T13:16:01.616604Z",
     "iopub.status.busy": "2024-07-23T13:16:01.616216Z",
     "iopub.status.idle": "2024-07-23T13:16:01.625471Z",
     "shell.execute_reply": "2024-07-23T13:16:01.624162Z"
    },
    "papermill": {
     "duration": 0.031598,
     "end_time": "2024-07-23T13:16:01.628007",
     "exception": false,
     "start_time": "2024-07-23T13:16:01.596409",
     "status": "completed"
    },
    "tags": []
   },
   "outputs": [
    {
     "data": {
      "text/plain": [
       "False"
      ]
     },
     "execution_count": 11,
     "metadata": {},
     "output_type": "execute_result"
    }
   ],
   "source": [
    "dataset.isnull().values.any()"
   ]
  },
  {
   "cell_type": "code",
   "execution_count": 12,
   "id": "2e142689",
   "metadata": {
    "execution": {
     "iopub.execute_input": "2024-07-23T13:16:01.666673Z",
     "iopub.status.busy": "2024-07-23T13:16:01.666271Z",
     "iopub.status.idle": "2024-07-23T13:16:01.675010Z",
     "shell.execute_reply": "2024-07-23T13:16:01.673737Z"
    },
    "papermill": {
     "duration": 0.030919,
     "end_time": "2024-07-23T13:16:01.677397",
     "exception": false,
     "start_time": "2024-07-23T13:16:01.646478",
     "status": "completed"
    },
    "tags": []
   },
   "outputs": [
    {
     "data": {
      "text/plain": [
       "0"
      ]
     },
     "execution_count": 12,
     "metadata": {},
     "output_type": "execute_result"
    }
   ],
   "source": [
    "dataset.isnull().values.sum()"
   ]
  },
  {
   "cell_type": "markdown",
   "id": "0a42cc08",
   "metadata": {
    "papermill": {
     "duration": 0.018732,
     "end_time": "2024-07-23T13:16:01.715020",
     "exception": false,
     "start_time": "2024-07-23T13:16:01.696288",
     "status": "completed"
    },
    "tags": []
   },
   "source": [
    "**Handling Categorical values using one hot encoding**"
   ]
  },
  {
   "cell_type": "code",
   "execution_count": 13,
   "id": "d4265f84",
   "metadata": {
    "execution": {
     "iopub.execute_input": "2024-07-23T13:16:01.754987Z",
     "iopub.status.busy": "2024-07-23T13:16:01.754055Z",
     "iopub.status.idle": "2024-07-23T13:16:01.763352Z",
     "shell.execute_reply": "2024-07-23T13:16:01.761809Z"
    },
    "papermill": {
     "duration": 0.032204,
     "end_time": "2024-07-23T13:16:01.766382",
     "exception": false,
     "start_time": "2024-07-23T13:16:01.734178",
     "status": "completed"
    },
    "tags": []
   },
   "outputs": [
    {
     "data": {
      "text/plain": [
       "Index(['sex', 'smoker', 'region'], dtype='object')"
      ]
     },
     "execution_count": 13,
     "metadata": {},
     "output_type": "execute_result"
    }
   ],
   "source": [
    "dataset.select_dtypes(include = 'object').columns"
   ]
  },
  {
   "cell_type": "code",
   "execution_count": 14,
   "id": "46d3dfe8",
   "metadata": {
    "execution": {
     "iopub.execute_input": "2024-07-23T13:16:01.805339Z",
     "iopub.status.busy": "2024-07-23T13:16:01.804956Z",
     "iopub.status.idle": "2024-07-23T13:16:01.813116Z",
     "shell.execute_reply": "2024-07-23T13:16:01.811920Z"
    },
    "papermill": {
     "duration": 0.030384,
     "end_time": "2024-07-23T13:16:01.815396",
     "exception": false,
     "start_time": "2024-07-23T13:16:01.785012",
     "status": "completed"
    },
    "tags": []
   },
   "outputs": [
    {
     "data": {
      "text/plain": [
       "array(['female', 'male'], dtype=object)"
      ]
     },
     "execution_count": 14,
     "metadata": {},
     "output_type": "execute_result"
    }
   ],
   "source": [
    "dataset['sex'].unique()"
   ]
  },
  {
   "cell_type": "code",
   "execution_count": 15,
   "id": "3157ef54",
   "metadata": {
    "execution": {
     "iopub.execute_input": "2024-07-23T13:16:01.856625Z",
     "iopub.status.busy": "2024-07-23T13:16:01.856177Z",
     "iopub.status.idle": "2024-07-23T13:16:01.863794Z",
     "shell.execute_reply": "2024-07-23T13:16:01.862601Z"
    },
    "papermill": {
     "duration": 0.031012,
     "end_time": "2024-07-23T13:16:01.866687",
     "exception": false,
     "start_time": "2024-07-23T13:16:01.835675",
     "status": "completed"
    },
    "tags": []
   },
   "outputs": [
    {
     "data": {
      "text/plain": [
       "array(['yes', 'no'], dtype=object)"
      ]
     },
     "execution_count": 15,
     "metadata": {},
     "output_type": "execute_result"
    }
   ],
   "source": [
    "dataset['smoker'].unique()"
   ]
  },
  {
   "cell_type": "code",
   "execution_count": 16,
   "id": "d87ec04f",
   "metadata": {
    "execution": {
     "iopub.execute_input": "2024-07-23T13:16:01.907199Z",
     "iopub.status.busy": "2024-07-23T13:16:01.906275Z",
     "iopub.status.idle": "2024-07-23T13:16:01.914434Z",
     "shell.execute_reply": "2024-07-23T13:16:01.913308Z"
    },
    "papermill": {
     "duration": 0.031142,
     "end_time": "2024-07-23T13:16:01.917205",
     "exception": false,
     "start_time": "2024-07-23T13:16:01.886063",
     "status": "completed"
    },
    "tags": []
   },
   "outputs": [
    {
     "data": {
      "text/plain": [
       "array(['southwest', 'southeast', 'northwest', 'northeast'], dtype=object)"
      ]
     },
     "execution_count": 16,
     "metadata": {},
     "output_type": "execute_result"
    }
   ],
   "source": [
    "dataset['region'].unique()"
   ]
  },
  {
   "cell_type": "code",
   "execution_count": 17,
   "id": "60bb6ebe",
   "metadata": {
    "execution": {
     "iopub.execute_input": "2024-07-23T13:16:01.961515Z",
     "iopub.status.busy": "2024-07-23T13:16:01.961087Z",
     "iopub.status.idle": "2024-07-23T13:16:01.984927Z",
     "shell.execute_reply": "2024-07-23T13:16:01.983687Z"
    },
    "papermill": {
     "duration": 0.048234,
     "end_time": "2024-07-23T13:16:01.987696",
     "exception": false,
     "start_time": "2024-07-23T13:16:01.939462",
     "status": "completed"
    },
    "tags": []
   },
   "outputs": [
    {
     "data": {
      "text/html": [
       "<div>\n",
       "<style scoped>\n",
       "    .dataframe tbody tr th:only-of-type {\n",
       "        vertical-align: middle;\n",
       "    }\n",
       "\n",
       "    .dataframe tbody tr th {\n",
       "        vertical-align: top;\n",
       "    }\n",
       "\n",
       "    .dataframe thead th {\n",
       "        text-align: right;\n",
       "    }\n",
       "</style>\n",
       "<table border=\"1\" class=\"dataframe\">\n",
       "  <thead>\n",
       "    <tr style=\"text-align: right;\">\n",
       "      <th></th>\n",
       "      <th>age</th>\n",
       "      <th>bmi</th>\n",
       "      <th>children</th>\n",
       "      <th>charges</th>\n",
       "      <th>sex_male</th>\n",
       "      <th>smoker_yes</th>\n",
       "      <th>region_northwest</th>\n",
       "      <th>region_southeast</th>\n",
       "      <th>region_southwest</th>\n",
       "    </tr>\n",
       "  </thead>\n",
       "  <tbody>\n",
       "    <tr>\n",
       "      <th>0</th>\n",
       "      <td>19</td>\n",
       "      <td>27.900</td>\n",
       "      <td>0</td>\n",
       "      <td>16884.92400</td>\n",
       "      <td>False</td>\n",
       "      <td>True</td>\n",
       "      <td>False</td>\n",
       "      <td>False</td>\n",
       "      <td>True</td>\n",
       "    </tr>\n",
       "    <tr>\n",
       "      <th>1</th>\n",
       "      <td>18</td>\n",
       "      <td>33.770</td>\n",
       "      <td>1</td>\n",
       "      <td>1725.55230</td>\n",
       "      <td>True</td>\n",
       "      <td>False</td>\n",
       "      <td>False</td>\n",
       "      <td>True</td>\n",
       "      <td>False</td>\n",
       "    </tr>\n",
       "    <tr>\n",
       "      <th>2</th>\n",
       "      <td>28</td>\n",
       "      <td>33.000</td>\n",
       "      <td>3</td>\n",
       "      <td>4449.46200</td>\n",
       "      <td>True</td>\n",
       "      <td>False</td>\n",
       "      <td>False</td>\n",
       "      <td>True</td>\n",
       "      <td>False</td>\n",
       "    </tr>\n",
       "    <tr>\n",
       "      <th>3</th>\n",
       "      <td>33</td>\n",
       "      <td>22.705</td>\n",
       "      <td>0</td>\n",
       "      <td>21984.47061</td>\n",
       "      <td>True</td>\n",
       "      <td>False</td>\n",
       "      <td>True</td>\n",
       "      <td>False</td>\n",
       "      <td>False</td>\n",
       "    </tr>\n",
       "    <tr>\n",
       "      <th>4</th>\n",
       "      <td>32</td>\n",
       "      <td>28.880</td>\n",
       "      <td>0</td>\n",
       "      <td>3866.85520</td>\n",
       "      <td>True</td>\n",
       "      <td>False</td>\n",
       "      <td>True</td>\n",
       "      <td>False</td>\n",
       "      <td>False</td>\n",
       "    </tr>\n",
       "  </tbody>\n",
       "</table>\n",
       "</div>"
      ],
      "text/plain": [
       "   age     bmi  children      charges  sex_male  smoker_yes  region_northwest  \\\n",
       "0   19  27.900         0  16884.92400     False        True             False   \n",
       "1   18  33.770         1   1725.55230      True       False             False   \n",
       "2   28  33.000         3   4449.46200      True       False             False   \n",
       "3   33  22.705         0  21984.47061      True       False              True   \n",
       "4   32  28.880         0   3866.85520      True       False              True   \n",
       "\n",
       "   region_southeast  region_southwest  \n",
       "0             False              True  \n",
       "1              True             False  \n",
       "2              True             False  \n",
       "3             False             False  \n",
       "4             False             False  "
      ]
     },
     "execution_count": 17,
     "metadata": {},
     "output_type": "execute_result"
    }
   ],
   "source": [
    "dataset = pd.get_dummies(dataset, drop_first = True)\n",
    "dataset.head()"
   ]
  },
  {
   "cell_type": "markdown",
   "id": "fa96fba1",
   "metadata": {
    "papermill": {
     "duration": 0.020607,
     "end_time": "2024-07-23T13:16:02.028288",
     "exception": false,
     "start_time": "2024-07-23T13:16:02.007681",
     "status": "completed"
    },
    "tags": []
   },
   "source": [
    "**Check correlation**"
   ]
  },
  {
   "cell_type": "code",
   "execution_count": 18,
   "id": "29bc1364",
   "metadata": {
    "execution": {
     "iopub.execute_input": "2024-07-23T13:16:02.071211Z",
     "iopub.status.busy": "2024-07-23T13:16:02.070756Z",
     "iopub.status.idle": "2024-07-23T13:16:02.091570Z",
     "shell.execute_reply": "2024-07-23T13:16:02.090383Z"
    },
    "papermill": {
     "duration": 0.045687,
     "end_time": "2024-07-23T13:16:02.094454",
     "exception": false,
     "start_time": "2024-07-23T13:16:02.048767",
     "status": "completed"
    },
    "tags": []
   },
   "outputs": [
    {
     "data": {
      "text/html": [
       "<div>\n",
       "<style scoped>\n",
       "    .dataframe tbody tr th:only-of-type {\n",
       "        vertical-align: middle;\n",
       "    }\n",
       "\n",
       "    .dataframe tbody tr th {\n",
       "        vertical-align: top;\n",
       "    }\n",
       "\n",
       "    .dataframe thead th {\n",
       "        text-align: right;\n",
       "    }\n",
       "</style>\n",
       "<table border=\"1\" class=\"dataframe\">\n",
       "  <thead>\n",
       "    <tr style=\"text-align: right;\">\n",
       "      <th></th>\n",
       "      <th>age</th>\n",
       "      <th>bmi</th>\n",
       "      <th>children</th>\n",
       "      <th>sex_male</th>\n",
       "      <th>smoker_yes</th>\n",
       "      <th>region_northwest</th>\n",
       "      <th>region_southeast</th>\n",
       "      <th>region_southwest</th>\n",
       "    </tr>\n",
       "  </thead>\n",
       "  <tbody>\n",
       "    <tr>\n",
       "      <th>0</th>\n",
       "      <td>19</td>\n",
       "      <td>27.900</td>\n",
       "      <td>0</td>\n",
       "      <td>False</td>\n",
       "      <td>True</td>\n",
       "      <td>False</td>\n",
       "      <td>False</td>\n",
       "      <td>True</td>\n",
       "    </tr>\n",
       "    <tr>\n",
       "      <th>1</th>\n",
       "      <td>18</td>\n",
       "      <td>33.770</td>\n",
       "      <td>1</td>\n",
       "      <td>True</td>\n",
       "      <td>False</td>\n",
       "      <td>False</td>\n",
       "      <td>True</td>\n",
       "      <td>False</td>\n",
       "    </tr>\n",
       "    <tr>\n",
       "      <th>2</th>\n",
       "      <td>28</td>\n",
       "      <td>33.000</td>\n",
       "      <td>3</td>\n",
       "      <td>True</td>\n",
       "      <td>False</td>\n",
       "      <td>False</td>\n",
       "      <td>True</td>\n",
       "      <td>False</td>\n",
       "    </tr>\n",
       "    <tr>\n",
       "      <th>3</th>\n",
       "      <td>33</td>\n",
       "      <td>22.705</td>\n",
       "      <td>0</td>\n",
       "      <td>True</td>\n",
       "      <td>False</td>\n",
       "      <td>True</td>\n",
       "      <td>False</td>\n",
       "      <td>False</td>\n",
       "    </tr>\n",
       "    <tr>\n",
       "      <th>4</th>\n",
       "      <td>32</td>\n",
       "      <td>28.880</td>\n",
       "      <td>0</td>\n",
       "      <td>True</td>\n",
       "      <td>False</td>\n",
       "      <td>True</td>\n",
       "      <td>False</td>\n",
       "      <td>False</td>\n",
       "    </tr>\n",
       "  </tbody>\n",
       "</table>\n",
       "</div>"
      ],
      "text/plain": [
       "   age     bmi  children  sex_male  smoker_yes  region_northwest  \\\n",
       "0   19  27.900         0     False        True             False   \n",
       "1   18  33.770         1      True       False             False   \n",
       "2   28  33.000         3      True       False             False   \n",
       "3   33  22.705         0      True       False              True   \n",
       "4   32  28.880         0      True       False              True   \n",
       "\n",
       "   region_southeast  region_southwest  \n",
       "0             False              True  \n",
       "1              True             False  \n",
       "2              True             False  \n",
       "3             False             False  \n",
       "4             False             False  "
      ]
     },
     "execution_count": 18,
     "metadata": {},
     "output_type": "execute_result"
    }
   ],
   "source": [
    "dataset2 = dataset.drop('charges', axis = 'columns')\n",
    "dataset2.head()"
   ]
  },
  {
   "cell_type": "code",
   "execution_count": 19,
   "id": "f50956c9",
   "metadata": {
    "execution": {
     "iopub.execute_input": "2024-07-23T13:16:02.200380Z",
     "iopub.status.busy": "2024-07-23T13:16:02.199948Z",
     "iopub.status.idle": "2024-07-23T13:16:02.761480Z",
     "shell.execute_reply": "2024-07-23T13:16:02.760079Z"
    },
    "papermill": {
     "duration": 0.585897,
     "end_time": "2024-07-23T13:16:02.764590",
     "exception": false,
     "start_time": "2024-07-23T13:16:02.178693",
     "status": "completed"
    },
    "tags": []
   },
   "outputs": [
    {
     "data": {
      "text/plain": [
       "<Axes: title={'center': 'Correlation of features with charges'}>"
      ]
     },
     "execution_count": 19,
     "metadata": {},
     "output_type": "execute_result"
    },
    {
     "data": {
      "image/png": "[encoded data removed]",
      "text/plain": [
       "<Figure size 1600x900 with 1 Axes>"
      ]
     },
     "metadata": {},
     "output_type": "display_data"
    }
   ],
   "source": [
    "dataset2.corrwith(dataset['charges']).plot.bar(figsize = (16,9), title ='Correlation of features with charges',rot = 45, grid = True)"
   ]
  },
  {
   "cell_type": "markdown",
   "id": "d2506690",
   "metadata": {
    "papermill": {
     "duration": 0.02071,
     "end_time": "2024-07-23T13:16:02.807175",
     "exception": false,
     "start_time": "2024-07-23T13:16:02.786465",
     "status": "completed"
    },
    "tags": []
   },
   "source": [
    "**Heatmap of the correlation**"
   ]
  },
  {
   "cell_type": "code",
   "execution_count": 20,
   "id": "ed36363f",
   "metadata": {
    "execution": {
     "iopub.execute_input": "2024-07-23T13:16:02.852290Z",
     "iopub.status.busy": "2024-07-23T13:16:02.851866Z",
     "iopub.status.idle": "2024-07-23T13:16:02.860308Z",
     "shell.execute_reply": "2024-07-23T13:16:02.858989Z"
    },
    "papermill": {
     "duration": 0.033405,
     "end_time": "2024-07-23T13:16:02.862916",
     "exception": false,
     "start_time": "2024-07-23T13:16:02.829511",
     "status": "completed"
    },
    "tags": []
   },
   "outputs": [],
   "source": [
    "cor = dataset.corr()"
   ]
  },
  {
   "cell_type": "code",
   "execution_count": 21,
   "id": "7a1b127a",
   "metadata": {
    "execution": {
     "iopub.execute_input": "2024-07-23T13:16:02.907469Z",
     "iopub.status.busy": "2024-07-23T13:16:02.906745Z",
     "iopub.status.idle": "2024-07-23T13:16:03.621223Z",
     "shell.execute_reply": "2024-07-23T13:16:03.619911Z"
    },
    "papermill": {
     "duration": 0.739544,
     "end_time": "2024-07-23T13:16:03.623859",
     "exception": false,
     "start_time": "2024-07-23T13:16:02.884315",
     "status": "completed"
    },
    "tags": []
   },
   "outputs": [
    {
     "data": {
      "text/plain": [
       "<Axes: >"
      ]
     },
     "execution_count": 21,
     "metadata": {},
     "output_type": "execute_result"
    },
    {
     "data": {
      "image/png": "[encoded data removed]",
      "text/plain": [
       "<Figure size 1600x900 with 2 Axes>"
      ]
     },
     "metadata": {},
     "output_type": "display_data"
    }
   ],
   "source": [
    "plt.figure(figsize = (16,9))\n",
    "sns.heatmap(cor, annot = True)"
   ]
  },
  {
   "cell_type": "markdown",
   "id": "43004c76",
   "metadata": {
    "papermill": {
     "duration": 0.022418,
     "end_time": "2024-07-23T13:16:03.668734",
     "exception": false,
     "start_time": "2024-07-23T13:16:03.646316",
     "status": "completed"
    },
    "tags": []
   },
   "source": [
    "**Split the dataset in train and test set**"
   ]
  },
  {
   "cell_type": "code",
   "execution_count": 22,
   "id": "5106d2b8",
   "metadata": {
    "execution": {
     "iopub.execute_input": "2024-07-23T13:16:03.715684Z",
     "iopub.status.busy": "2024-07-23T13:16:03.714896Z",
     "iopub.status.idle": "2024-07-23T13:16:03.732390Z",
     "shell.execute_reply": "2024-07-23T13:16:03.730964Z"
    },
    "papermill": {
     "duration": 0.044146,
     "end_time": "2024-07-23T13:16:03.735263",
     "exception": false,
     "start_time": "2024-07-23T13:16:03.691117",
     "status": "completed"
    },
    "tags": []
   },
   "outputs": [
    {
     "data": {
      "text/html": [
       "<div>\n",
       "<style scoped>\n",
       "    .dataframe tbody tr th:only-of-type {\n",
       "        vertical-align: middle;\n",
       "    }\n",
       "\n",
       "    .dataframe tbody tr th {\n",
       "        vertical-align: top;\n",
       "    }\n",
       "\n",
       "    .dataframe thead th {\n",
       "        text-align: right;\n",
       "    }\n",
       "</style>\n",
       "<table border=\"1\" class=\"dataframe\">\n",
       "  <thead>\n",
       "    <tr style=\"text-align: right;\">\n",
       "      <th></th>\n",
       "      <th>age</th>\n",
       "      <th>bmi</th>\n",
       "      <th>children</th>\n",
       "      <th>sex_male</th>\n",
       "      <th>smoker_yes</th>\n",
       "      <th>region_northwest</th>\n",
       "      <th>region_southeast</th>\n",
       "      <th>region_southwest</th>\n",
       "    </tr>\n",
       "  </thead>\n",
       "  <tbody>\n",
       "    <tr>\n",
       "      <th>0</th>\n",
       "      <td>19</td>\n",
       "      <td>27.900</td>\n",
       "      <td>0</td>\n",
       "      <td>False</td>\n",
       "      <td>True</td>\n",
       "      <td>False</td>\n",
       "      <td>False</td>\n",
       "      <td>True</td>\n",
       "    </tr>\n",
       "    <tr>\n",
       "      <th>1</th>\n",
       "      <td>18</td>\n",
       "      <td>33.770</td>\n",
       "      <td>1</td>\n",
       "      <td>True</td>\n",
       "      <td>False</td>\n",
       "      <td>False</td>\n",
       "      <td>True</td>\n",
       "      <td>False</td>\n",
       "    </tr>\n",
       "    <tr>\n",
       "      <th>2</th>\n",
       "      <td>28</td>\n",
       "      <td>33.000</td>\n",
       "      <td>3</td>\n",
       "      <td>True</td>\n",
       "      <td>False</td>\n",
       "      <td>False</td>\n",
       "      <td>True</td>\n",
       "      <td>False</td>\n",
       "    </tr>\n",
       "    <tr>\n",
       "      <th>3</th>\n",
       "      <td>33</td>\n",
       "      <td>22.705</td>\n",
       "      <td>0</td>\n",
       "      <td>True</td>\n",
       "      <td>False</td>\n",
       "      <td>True</td>\n",
       "      <td>False</td>\n",
       "      <td>False</td>\n",
       "    </tr>\n",
       "    <tr>\n",
       "      <th>4</th>\n",
       "      <td>32</td>\n",
       "      <td>28.880</td>\n",
       "      <td>0</td>\n",
       "      <td>True</td>\n",
       "      <td>False</td>\n",
       "      <td>True</td>\n",
       "      <td>False</td>\n",
       "      <td>False</td>\n",
       "    </tr>\n",
       "  </tbody>\n",
       "</table>\n",
       "</div>"
      ],
      "text/plain": [
       "   age     bmi  children  sex_male  smoker_yes  region_northwest  \\\n",
       "0   19  27.900         0     False        True             False   \n",
       "1   18  33.770         1      True       False             False   \n",
       "2   28  33.000         3      True       False             False   \n",
       "3   33  22.705         0      True       False              True   \n",
       "4   32  28.880         0      True       False              True   \n",
       "\n",
       "   region_southeast  region_southwest  \n",
       "0             False              True  \n",
       "1              True             False  \n",
       "2              True             False  \n",
       "3             False             False  \n",
       "4             False             False  "
      ]
     },
     "execution_count": 22,
     "metadata": {},
     "output_type": "execute_result"
    }
   ],
   "source": [
    "X = dataset.drop('charges', axis = 'columns')\n",
    "X.head()"
   ]
  },
  {
   "cell_type": "code",
   "execution_count": 23,
   "id": "f263b319",
   "metadata": {
    "execution": {
     "iopub.execute_input": "2024-07-23T13:16:03.785928Z",
     "iopub.status.busy": "2024-07-23T13:16:03.784646Z",
     "iopub.status.idle": "2024-07-23T13:16:03.794793Z",
     "shell.execute_reply": "2024-07-23T13:16:03.793405Z"
    },
    "papermill": {
     "duration": 0.038171,
     "end_time": "2024-07-23T13:16:03.797594",
     "exception": false,
     "start_time": "2024-07-23T13:16:03.759423",
     "status": "completed"
    },
    "tags": []
   },
   "outputs": [
    {
     "data": {
      "text/plain": [
       "0    16884.92400\n",
       "1     1725.55230\n",
       "2     4449.46200\n",
       "3    21984.47061\n",
       "4     3866.85520\n",
       "Name: charges, dtype: float64"
      ]
     },
     "execution_count": 23,
     "metadata": {},
     "output_type": "execute_result"
    }
   ],
   "source": [
    "y = dataset['charges']\n",
    "y.head()"
   ]
  },
  {
   "cell_type": "markdown",
   "id": "0f2d1ae6",
   "metadata": {
    "papermill": {
     "duration": 0.028583,
     "end_time": "2024-07-23T13:16:03.859360",
     "exception": false,
     "start_time": "2024-07-23T13:16:03.830777",
     "status": "completed"
    },
    "tags": []
   },
   "source": [
    "**Model Creation**"
   ]
  },
  {
   "cell_type": "code",
   "execution_count": 24,
   "id": "3fc66a9c",
   "metadata": {
    "execution": {
     "iopub.execute_input": "2024-07-23T13:16:03.908967Z",
     "iopub.status.busy": "2024-07-23T13:16:03.908292Z",
     "iopub.status.idle": "2024-07-23T13:16:04.233232Z",
     "shell.execute_reply": "2024-07-23T13:16:04.231799Z"
    },
    "papermill": {
     "duration": 0.352952,
     "end_time": "2024-07-23T13:16:04.236198",
     "exception": false,
     "start_time": "2024-07-23T13:16:03.883246",
     "status": "completed"
    },
    "tags": []
   },
   "outputs": [],
   "source": [
    "from sklearn.model_selection import train_test_split\n",
    "X_train, X_test, y_train, y_test = train_test_split(X, y, test_size=0.33, random_state=42)"
   ]
  },
  {
   "cell_type": "code",
   "execution_count": 25,
   "id": "599ee6c0",
   "metadata": {
    "execution": {
     "iopub.execute_input": "2024-07-23T13:16:04.285742Z",
     "iopub.status.busy": "2024-07-23T13:16:04.285236Z",
     "iopub.status.idle": "2024-07-23T13:16:04.302738Z",
     "shell.execute_reply": "2024-07-23T13:16:04.301235Z"
    },
    "papermill": {
     "duration": 0.044878,
     "end_time": "2024-07-23T13:16:04.305479",
     "exception": false,
     "start_time": "2024-07-23T13:16:04.260601",
     "status": "completed"
    },
    "tags": []
   },
   "outputs": [
    {
     "data": {
      "text/html": [
       "<div>\n",
       "<style scoped>\n",
       "    .dataframe tbody tr th:only-of-type {\n",
       "        vertical-align: middle;\n",
       "    }\n",
       "\n",
       "    .dataframe tbody tr th {\n",
       "        vertical-align: top;\n",
       "    }\n",
       "\n",
       "    .dataframe thead th {\n",
       "        text-align: right;\n",
       "    }\n",
       "</style>\n",
       "<table border=\"1\" class=\"dataframe\">\n",
       "  <thead>\n",
       "    <tr style=\"text-align: right;\">\n",
       "      <th></th>\n",
       "      <th>age</th>\n",
       "      <th>bmi</th>\n",
       "      <th>children</th>\n",
       "      <th>sex_male</th>\n",
       "      <th>smoker_yes</th>\n",
       "      <th>region_northwest</th>\n",
       "      <th>region_southeast</th>\n",
       "      <th>region_southwest</th>\n",
       "    </tr>\n",
       "  </thead>\n",
       "  <tbody>\n",
       "    <tr>\n",
       "      <th>1046</th>\n",
       "      <td>43</td>\n",
       "      <td>25.080</td>\n",
       "      <td>0</td>\n",
       "      <td>False</td>\n",
       "      <td>False</td>\n",
       "      <td>False</td>\n",
       "      <td>False</td>\n",
       "      <td>False</td>\n",
       "    </tr>\n",
       "    <tr>\n",
       "      <th>682</th>\n",
       "      <td>39</td>\n",
       "      <td>35.300</td>\n",
       "      <td>2</td>\n",
       "      <td>True</td>\n",
       "      <td>True</td>\n",
       "      <td>False</td>\n",
       "      <td>False</td>\n",
       "      <td>True</td>\n",
       "    </tr>\n",
       "    <tr>\n",
       "      <th>1037</th>\n",
       "      <td>45</td>\n",
       "      <td>30.495</td>\n",
       "      <td>1</td>\n",
       "      <td>False</td>\n",
       "      <td>True</td>\n",
       "      <td>True</td>\n",
       "      <td>False</td>\n",
       "      <td>False</td>\n",
       "    </tr>\n",
       "    <tr>\n",
       "      <th>490</th>\n",
       "      <td>19</td>\n",
       "      <td>32.900</td>\n",
       "      <td>0</td>\n",
       "      <td>False</td>\n",
       "      <td>False</td>\n",
       "      <td>False</td>\n",
       "      <td>False</td>\n",
       "      <td>True</td>\n",
       "    </tr>\n",
       "    <tr>\n",
       "      <th>39</th>\n",
       "      <td>60</td>\n",
       "      <td>39.900</td>\n",
       "      <td>0</td>\n",
       "      <td>True</td>\n",
       "      <td>True</td>\n",
       "      <td>False</td>\n",
       "      <td>False</td>\n",
       "      <td>True</td>\n",
       "    </tr>\n",
       "  </tbody>\n",
       "</table>\n",
       "</div>"
      ],
      "text/plain": [
       "      age     bmi  children  sex_male  smoker_yes  region_northwest  \\\n",
       "1046   43  25.080         0     False       False             False   \n",
       "682    39  35.300         2      True        True             False   \n",
       "1037   45  30.495         1     False        True              True   \n",
       "490    19  32.900         0     False       False             False   \n",
       "39     60  39.900         0      True        True             False   \n",
       "\n",
       "      region_southeast  region_southwest  \n",
       "1046             False             False  \n",
       "682              False              True  \n",
       "1037             False             False  \n",
       "490              False              True  \n",
       "39               False              True  "
      ]
     },
     "execution_count": 25,
     "metadata": {},
     "output_type": "execute_result"
    }
   ],
   "source": [
    "X_train.head()"
   ]
  },
  {
   "cell_type": "code",
   "execution_count": 26,
   "id": "623dc899",
   "metadata": {
    "execution": {
     "iopub.execute_input": "2024-07-23T13:16:04.354625Z",
     "iopub.status.busy": "2024-07-23T13:16:04.354192Z",
     "iopub.status.idle": "2024-07-23T13:16:04.362278Z",
     "shell.execute_reply": "2024-07-23T13:16:04.360872Z"
    },
    "papermill": {
     "duration": 0.036362,
     "end_time": "2024-07-23T13:16:04.365024",
     "exception": false,
     "start_time": "2024-07-23T13:16:04.328662",
     "status": "completed"
    },
    "tags": []
   },
   "outputs": [
    {
     "data": {
      "text/plain": [
       "(896, 8)"
      ]
     },
     "execution_count": 26,
     "metadata": {},
     "output_type": "execute_result"
    }
   ],
   "source": [
    "X_train.shape"
   ]
  },
  {
   "cell_type": "code",
   "execution_count": 27,
   "id": "15690f10",
   "metadata": {
    "execution": {
     "iopub.execute_input": "2024-07-23T13:16:04.416829Z",
     "iopub.status.busy": "2024-07-23T13:16:04.415836Z",
     "iopub.status.idle": "2024-07-23T13:16:04.432501Z",
     "shell.execute_reply": "2024-07-23T13:16:04.431442Z"
    },
    "papermill": {
     "duration": 0.045523,
     "end_time": "2024-07-23T13:16:04.435232",
     "exception": false,
     "start_time": "2024-07-23T13:16:04.389709",
     "status": "completed"
    },
    "tags": []
   },
   "outputs": [
    {
     "data": {
      "text/html": [
       "<div>\n",
       "<style scoped>\n",
       "    .dataframe tbody tr th:only-of-type {\n",
       "        vertical-align: middle;\n",
       "    }\n",
       "\n",
       "    .dataframe tbody tr th {\n",
       "        vertical-align: top;\n",
       "    }\n",
       "\n",
       "    .dataframe thead th {\n",
       "        text-align: right;\n",
       "    }\n",
       "</style>\n",
       "<table border=\"1\" class=\"dataframe\">\n",
       "  <thead>\n",
       "    <tr style=\"text-align: right;\">\n",
       "      <th></th>\n",
       "      <th>age</th>\n",
       "      <th>bmi</th>\n",
       "      <th>children</th>\n",
       "      <th>sex_male</th>\n",
       "      <th>smoker_yes</th>\n",
       "      <th>region_northwest</th>\n",
       "      <th>region_southeast</th>\n",
       "      <th>region_southwest</th>\n",
       "    </tr>\n",
       "  </thead>\n",
       "  <tbody>\n",
       "    <tr>\n",
       "      <th>764</th>\n",
       "      <td>45</td>\n",
       "      <td>25.175</td>\n",
       "      <td>2</td>\n",
       "      <td>False</td>\n",
       "      <td>False</td>\n",
       "      <td>False</td>\n",
       "      <td>False</td>\n",
       "      <td>False</td>\n",
       "    </tr>\n",
       "    <tr>\n",
       "      <th>887</th>\n",
       "      <td>36</td>\n",
       "      <td>30.020</td>\n",
       "      <td>0</td>\n",
       "      <td>False</td>\n",
       "      <td>False</td>\n",
       "      <td>True</td>\n",
       "      <td>False</td>\n",
       "      <td>False</td>\n",
       "    </tr>\n",
       "    <tr>\n",
       "      <th>890</th>\n",
       "      <td>64</td>\n",
       "      <td>26.885</td>\n",
       "      <td>0</td>\n",
       "      <td>False</td>\n",
       "      <td>True</td>\n",
       "      <td>True</td>\n",
       "      <td>False</td>\n",
       "      <td>False</td>\n",
       "    </tr>\n",
       "    <tr>\n",
       "      <th>1293</th>\n",
       "      <td>46</td>\n",
       "      <td>25.745</td>\n",
       "      <td>3</td>\n",
       "      <td>True</td>\n",
       "      <td>False</td>\n",
       "      <td>True</td>\n",
       "      <td>False</td>\n",
       "      <td>False</td>\n",
       "    </tr>\n",
       "    <tr>\n",
       "      <th>259</th>\n",
       "      <td>19</td>\n",
       "      <td>31.920</td>\n",
       "      <td>0</td>\n",
       "      <td>True</td>\n",
       "      <td>True</td>\n",
       "      <td>True</td>\n",
       "      <td>False</td>\n",
       "      <td>False</td>\n",
       "    </tr>\n",
       "  </tbody>\n",
       "</table>\n",
       "</div>"
      ],
      "text/plain": [
       "      age     bmi  children  sex_male  smoker_yes  region_northwest  \\\n",
       "764    45  25.175         2     False       False             False   \n",
       "887    36  30.020         0     False       False              True   \n",
       "890    64  26.885         0     False        True              True   \n",
       "1293   46  25.745         3      True       False              True   \n",
       "259    19  31.920         0      True        True              True   \n",
       "\n",
       "      region_southeast  region_southwest  \n",
       "764              False             False  \n",
       "887              False             False  \n",
       "890              False             False  \n",
       "1293             False             False  \n",
       "259              False             False  "
      ]
     },
     "execution_count": 27,
     "metadata": {},
     "output_type": "execute_result"
    }
   ],
   "source": [
    "X_test.head()"
   ]
  },
  {
   "cell_type": "code",
   "execution_count": 28,
   "id": "57cc5694",
   "metadata": {
    "execution": {
     "iopub.execute_input": "2024-07-23T13:16:04.494205Z",
     "iopub.status.busy": "2024-07-23T13:16:04.493660Z",
     "iopub.status.idle": "2024-07-23T13:16:04.502565Z",
     "shell.execute_reply": "2024-07-23T13:16:04.501161Z"
    },
    "papermill": {
     "duration": 0.040764,
     "end_time": "2024-07-23T13:16:04.505431",
     "exception": false,
     "start_time": "2024-07-23T13:16:04.464667",
     "status": "completed"
    },
    "tags": []
   },
   "outputs": [
    {
     "data": {
      "text/plain": [
       "(442, 8)"
      ]
     },
     "execution_count": 28,
     "metadata": {},
     "output_type": "execute_result"
    }
   ],
   "source": [
    "X_test.shape"
   ]
  },
  {
   "cell_type": "markdown",
   "id": "f0f9c6e8",
   "metadata": {
    "papermill": {
     "duration": 0.02358,
     "end_time": "2024-07-23T13:16:04.555976",
     "exception": false,
     "start_time": "2024-07-23T13:16:04.532396",
     "status": "completed"
    },
    "tags": []
   },
   "source": [
    "**Apply Scaling on features**"
   ]
  },
  {
   "cell_type": "code",
   "execution_count": 29,
   "id": "943b599c",
   "metadata": {
    "execution": {
     "iopub.execute_input": "2024-07-23T13:16:04.606205Z",
     "iopub.status.busy": "2024-07-23T13:16:04.605121Z",
     "iopub.status.idle": "2024-07-23T13:16:04.619644Z",
     "shell.execute_reply": "2024-07-23T13:16:04.618536Z"
    },
    "papermill": {
     "duration": 0.042699,
     "end_time": "2024-07-23T13:16:04.622556",
     "exception": false,
     "start_time": "2024-07-23T13:16:04.579857",
     "status": "completed"
    },
    "tags": []
   },
   "outputs": [],
   "source": [
    "from sklearn.preprocessing import StandardScaler\n",
    "ss = StandardScaler()\n",
    "X_train = ss.fit_transform(X_train)\n",
    "X_test = ss.transform(X_test)"
   ]
  },
  {
   "cell_type": "code",
   "execution_count": 30,
   "id": "d46d4c39",
   "metadata": {
    "execution": {
     "iopub.execute_input": "2024-07-23T13:16:04.674626Z",
     "iopub.status.busy": "2024-07-23T13:16:04.674227Z",
     "iopub.status.idle": "2024-07-23T13:16:04.684509Z",
     "shell.execute_reply": "2024-07-23T13:16:04.683111Z"
    },
    "papermill": {
     "duration": 0.040884,
     "end_time": "2024-07-23T13:16:04.687474",
     "exception": false,
     "start_time": "2024-07-23T13:16:04.646590",
     "status": "completed"
    },
    "tags": []
   },
   "outputs": [
    {
     "data": {
      "text/plain": [
       "array([[ 0.26510612, -0.91337479, -0.9126072 , ..., -0.58078691,\n",
       "        -0.58594226, -0.55500378],\n",
       "       [-0.01650038,  0.79545635,  0.74768935, ..., -0.58078691,\n",
       "        -0.58594226,  1.80178953],\n",
       "       [ 0.40590937, -0.00796181, -0.08245892, ...,  1.7218019 ,\n",
       "        -0.58594226, -0.55500378],\n",
       "       ...,\n",
       "       [ 1.32113048, -0.89749036, -0.9126072 , ..., -0.58078691,\n",
       "        -0.58594226, -0.55500378],\n",
       "       [-0.15730363,  2.85207309,  0.74768935, ..., -0.58078691,\n",
       "        -0.58594226,  1.80178953],\n",
       "       [ 1.10992561, -0.10744856, -0.9126072 , ..., -0.58078691,\n",
       "        -0.58594226,  1.80178953]])"
      ]
     },
     "execution_count": 30,
     "metadata": {},
     "output_type": "execute_result"
    }
   ],
   "source": [
    "X_train"
   ]
  },
  {
   "cell_type": "code",
   "execution_count": 31,
   "id": "bc6a7880",
   "metadata": {
    "execution": {
     "iopub.execute_input": "2024-07-23T13:16:04.738014Z",
     "iopub.status.busy": "2024-07-23T13:16:04.737563Z",
     "iopub.status.idle": "2024-07-23T13:16:04.853292Z",
     "shell.execute_reply": "2024-07-23T13:16:04.851980Z"
    },
    "papermill": {
     "duration": 0.145002,
     "end_time": "2024-07-23T13:16:04.856498",
     "exception": false,
     "start_time": "2024-07-23T13:16:04.711496",
     "status": "completed"
    },
    "tags": []
   },
   "outputs": [],
   "source": [
    "from sklearn.linear_model import LinearRegression\n",
    "from sklearn.metrics import mean_squared_error, mean_absolute_error, r2_score\n",
    "linreg = LinearRegression()"
   ]
  },
  {
   "cell_type": "code",
   "execution_count": 32,
   "id": "7bb974e0",
   "metadata": {
    "execution": {
     "iopub.execute_input": "2024-07-23T13:16:04.906816Z",
     "iopub.status.busy": "2024-07-23T13:16:04.906378Z",
     "iopub.status.idle": "2024-07-23T13:16:04.940369Z",
     "shell.execute_reply": "2024-07-23T13:16:04.938866Z"
    },
    "papermill": {
     "duration": 0.06278,
     "end_time": "2024-07-23T13:16:04.943486",
     "exception": false,
     "start_time": "2024-07-23T13:16:04.880706",
     "status": "completed"
    },
    "tags": []
   },
   "outputs": [
    {
     "data": {
      "text/html": [
       "<style>#sk-container-id-1 {color: black;background-color: white;}#sk-container-id-1 pre{padding: 0;}#sk-container-id-1 div.sk-toggleable {background-color: white;}#sk-container-id-1 label.sk-toggleable__label {cursor: pointer;display: block;width: 100%;margin-bottom: 0;padding: 0.3em;box-sizing: border-box;text-align: center;}#sk-container-id-1 label.sk-toggleable__label-arrow:before {content: \"▸\";float: left;margin-right: 0.25em;color: #696969;}#sk-container-id-1 label.sk-toggleable__label-arrow:hover:before {color: black;}#sk-container-id-1 div.sk-estimator:hover label.sk-toggleable__label-arrow:before {color: black;}#sk-container-id-1 div.sk-toggleable__content {max-height: 0;max-width: 0;overflow: hidden;text-align: left;background-color: #f0f8ff;}#sk-container-id-1 div.sk-toggleable__content pre {margin: 0.2em;color: black;border-radius: 0.25em;background-color: #f0f8ff;}#sk-container-id-1 input.sk-toggleable__control:checked~div.sk-toggleable__content {max-height: 200px;max-width: 100%;overflow: auto;}#sk-container-id-1 input.sk-toggleable__control:checked~label.sk-toggleable__label-arrow:before {content: \"▾\";}#sk-container-id-1 div.sk-estimator input.sk-toggleable__control:checked~label.sk-toggleable__label {background-color: #d4ebff;}#sk-container-id-1 div.sk-label input.sk-toggleable__control:checked~label.sk-toggleable__label {background-color: #d4ebff;}#sk-container-id-1 input.sk-hidden--visually {border: 0;clip: rect(1px 1px 1px 1px);clip: rect(1px, 1px, 1px, 1px);height: 1px;margin: -1px;overflow: hidden;padding: 0;position: absolute;width: 1px;}#sk-container-id-1 div.sk-estimator {font-family: monospace;background-color: #f0f8ff;border: 1px dotted black;border-radius: 0.25em;box-sizing: border-box;margin-bottom: 0.5em;}#sk-container-id-1 div.sk-estimator:hover {background-color: #d4ebff;}#sk-container-id-1 div.sk-parallel-item::after {content: \"\";width: 100%;border-bottom: 1px solid gray;flex-grow: 1;}#sk-container-id-1 div.sk-label:hover label.sk-toggleable__label {background-color: #d4ebff;}#sk-container-id-1 div.sk-serial::before {content: \"\";position: absolute;border-left: 1px solid gray;box-sizing: border-box;top: 0;bottom: 0;left: 50%;z-index: 0;}#sk-container-id-1 div.sk-serial {display: flex;flex-direction: column;align-items: center;background-color: white;padding-right: 0.2em;padding-left: 0.2em;position: relative;}#sk-container-id-1 div.sk-item {position: relative;z-index: 1;}#sk-container-id-1 div.sk-parallel {display: flex;align-items: stretch;justify-content: center;background-color: white;position: relative;}#sk-container-id-1 div.sk-item::before, #sk-container-id-1 div.sk-parallel-item::before {content: \"\";position: absolute;border-left: 1px solid gray;box-sizing: border-box;top: 0;bottom: 0;left: 50%;z-index: -1;}#sk-container-id-1 div.sk-parallel-item {display: flex;flex-direction: column;z-index: 1;position: relative;background-color: white;}#sk-container-id-1 div.sk-parallel-item:first-child::after {align-self: flex-end;width: 50%;}#sk-container-id-1 div.sk-parallel-item:last-child::after {align-self: flex-start;width: 50%;}#sk-container-id-1 div.sk-parallel-item:only-child::after {width: 0;}#sk-container-id-1 div.sk-dashed-wrapped {border: 1px dashed gray;margin: 0 0.4em 0.5em 0.4em;box-sizing: border-box;padding-bottom: 0.4em;background-color: white;}#sk-container-id-1 div.sk-label label {font-family: monospace;font-weight: bold;display: inline-block;line-height: 1.2em;}#sk-container-id-1 div.sk-label-container {text-align: center;}#sk-container-id-1 div.sk-container {/* jupyter's `normalize.less` sets `[hidden] { display: none; }` but bootstrap.min.css set `[hidden] { display: none !important; }` so we also need the `!important` here to be able to override the default hidden behavior on the sphinx rendered scikit-learn.org. See: https://github.com/scikit-learn/scikit-learn/issues/21755 */display: inline-block !important;position: relative;}#sk-container-id-1 div.sk-text-repr-fallback {display: none;}</style><div id=\"sk-container-id-1\" class=\"sk-top-container\"><div class=\"sk-text-repr-fallback\"><pre>LinearRegression()</pre><b>In a Jupyter environment, please rerun this cell to show the HTML representation or trust the notebook. <br />On GitHub, the HTML representation is unable to render, please try loading this page with nbviewer.org.</b></div><div class=\"sk-container\" hidden><div class=\"sk-item\"><div class=\"sk-estimator sk-toggleable\"><input class=\"sk-toggleable__control sk-hidden--visually\" id=\"sk-estimator-id-1\" type=\"checkbox\" checked><label for=\"sk-estimator-id-1\" class=\"sk-toggleable__label sk-toggleable__label-arrow\">LinearRegression</label><div class=\"sk-toggleable__content\"><pre>LinearRegression()</pre></div></div></div></div></div>"
      ],
      "text/plain": [
       "LinearRegression()"
      ]
     },
     "execution_count": 32,
     "metadata": {},
     "output_type": "execute_result"
    }
   ],
   "source": [
    "linreg.fit(X_train,y_train)"
   ]
  },
  {
   "cell_type": "code",
   "execution_count": 33,
   "id": "fb6bba91",
   "metadata": {
    "execution": {
     "iopub.execute_input": "2024-07-23T13:16:04.995889Z",
     "iopub.status.busy": "2024-07-23T13:16:04.994779Z",
     "iopub.status.idle": "2024-07-23T13:16:05.000917Z",
     "shell.execute_reply": "2024-07-23T13:16:04.999676Z"
    },
    "papermill": {
     "duration": 0.03569,
     "end_time": "2024-07-23T13:16:05.003861",
     "exception": false,
     "start_time": "2024-07-23T13:16:04.968171",
     "status": "completed"
    },
    "tags": []
   },
   "outputs": [],
   "source": [
    "y_pred = linreg.predict(X_test)"
   ]
  },
  {
   "cell_type": "code",
   "execution_count": 34,
   "id": "55264747",
   "metadata": {
    "execution": {
     "iopub.execute_input": "2024-07-23T13:16:05.055086Z",
     "iopub.status.busy": "2024-07-23T13:16:05.054621Z",
     "iopub.status.idle": "2024-07-23T13:16:05.064262Z",
     "shell.execute_reply": "2024-07-23T13:16:05.062983Z"
    },
    "papermill": {
     "duration": 0.038984,
     "end_time": "2024-07-23T13:16:05.067199",
     "exception": false,
     "start_time": "2024-07-23T13:16:05.028215",
     "status": "completed"
    },
    "tags": []
   },
   "outputs": [
    {
     "data": {
      "text/plain": [
       "0.7605492639270064"
      ]
     },
     "execution_count": 34,
     "metadata": {},
     "output_type": "execute_result"
    }
   ],
   "source": [
    "score = linreg.score(X_test,y_test)\n",
    "score"
   ]
  },
  {
   "cell_type": "markdown",
   "id": "99e52e44",
   "metadata": {
    "papermill": {
     "duration": 0.024494,
     "end_time": "2024-07-23T13:16:05.116701",
     "exception": false,
     "start_time": "2024-07-23T13:16:05.092207",
     "status": "completed"
    },
    "tags": []
   },
   "source": [
    "**Models Evaluations**"
   ]
  },
  {
   "cell_type": "code",
   "execution_count": 35,
   "id": "62897739",
   "metadata": {
    "execution": {
     "iopub.execute_input": "2024-07-23T13:16:05.169204Z",
     "iopub.status.busy": "2024-07-23T13:16:05.168764Z",
     "iopub.status.idle": "2024-07-23T13:16:05.178132Z",
     "shell.execute_reply": "2024-07-23T13:16:05.176935Z"
    },
    "papermill": {
     "duration": 0.039112,
     "end_time": "2024-07-23T13:16:05.181206",
     "exception": false,
     "start_time": "2024-07-23T13:16:05.142094",
     "status": "completed"
    },
    "tags": []
   },
   "outputs": [
    {
     "name": "stdout",
     "output_type": "stream",
     "text": [
      "MSE: 35090225.72562568, MAE: 4193.463021932155, R2: 0.7605492639270064\n"
     ]
    }
   ],
   "source": [
    "mse = mean_squared_error(y_test, y_pred)\n",
    "mae = mean_absolute_error(y_test, y_pred)\n",
    "r2 = r2_score(y_test, y_pred)\n",
    "\n",
    "print(f'MSE: {mse}, MAE: {mae}, R2: {r2}')"
   ]
  },
  {
   "cell_type": "code",
   "execution_count": 36,
   "id": "347dca89",
   "metadata": {
    "execution": {
     "iopub.execute_input": "2024-07-23T13:16:05.233531Z",
     "iopub.status.busy": "2024-07-23T13:16:05.233108Z",
     "iopub.status.idle": "2024-07-23T13:16:05.256019Z",
     "shell.execute_reply": "2024-07-23T13:16:05.254800Z"
    },
    "papermill": {
     "duration": 0.052892,
     "end_time": "2024-07-23T13:16:05.259563",
     "exception": false,
     "start_time": "2024-07-23T13:16:05.206671",
     "status": "completed"
    },
    "tags": []
   },
   "outputs": [
    {
     "data": {
      "text/plain": [
       "array([ 8.82987571e+03,  7.07599171e+03,  3.69781210e+04,  9.44408928e+03,\n",
       "        2.70890699e+04,  1.10501218e+04,  3.27014385e+01,  1.72467243e+04,\n",
       "        9.10995859e+02,  1.12488700e+04,  2.80089531e+04,  9.44561424e+03,\n",
       "        4.92609080e+03,  3.83308182e+04,  4.03768653e+04,  3.70379270e+04,\n",
       "        1.50613554e+04,  3.57432624e+04,  8.83353957e+03,  3.14917394e+04,\n",
       "        3.59933365e+03,  1.02024096e+04,  2.42568765e+03,  7.14925939e+03,\n",
       "        1.11906312e+04,  1.30392697e+04,  1.46447736e+04,  5.97219793e+03,\n",
       "        9.84642630e+03,  1.99291001e+03,  8.89651892e+03,  1.31881549e+04,\n",
       "        4.29465857e+03,  3.13302106e+03,  4.48772723e+03,  1.32800334e+04,\n",
       "        1.81146991e+03,  8.77253459e+03,  3.32598286e+04,  3.24955518e+04,\n",
       "        3.53937500e+03,  4.37330905e+03,  1.42143569e+04,  1.16258440e+04,\n",
       "        8.60054992e+03,  1.22424507e+04,  5.15255684e+03,  2.87228502e+03,\n",
       "        3.53351457e+04,  8.99330787e+03,  1.57631933e+04,  2.09787918e+03,\n",
       "        1.24452442e+04,  1.48334894e+03,  1.34079627e+04,  1.26623554e+04,\n",
       "        4.38787306e+03,  3.21962469e+04,  1.34288743e+04,  1.29756287e+04,\n",
       "        1.42844543e+04,  1.02500314e+04,  1.64903723e+04,  7.64177432e+03,\n",
       "        1.18909757e+04,  3.94162222e+03,  2.64802711e+04,  1.06947591e+04,\n",
       "        1.97216210e+03,  6.36436609e+03,  1.08680224e+04,  1.15613222e+04,\n",
       "        1.08146700e+04,  8.98586315e+03,  1.19033075e+04,  6.49737043e+03,\n",
       "        7.19006365e+03,  1.07860671e+04,  6.21898196e+03,  8.58278109e+03,\n",
       "        3.62137439e+03,  3.68500774e+04,  6.23596936e+03,  3.07413156e+04,\n",
       "        3.48634948e+04,  3.54935392e+04,  6.73952591e+03,  1.31168809e+04,\n",
       "        9.87918278e+03,  1.45736688e+04,  1.77505106e+04,  3.50837984e+04,\n",
       "        3.29836614e+04,  6.15050044e+03,  3.19024644e+04,  9.54121971e+03,\n",
       "        2.92767594e+04,  3.38508571e+03,  2.80913575e+04,  5.62446738e+03,\n",
       "        5.32046737e+03,  1.78376773e+03,  1.15103410e+04,  1.51840909e+04,\n",
       "        1.18610358e+04,  4.11910150e+03,  9.72010044e+03,  3.16072702e+04,\n",
       "       -1.30508683e+02,  3.25437662e+04,  3.36175974e+03,  1.01371875e+04,\n",
       "        1.43574102e+04,  3.15964180e+04,  1.14461940e+04,  3.96026972e+03,\n",
       "        1.33124448e+04,  3.17088764e+04,  7.80756297e+03,  3.25125879e+03,\n",
       "        8.38368264e+03,  1.06971773e+04,  1.52367555e+04,  5.54353368e+03,\n",
       "        3.58895613e+03,  1.01800670e+04,  1.06811734e+04,  1.12387152e+04,\n",
       "        1.43368056e+04,  7.37977227e+03,  5.10911893e+03,  8.99921400e+03,\n",
       "        9.03931886e+03,  1.26311796e+04,  8.36099722e+03,  1.55707070e+04,\n",
       "        8.56403645e+03,  3.19697420e+04,  3.59358511e+04,  3.16130333e+04,\n",
       "        5.98910800e+03,  1.26836672e+04,  5.91350113e+03,  1.46018718e+04,\n",
       "        2.29625308e+03,  3.30169311e+04,  6.26868039e+03,  4.98818162e+03,\n",
       "        1.43173082e+04,  7.01238033e+03,  3.86783376e+04,  3.02094283e+03,\n",
       "        5.80653704e+03,  3.17886310e+04,  1.16263088e+04,  8.62767750e+03,\n",
       "        1.50535845e+04,  9.55243108e+03,  2.68358032e+04,  3.35822583e+04,\n",
       "        1.45317181e+04,  1.52444406e+03,  1.32619377e+04,  2.22972049e+03,\n",
       "        5.38387663e+03,  1.14476278e+04,  4.00037827e+04,  3.66314413e+04,\n",
       "        3.41332453e+04,  3.83667606e+03,  7.35850925e+03,  8.62891227e+03,\n",
       "        1.27005719e+04,  4.84727089e+03,  1.94348848e+03,  3.19752427e+04,\n",
       "        2.51634531e+04,  1.75955077e+04,  2.61999230e+04,  1.01909907e+04,\n",
       "        3.73517484e+04, -7.10554311e+02,  6.82066790e+03,  7.73866296e+03,\n",
       "        4.22137399e+03,  5.09367193e+03,  5.94771812e+03,  4.24155464e+03,\n",
       "        1.50821903e+04,  1.13383439e+04,  6.90932744e+03,  2.41541690e+03,\n",
       "        1.38548218e+03,  3.20239373e+04,  1.65009512e+04,  1.18653927e+04,\n",
       "        1.09627776e+03,  1.24656810e+04,  1.42734081e+03,  8.73862393e+03,\n",
       "        1.76268770e+03,  3.41296050e+04,  1.07532739e+04,  2.54522090e+03,\n",
       "        2.52952151e+04,  2.60274968e+04,  9.60389627e+03,  1.50407310e+03,\n",
       "        1.33009986e+04,  9.15012133e+02,  1.05394669e+04,  1.02963165e+04,\n",
       "        1.70286766e+04,  2.66889821e+04,  6.69198932e+03,  5.12232581e+03,\n",
       "        5.51348063e+03,  1.28974446e+04,  1.08988436e+04,  8.09535176e+03,\n",
       "        5.13329987e+03,  1.25815087e+04,  1.37548525e+04,  3.56878118e+04,\n",
       "        4.26487296e+03,  2.88132180e+04, -1.09378720e+03,  2.95413024e+03,\n",
       "        1.09481536e+04,  1.53857025e+04,  5.10299130e+03,  6.84491613e+03,\n",
       "        3.64939505e+03,  3.14682728e+04,  7.20498001e+03,  1.24181668e+04,\n",
       "        5.62557783e+03,  9.71734727e+03,  3.61055373e+04,  4.29643200e+03,\n",
       "        9.63349100e+03,  3.12240701e+04,  5.75015864e+03,  4.25673080e+03,\n",
       "        1.07678566e+03,  4.94760346e+03,  4.39354954e+03,  6.57530489e+03,\n",
       "        1.83719353e+04, -1.59101979e+03,  2.28770936e+03,  1.07266359e+04,\n",
       "        3.06032471e+03,  1.02000929e+04,  3.63233973e+03,  4.79633621e+03,\n",
       "        1.26171546e+04,  6.30760261e+03,  8.33073019e+03,  7.38861972e+03,\n",
       "        8.77568376e+03,  1.05114266e+04,  2.76748275e+04,  3.91394117e+04,\n",
       "        1.18355535e+04,  7.73911474e+03,  4.09374877e+04,  1.23533662e+04,\n",
       "        6.94119830e+03,  8.31211931e+03,  8.92320229e+03,  1.06662053e+04,\n",
       "        9.93014541e+03,  1.76774779e+04,  9.72747056e+02,  2.35762647e+04,\n",
       "        1.28397132e+04,  3.32925275e+04,  5.12279641e+03,  1.31276187e+04,\n",
       "        1.04393873e+04,  1.79573433e+04,  9.74443267e+03,  1.16129843e+04,\n",
       "        3.23248079e+04,  3.34507868e+03,  1.34958127e+04,  3.93357514e+04,\n",
       "        5.51732112e+03,  6.26726894e+03,  3.37055712e+03,  1.15560311e+04,\n",
       "        2.52979743e+04,  1.41023162e+04,  8.88522220e+03,  1.01639854e+04,\n",
       "        1.33908305e+04,  8.29575035e+02,  2.19146608e+03,  3.07046857e+04,\n",
       "        3.01570465e+04,  1.35240793e+04,  3.57609648e+03,  2.54189690e+04,\n",
       "        1.32957180e+04,  3.06705000e+04,  3.43196748e+03,  3.89811690e+04,\n",
       "        1.10737099e+04,  4.69311415e+03,  6.66360515e+03,  2.32669680e+03,\n",
       "        2.59558662e+04,  1.45085687e+04,  5.11906977e+02,  1.27022237e+04,\n",
       "        1.26509350e+04,  1.50632687e+04,  3.48678623e+04,  1.43623980e+04,\n",
       "        3.15213495e+04,  9.92994025e+03,  1.82956502e+04,  6.01812302e+03,\n",
       "        8.71913076e+03,  9.37281800e+03,  1.51111217e+04,  9.11726540e+03,\n",
       "        8.46000211e+03,  1.52817485e+04,  1.28282704e+04,  1.49636997e+04,\n",
       "        7.54851880e+03,  2.59661401e+04,  9.18402856e+03,  1.85609308e+03,\n",
       "        3.96894202e+03,  1.43820596e+04,  3.56744609e+04,  9.58153308e+03,\n",
       "        1.28124761e+04,  5.18960900e+03,  4.81721180e+03,  3.86089830e+03,\n",
       "        2.74477560e+03,  8.97582443e+03,  6.94164183e+03,  2.29052912e+03,\n",
       "        1.30345324e+04,  8.89809351e+03,  5.90962033e+03,  6.20800330e+02,\n",
       "        9.44114193e+03,  4.77333721e+03,  3.30205845e+04,  2.84506952e+04,\n",
       "        3.69121360e+04,  5.69519429e+03,  8.45964792e+03,  8.18501447e+03,\n",
       "        3.57047481e+03,  3.16422135e+04,  7.10664115e+03,  2.82014991e+04,\n",
       "        3.62065007e+04,  6.86929348e+03,  1.30499841e+04,  9.83338725e+03,\n",
       "        8.27524840e+03,  1.27073856e+04,  3.01578687e+04,  1.73363707e+04,\n",
       "        1.18872704e+04,  3.96023309e+03, -1.30877038e+03,  1.22114116e+04,\n",
       "        3.09685175e+04,  1.29084492e+04,  1.13497289e+04,  7.98756709e+03,\n",
       "        3.58525826e+03,  7.22115503e+03,  7.24536997e+03,  1.06121735e+04,\n",
       "        3.37229264e+04,  3.92848578e+04,  1.20074315e+04,  8.34264510e+03,\n",
       "        1.66276348e+04,  1.55851918e+04,  9.62418432e+03,  9.40975828e+03,\n",
       "        8.78014514e+03,  2.67548208e+03,  1.02287064e+04,  3.65050101e+03,\n",
       "        1.06899967e+04,  1.61771001e+04,  6.54297776e+03,  2.08605820e+03,\n",
       "        1.45025193e+04,  1.46642700e+02,  1.40026288e+04,  8.50886546e+03,\n",
       "        1.30022053e+04,  3.64045901e+04,  3.35784653e+04,  3.53406742e+04,\n",
       "        5.70985960e+03,  6.15202541e+03,  1.63524994e+04,  8.25687114e+03,\n",
       "        3.76441698e+04,  5.02905944e+03,  8.20074326e+03,  9.99801542e+03,\n",
       "        3.00300844e+04,  5.24878327e+03,  3.46772001e+03,  1.68103391e+04,\n",
       "        3.66075848e+03,  5.98428455e+03,  1.03695229e+04, -9.37237998e+02,\n",
       "        2.92407872e+04,  8.39184579e+03,  1.00240583e+04,  5.51327212e+03,\n",
       "        7.57197506e+03,  1.12784199e+04,  2.89849479e+04,  9.29313041e+03,\n",
       "        1.07952682e+04,  6.47046578e+03,  4.18714828e+03,  9.05880869e+02,\n",
       "        7.65875991e+03,  1.10605675e+04,  1.02021535e+04,  8.56008352e+03,\n",
       "        6.15783861e+03,  4.13818930e+03])"
      ]
     },
     "execution_count": 36,
     "metadata": {},
     "output_type": "execute_result"
    }
   ],
   "source": [
    "from sklearn.linear_model import Ridge\n",
    "clf = Ridge().fit(X_train, y_train)\n",
    "clf_y_pred = clf.predict(X_test)\n",
    "clf_y_pred"
   ]
  },
  {
   "cell_type": "code",
   "execution_count": 37,
   "id": "b180bd8a",
   "metadata": {
    "execution": {
     "iopub.execute_input": "2024-07-23T13:16:05.311941Z",
     "iopub.status.busy": "2024-07-23T13:16:05.311492Z",
     "iopub.status.idle": "2024-07-23T13:16:05.321325Z",
     "shell.execute_reply": "2024-07-23T13:16:05.319996Z"
    },
    "papermill": {
     "duration": 0.04008,
     "end_time": "2024-07-23T13:16:05.324922",
     "exception": false,
     "start_time": "2024-07-23T13:16:05.284842",
     "status": "completed"
    },
    "tags": []
   },
   "outputs": [
    {
     "name": "stdout",
     "output_type": "stream",
     "text": [
      "MSE: 35091766.23017514, MAE: 4194.962847609943, R2: 0.7605387517418989\n"
     ]
    }
   ],
   "source": [
    "mse = mean_squared_error(y_test, clf_y_pred)\n",
    "mae = mean_absolute_error(y_test, clf_y_pred)\n",
    "r2 = r2_score(y_test, clf_y_pred)\n",
    "\n",
    "print(f'MSE: {mse}, MAE: {mae}, R2: {r2}')"
   ]
  },
  {
   "cell_type": "code",
   "execution_count": 38,
   "id": "35da094b",
   "metadata": {
    "execution": {
     "iopub.execute_input": "2024-07-23T13:16:05.378120Z",
     "iopub.status.busy": "2024-07-23T13:16:05.377623Z",
     "iopub.status.idle": "2024-07-23T13:16:05.989881Z",
     "shell.execute_reply": "2024-07-23T13:16:05.988579Z"
    },
    "papermill": {
     "duration": 0.641658,
     "end_time": "2024-07-23T13:16:05.992761",
     "exception": false,
     "start_time": "2024-07-23T13:16:05.351103",
     "status": "completed"
    },
    "tags": []
   },
   "outputs": [
    {
     "data": {
      "text/html": [
       "<style>#sk-container-id-2 {color: black;background-color: white;}#sk-container-id-2 pre{padding: 0;}#sk-container-id-2 div.sk-toggleable {background-color: white;}#sk-container-id-2 label.sk-toggleable__label {cursor: pointer;display: block;width: 100%;margin-bottom: 0;padding: 0.3em;box-sizing: border-box;text-align: center;}#sk-container-id-2 label.sk-toggleable__label-arrow:before {content: \"▸\";float: left;margin-right: 0.25em;color: #696969;}#sk-container-id-2 label.sk-toggleable__label-arrow:hover:before {color: black;}#sk-container-id-2 div.sk-estimator:hover label.sk-toggleable__label-arrow:before {color: black;}#sk-container-id-2 div.sk-toggleable__content {max-height: 0;max-width: 0;overflow: hidden;text-align: left;background-color: #f0f8ff;}#sk-container-id-2 div.sk-toggleable__content pre {margin: 0.2em;color: black;border-radius: 0.25em;background-color: #f0f8ff;}#sk-container-id-2 input.sk-toggleable__control:checked~div.sk-toggleable__content {max-height: 200px;max-width: 100%;overflow: auto;}#sk-container-id-2 input.sk-toggleable__control:checked~label.sk-toggleable__label-arrow:before {content: \"▾\";}#sk-container-id-2 div.sk-estimator input.sk-toggleable__control:checked~label.sk-toggleable__label {background-color: #d4ebff;}#sk-container-id-2 div.sk-label input.sk-toggleable__control:checked~label.sk-toggleable__label {background-color: #d4ebff;}#sk-container-id-2 input.sk-hidden--visually {border: 0;clip: rect(1px 1px 1px 1px);clip: rect(1px, 1px, 1px, 1px);height: 1px;margin: -1px;overflow: hidden;padding: 0;position: absolute;width: 1px;}#sk-container-id-2 div.sk-estimator {font-family: monospace;background-color: #f0f8ff;border: 1px dotted black;border-radius: 0.25em;box-sizing: border-box;margin-bottom: 0.5em;}#sk-container-id-2 div.sk-estimator:hover {background-color: #d4ebff;}#sk-container-id-2 div.sk-parallel-item::after {content: \"\";width: 100%;border-bottom: 1px solid gray;flex-grow: 1;}#sk-container-id-2 div.sk-label:hover label.sk-toggleable__label {background-color: #d4ebff;}#sk-container-id-2 div.sk-serial::before {content: \"\";position: absolute;border-left: 1px solid gray;box-sizing: border-box;top: 0;bottom: 0;left: 50%;z-index: 0;}#sk-container-id-2 div.sk-serial {display: flex;flex-direction: column;align-items: center;background-color: white;padding-right: 0.2em;padding-left: 0.2em;position: relative;}#sk-container-id-2 div.sk-item {position: relative;z-index: 1;}#sk-container-id-2 div.sk-parallel {display: flex;align-items: stretch;justify-content: center;background-color: white;position: relative;}#sk-container-id-2 div.sk-item::before, #sk-container-id-2 div.sk-parallel-item::before {content: \"\";position: absolute;border-left: 1px solid gray;box-sizing: border-box;top: 0;bottom: 0;left: 50%;z-index: -1;}#sk-container-id-2 div.sk-parallel-item {display: flex;flex-direction: column;z-index: 1;position: relative;background-color: white;}#sk-container-id-2 div.sk-parallel-item:first-child::after {align-self: flex-end;width: 50%;}#sk-container-id-2 div.sk-parallel-item:last-child::after {align-self: flex-start;width: 50%;}#sk-container-id-2 div.sk-parallel-item:only-child::after {width: 0;}#sk-container-id-2 div.sk-dashed-wrapped {border: 1px dashed gray;margin: 0 0.4em 0.5em 0.4em;box-sizing: border-box;padding-bottom: 0.4em;background-color: white;}#sk-container-id-2 div.sk-label label {font-family: monospace;font-weight: bold;display: inline-block;line-height: 1.2em;}#sk-container-id-2 div.sk-label-container {text-align: center;}#sk-container-id-2 div.sk-container {/* jupyter's `normalize.less` sets `[hidden] { display: none; }` but bootstrap.min.css set `[hidden] { display: none !important; }` so we also need the `!important` here to be able to override the default hidden behavior on the sphinx rendered scikit-learn.org. See: https://github.com/scikit-learn/scikit-learn/issues/21755 */display: inline-block !important;position: relative;}#sk-container-id-2 div.sk-text-repr-fallback {display: none;}</style><div id=\"sk-container-id-2\" class=\"sk-top-container\"><div class=\"sk-text-repr-fallback\"><pre>RandomForestRegressor()</pre><b>In a Jupyter environment, please rerun this cell to show the HTML representation or trust the notebook. <br />On GitHub, the HTML representation is unable to render, please try loading this page with nbviewer.org.</b></div><div class=\"sk-container\" hidden><div class=\"sk-item\"><div class=\"sk-estimator sk-toggleable\"><input class=\"sk-toggleable__control sk-hidden--visually\" id=\"sk-estimator-id-2\" type=\"checkbox\" checked><label for=\"sk-estimator-id-2\" class=\"sk-toggleable__label sk-toggleable__label-arrow\">RandomForestRegressor</label><div class=\"sk-toggleable__content\"><pre>RandomForestRegressor()</pre></div></div></div></div></div>"
      ],
      "text/plain": [
       "RandomForestRegressor()"
      ]
     },
     "execution_count": 38,
     "metadata": {},
     "output_type": "execute_result"
    }
   ],
   "source": [
    "from sklearn.ensemble import RandomForestRegressor\n",
    "# Initialize and train the RandomForestRegressor\n",
    "rf_regressor = RandomForestRegressor()\n",
    "rf_regressor.fit(X_train, y_train)"
   ]
  },
  {
   "cell_type": "code",
   "execution_count": 39,
   "id": "6312f5b1",
   "metadata": {
    "execution": {
     "iopub.execute_input": "2024-07-23T13:16:06.046703Z",
     "iopub.status.busy": "2024-07-23T13:16:06.046257Z",
     "iopub.status.idle": "2024-07-23T13:16:06.066027Z",
     "shell.execute_reply": "2024-07-23T13:16:06.064461Z"
    },
    "papermill": {
     "duration": 0.049861,
     "end_time": "2024-07-23T13:16:06.068855",
     "exception": false,
     "start_time": "2024-07-23T13:16:06.018994",
     "status": "completed"
    },
    "tags": []
   },
   "outputs": [],
   "source": [
    "# Predict on the test set\n",
    "y_pred_rf = rf_regressor.predict(X_test)"
   ]
  },
  {
   "cell_type": "code",
   "execution_count": 40,
   "id": "946ced3e",
   "metadata": {
    "execution": {
     "iopub.execute_input": "2024-07-23T13:16:06.122255Z",
     "iopub.status.busy": "2024-07-23T13:16:06.121764Z",
     "iopub.status.idle": "2024-07-23T13:16:06.131279Z",
     "shell.execute_reply": "2024-07-23T13:16:06.129945Z"
    },
    "papermill": {
     "duration": 0.039193,
     "end_time": "2024-07-23T13:16:06.134030",
     "exception": false,
     "start_time": "2024-07-23T13:16:06.094837",
     "status": "completed"
    },
    "tags": []
   },
   "outputs": [
    {
     "name": "stdout",
     "output_type": "stream",
     "text": [
      "Random Forest Regressor - MSE: 22987619.25385597, MAE: 2707.7275307013583, R2: 0.8431357383123991\n"
     ]
    }
   ],
   "source": [
    "# Evaluate the performance\n",
    "mse_rf = mean_squared_error(y_test, y_pred_rf)\n",
    "mae_rf = mean_absolute_error(y_test, y_pred_rf)\n",
    "r2_rf = r2_score(y_test, y_pred_rf)\n",
    "\n",
    "print(f'Random Forest Regressor - MSE: {mse_rf}, MAE: {mae_rf}, R2: {r2_rf}')"
   ]
  },
  {
   "cell_type": "code",
   "execution_count": 41,
   "id": "3dfe582e",
   "metadata": {
    "execution": {
     "iopub.execute_input": "2024-07-23T13:16:06.188576Z",
     "iopub.status.busy": "2024-07-23T13:16:06.188159Z",
     "iopub.status.idle": "2024-07-23T13:16:06.400151Z",
     "shell.execute_reply": "2024-07-23T13:16:06.398764Z"
    },
    "papermill": {
     "duration": 0.243169,
     "end_time": "2024-07-23T13:16:06.403231",
     "exception": false,
     "start_time": "2024-07-23T13:16:06.160062",
     "status": "completed"
    },
    "tags": []
   },
   "outputs": [],
   "source": [
    "from xgboost import XGBRFRegressor"
   ]
  },
  {
   "cell_type": "code",
   "execution_count": 42,
   "id": "0d87f470",
   "metadata": {
    "execution": {
     "iopub.execute_input": "2024-07-23T13:16:06.456815Z",
     "iopub.status.busy": "2024-07-23T13:16:06.456360Z",
     "iopub.status.idle": "2024-07-23T13:16:06.602033Z",
     "shell.execute_reply": "2024-07-23T13:16:06.601006Z"
    },
    "papermill": {
     "duration": 0.176131,
     "end_time": "2024-07-23T13:16:06.604932",
     "exception": false,
     "start_time": "2024-07-23T13:16:06.428801",
     "status": "completed"
    },
    "tags": []
   },
   "outputs": [
    {
     "data": {
      "text/html": [
       "<style>#sk-container-id-3 {color: black;background-color: white;}#sk-container-id-3 pre{padding: 0;}#sk-container-id-3 div.sk-toggleable {background-color: white;}#sk-container-id-3 label.sk-toggleable__label {cursor: pointer;display: block;width: 100%;margin-bottom: 0;padding: 0.3em;box-sizing: border-box;text-align: center;}#sk-container-id-3 label.sk-toggleable__label-arrow:before {content: \"▸\";float: left;margin-right: 0.25em;color: #696969;}#sk-container-id-3 label.sk-toggleable__label-arrow:hover:before {color: black;}#sk-container-id-3 div.sk-estimator:hover label.sk-toggleable__label-arrow:before {color: black;}#sk-container-id-3 div.sk-toggleable__content {max-height: 0;max-width: 0;overflow: hidden;text-align: left;background-color: #f0f8ff;}#sk-container-id-3 div.sk-toggleable__content pre {margin: 0.2em;color: black;border-radius: 0.25em;background-color: #f0f8ff;}#sk-container-id-3 input.sk-toggleable__control:checked~div.sk-toggleable__content {max-height: 200px;max-width: 100%;overflow: auto;}#sk-container-id-3 input.sk-toggleable__control:checked~label.sk-toggleable__label-arrow:before {content: \"▾\";}#sk-container-id-3 div.sk-estimator input.sk-toggleable__control:checked~label.sk-toggleable__label {background-color: #d4ebff;}#sk-container-id-3 div.sk-label input.sk-toggleable__control:checked~label.sk-toggleable__label {background-color: #d4ebff;}#sk-container-id-3 input.sk-hidden--visually {border: 0;clip: rect(1px 1px 1px 1px);clip: rect(1px, 1px, 1px, 1px);height: 1px;margin: -1px;overflow: hidden;padding: 0;position: absolute;width: 1px;}#sk-container-id-3 div.sk-estimator {font-family: monospace;background-color: #f0f8ff;border: 1px dotted black;border-radius: 0.25em;box-sizing: border-box;margin-bottom: 0.5em;}#sk-container-id-3 div.sk-estimator:hover {background-color: #d4ebff;}#sk-container-id-3 div.sk-parallel-item::after {content: \"\";width: 100%;border-bottom: 1px solid gray;flex-grow: 1;}#sk-container-id-3 div.sk-label:hover label.sk-toggleable__label {background-color: #d4ebff;}#sk-container-id-3 div.sk-serial::before {content: \"\";position: absolute;border-left: 1px solid gray;box-sizing: border-box;top: 0;bottom: 0;left: 50%;z-index: 0;}#sk-container-id-3 div.sk-serial {display: flex;flex-direction: column;align-items: center;background-color: white;padding-right: 0.2em;padding-left: 0.2em;position: relative;}#sk-container-id-3 div.sk-item {position: relative;z-index: 1;}#sk-container-id-3 div.sk-parallel {display: flex;align-items: stretch;justify-content: center;background-color: white;position: relative;}#sk-container-id-3 div.sk-item::before, #sk-container-id-3 div.sk-parallel-item::before {content: \"\";position: absolute;border-left: 1px solid gray;box-sizing: border-box;top: 0;bottom: 0;left: 50%;z-index: -1;}#sk-container-id-3 div.sk-parallel-item {display: flex;flex-direction: column;z-index: 1;position: relative;background-color: white;}#sk-container-id-3 div.sk-parallel-item:first-child::after {align-self: flex-end;width: 50%;}#sk-container-id-3 div.sk-parallel-item:last-child::after {align-self: flex-start;width: 50%;}#sk-container-id-3 div.sk-parallel-item:only-child::after {width: 0;}#sk-container-id-3 div.sk-dashed-wrapped {border: 1px dashed gray;margin: 0 0.4em 0.5em 0.4em;box-sizing: border-box;padding-bottom: 0.4em;background-color: white;}#sk-container-id-3 div.sk-label label {font-family: monospace;font-weight: bold;display: inline-block;line-height: 1.2em;}#sk-container-id-3 div.sk-label-container {text-align: center;}#sk-container-id-3 div.sk-container {/* jupyter's `normalize.less` sets `[hidden] { display: none; }` but bootstrap.min.css set `[hidden] { display: none !important; }` so we also need the `!important` here to be able to override the default hidden behavior on the sphinx rendered scikit-learn.org. See: https://github.com/scikit-learn/scikit-learn/issues/21755 */display: inline-block !important;position: relative;}#sk-container-id-3 div.sk-text-repr-fallback {display: none;}</style><div id=\"sk-container-id-3\" class=\"sk-top-container\"><div class=\"sk-text-repr-fallback\"><pre>XGBRFRegressor(base_score=None, booster=None, callbacks=None,\n",
       "               colsample_bylevel=None, colsample_bytree=None, device=None,\n",
       "               early_stopping_rounds=None, enable_categorical=False,\n",
       "               eval_metric=None, feature_types=None, gamma=None,\n",
       "               grow_policy=None, importance_type=None,\n",
       "               interaction_constraints=None, max_bin=None,\n",
       "               max_cat_threshold=None, max_cat_to_onehot=None,\n",
       "               max_delta_step=None, max_depth=None, max_leaves=None,\n",
       "               min_child_weight=None, missing=nan, monotone_constraints=None,\n",
       "               multi_strategy=None, n_estimators=None, n_jobs=None,\n",
       "               num_parallel_tree=None, objective=&#x27;reg:squarederror&#x27;,\n",
       "               random_state=None, reg_alpha=None, ...)</pre><b>In a Jupyter environment, please rerun this cell to show the HTML representation or trust the notebook. <br />On GitHub, the HTML representation is unable to render, please try loading this page with nbviewer.org.</b></div><div class=\"sk-container\" hidden><div class=\"sk-item\"><div class=\"sk-estimator sk-toggleable\"><input class=\"sk-toggleable__control sk-hidden--visually\" id=\"sk-estimator-id-3\" type=\"checkbox\" checked><label for=\"sk-estimator-id-3\" class=\"sk-toggleable__label sk-toggleable__label-arrow\">XGBRFRegressor</label><div class=\"sk-toggleable__content\"><pre>XGBRFRegressor(base_score=None, booster=None, callbacks=None,\n",
       "               colsample_bylevel=None, colsample_bytree=None, device=None,\n",
       "               early_stopping_rounds=None, enable_categorical=False,\n",
       "               eval_metric=None, feature_types=None, gamma=None,\n",
       "               grow_policy=None, importance_type=None,\n",
       "               interaction_constraints=None, max_bin=None,\n",
       "               max_cat_threshold=None, max_cat_to_onehot=None,\n",
       "               max_delta_step=None, max_depth=None, max_leaves=None,\n",
       "               min_child_weight=None, missing=nan, monotone_constraints=None,\n",
       "               multi_strategy=None, n_estimators=None, n_jobs=None,\n",
       "               num_parallel_tree=None, objective=&#x27;reg:squarederror&#x27;,\n",
       "               random_state=None, reg_alpha=None, ...)</pre></div></div></div></div></div>"
      ],
      "text/plain": [
       "XGBRFRegressor(base_score=None, booster=None, callbacks=None,\n",
       "               colsample_bylevel=None, colsample_bytree=None, device=None,\n",
       "               early_stopping_rounds=None, enable_categorical=False,\n",
       "               eval_metric=None, feature_types=None, gamma=None,\n",
       "               grow_policy=None, importance_type=None,\n",
       "               interaction_constraints=None, max_bin=None,\n",
       "               max_cat_threshold=None, max_cat_to_onehot=None,\n",
       "               max_delta_step=None, max_depth=None, max_leaves=None,\n",
       "               min_child_weight=None, missing=nan, monotone_constraints=None,\n",
       "               multi_strategy=None, n_estimators=None, n_jobs=None,\n",
       "               num_parallel_tree=None, objective='reg:squarederror',\n",
       "               random_state=None, reg_alpha=None, ...)"
      ]
     },
     "execution_count": 42,
     "metadata": {},
     "output_type": "execute_result"
    }
   ],
   "source": [
    "# Initialize and train the XGBRFRegressor\n",
    "xgbrf_regressor = XGBRFRegressor()\n",
    "xgbrf_regressor.fit(X_train, y_train)\n"
   ]
  },
  {
   "cell_type": "code",
   "execution_count": 43,
   "id": "55193feb",
   "metadata": {
    "execution": {
     "iopub.execute_input": "2024-07-23T13:16:06.660180Z",
     "iopub.status.busy": "2024-07-23T13:16:06.659020Z",
     "iopub.status.idle": "2024-07-23T13:16:06.668549Z",
     "shell.execute_reply": "2024-07-23T13:16:06.667468Z"
    },
    "papermill": {
     "duration": 0.04023,
     "end_time": "2024-07-23T13:16:06.671583",
     "exception": false,
     "start_time": "2024-07-23T13:16:06.631353",
     "status": "completed"
    },
    "tags": []
   },
   "outputs": [],
   "source": [
    "# Predict on the test set\n",
    "y_pred_xgbrf = xgbrf_regressor.predict(X_test)"
   ]
  },
  {
   "cell_type": "code",
   "execution_count": 44,
   "id": "c1b059cc",
   "metadata": {
    "execution": {
     "iopub.execute_input": "2024-07-23T13:16:06.727594Z",
     "iopub.status.busy": "2024-07-23T13:16:06.727171Z",
     "iopub.status.idle": "2024-07-23T13:16:06.737606Z",
     "shell.execute_reply": "2024-07-23T13:16:06.736191Z"
    },
    "papermill": {
     "duration": 0.041453,
     "end_time": "2024-07-23T13:16:06.740283",
     "exception": false,
     "start_time": "2024-07-23T13:16:06.698830",
     "status": "completed"
    },
    "tags": []
   },
   "outputs": [
    {
     "name": "stdout",
     "output_type": "stream",
     "text": [
      "XGBRF Regressor - MSE: 19875534.528893653, MAE: 2519.655235177761, R2: 0.8643721642032006\n"
     ]
    }
   ],
   "source": [
    "# Evaluate the performance\n",
    "mse_xgbrf = mean_squared_error(y_test, y_pred_xgbrf)\n",
    "mae_xgbrf = mean_absolute_error(y_test, y_pred_xgbrf)\n",
    "r2_xgbrf = r2_score(y_test, y_pred_xgbrf)\n",
    "\n",
    "print(f'XGBRF Regressor - MSE: {mse_xgbrf}, MAE: {mae_xgbrf}, R2: {r2_xgbrf}')"
   ]
  },
  {
   "cell_type": "markdown",
   "id": "d7ebea01",
   "metadata": {
    "papermill": {
     "duration": 0.026286,
     "end_time": "2024-07-23T13:16:06.793872",
     "exception": false,
     "start_time": "2024-07-23T13:16:06.767586",
     "status": "completed"
    },
    "tags": []
   },
   "source": [
    "**Let's Check Actcual Prediction**"
   ]
  },
  {
   "cell_type": "code",
   "execution_count": 45,
   "id": "a7414e01",
   "metadata": {
    "execution": {
     "iopub.execute_input": "2024-07-23T13:16:06.848522Z",
     "iopub.status.busy": "2024-07-23T13:16:06.847895Z",
     "iopub.status.idle": "2024-07-23T13:16:06.853796Z",
     "shell.execute_reply": "2024-07-23T13:16:06.852565Z"
    },
    "papermill": {
     "duration": 0.036694,
     "end_time": "2024-07-23T13:16:06.856543",
     "exception": false,
     "start_time": "2024-07-23T13:16:06.819849",
     "status": "completed"
    },
    "tags": []
   },
   "outputs": [],
   "source": [
    "test = [19,27.900,0,False,True,False,False,True]"
   ]
  },
  {
   "cell_type": "code",
   "execution_count": 46,
   "id": "4e25a33c",
   "metadata": {
    "execution": {
     "iopub.execute_input": "2024-07-23T13:16:06.910420Z",
     "iopub.status.busy": "2024-07-23T13:16:06.909999Z",
     "iopub.status.idle": "2024-07-23T13:16:06.916560Z",
     "shell.execute_reply": "2024-07-23T13:16:06.915303Z"
    },
    "papermill": {
     "duration": 0.03652,
     "end_time": "2024-07-23T13:16:06.919134",
     "exception": false,
     "start_time": "2024-07-23T13:16:06.882614",
     "status": "completed"
    },
    "tags": []
   },
   "outputs": [],
   "source": [
    "test = ss.fit_transform([test])"
   ]
  },
  {
   "cell_type": "code",
   "execution_count": 47,
   "id": "976e5bc5",
   "metadata": {
    "execution": {
     "iopub.execute_input": "2024-07-23T13:16:06.974121Z",
     "iopub.status.busy": "2024-07-23T13:16:06.973638Z",
     "iopub.status.idle": "2024-07-23T13:16:06.985741Z",
     "shell.execute_reply": "2024-07-23T13:16:06.984658Z"
    },
    "papermill": {
     "duration": 0.042984,
     "end_time": "2024-07-23T13:16:06.988553",
     "exception": false,
     "start_time": "2024-07-23T13:16:06.945569",
     "status": "completed"
    },
    "tags": []
   },
   "outputs": [
    {
     "data": {
      "text/plain": [
       "array([7017.718], dtype=float32)"
      ]
     },
     "execution_count": 47,
     "metadata": {},
     "output_type": "execute_result"
    }
   ],
   "source": [
    "xgbrf_regressor.predict(test)"
   ]
  }
 ],
 "metadata": {
  "kaggle": {
   "accelerator": "none",
   "dataSources": [
    {
     "datasetId": 1109817,
     "sourceId": 1864735,
     "sourceType": "datasetVersion"
    }
   ],
   "dockerImageVersionId": 30746,
   "isGpuEnabled": false,
   "isInternetEnabled": true,
   "language": "python",
   "sourceType": "notebook"
  },
  "kernelspec": {
   "display_name": "Python 3",
   "language": "python",
   "name": "python3"
  },
  "language_info": {
   "codemirror_mode": {
    "name": "ipython",
    "version": 3
   },
   "file_extension": ".py",
   "mimetype": "text/x-python",
   "name": "python",
   "nbconvert_exporter": "python",
   "pygments_lexer": "ipython3",
   "version": "3.10.13"
  },
  "papermill": {
   "default_parameters": {},
   "duration": 12.712724,
   "end_time": "2024-07-23T13:16:07.737730",
   "environment_variables": {},
   "exception": null,
   "input_path": "__notebook__.ipynb",
   "output_path": "__notebook__.ipynb",
   "parameters": {},
   "start_time": "2024-07-23T13:15:55.025006",
   "version": "2.5.0"
  }
 },
 "nbformat": 4,
 "nbformat_minor": 5
}
