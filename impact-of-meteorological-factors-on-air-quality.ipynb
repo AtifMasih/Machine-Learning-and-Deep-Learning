{
 "cells": [
  {
   "cell_type": "code",
   "execution_count": 1,
   "id": "843be1ab",
   "metadata": {
    "_cell_guid": "b1076dfc-b9ad-4769-8c92-a6c4dae69d19",
    "_uuid": "8f2839f25d086af736a60e9eeb907d3b93b6e0e5",
    "execution": {
     "iopub.execute_input": "2024-07-29T14:04:18.878333Z",
     "iopub.status.busy": "2024-07-29T14:04:18.877934Z",
     "iopub.status.idle": "2024-07-29T14:04:19.825280Z",
     "shell.execute_reply": "2024-07-29T14:04:19.823943Z"
    },
    "papermill": {
     "duration": 0.960374,
     "end_time": "2024-07-29T14:04:19.828071",
     "exception": false,
     "start_time": "2024-07-29T14:04:18.867697",
     "status": "completed"
    },
    "tags": []
   },
   "outputs": [
    {
     "name": "stdout",
     "output_type": "stream",
     "text": [
      "/kaggle/input/global-air-quality-dataset/global_air_quality_data_10000.csv\n"
     ]
    }
   ],
   "source": [
    "# This Python 3 environment comes with many helpful analytics libraries installed\n",
    "# It is defined by the kaggle/python Docker image: https://github.com/kaggle/docker-python\n",
    "# For example, here's several helpful packages to load\n",
    "\n",
    "import numpy as np # linear algebra\n",
    "import pandas as pd # data processing, CSV file I/O (e.g. pd.read_csv)\n",
    "\n",
    "# Input data files are available in the read-only \"../input/\" directory\n",
    "# For example, running this (by clicking run or pressing Shift+Enter) will list all files under the input directory\n",
    "\n",
    "import os\n",
    "for dirname, _, filenames in os.walk('/kaggle/input'):\n",
    "    for filename in filenames:\n",
    "        print(os.path.join(dirname, filename))\n",
    "\n",
    "# You can write up to 20GB to the current directory (/kaggle/working/) that gets preserved as output when you create a version using \"Save & Run All\" \n",
    "# You can also write temporary files to /kaggle/temp/, but they won't be saved outside of the current session"
   ]
  },
  {
   "cell_type": "markdown",
   "id": "f47d1b8d",
   "metadata": {
    "papermill": {
     "duration": 0.006295,
     "end_time": "2024-07-29T14:04:19.841260",
     "exception": false,
     "start_time": "2024-07-29T14:04:19.834965",
     "status": "completed"
    },
    "tags": []
   },
   "source": [
    "# Predictive Model to Analyze the Impact of Meteorological Factors on Air Quality"
   ]
  },
  {
   "cell_type": "markdown",
   "id": "7868b33c",
   "metadata": {
    "papermill": {
     "duration": 0.00633,
     "end_time": "2024-07-29T14:04:19.854018",
     "exception": false,
     "start_time": "2024-07-29T14:04:19.847688",
     "status": "completed"
    },
    "tags": []
   },
   "source": [
    "**Dataset loading and Exploration**"
   ]
  },
  {
   "cell_type": "markdown",
   "id": "0076430e",
   "metadata": {
    "papermill": {
     "duration": 0.006189,
     "end_time": "2024-07-29T14:04:19.866548",
     "exception": false,
     "start_time": "2024-07-29T14:04:19.860359",
     "status": "completed"
    },
    "tags": []
   },
   "source": [
    "* loading of data\n",
    "* check no of rows and columns\n",
    "* check types of data\n",
    "* Statistical Anaylsis"
   ]
  },
  {
   "cell_type": "code",
   "execution_count": 2,
   "id": "9b2e53a9",
   "metadata": {
    "execution": {
     "iopub.execute_input": "2024-07-29T14:04:19.881592Z",
     "iopub.status.busy": "2024-07-29T14:04:19.881045Z",
     "iopub.status.idle": "2024-07-29T14:04:19.956405Z",
     "shell.execute_reply": "2024-07-29T14:04:19.955202Z"
    },
    "papermill": {
     "duration": 0.085963,
     "end_time": "2024-07-29T14:04:19.958992",
     "exception": false,
     "start_time": "2024-07-29T14:04:19.873029",
     "status": "completed"
    },
    "tags": []
   },
   "outputs": [
    {
     "data": {
      "text/html": [
       "<div>\n",
       "<style scoped>\n",
       "    .dataframe tbody tr th:only-of-type {\n",
       "        vertical-align: middle;\n",
       "    }\n",
       "\n",
       "    .dataframe tbody tr th {\n",
       "        vertical-align: top;\n",
       "    }\n",
       "\n",
       "    .dataframe thead th {\n",
       "        text-align: right;\n",
       "    }\n",
       "</style>\n",
       "<table border=\"1\" class=\"dataframe\">\n",
       "  <thead>\n",
       "    <tr style=\"text-align: right;\">\n",
       "      <th></th>\n",
       "      <th>City</th>\n",
       "      <th>Country</th>\n",
       "      <th>Date</th>\n",
       "      <th>PM2.5</th>\n",
       "      <th>PM10</th>\n",
       "      <th>NO2</th>\n",
       "      <th>SO2</th>\n",
       "      <th>CO</th>\n",
       "      <th>O3</th>\n",
       "      <th>Temperature</th>\n",
       "      <th>Humidity</th>\n",
       "      <th>Wind Speed</th>\n",
       "    </tr>\n",
       "  </thead>\n",
       "  <tbody>\n",
       "    <tr>\n",
       "      <th>0</th>\n",
       "      <td>Bangkok</td>\n",
       "      <td>Thailand</td>\n",
       "      <td>2023-03-19</td>\n",
       "      <td>86.57</td>\n",
       "      <td>25.19</td>\n",
       "      <td>99.88</td>\n",
       "      <td>30.63</td>\n",
       "      <td>4.46</td>\n",
       "      <td>36.29</td>\n",
       "      <td>17.67</td>\n",
       "      <td>59.35</td>\n",
       "      <td>13.76</td>\n",
       "    </tr>\n",
       "    <tr>\n",
       "      <th>1</th>\n",
       "      <td>Istanbul</td>\n",
       "      <td>Turkey</td>\n",
       "      <td>2023-02-16</td>\n",
       "      <td>50.63</td>\n",
       "      <td>97.39</td>\n",
       "      <td>48.14</td>\n",
       "      <td>8.71</td>\n",
       "      <td>3.40</td>\n",
       "      <td>144.16</td>\n",
       "      <td>3.46</td>\n",
       "      <td>67.51</td>\n",
       "      <td>6.36</td>\n",
       "    </tr>\n",
       "    <tr>\n",
       "      <th>2</th>\n",
       "      <td>Rio de Janeiro</td>\n",
       "      <td>Brazil</td>\n",
       "      <td>2023-11-13</td>\n",
       "      <td>130.21</td>\n",
       "      <td>57.22</td>\n",
       "      <td>98.51</td>\n",
       "      <td>9.92</td>\n",
       "      <td>0.12</td>\n",
       "      <td>179.31</td>\n",
       "      <td>25.29</td>\n",
       "      <td>29.30</td>\n",
       "      <td>12.87</td>\n",
       "    </tr>\n",
       "    <tr>\n",
       "      <th>3</th>\n",
       "      <td>Mumbai</td>\n",
       "      <td>India</td>\n",
       "      <td>2023-03-16</td>\n",
       "      <td>119.70</td>\n",
       "      <td>130.52</td>\n",
       "      <td>10.96</td>\n",
       "      <td>33.03</td>\n",
       "      <td>7.74</td>\n",
       "      <td>38.65</td>\n",
       "      <td>23.15</td>\n",
       "      <td>99.97</td>\n",
       "      <td>7.71</td>\n",
       "    </tr>\n",
       "  </tbody>\n",
       "</table>\n",
       "</div>"
      ],
      "text/plain": [
       "             City   Country        Date   PM2.5    PM10    NO2    SO2    CO  \\\n",
       "0         Bangkok  Thailand  2023-03-19   86.57   25.19  99.88  30.63  4.46   \n",
       "1        Istanbul    Turkey  2023-02-16   50.63   97.39  48.14   8.71  3.40   \n",
       "2  Rio de Janeiro    Brazil  2023-11-13  130.21   57.22  98.51   9.92  0.12   \n",
       "3          Mumbai     India  2023-03-16  119.70  130.52  10.96  33.03  7.74   \n",
       "\n",
       "       O3  Temperature  Humidity  Wind Speed  \n",
       "0   36.29        17.67     59.35       13.76  \n",
       "1  144.16         3.46     67.51        6.36  \n",
       "2  179.31        25.29     29.30       12.87  \n",
       "3   38.65        23.15     99.97        7.71  "
      ]
     },
     "execution_count": 2,
     "metadata": {},
     "output_type": "execute_result"
    }
   ],
   "source": [
    "# Load the dataset\n",
    "data = pd.read_csv('/kaggle/input/global-air-quality-dataset/global_air_quality_data_10000.csv')\n",
    "data.head(4)"
   ]
  },
  {
   "cell_type": "code",
   "execution_count": 3,
   "id": "d4380d77",
   "metadata": {
    "execution": {
     "iopub.execute_input": "2024-07-29T14:04:19.975264Z",
     "iopub.status.busy": "2024-07-29T14:04:19.974859Z",
     "iopub.status.idle": "2024-07-29T14:04:19.981975Z",
     "shell.execute_reply": "2024-07-29T14:04:19.980692Z"
    },
    "papermill": {
     "duration": 0.018644,
     "end_time": "2024-07-29T14:04:19.984563",
     "exception": false,
     "start_time": "2024-07-29T14:04:19.965919",
     "status": "completed"
    },
    "tags": []
   },
   "outputs": [
    {
     "data": {
      "text/plain": [
       "(10000, 12)"
      ]
     },
     "execution_count": 3,
     "metadata": {},
     "output_type": "execute_result"
    }
   ],
   "source": [
    "# checking row and coloumns\n",
    "data.shape"
   ]
  },
  {
   "cell_type": "code",
   "execution_count": 4,
   "id": "046b65cd",
   "metadata": {
    "execution": {
     "iopub.execute_input": "2024-07-29T14:04:20.000575Z",
     "iopub.status.busy": "2024-07-29T14:04:20.000168Z",
     "iopub.status.idle": "2024-07-29T14:04:20.012357Z",
     "shell.execute_reply": "2024-07-29T14:04:20.010891Z"
    },
    "papermill": {
     "duration": 0.023455,
     "end_time": "2024-07-29T14:04:20.015030",
     "exception": false,
     "start_time": "2024-07-29T14:04:19.991575",
     "status": "completed"
    },
    "tags": []
   },
   "outputs": [
    {
     "data": {
      "text/plain": [
       "120000"
      ]
     },
     "execution_count": 4,
     "metadata": {},
     "output_type": "execute_result"
    }
   ],
   "source": [
    "# total no of samples\n",
    "data.size"
   ]
  },
  {
   "cell_type": "code",
   "execution_count": 5,
   "id": "9543cafc",
   "metadata": {
    "execution": {
     "iopub.execute_input": "2024-07-29T14:04:20.031214Z",
     "iopub.status.busy": "2024-07-29T14:04:20.030860Z",
     "iopub.status.idle": "2024-07-29T14:04:20.057992Z",
     "shell.execute_reply": "2024-07-29T14:04:20.056658Z"
    },
    "papermill": {
     "duration": 0.038503,
     "end_time": "2024-07-29T14:04:20.060657",
     "exception": false,
     "start_time": "2024-07-29T14:04:20.022154",
     "status": "completed"
    },
    "tags": []
   },
   "outputs": [
    {
     "name": "stdout",
     "output_type": "stream",
     "text": [
      "<class 'pandas.core.frame.DataFrame'>\n",
      "RangeIndex: 10000 entries, 0 to 9999\n",
      "Data columns (total 12 columns):\n",
      " #   Column       Non-Null Count  Dtype  \n",
      "---  ------       --------------  -----  \n",
      " 0   City         10000 non-null  object \n",
      " 1   Country      10000 non-null  object \n",
      " 2   Date         10000 non-null  object \n",
      " 3   PM2.5        10000 non-null  float64\n",
      " 4   PM10         10000 non-null  float64\n",
      " 5   NO2          10000 non-null  float64\n",
      " 6   SO2          10000 non-null  float64\n",
      " 7   CO           10000 non-null  float64\n",
      " 8   O3           10000 non-null  float64\n",
      " 9   Temperature  10000 non-null  float64\n",
      " 10  Humidity     10000 non-null  float64\n",
      " 11  Wind Speed   10000 non-null  float64\n",
      "dtypes: float64(9), object(3)\n",
      "memory usage: 937.6+ KB\n"
     ]
    }
   ],
   "source": [
    "# data types and complete details\n",
    "data.info()"
   ]
  },
  {
   "cell_type": "markdown",
   "id": "654056a4",
   "metadata": {
    "papermill": {
     "duration": 0.006765,
     "end_time": "2024-07-29T14:04:20.074556",
     "exception": false,
     "start_time": "2024-07-29T14:04:20.067791",
     "status": "completed"
    },
    "tags": []
   },
   "source": [
    "**Handle Missing Values:**"
   ]
  },
  {
   "cell_type": "markdown",
   "id": "3000bea8",
   "metadata": {
    "papermill": {
     "duration": 0.006682,
     "end_time": "2024-07-29T14:04:20.088948",
     "exception": false,
     "start_time": "2024-07-29T14:04:20.082266",
     "status": "completed"
    },
    "tags": []
   },
   "source": [
    "* Identify missing values in the dataset."
   ]
  },
  {
   "cell_type": "code",
   "execution_count": 6,
   "id": "842ed457",
   "metadata": {
    "execution": {
     "iopub.execute_input": "2024-07-29T14:04:20.105258Z",
     "iopub.status.busy": "2024-07-29T14:04:20.104363Z",
     "iopub.status.idle": "2024-07-29T14:04:20.115248Z",
     "shell.execute_reply": "2024-07-29T14:04:20.114168Z"
    },
    "papermill": {
     "duration": 0.021479,
     "end_time": "2024-07-29T14:04:20.117493",
     "exception": false,
     "start_time": "2024-07-29T14:04:20.096014",
     "status": "completed"
    },
    "tags": []
   },
   "outputs": [
    {
     "data": {
      "text/plain": [
       "City           0\n",
       "Country        0\n",
       "Date           0\n",
       "PM2.5          0\n",
       "PM10           0\n",
       "NO2            0\n",
       "SO2            0\n",
       "CO             0\n",
       "O3             0\n",
       "Temperature    0\n",
       "Humidity       0\n",
       "Wind Speed     0\n",
       "dtype: int64"
      ]
     },
     "execution_count": 6,
     "metadata": {},
     "output_type": "execute_result"
    }
   ],
   "source": [
    "# Check for missing values\n",
    "missing_values = data.isnull().sum()\n",
    "missing_values"
   ]
  },
  {
   "cell_type": "markdown",
   "id": "37d58925",
   "metadata": {
    "papermill": {
     "duration": 0.006908,
     "end_time": "2024-07-29T14:04:20.131621",
     "exception": false,
     "start_time": "2024-07-29T14:04:20.124713",
     "status": "completed"
    },
    "tags": []
   },
   "source": [
    "**Handle Outliers:**"
   ]
  },
  {
   "cell_type": "code",
   "execution_count": 7,
   "id": "dda17cdd",
   "metadata": {
    "execution": {
     "iopub.execute_input": "2024-07-29T14:04:20.147767Z",
     "iopub.status.busy": "2024-07-29T14:04:20.147388Z",
     "iopub.status.idle": "2024-07-29T14:04:21.218689Z",
     "shell.execute_reply": "2024-07-29T14:04:21.217522Z"
    },
    "papermill": {
     "duration": 1.082424,
     "end_time": "2024-07-29T14:04:21.221385",
     "exception": false,
     "start_time": "2024-07-29T14:04:20.138961",
     "status": "completed"
    },
    "tags": []
   },
   "outputs": [],
   "source": [
    "from scipy.stats import zscore\n",
    "\n",
    "# Calculate Z-scores of the numerical columns\n",
    "z_scores = data[['PM2.5', 'PM10', 'NO2', 'SO2', 'CO', 'O3', 'Temperature', 'Humidity', 'Wind Speed']].apply(zscore)\n",
    "\n",
    "# Remove rows with Z-scores greater than 3 or less than -3\n",
    "data = data[(z_scores < 3).all(axis=1)]\n"
   ]
  },
  {
   "cell_type": "markdown",
   "id": "7cd8a900",
   "metadata": {
    "papermill": {
     "duration": 0.007297,
     "end_time": "2024-07-29T14:04:21.236133",
     "exception": false,
     "start_time": "2024-07-29T14:04:21.228836",
     "status": "completed"
    },
    "tags": []
   },
   "source": [
    "**Data Normalization:**"
   ]
  },
  {
   "cell_type": "code",
   "execution_count": 8,
   "id": "bb46c69a",
   "metadata": {
    "execution": {
     "iopub.execute_input": "2024-07-29T14:04:21.252915Z",
     "iopub.status.busy": "2024-07-29T14:04:21.252498Z",
     "iopub.status.idle": "2024-07-29T14:04:21.437414Z",
     "shell.execute_reply": "2024-07-29T14:04:21.436121Z"
    },
    "papermill": {
     "duration": 0.196901,
     "end_time": "2024-07-29T14:04:21.440256",
     "exception": false,
     "start_time": "2024-07-29T14:04:21.243355",
     "status": "completed"
    },
    "tags": []
   },
   "outputs": [],
   "source": [
    "from sklearn.preprocessing import StandardScaler\n",
    "\n",
    "# Select numeri columns to normalize\n",
    "columns_to_normalize = ['PM2.5', 'PM10', 'NO2', 'SO2', 'CO', 'O3', 'Temperature', 'Humidity', 'Wind Speed']\n",
    "\n",
    "# Apply StandardScaler\n",
    "scaler = StandardScaler()\n",
    "data[columns_to_normalize] = scaler.fit_transform(data[columns_to_normalize])\n"
   ]
  },
  {
   "cell_type": "markdown",
   "id": "c0893d0a",
   "metadata": {
    "papermill": {
     "duration": 0.007494,
     "end_time": "2024-07-29T14:04:21.455289",
     "exception": false,
     "start_time": "2024-07-29T14:04:21.447795",
     "status": "completed"
    },
    "tags": []
   },
   "source": [
    "**Convert the 'Date' column to datetime format and extract features**"
   ]
  },
  {
   "cell_type": "code",
   "execution_count": 9,
   "id": "b0803159",
   "metadata": {
    "execution": {
     "iopub.execute_input": "2024-07-29T14:04:21.472377Z",
     "iopub.status.busy": "2024-07-29T14:04:21.471423Z",
     "iopub.status.idle": "2024-07-29T14:04:21.490404Z",
     "shell.execute_reply": "2024-07-29T14:04:21.489433Z"
    },
    "papermill": {
     "duration": 0.030013,
     "end_time": "2024-07-29T14:04:21.492924",
     "exception": false,
     "start_time": "2024-07-29T14:04:21.462911",
     "status": "completed"
    },
    "tags": []
   },
   "outputs": [],
   "source": [
    "# Convert 'Date' column to datetime\n",
    "data['Date'] = pd.to_datetime(data['Date'])\n",
    "\n",
    "# Extract additional features from date\n",
    "data['Year'] = data['Date'].dt.year\n",
    "data['Month'] = data['Date'].dt.month\n",
    "data['Day'] = data['Date'].dt.day\n",
    "data['DayOfWeek'] = data['Date'].dt.dayofweek"
   ]
  },
  {
   "cell_type": "code",
   "execution_count": 10,
   "id": "827b8c64",
   "metadata": {
    "execution": {
     "iopub.execute_input": "2024-07-29T14:04:21.508983Z",
     "iopub.status.busy": "2024-07-29T14:04:21.508631Z",
     "iopub.status.idle": "2024-07-29T14:04:21.526193Z",
     "shell.execute_reply": "2024-07-29T14:04:21.525103Z"
    },
    "papermill": {
     "duration": 0.028343,
     "end_time": "2024-07-29T14:04:21.528535",
     "exception": false,
     "start_time": "2024-07-29T14:04:21.500192",
     "status": "completed"
    },
    "tags": []
   },
   "outputs": [
    {
     "data": {
      "text/html": [
       "<div>\n",
       "<style scoped>\n",
       "    .dataframe tbody tr th:only-of-type {\n",
       "        vertical-align: middle;\n",
       "    }\n",
       "\n",
       "    .dataframe tbody tr th {\n",
       "        vertical-align: top;\n",
       "    }\n",
       "\n",
       "    .dataframe thead th {\n",
       "        text-align: right;\n",
       "    }\n",
       "</style>\n",
       "<table border=\"1\" class=\"dataframe\">\n",
       "  <thead>\n",
       "    <tr style=\"text-align: right;\">\n",
       "      <th></th>\n",
       "      <th>City</th>\n",
       "      <th>Country</th>\n",
       "      <th>Date</th>\n",
       "      <th>PM2.5</th>\n",
       "      <th>PM10</th>\n",
       "      <th>NO2</th>\n",
       "      <th>SO2</th>\n",
       "      <th>CO</th>\n",
       "      <th>O3</th>\n",
       "      <th>Temperature</th>\n",
       "      <th>Humidity</th>\n",
       "      <th>Wind Speed</th>\n",
       "      <th>Year</th>\n",
       "      <th>Month</th>\n",
       "      <th>Day</th>\n",
       "      <th>DayOfWeek</th>\n",
       "    </tr>\n",
       "  </thead>\n",
       "  <tbody>\n",
       "    <tr>\n",
       "      <th>0</th>\n",
       "      <td>Bangkok</td>\n",
       "      <td>Thailand</td>\n",
       "      <td>2023-03-19</td>\n",
       "      <td>0.217565</td>\n",
       "      <td>-1.439315</td>\n",
       "      <td>1.745347</td>\n",
       "      <td>0.375112</td>\n",
       "      <td>-0.206131</td>\n",
       "      <td>-1.266221</td>\n",
       "      <td>0.191985</td>\n",
       "      <td>0.164406</td>\n",
       "      <td>0.626447</td>\n",
       "      <td>2023</td>\n",
       "      <td>3</td>\n",
       "      <td>19</td>\n",
       "      <td>6</td>\n",
       "    </tr>\n",
       "    <tr>\n",
       "      <th>1</th>\n",
       "      <td>Istanbul</td>\n",
       "      <td>Turkey</td>\n",
       "      <td>2023-02-16</td>\n",
       "      <td>-0.639665</td>\n",
       "      <td>-0.128010</td>\n",
       "      <td>-0.148564</td>\n",
       "      <td>-1.180547</td>\n",
       "      <td>-0.577737</td>\n",
       "      <td>0.692254</td>\n",
       "      <td>-0.791878</td>\n",
       "      <td>0.478482</td>\n",
       "      <td>-0.687393</td>\n",
       "      <td>2023</td>\n",
       "      <td>2</td>\n",
       "      <td>16</td>\n",
       "      <td>3</td>\n",
       "    </tr>\n",
       "  </tbody>\n",
       "</table>\n",
       "</div>"
      ],
      "text/plain": [
       "       City   Country       Date     PM2.5      PM10       NO2       SO2  \\\n",
       "0   Bangkok  Thailand 2023-03-19  0.217565 -1.439315  1.745347  0.375112   \n",
       "1  Istanbul    Turkey 2023-02-16 -0.639665 -0.128010 -0.148564 -1.180547   \n",
       "\n",
       "         CO        O3  Temperature  Humidity  Wind Speed  Year  Month  Day  \\\n",
       "0 -0.206131 -1.266221     0.191985  0.164406    0.626447  2023      3   19   \n",
       "1 -0.577737  0.692254    -0.791878  0.478482   -0.687393  2023      2   16   \n",
       "\n",
       "   DayOfWeek  \n",
       "0          6  \n",
       "1          3  "
      ]
     },
     "execution_count": 10,
     "metadata": {},
     "output_type": "execute_result"
    }
   ],
   "source": [
    "data.head(2)"
   ]
  },
  {
   "cell_type": "markdown",
   "id": "c9768673",
   "metadata": {
    "papermill": {
     "duration": 0.007244,
     "end_time": "2024-07-29T14:04:21.543451",
     "exception": false,
     "start_time": "2024-07-29T14:04:21.536207",
     "status": "completed"
    },
    "tags": []
   },
   "source": [
    "**Feature Engineering**"
   ]
  },
  {
   "cell_type": "markdown",
   "id": "1e142388",
   "metadata": {
    "papermill": {
     "duration": 0.007394,
     "end_time": "2024-07-29T14:04:21.558359",
     "exception": false,
     "start_time": "2024-07-29T14:04:21.550965",
     "status": "completed"
    },
    "tags": []
   },
   "source": [
    "* Create lagged features for pollutants and meteorological data"
   ]
  },
  {
   "cell_type": "code",
   "execution_count": 11,
   "id": "8af122df",
   "metadata": {
    "execution": {
     "iopub.execute_input": "2024-07-29T14:04:21.574790Z",
     "iopub.status.busy": "2024-07-29T14:04:21.574400Z",
     "iopub.status.idle": "2024-07-29T14:04:21.606580Z",
     "shell.execute_reply": "2024-07-29T14:04:21.605292Z"
    },
    "papermill": {
     "duration": 0.043575,
     "end_time": "2024-07-29T14:04:21.609351",
     "exception": false,
     "start_time": "2024-07-29T14:04:21.565776",
     "status": "completed"
    },
    "tags": []
   },
   "outputs": [],
   "source": [
    "# Create lagged features for pollutants and meteorological data\n",
    "lag_features = ['PM2.5', 'PM10', 'NO2', 'SO2', 'CO', 'O3', 'Temperature', 'Humidity', 'Wind Speed']\n",
    "for feature in lag_features:\n",
    "    for lag in range(1, 4):  # Create 3 lagged features\n",
    "        data[f'{feature}_lag{lag}'] = data[feature].shift(lag)\n",
    "\n",
    "# Drop rows with NaN values created by shifting\n",
    "data.dropna(inplace=True)\n"
   ]
  },
  {
   "cell_type": "markdown",
   "id": "f5e3575f",
   "metadata": {
    "papermill": {
     "duration": 0.007241,
     "end_time": "2024-07-29T14:04:21.624356",
     "exception": false,
     "start_time": "2024-07-29T14:04:21.617115",
     "status": "completed"
    },
    "tags": []
   },
   "source": [
    "**Aggregate data at different time scales (daily, weekly, monthly).**"
   ]
  },
  {
   "cell_type": "code",
   "execution_count": 12,
   "id": "2ab1cf58",
   "metadata": {
    "execution": {
     "iopub.execute_input": "2024-07-29T14:04:21.641047Z",
     "iopub.status.busy": "2024-07-29T14:04:21.640680Z",
     "iopub.status.idle": "2024-07-29T14:04:21.736099Z",
     "shell.execute_reply": "2024-07-29T14:04:21.735091Z"
    },
    "papermill": {
     "duration": 0.107331,
     "end_time": "2024-07-29T14:04:21.739180",
     "exception": false,
     "start_time": "2024-07-29T14:04:21.631849",
     "status": "completed"
    },
    "tags": []
   },
   "outputs": [
    {
     "name": "stdout",
     "output_type": "stream",
     "text": [
      "Daily Data:\n",
      "        Date     PM2.5      PM10       NO2       SO2        CO        O3  \\\n",
      "0 2023-03-16 -0.303002  0.156178  0.099159 -0.133505  0.086862  0.007106   \n",
      "1 2023-04-04  0.039780 -0.260048  0.054895  0.326084  0.094339  0.242457   \n",
      "2 2023-01-05  0.162421 -0.136776 -0.195066  0.058559  0.236534 -0.220400   \n",
      "3 2023-09-17 -0.222109  0.132705  0.192023 -0.002512  0.079639 -0.112833   \n",
      "4 2023-11-23  0.076746  0.334524  0.109735 -0.242943  0.009242 -0.195466   \n",
      "\n",
      "   Temperature  Humidity  Wind Speed  \n",
      "0    -0.149838  0.351490   -0.094282  \n",
      "1    -0.200389 -0.041947    0.428039  \n",
      "2     0.176007 -0.007170   -0.207678  \n",
      "3    -0.164818  0.198044   -0.183593  \n",
      "4     0.209445  0.078490   -0.009322  \n",
      "\n",
      "Weekly Data:\n",
      "        Date     PM2.5      PM10       NO2      SO2        CO        O3  \\\n",
      "0 2023-03-16       NaN       NaN       NaN      NaN       NaN       NaN   \n",
      "1 2023-04-04       NaN       NaN       NaN      NaN       NaN       NaN   \n",
      "2 2023-01-05       NaN       NaN       NaN      NaN       NaN       NaN   \n",
      "3 2023-09-17 -0.031831  0.125175  0.069067 -0.03009 -0.019662  0.145372   \n",
      "4 2023-11-23       NaN       NaN       NaN      NaN       NaN       NaN   \n",
      "\n",
      "   Temperature  Humidity  Wind Speed  \n",
      "0          NaN       NaN         NaN  \n",
      "1          NaN       NaN         NaN  \n",
      "2          NaN       NaN         NaN  \n",
      "3    -0.023199  0.001257   -0.042828  \n",
      "4          NaN       NaN         NaN  \n",
      "\n",
      "Monthly Data:\n",
      "        Date  PM2.5  PM10  NO2  SO2  CO  O3  Temperature  Humidity  Wind Speed\n",
      "0 2023-03-16    NaN   NaN  NaN  NaN NaN NaN          NaN       NaN         NaN\n",
      "1 2023-04-04    NaN   NaN  NaN  NaN NaN NaN          NaN       NaN         NaN\n",
      "2 2023-01-05    NaN   NaN  NaN  NaN NaN NaN          NaN       NaN         NaN\n",
      "3 2023-09-17    NaN   NaN  NaN  NaN NaN NaN          NaN       NaN         NaN\n",
      "4 2023-11-23    NaN   NaN  NaN  NaN NaN NaN          NaN       NaN         NaN\n"
     ]
    },
    {
     "name": "stderr",
     "output_type": "stream",
     "text": [
      "/tmp/ipykernel_18/1425873429.py:8: FutureWarning: 'M' is deprecated and will be removed in a future version, please use 'ME' instead.\n",
      "  monthly_data = data.set_index('Date')[numeric_columns].resample('M').mean()\n"
     ]
    }
   ],
   "source": [
    "# Separate numeric columns\n",
    "numeric_columns = ['PM2.5', 'PM10', 'NO2', 'SO2', 'CO', 'O3', 'Temperature', 'Humidity', 'Wind Speed']\n",
    "non_numeric_columns = ['City', 'Country']\n",
    "\n",
    "# Resample and aggregate numeric columns\n",
    "daily_data = data.set_index('Date')[numeric_columns].resample('D').mean()\n",
    "weekly_data = data.set_index('Date')[numeric_columns].resample('W').mean()\n",
    "monthly_data = data.set_index('Date')[numeric_columns].resample('M').mean()\n",
    "\n",
    "# Reset index to bring 'Date' back as a column\n",
    "daily_data.reset_index(inplace=True)\n",
    "weekly_data.reset_index(inplace=True)\n",
    "monthly_data.reset_index(inplace=True)\n",
    "\n",
    "# Merge non-numeric columns back to the aggregated data if required\n",
    "# Note: This step assumes that non-numeric data is constant within each resampling period, which may not be the case.\n",
    "# You might need to use a different approach if non-numeric data varies.\n",
    "\n",
    "daily_data = data[['Date']].merge(daily_data, on='Date', how='left')\n",
    "weekly_data = data[['Date']].merge(weekly_data, on='Date', how='left')\n",
    "monthly_data = data[['Date']].merge(monthly_data, on='Date', how='left')\n",
    "\n",
    "# Display the results\n",
    "print(\"Daily Data:\")\n",
    "print(daily_data.head())\n",
    "print(\"\\nWeekly Data:\")\n",
    "print(weekly_data.head())\n",
    "print(\"\\nMonthly Data:\")\n",
    "print(monthly_data.head())"
   ]
  },
  {
   "cell_type": "markdown",
   "id": "aa97f509",
   "metadata": {
    "papermill": {
     "duration": 0.007345,
     "end_time": "2024-07-29T14:04:21.754216",
     "exception": false,
     "start_time": "2024-07-29T14:04:21.746871",
     "status": "completed"
    },
    "tags": []
   },
   "source": [
    "**Model Train and Prediction**"
   ]
  },
  {
   "cell_type": "markdown",
   "id": "eb0b6d73",
   "metadata": {
    "papermill": {
     "duration": 0.007299,
     "end_time": "2024-07-29T14:04:21.769264",
     "exception": false,
     "start_time": "2024-07-29T14:04:21.761965",
     "status": "completed"
    },
    "tags": []
   },
   "source": [
    "* LinearRegression\n",
    "* DecisionTreeRegressor"
   ]
  },
  {
   "cell_type": "code",
   "execution_count": 13,
   "id": "6b1f83c8",
   "metadata": {
    "execution": {
     "iopub.execute_input": "2024-07-29T14:04:21.786713Z",
     "iopub.status.busy": "2024-07-29T14:04:21.786256Z",
     "iopub.status.idle": "2024-07-29T14:04:22.794185Z",
     "shell.execute_reply": "2024-07-29T14:04:22.793066Z"
    },
    "papermill": {
     "duration": 1.019773,
     "end_time": "2024-07-29T14:04:22.796749",
     "exception": false,
     "start_time": "2024-07-29T14:04:21.776976",
     "status": "completed"
    },
    "tags": []
   },
   "outputs": [
    {
     "data": {
      "text/html": [
       "<style>#sk-container-id-1 {color: black;background-color: white;}#sk-container-id-1 pre{padding: 0;}#sk-container-id-1 div.sk-toggleable {background-color: white;}#sk-container-id-1 label.sk-toggleable__label {cursor: pointer;display: block;width: 100%;margin-bottom: 0;padding: 0.3em;box-sizing: border-box;text-align: center;}#sk-container-id-1 label.sk-toggleable__label-arrow:before {content: \"▸\";float: left;margin-right: 0.25em;color: #696969;}#sk-container-id-1 label.sk-toggleable__label-arrow:hover:before {color: black;}#sk-container-id-1 div.sk-estimator:hover label.sk-toggleable__label-arrow:before {color: black;}#sk-container-id-1 div.sk-toggleable__content {max-height: 0;max-width: 0;overflow: hidden;text-align: left;background-color: #f0f8ff;}#sk-container-id-1 div.sk-toggleable__content pre {margin: 0.2em;color: black;border-radius: 0.25em;background-color: #f0f8ff;}#sk-container-id-1 input.sk-toggleable__control:checked~div.sk-toggleable__content {max-height: 200px;max-width: 100%;overflow: auto;}#sk-container-id-1 input.sk-toggleable__control:checked~label.sk-toggleable__label-arrow:before {content: \"▾\";}#sk-container-id-1 div.sk-estimator input.sk-toggleable__control:checked~label.sk-toggleable__label {background-color: #d4ebff;}#sk-container-id-1 div.sk-label input.sk-toggleable__control:checked~label.sk-toggleable__label {background-color: #d4ebff;}#sk-container-id-1 input.sk-hidden--visually {border: 0;clip: rect(1px 1px 1px 1px);clip: rect(1px, 1px, 1px, 1px);height: 1px;margin: -1px;overflow: hidden;padding: 0;position: absolute;width: 1px;}#sk-container-id-1 div.sk-estimator {font-family: monospace;background-color: #f0f8ff;border: 1px dotted black;border-radius: 0.25em;box-sizing: border-box;margin-bottom: 0.5em;}#sk-container-id-1 div.sk-estimator:hover {background-color: #d4ebff;}#sk-container-id-1 div.sk-parallel-item::after {content: \"\";width: 100%;border-bottom: 1px solid gray;flex-grow: 1;}#sk-container-id-1 div.sk-label:hover label.sk-toggleable__label {background-color: #d4ebff;}#sk-container-id-1 div.sk-serial::before {content: \"\";position: absolute;border-left: 1px solid gray;box-sizing: border-box;top: 0;bottom: 0;left: 50%;z-index: 0;}#sk-container-id-1 div.sk-serial {display: flex;flex-direction: column;align-items: center;background-color: white;padding-right: 0.2em;padding-left: 0.2em;position: relative;}#sk-container-id-1 div.sk-item {position: relative;z-index: 1;}#sk-container-id-1 div.sk-parallel {display: flex;align-items: stretch;justify-content: center;background-color: white;position: relative;}#sk-container-id-1 div.sk-item::before, #sk-container-id-1 div.sk-parallel-item::before {content: \"\";position: absolute;border-left: 1px solid gray;box-sizing: border-box;top: 0;bottom: 0;left: 50%;z-index: -1;}#sk-container-id-1 div.sk-parallel-item {display: flex;flex-direction: column;z-index: 1;position: relative;background-color: white;}#sk-container-id-1 div.sk-parallel-item:first-child::after {align-self: flex-end;width: 50%;}#sk-container-id-1 div.sk-parallel-item:last-child::after {align-self: flex-start;width: 50%;}#sk-container-id-1 div.sk-parallel-item:only-child::after {width: 0;}#sk-container-id-1 div.sk-dashed-wrapped {border: 1px dashed gray;margin: 0 0.4em 0.5em 0.4em;box-sizing: border-box;padding-bottom: 0.4em;background-color: white;}#sk-container-id-1 div.sk-label label {font-family: monospace;font-weight: bold;display: inline-block;line-height: 1.2em;}#sk-container-id-1 div.sk-label-container {text-align: center;}#sk-container-id-1 div.sk-container {/* jupyter's `normalize.less` sets `[hidden] { display: none; }` but bootstrap.min.css set `[hidden] { display: none !important; }` so we also need the `!important` here to be able to override the default hidden behavior on the sphinx rendered scikit-learn.org. See: https://github.com/scikit-learn/scikit-learn/issues/21755 */display: inline-block !important;position: relative;}#sk-container-id-1 div.sk-text-repr-fallback {display: none;}</style><div id=\"sk-container-id-1\" class=\"sk-top-container\"><div class=\"sk-text-repr-fallback\"><pre>DecisionTreeRegressor()</pre><b>In a Jupyter environment, please rerun this cell to show the HTML representation or trust the notebook. <br />On GitHub, the HTML representation is unable to render, please try loading this page with nbviewer.org.</b></div><div class=\"sk-container\" hidden><div class=\"sk-item\"><div class=\"sk-estimator sk-toggleable\"><input class=\"sk-toggleable__control sk-hidden--visually\" id=\"sk-estimator-id-1\" type=\"checkbox\" checked><label for=\"sk-estimator-id-1\" class=\"sk-toggleable__label sk-toggleable__label-arrow\">DecisionTreeRegressor</label><div class=\"sk-toggleable__content\"><pre>DecisionTreeRegressor()</pre></div></div></div></div></div>"
      ],
      "text/plain": [
       "DecisionTreeRegressor()"
      ]
     },
     "execution_count": 13,
     "metadata": {},
     "output_type": "execute_result"
    }
   ],
   "source": [
    "from sklearn.model_selection import train_test_split\n",
    "from sklearn.linear_model import LinearRegression\n",
    "from sklearn.tree import DecisionTreeRegressor\n",
    "\n",
    "# Define features and target variable\n",
    "features = data.drop(columns=['Date', 'City', 'Country', 'PM2.5'])\n",
    "target = data['PM2.5']\n",
    "\n",
    "# Split the data into training and test sets\n",
    "X_train, X_test, y_train, y_test = train_test_split(features, target, test_size=0.2, random_state=42)\n",
    "\n",
    "# Linear Regression\n",
    "linear_model = LinearRegression()\n",
    "linear_model.fit(X_train, y_train)\n",
    "\n",
    "# Decision Tree\n",
    "tree_model = DecisionTreeRegressor()\n",
    "tree_model.fit(X_train, y_train)\n"
   ]
  },
  {
   "cell_type": "markdown",
   "id": "dfe801cf",
   "metadata": {
    "papermill": {
     "duration": 0.007748,
     "end_time": "2024-07-29T14:04:22.812537",
     "exception": false,
     "start_time": "2024-07-29T14:04:22.804789",
     "status": "completed"
    },
    "tags": []
   },
   "source": [
    "* RandomForestRegressor\n",
    "* GradientBoostingRegressor"
   ]
  },
  {
   "cell_type": "code",
   "execution_count": 14,
   "id": "a414584c",
   "metadata": {
    "execution": {
     "iopub.execute_input": "2024-07-29T14:04:22.830729Z",
     "iopub.status.busy": "2024-07-29T14:04:22.830323Z",
     "iopub.status.idle": "2024-07-29T14:05:07.147084Z",
     "shell.execute_reply": "2024-07-29T14:05:07.145817Z"
    },
    "papermill": {
     "duration": 44.335673,
     "end_time": "2024-07-29T14:05:07.156565",
     "exception": false,
     "start_time": "2024-07-29T14:04:22.820892",
     "status": "completed"
    },
    "tags": []
   },
   "outputs": [
    {
     "data": {
      "text/html": [
       "<style>#sk-container-id-2 {color: black;background-color: white;}#sk-container-id-2 pre{padding: 0;}#sk-container-id-2 div.sk-toggleable {background-color: white;}#sk-container-id-2 label.sk-toggleable__label {cursor: pointer;display: block;width: 100%;margin-bottom: 0;padding: 0.3em;box-sizing: border-box;text-align: center;}#sk-container-id-2 label.sk-toggleable__label-arrow:before {content: \"▸\";float: left;margin-right: 0.25em;color: #696969;}#sk-container-id-2 label.sk-toggleable__label-arrow:hover:before {color: black;}#sk-container-id-2 div.sk-estimator:hover label.sk-toggleable__label-arrow:before {color: black;}#sk-container-id-2 div.sk-toggleable__content {max-height: 0;max-width: 0;overflow: hidden;text-align: left;background-color: #f0f8ff;}#sk-container-id-2 div.sk-toggleable__content pre {margin: 0.2em;color: black;border-radius: 0.25em;background-color: #f0f8ff;}#sk-container-id-2 input.sk-toggleable__control:checked~div.sk-toggleable__content {max-height: 200px;max-width: 100%;overflow: auto;}#sk-container-id-2 input.sk-toggleable__control:checked~label.sk-toggleable__label-arrow:before {content: \"▾\";}#sk-container-id-2 div.sk-estimator input.sk-toggleable__control:checked~label.sk-toggleable__label {background-color: #d4ebff;}#sk-container-id-2 div.sk-label input.sk-toggleable__control:checked~label.sk-toggleable__label {background-color: #d4ebff;}#sk-container-id-2 input.sk-hidden--visually {border: 0;clip: rect(1px 1px 1px 1px);clip: rect(1px, 1px, 1px, 1px);height: 1px;margin: -1px;overflow: hidden;padding: 0;position: absolute;width: 1px;}#sk-container-id-2 div.sk-estimator {font-family: monospace;background-color: #f0f8ff;border: 1px dotted black;border-radius: 0.25em;box-sizing: border-box;margin-bottom: 0.5em;}#sk-container-id-2 div.sk-estimator:hover {background-color: #d4ebff;}#sk-container-id-2 div.sk-parallel-item::after {content: \"\";width: 100%;border-bottom: 1px solid gray;flex-grow: 1;}#sk-container-id-2 div.sk-label:hover label.sk-toggleable__label {background-color: #d4ebff;}#sk-container-id-2 div.sk-serial::before {content: \"\";position: absolute;border-left: 1px solid gray;box-sizing: border-box;top: 0;bottom: 0;left: 50%;z-index: 0;}#sk-container-id-2 div.sk-serial {display: flex;flex-direction: column;align-items: center;background-color: white;padding-right: 0.2em;padding-left: 0.2em;position: relative;}#sk-container-id-2 div.sk-item {position: relative;z-index: 1;}#sk-container-id-2 div.sk-parallel {display: flex;align-items: stretch;justify-content: center;background-color: white;position: relative;}#sk-container-id-2 div.sk-item::before, #sk-container-id-2 div.sk-parallel-item::before {content: \"\";position: absolute;border-left: 1px solid gray;box-sizing: border-box;top: 0;bottom: 0;left: 50%;z-index: -1;}#sk-container-id-2 div.sk-parallel-item {display: flex;flex-direction: column;z-index: 1;position: relative;background-color: white;}#sk-container-id-2 div.sk-parallel-item:first-child::after {align-self: flex-end;width: 50%;}#sk-container-id-2 div.sk-parallel-item:last-child::after {align-self: flex-start;width: 50%;}#sk-container-id-2 div.sk-parallel-item:only-child::after {width: 0;}#sk-container-id-2 div.sk-dashed-wrapped {border: 1px dashed gray;margin: 0 0.4em 0.5em 0.4em;box-sizing: border-box;padding-bottom: 0.4em;background-color: white;}#sk-container-id-2 div.sk-label label {font-family: monospace;font-weight: bold;display: inline-block;line-height: 1.2em;}#sk-container-id-2 div.sk-label-container {text-align: center;}#sk-container-id-2 div.sk-container {/* jupyter's `normalize.less` sets `[hidden] { display: none; }` but bootstrap.min.css set `[hidden] { display: none !important; }` so we also need the `!important` here to be able to override the default hidden behavior on the sphinx rendered scikit-learn.org. See: https://github.com/scikit-learn/scikit-learn/issues/21755 */display: inline-block !important;position: relative;}#sk-container-id-2 div.sk-text-repr-fallback {display: none;}</style><div id=\"sk-container-id-2\" class=\"sk-top-container\"><div class=\"sk-text-repr-fallback\"><pre>GradientBoostingRegressor()</pre><b>In a Jupyter environment, please rerun this cell to show the HTML representation or trust the notebook. <br />On GitHub, the HTML representation is unable to render, please try loading this page with nbviewer.org.</b></div><div class=\"sk-container\" hidden><div class=\"sk-item\"><div class=\"sk-estimator sk-toggleable\"><input class=\"sk-toggleable__control sk-hidden--visually\" id=\"sk-estimator-id-2\" type=\"checkbox\" checked><label for=\"sk-estimator-id-2\" class=\"sk-toggleable__label sk-toggleable__label-arrow\">GradientBoostingRegressor</label><div class=\"sk-toggleable__content\"><pre>GradientBoostingRegressor()</pre></div></div></div></div></div>"
      ],
      "text/plain": [
       "GradientBoostingRegressor()"
      ]
     },
     "execution_count": 14,
     "metadata": {},
     "output_type": "execute_result"
    }
   ],
   "source": [
    "from sklearn.ensemble import RandomForestRegressor, GradientBoostingRegressor\n",
    "\n",
    "# Random Forest\n",
    "rf_model = RandomForestRegressor()\n",
    "rf_model.fit(X_train, y_train)\n",
    "\n",
    "# Gradient Boosting\n",
    "gb_model = GradientBoostingRegressor()\n",
    "gb_model.fit(X_train, y_train)\n"
   ]
  },
  {
   "cell_type": "markdown",
   "id": "0654bb0f",
   "metadata": {
    "papermill": {
     "duration": 0.007908,
     "end_time": "2024-07-29T14:05:07.172775",
     "exception": false,
     "start_time": "2024-07-29T14:05:07.164867",
     "status": "completed"
    },
    "tags": []
   },
   "source": [
    "**Evaluate the model performance on the test set using metrics like RMSE or MAE**"
   ]
  },
  {
   "cell_type": "code",
   "execution_count": 15,
   "id": "0732582e",
   "metadata": {
    "execution": {
     "iopub.execute_input": "2024-07-29T14:05:07.193319Z",
     "iopub.status.busy": "2024-07-29T14:05:07.192898Z",
     "iopub.status.idle": "2024-07-29T14:05:07.329377Z",
     "shell.execute_reply": "2024-07-29T14:05:07.327794Z"
    },
    "papermill": {
     "duration": 0.149116,
     "end_time": "2024-07-29T14:05:07.331971",
     "exception": false,
     "start_time": "2024-07-29T14:05:07.182855",
     "status": "completed"
    },
    "tags": []
   },
   "outputs": [
    {
     "name": "stdout",
     "output_type": "stream",
     "text": [
      "Linear Regression RMSE: 1.0085833896981793, MAE: 0.8780362620318172\n",
      "Decision Tree RMSE: 1.3927844763268755, MAE: 1.1366511437084377\n",
      "Random Forest RMSE: 1.0123765698897134, MAE: 0.8799864303281281\n",
      "Gradient Boosting RMSE: 1.0111187667010708, MAE: 0.8809445205833916\n"
     ]
    }
   ],
   "source": [
    "from sklearn.metrics import mean_squared_error, mean_absolute_error\n",
    "\n",
    "# Predictions\n",
    "linear_preds = linear_model.predict(X_test)\n",
    "tree_preds = tree_model.predict(X_test)\n",
    "rf_preds = rf_model.predict(X_test)\n",
    "gb_preds = gb_model.predict(X_test)\n",
    "\n",
    "# Evaluate Linear Regression\n",
    "linear_rmse = mean_squared_error(y_test, linear_preds, squared=False)\n",
    "linear_mae = mean_absolute_error(y_test, linear_preds)\n",
    "\n",
    "# Evaluate Decision Tree\n",
    "tree_rmse = mean_squared_error(y_test, tree_preds, squared=False)\n",
    "tree_mae = mean_absolute_error(y_test, tree_preds)\n",
    "\n",
    "# Evaluate Random Forest\n",
    "rf_rmse = mean_squared_error(y_test, rf_preds, squared=False)\n",
    "rf_mae = mean_absolute_error(y_test, rf_preds)\n",
    "\n",
    "# Evaluate Gradient Boosting\n",
    "gb_rmse = mean_squared_error(y_test, gb_preds, squared=False)\n",
    "gb_mae = mean_absolute_error(y_test, gb_preds)\n",
    "\n",
    "# Print evaluation results\n",
    "print(f'Linear Regression RMSE: {linear_rmse}, MAE: {linear_mae}')\n",
    "print(f'Decision Tree RMSE: {tree_rmse}, MAE: {tree_mae}')\n",
    "print(f'Random Forest RMSE: {rf_rmse}, MAE: {rf_mae}')\n",
    "print(f'Gradient Boosting RMSE: {gb_rmse}, MAE: {gb_mae}')\n"
   ]
  },
  {
   "cell_type": "markdown",
   "id": "461e8d28",
   "metadata": {
    "papermill": {
     "duration": 0.008209,
     "end_time": "2024-07-29T14:05:07.348598",
     "exception": false,
     "start_time": "2024-07-29T14:05:07.340389",
     "status": "completed"
    },
    "tags": []
   },
   "source": [
    "**Summary**"
   ]
  },
  {
   "cell_type": "markdown",
   "id": "d353fd07",
   "metadata": {
    "papermill": {
     "duration": 0.010471,
     "end_time": "2024-07-29T14:05:07.368040",
     "exception": false,
     "start_time": "2024-07-29T14:05:07.357569",
     "status": "completed"
    },
    "tags": []
   },
   "source": [
    "Using PM2.5 as the target variable focuses the model on predicting levels of a pollutant that is critical for public health and regulatory compliance. By training a model to predict PM2.5 concentrations based on other air quality and meteorological factors, we can gain valuable insights and take proactive measures to improve air quality."
   ]
  }
 ],
 "metadata": {
  "kaggle": {
   "accelerator": "none",
   "dataSources": [
    {
     "datasetId": 5457395,
     "sourceId": 9051310,
     "sourceType": "datasetVersion"
    }
   ],
   "dockerImageVersionId": 30746,
   "isGpuEnabled": false,
   "isInternetEnabled": true,
   "language": "python",
   "sourceType": "notebook"
  },
  "kernelspec": {
   "display_name": "Python 3",
   "language": "python",
   "name": "python3"
  },
  "language_info": {
   "codemirror_mode": {
    "name": "ipython",
    "version": 3
   },
   "file_extension": ".py",
   "mimetype": "text/x-python",
   "name": "python",
   "nbconvert_exporter": "python",
   "pygments_lexer": "ipython3",
   "version": "3.10.13"
  },
  "papermill": {
   "default_parameters": {},
   "duration": 52.157643,
   "end_time": "2024-07-29T14:05:07.999250",
   "environment_variables": {},
   "exception": null,
   "input_path": "__notebook__.ipynb",
   "output_path": "__notebook__.ipynb",
   "parameters": {},
   "start_time": "2024-07-29T14:04:15.841607",
   "version": "2.5.0"
  }
 },
 "nbformat": 4,
 "nbformat_minor": 5
}
