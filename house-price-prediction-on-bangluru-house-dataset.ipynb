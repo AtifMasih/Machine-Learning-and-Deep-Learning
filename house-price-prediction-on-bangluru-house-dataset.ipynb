{
 "cells": [
  {
   "cell_type": "code",
   "execution_count": 1,
   "id": "facd8575",
   "metadata": {
    "_cell_guid": "b1076dfc-b9ad-4769-8c92-a6c4dae69d19",
    "_uuid": "8f2839f25d086af736a60e9eeb907d3b93b6e0e5",
    "execution": {
     "iopub.execute_input": "2024-07-15T11:16:06.111098Z",
     "iopub.status.busy": "2024-07-15T11:16:06.110164Z",
     "iopub.status.idle": "2024-07-15T11:16:07.284259Z",
     "shell.execute_reply": "2024-07-15T11:16:07.282649Z"
    },
    "papermill": {
     "duration": 1.201482,
     "end_time": "2024-07-15T11:16:07.287324",
     "exception": false,
     "start_time": "2024-07-15T11:16:06.085842",
     "status": "completed"
    },
    "tags": []
   },
   "outputs": [
    {
     "name": "stdout",
     "output_type": "stream",
     "text": [
      "/kaggle/input/bangluru-house-dataset/cleaned_data.csv\n",
      "/kaggle/input/bangluru-house-dataset/bengaluru_house_prices.csv\n"
     ]
    }
   ],
   "source": [
    "# This Python 3 environment comes with many helpful analytics libraries installed\n",
    "# It is defined by the kaggle/python Docker image: https://github.com/kaggle/docker-python\n",
    "# For example, here's several helpful packages to load\n",
    "\n",
    "import numpy as np # linear algebra\n",
    "import pandas as pd # data processing, CSV file I/O (e.g. pd.read_csv)\n",
    "\n",
    "# Input data files are available in the read-only \"../input/\" directory\n",
    "# For example, running this (by clicking run or pressing Shift+Enter) will list all files under the input directory\n",
    "\n",
    "import os\n",
    "for dirname, _, filenames in os.walk('/kaggle/input'):\n",
    "    for filename in filenames:\n",
    "        print(os.path.join(dirname, filename))\n",
    "\n",
    "# You can write up to 20GB to the current directory (/kaggle/working/) that gets preserved as output when you create a version using \"Save & Run All\" \n",
    "# You can also write temporary files to /kaggle/temp/, but they won't be saved outside of the current session"
   ]
  },
  {
   "cell_type": "markdown",
   "id": "c8eafd35",
   "metadata": {
    "papermill": {
     "duration": 0.021342,
     "end_time": "2024-07-15T11:16:07.331332",
     "exception": false,
     "start_time": "2024-07-15T11:16:07.309990",
     "status": "completed"
    },
    "tags": []
   },
   "source": [
    "**Import libraries to explore dataset**"
   ]
  },
  {
   "cell_type": "code",
   "execution_count": 2,
   "id": "5969db20",
   "metadata": {
    "execution": {
     "iopub.execute_input": "2024-07-15T11:16:07.378145Z",
     "iopub.status.busy": "2024-07-15T11:16:07.377483Z",
     "iopub.status.idle": "2024-07-15T11:16:09.043756Z",
     "shell.execute_reply": "2024-07-15T11:16:09.042377Z"
    },
    "papermill": {
     "duration": 1.693796,
     "end_time": "2024-07-15T11:16:09.046812",
     "exception": false,
     "start_time": "2024-07-15T11:16:07.353016",
     "status": "completed"
    },
    "tags": []
   },
   "outputs": [],
   "source": [
    "import matplotlib.pyplot as plt\n",
    "import seaborn as sns"
   ]
  },
  {
   "cell_type": "markdown",
   "id": "b9c80c0b",
   "metadata": {
    "papermill": {
     "duration": 0.021474,
     "end_time": "2024-07-15T11:16:09.092004",
     "exception": false,
     "start_time": "2024-07-15T11:16:09.070530",
     "status": "completed"
    },
    "tags": []
   },
   "source": [
    "**Load datasets**"
   ]
  },
  {
   "cell_type": "code",
   "execution_count": 3,
   "id": "89f8ad10",
   "metadata": {
    "execution": {
     "iopub.execute_input": "2024-07-15T11:16:09.136511Z",
     "iopub.status.busy": "2024-07-15T11:16:09.136079Z",
     "iopub.status.idle": "2024-07-15T11:16:09.221032Z",
     "shell.execute_reply": "2024-07-15T11:16:09.219725Z"
    },
    "papermill": {
     "duration": 0.110272,
     "end_time": "2024-07-15T11:16:09.223751",
     "exception": false,
     "start_time": "2024-07-15T11:16:09.113479",
     "status": "completed"
    },
    "tags": []
   },
   "outputs": [
    {
     "data": {
      "text/html": [
       "<div>\n",
       "<style scoped>\n",
       "    .dataframe tbody tr th:only-of-type {\n",
       "        vertical-align: middle;\n",
       "    }\n",
       "\n",
       "    .dataframe tbody tr th {\n",
       "        vertical-align: top;\n",
       "    }\n",
       "\n",
       "    .dataframe thead th {\n",
       "        text-align: right;\n",
       "    }\n",
       "</style>\n",
       "<table border=\"1\" class=\"dataframe\">\n",
       "  <thead>\n",
       "    <tr style=\"text-align: right;\">\n",
       "      <th></th>\n",
       "      <th>area_type</th>\n",
       "      <th>availability</th>\n",
       "      <th>location</th>\n",
       "      <th>size</th>\n",
       "      <th>society</th>\n",
       "      <th>total_sqft</th>\n",
       "      <th>bath</th>\n",
       "      <th>balcony</th>\n",
       "      <th>price</th>\n",
       "    </tr>\n",
       "  </thead>\n",
       "  <tbody>\n",
       "    <tr>\n",
       "      <th>0</th>\n",
       "      <td>Super built-up  Area</td>\n",
       "      <td>19-Dec</td>\n",
       "      <td>Electronic City Phase II</td>\n",
       "      <td>2 BHK</td>\n",
       "      <td>Coomee</td>\n",
       "      <td>1056</td>\n",
       "      <td>2.0</td>\n",
       "      <td>1.0</td>\n",
       "      <td>39.07</td>\n",
       "    </tr>\n",
       "    <tr>\n",
       "      <th>1</th>\n",
       "      <td>Plot  Area</td>\n",
       "      <td>Ready To Move</td>\n",
       "      <td>Chikka Tirupathi</td>\n",
       "      <td>4 Bedroom</td>\n",
       "      <td>Theanmp</td>\n",
       "      <td>2600</td>\n",
       "      <td>5.0</td>\n",
       "      <td>3.0</td>\n",
       "      <td>120.00</td>\n",
       "    </tr>\n",
       "    <tr>\n",
       "      <th>2</th>\n",
       "      <td>Built-up  Area</td>\n",
       "      <td>Ready To Move</td>\n",
       "      <td>Uttarahalli</td>\n",
       "      <td>3 BHK</td>\n",
       "      <td>NaN</td>\n",
       "      <td>1440</td>\n",
       "      <td>2.0</td>\n",
       "      <td>3.0</td>\n",
       "      <td>62.00</td>\n",
       "    </tr>\n",
       "    <tr>\n",
       "      <th>3</th>\n",
       "      <td>Super built-up  Area</td>\n",
       "      <td>Ready To Move</td>\n",
       "      <td>Lingadheeranahalli</td>\n",
       "      <td>3 BHK</td>\n",
       "      <td>Soiewre</td>\n",
       "      <td>1521</td>\n",
       "      <td>3.0</td>\n",
       "      <td>1.0</td>\n",
       "      <td>95.00</td>\n",
       "    </tr>\n",
       "    <tr>\n",
       "      <th>4</th>\n",
       "      <td>Super built-up  Area</td>\n",
       "      <td>Ready To Move</td>\n",
       "      <td>Kothanur</td>\n",
       "      <td>2 BHK</td>\n",
       "      <td>NaN</td>\n",
       "      <td>1200</td>\n",
       "      <td>2.0</td>\n",
       "      <td>1.0</td>\n",
       "      <td>51.00</td>\n",
       "    </tr>\n",
       "  </tbody>\n",
       "</table>\n",
       "</div>"
      ],
      "text/plain": [
       "              area_type   availability                  location       size  \\\n",
       "0  Super built-up  Area         19-Dec  Electronic City Phase II      2 BHK   \n",
       "1            Plot  Area  Ready To Move          Chikka Tirupathi  4 Bedroom   \n",
       "2        Built-up  Area  Ready To Move               Uttarahalli      3 BHK   \n",
       "3  Super built-up  Area  Ready To Move        Lingadheeranahalli      3 BHK   \n",
       "4  Super built-up  Area  Ready To Move                  Kothanur      2 BHK   \n",
       "\n",
       "   society total_sqft  bath  balcony   price  \n",
       "0  Coomee        1056   2.0      1.0   39.07  \n",
       "1  Theanmp       2600   5.0      3.0  120.00  \n",
       "2      NaN       1440   2.0      3.0   62.00  \n",
       "3  Soiewre       1521   3.0      1.0   95.00  \n",
       "4      NaN       1200   2.0      1.0   51.00  "
      ]
     },
     "execution_count": 3,
     "metadata": {},
     "output_type": "execute_result"
    }
   ],
   "source": [
    "dataset = pd.read_csv(\"/kaggle/input/bangluru-house-dataset/bengaluru_house_prices.csv\")\n",
    "dataset.head()"
   ]
  },
  {
   "cell_type": "markdown",
   "id": "824d54e7",
   "metadata": {
    "papermill": {
     "duration": 0.021375,
     "end_time": "2024-07-15T11:16:09.266951",
     "exception": false,
     "start_time": "2024-07-15T11:16:09.245576",
     "status": "completed"
    },
    "tags": []
   },
   "source": [
    "**Explore dataset**"
   ]
  },
  {
   "cell_type": "code",
   "execution_count": 4,
   "id": "7532fd32",
   "metadata": {
    "execution": {
     "iopub.execute_input": "2024-07-15T11:16:09.313687Z",
     "iopub.status.busy": "2024-07-15T11:16:09.313262Z",
     "iopub.status.idle": "2024-07-15T11:16:09.321129Z",
     "shell.execute_reply": "2024-07-15T11:16:09.319700Z"
    },
    "papermill": {
     "duration": 0.034317,
     "end_time": "2024-07-15T11:16:09.323758",
     "exception": false,
     "start_time": "2024-07-15T11:16:09.289441",
     "status": "completed"
    },
    "tags": []
   },
   "outputs": [
    {
     "data": {
      "text/plain": [
       "(13320, 9)"
      ]
     },
     "execution_count": 4,
     "metadata": {},
     "output_type": "execute_result"
    }
   ],
   "source": [
    "dataset.shape"
   ]
  },
  {
   "cell_type": "code",
   "execution_count": 5,
   "id": "b862dc57",
   "metadata": {
    "execution": {
     "iopub.execute_input": "2024-07-15T11:16:09.369635Z",
     "iopub.status.busy": "2024-07-15T11:16:09.369161Z",
     "iopub.status.idle": "2024-07-15T11:16:09.412819Z",
     "shell.execute_reply": "2024-07-15T11:16:09.410677Z"
    },
    "papermill": {
     "duration": 0.071987,
     "end_time": "2024-07-15T11:16:09.416834",
     "exception": false,
     "start_time": "2024-07-15T11:16:09.344847",
     "status": "completed"
    },
    "tags": []
   },
   "outputs": [
    {
     "name": "stdout",
     "output_type": "stream",
     "text": [
      "<class 'pandas.core.frame.DataFrame'>\n",
      "RangeIndex: 13320 entries, 0 to 13319\n",
      "Data columns (total 9 columns):\n",
      " #   Column        Non-Null Count  Dtype  \n",
      "---  ------        --------------  -----  \n",
      " 0   area_type     13320 non-null  object \n",
      " 1   availability  13320 non-null  object \n",
      " 2   location      13319 non-null  object \n",
      " 3   size          13304 non-null  object \n",
      " 4   society       7818 non-null   object \n",
      " 5   total_sqft    13320 non-null  object \n",
      " 6   bath          13247 non-null  float64\n",
      " 7   balcony       12711 non-null  float64\n",
      " 8   price         13320 non-null  float64\n",
      "dtypes: float64(3), object(6)\n",
      "memory usage: 936.7+ KB\n"
     ]
    }
   ],
   "source": [
    "dataset.info()"
   ]
  },
  {
   "cell_type": "markdown",
   "id": "9e30012e",
   "metadata": {
    "papermill": {
     "duration": 0.021465,
     "end_time": "2024-07-15T11:16:09.460184",
     "exception": false,
     "start_time": "2024-07-15T11:16:09.438719",
     "status": "completed"
    },
    "tags": []
   },
   "source": [
    "**Statistical Anaylsis**"
   ]
  },
  {
   "cell_type": "code",
   "execution_count": 6,
   "id": "e1c17884",
   "metadata": {
    "execution": {
     "iopub.execute_input": "2024-07-15T11:16:09.505410Z",
     "iopub.status.busy": "2024-07-15T11:16:09.504975Z",
     "iopub.status.idle": "2024-07-15T11:16:09.531285Z",
     "shell.execute_reply": "2024-07-15T11:16:09.529922Z"
    },
    "papermill": {
     "duration": 0.052103,
     "end_time": "2024-07-15T11:16:09.534366",
     "exception": false,
     "start_time": "2024-07-15T11:16:09.482263",
     "status": "completed"
    },
    "tags": []
   },
   "outputs": [
    {
     "data": {
      "text/html": [
       "<div>\n",
       "<style scoped>\n",
       "    .dataframe tbody tr th:only-of-type {\n",
       "        vertical-align: middle;\n",
       "    }\n",
       "\n",
       "    .dataframe tbody tr th {\n",
       "        vertical-align: top;\n",
       "    }\n",
       "\n",
       "    .dataframe thead th {\n",
       "        text-align: right;\n",
       "    }\n",
       "</style>\n",
       "<table border=\"1\" class=\"dataframe\">\n",
       "  <thead>\n",
       "    <tr style=\"text-align: right;\">\n",
       "      <th></th>\n",
       "      <th>bath</th>\n",
       "      <th>balcony</th>\n",
       "      <th>price</th>\n",
       "    </tr>\n",
       "  </thead>\n",
       "  <tbody>\n",
       "    <tr>\n",
       "      <th>count</th>\n",
       "      <td>13247.000000</td>\n",
       "      <td>12711.000000</td>\n",
       "      <td>13320.000000</td>\n",
       "    </tr>\n",
       "    <tr>\n",
       "      <th>mean</th>\n",
       "      <td>2.692610</td>\n",
       "      <td>1.584376</td>\n",
       "      <td>112.565627</td>\n",
       "    </tr>\n",
       "    <tr>\n",
       "      <th>std</th>\n",
       "      <td>1.341458</td>\n",
       "      <td>0.817263</td>\n",
       "      <td>148.971674</td>\n",
       "    </tr>\n",
       "    <tr>\n",
       "      <th>min</th>\n",
       "      <td>1.000000</td>\n",
       "      <td>0.000000</td>\n",
       "      <td>8.000000</td>\n",
       "    </tr>\n",
       "    <tr>\n",
       "      <th>25%</th>\n",
       "      <td>2.000000</td>\n",
       "      <td>1.000000</td>\n",
       "      <td>50.000000</td>\n",
       "    </tr>\n",
       "    <tr>\n",
       "      <th>50%</th>\n",
       "      <td>2.000000</td>\n",
       "      <td>2.000000</td>\n",
       "      <td>72.000000</td>\n",
       "    </tr>\n",
       "    <tr>\n",
       "      <th>75%</th>\n",
       "      <td>3.000000</td>\n",
       "      <td>2.000000</td>\n",
       "      <td>120.000000</td>\n",
       "    </tr>\n",
       "    <tr>\n",
       "      <th>max</th>\n",
       "      <td>40.000000</td>\n",
       "      <td>3.000000</td>\n",
       "      <td>3600.000000</td>\n",
       "    </tr>\n",
       "  </tbody>\n",
       "</table>\n",
       "</div>"
      ],
      "text/plain": [
       "               bath       balcony         price\n",
       "count  13247.000000  12711.000000  13320.000000\n",
       "mean       2.692610      1.584376    112.565627\n",
       "std        1.341458      0.817263    148.971674\n",
       "min        1.000000      0.000000      8.000000\n",
       "25%        2.000000      1.000000     50.000000\n",
       "50%        2.000000      2.000000     72.000000\n",
       "75%        3.000000      2.000000    120.000000\n",
       "max       40.000000      3.000000   3600.000000"
      ]
     },
     "execution_count": 6,
     "metadata": {},
     "output_type": "execute_result"
    }
   ],
   "source": [
    "dataset.describe()"
   ]
  },
  {
   "cell_type": "markdown",
   "id": "f1c53f5f",
   "metadata": {
    "papermill": {
     "duration": 0.021307,
     "end_time": "2024-07-15T11:16:09.579742",
     "exception": false,
     "start_time": "2024-07-15T11:16:09.558435",
     "status": "completed"
    },
    "tags": []
   },
   "source": [
    "# * **Data Preprocessing**"
   ]
  },
  {
   "cell_type": "markdown",
   "id": "b22f6e1a",
   "metadata": {
    "papermill": {
     "duration": 0.021638,
     "end_time": "2024-07-15T11:16:09.622942",
     "exception": false,
     "start_time": "2024-07-15T11:16:09.601304",
     "status": "completed"
    },
    "tags": []
   },
   "source": [
    "* **Remove irrelevant columns**"
   ]
  },
  {
   "cell_type": "code",
   "execution_count": 7,
   "id": "390508ea",
   "metadata": {
    "execution": {
     "iopub.execute_input": "2024-07-15T11:16:09.668538Z",
     "iopub.status.busy": "2024-07-15T11:16:09.668152Z",
     "iopub.status.idle": "2024-07-15T11:16:09.690680Z",
     "shell.execute_reply": "2024-07-15T11:16:09.689321Z"
    },
    "papermill": {
     "duration": 0.048538,
     "end_time": "2024-07-15T11:16:09.693787",
     "exception": false,
     "start_time": "2024-07-15T11:16:09.645249",
     "status": "completed"
    },
    "tags": []
   },
   "outputs": [
    {
     "data": {
      "text/html": [
       "<div>\n",
       "<style scoped>\n",
       "    .dataframe tbody tr th:only-of-type {\n",
       "        vertical-align: middle;\n",
       "    }\n",
       "\n",
       "    .dataframe tbody tr th {\n",
       "        vertical-align: top;\n",
       "    }\n",
       "\n",
       "    .dataframe thead th {\n",
       "        text-align: right;\n",
       "    }\n",
       "</style>\n",
       "<table border=\"1\" class=\"dataframe\">\n",
       "  <thead>\n",
       "    <tr style=\"text-align: right;\">\n",
       "      <th></th>\n",
       "      <th>location</th>\n",
       "      <th>size</th>\n",
       "      <th>total_sqft</th>\n",
       "      <th>bath</th>\n",
       "      <th>balcony</th>\n",
       "      <th>price</th>\n",
       "    </tr>\n",
       "  </thead>\n",
       "  <tbody>\n",
       "    <tr>\n",
       "      <th>0</th>\n",
       "      <td>Electronic City Phase II</td>\n",
       "      <td>2 BHK</td>\n",
       "      <td>1056</td>\n",
       "      <td>2.0</td>\n",
       "      <td>1.0</td>\n",
       "      <td>39.07</td>\n",
       "    </tr>\n",
       "    <tr>\n",
       "      <th>1</th>\n",
       "      <td>Chikka Tirupathi</td>\n",
       "      <td>4 Bedroom</td>\n",
       "      <td>2600</td>\n",
       "      <td>5.0</td>\n",
       "      <td>3.0</td>\n",
       "      <td>120.00</td>\n",
       "    </tr>\n",
       "    <tr>\n",
       "      <th>2</th>\n",
       "      <td>Uttarahalli</td>\n",
       "      <td>3 BHK</td>\n",
       "      <td>1440</td>\n",
       "      <td>2.0</td>\n",
       "      <td>3.0</td>\n",
       "      <td>62.00</td>\n",
       "    </tr>\n",
       "    <tr>\n",
       "      <th>3</th>\n",
       "      <td>Lingadheeranahalli</td>\n",
       "      <td>3 BHK</td>\n",
       "      <td>1521</td>\n",
       "      <td>3.0</td>\n",
       "      <td>1.0</td>\n",
       "      <td>95.00</td>\n",
       "    </tr>\n",
       "    <tr>\n",
       "      <th>4</th>\n",
       "      <td>Kothanur</td>\n",
       "      <td>2 BHK</td>\n",
       "      <td>1200</td>\n",
       "      <td>2.0</td>\n",
       "      <td>1.0</td>\n",
       "      <td>51.00</td>\n",
       "    </tr>\n",
       "  </tbody>\n",
       "</table>\n",
       "</div>"
      ],
      "text/plain": [
       "                   location       size total_sqft  bath  balcony   price\n",
       "0  Electronic City Phase II      2 BHK       1056   2.0      1.0   39.07\n",
       "1          Chikka Tirupathi  4 Bedroom       2600   5.0      3.0  120.00\n",
       "2               Uttarahalli      3 BHK       1440   2.0      3.0   62.00\n",
       "3        Lingadheeranahalli      3 BHK       1521   3.0      1.0   95.00\n",
       "4                  Kothanur      2 BHK       1200   2.0      1.0   51.00"
      ]
     },
     "execution_count": 7,
     "metadata": {},
     "output_type": "execute_result"
    }
   ],
   "source": [
    "dataset = dataset.drop(['area_type', 'availability','society'], axis = 'columns')\n",
    "dataset.head()"
   ]
  },
  {
   "cell_type": "markdown",
   "id": "184e284a",
   "metadata": {
    "papermill": {
     "duration": 0.021984,
     "end_time": "2024-07-15T11:16:09.738377",
     "exception": false,
     "start_time": "2024-07-15T11:16:09.716393",
     "status": "completed"
    },
    "tags": []
   },
   "source": [
    "* **Check missing values**"
   ]
  },
  {
   "cell_type": "code",
   "execution_count": 8,
   "id": "40dbe814",
   "metadata": {
    "execution": {
     "iopub.execute_input": "2024-07-15T11:16:09.785170Z",
     "iopub.status.busy": "2024-07-15T11:16:09.784698Z",
     "iopub.status.idle": "2024-07-15T11:16:09.799350Z",
     "shell.execute_reply": "2024-07-15T11:16:09.798121Z"
    },
    "papermill": {
     "duration": 0.041539,
     "end_time": "2024-07-15T11:16:09.802188",
     "exception": false,
     "start_time": "2024-07-15T11:16:09.760649",
     "status": "completed"
    },
    "tags": []
   },
   "outputs": [
    {
     "data": {
      "text/plain": [
       "location       True\n",
       "size           True\n",
       "total_sqft    False\n",
       "bath           True\n",
       "balcony        True\n",
       "price         False\n",
       "dtype: bool"
      ]
     },
     "execution_count": 8,
     "metadata": {},
     "output_type": "execute_result"
    }
   ],
   "source": [
    "dataset.isnull().any()"
   ]
  },
  {
   "cell_type": "code",
   "execution_count": 9,
   "id": "0a4e950b",
   "metadata": {
    "execution": {
     "iopub.execute_input": "2024-07-15T11:16:09.849149Z",
     "iopub.status.busy": "2024-07-15T11:16:09.848702Z",
     "iopub.status.idle": "2024-07-15T11:16:09.864181Z",
     "shell.execute_reply": "2024-07-15T11:16:09.862931Z"
    },
    "papermill": {
     "duration": 0.041968,
     "end_time": "2024-07-15T11:16:09.866996",
     "exception": false,
     "start_time": "2024-07-15T11:16:09.825028",
     "status": "completed"
    },
    "tags": []
   },
   "outputs": [
    {
     "data": {
      "text/plain": [
       "location        1\n",
       "size           16\n",
       "total_sqft      0\n",
       "bath           73\n",
       "balcony       609\n",
       "price           0\n",
       "dtype: int64"
      ]
     },
     "execution_count": 9,
     "metadata": {},
     "output_type": "execute_result"
    }
   ],
   "source": [
    "dataset.isnull().sum()"
   ]
  },
  {
   "cell_type": "code",
   "execution_count": 10,
   "id": "82b8eeab",
   "metadata": {
    "execution": {
     "iopub.execute_input": "2024-07-15T11:16:09.915802Z",
     "iopub.status.busy": "2024-07-15T11:16:09.915399Z",
     "iopub.status.idle": "2024-07-15T11:16:09.930394Z",
     "shell.execute_reply": "2024-07-15T11:16:09.929082Z"
    },
    "papermill": {
     "duration": 0.043874,
     "end_time": "2024-07-15T11:16:09.933709",
     "exception": false,
     "start_time": "2024-07-15T11:16:09.889835",
     "status": "completed"
    },
    "tags": []
   },
   "outputs": [],
   "source": [
    "dataset = dataset.dropna()\n"
   ]
  },
  {
   "cell_type": "code",
   "execution_count": 11,
   "id": "3d178d62",
   "metadata": {
    "execution": {
     "iopub.execute_input": "2024-07-15T11:16:09.981537Z",
     "iopub.status.busy": "2024-07-15T11:16:09.980764Z",
     "iopub.status.idle": "2024-07-15T11:16:09.994665Z",
     "shell.execute_reply": "2024-07-15T11:16:09.993260Z"
    },
    "papermill": {
     "duration": 0.040586,
     "end_time": "2024-07-15T11:16:09.997482",
     "exception": false,
     "start_time": "2024-07-15T11:16:09.956896",
     "status": "completed"
    },
    "tags": []
   },
   "outputs": [
    {
     "data": {
      "text/plain": [
       "location      0\n",
       "size          0\n",
       "total_sqft    0\n",
       "bath          0\n",
       "balcony       0\n",
       "price         0\n",
       "dtype: int64"
      ]
     },
     "execution_count": 11,
     "metadata": {},
     "output_type": "execute_result"
    }
   ],
   "source": [
    "dataset.isnull().sum()"
   ]
  },
  {
   "cell_type": "code",
   "execution_count": 12,
   "id": "c0f48094",
   "metadata": {
    "execution": {
     "iopub.execute_input": "2024-07-15T11:16:10.045526Z",
     "iopub.status.busy": "2024-07-15T11:16:10.045124Z",
     "iopub.status.idle": "2024-07-15T11:16:10.054435Z",
     "shell.execute_reply": "2024-07-15T11:16:10.053208Z"
    },
    "papermill": {
     "duration": 0.037346,
     "end_time": "2024-07-15T11:16:10.057105",
     "exception": false,
     "start_time": "2024-07-15T11:16:10.019759",
     "status": "completed"
    },
    "tags": []
   },
   "outputs": [
    {
     "data": {
      "text/plain": [
       "array(['2 BHK', '4 Bedroom', '3 BHK', '3 Bedroom', '1 BHK', '1 RK',\n",
       "       '4 BHK', '1 Bedroom', '2 Bedroom', '6 Bedroom', '8 Bedroom',\n",
       "       '7 Bedroom', '5 BHK', '7 BHK', '6 BHK', '5 Bedroom', '11 BHK',\n",
       "       '9 BHK', '9 Bedroom', '27 BHK', '11 Bedroom', '43 Bedroom',\n",
       "       '14 BHK', '8 BHK', '12 Bedroom', '10 Bedroom', '13 BHK'],\n",
       "      dtype=object)"
      ]
     },
     "execution_count": 12,
     "metadata": {},
     "output_type": "execute_result"
    }
   ],
   "source": [
    "dataset['size'].unique()"
   ]
  },
  {
   "cell_type": "markdown",
   "id": "d9e17802",
   "metadata": {
    "papermill": {
     "duration": 0.025086,
     "end_time": "2024-07-15T11:16:10.105934",
     "exception": false,
     "start_time": "2024-07-15T11:16:10.080848",
     "status": "completed"
    },
    "tags": []
   },
   "source": [
    "**Creating new column with name BHK**"
   ]
  },
  {
   "cell_type": "code",
   "execution_count": 13,
   "id": "67136361",
   "metadata": {
    "execution": {
     "iopub.execute_input": "2024-07-15T11:16:10.159018Z",
     "iopub.status.busy": "2024-07-15T11:16:10.158383Z",
     "iopub.status.idle": "2024-07-15T11:16:10.199466Z",
     "shell.execute_reply": "2024-07-15T11:16:10.197575Z"
    },
    "papermill": {
     "duration": 0.071578,
     "end_time": "2024-07-15T11:16:10.202748",
     "exception": false,
     "start_time": "2024-07-15T11:16:10.131170",
     "status": "completed"
    },
    "tags": []
   },
   "outputs": [
    {
     "data": {
      "text/html": [
       "<div>\n",
       "<style scoped>\n",
       "    .dataframe tbody tr th:only-of-type {\n",
       "        vertical-align: middle;\n",
       "    }\n",
       "\n",
       "    .dataframe tbody tr th {\n",
       "        vertical-align: top;\n",
       "    }\n",
       "\n",
       "    .dataframe thead th {\n",
       "        text-align: right;\n",
       "    }\n",
       "</style>\n",
       "<table border=\"1\" class=\"dataframe\">\n",
       "  <thead>\n",
       "    <tr style=\"text-align: right;\">\n",
       "      <th></th>\n",
       "      <th>location</th>\n",
       "      <th>size</th>\n",
       "      <th>total_sqft</th>\n",
       "      <th>bath</th>\n",
       "      <th>balcony</th>\n",
       "      <th>price</th>\n",
       "      <th>BHK</th>\n",
       "    </tr>\n",
       "  </thead>\n",
       "  <tbody>\n",
       "    <tr>\n",
       "      <th>0</th>\n",
       "      <td>Electronic City Phase II</td>\n",
       "      <td>2 BHK</td>\n",
       "      <td>1056</td>\n",
       "      <td>2.0</td>\n",
       "      <td>1.0</td>\n",
       "      <td>39.07</td>\n",
       "      <td>2</td>\n",
       "    </tr>\n",
       "    <tr>\n",
       "      <th>1</th>\n",
       "      <td>Chikka Tirupathi</td>\n",
       "      <td>4 Bedroom</td>\n",
       "      <td>2600</td>\n",
       "      <td>5.0</td>\n",
       "      <td>3.0</td>\n",
       "      <td>120.00</td>\n",
       "      <td>4</td>\n",
       "    </tr>\n",
       "    <tr>\n",
       "      <th>2</th>\n",
       "      <td>Uttarahalli</td>\n",
       "      <td>3 BHK</td>\n",
       "      <td>1440</td>\n",
       "      <td>2.0</td>\n",
       "      <td>3.0</td>\n",
       "      <td>62.00</td>\n",
       "      <td>3</td>\n",
       "    </tr>\n",
       "    <tr>\n",
       "      <th>3</th>\n",
       "      <td>Lingadheeranahalli</td>\n",
       "      <td>3 BHK</td>\n",
       "      <td>1521</td>\n",
       "      <td>3.0</td>\n",
       "      <td>1.0</td>\n",
       "      <td>95.00</td>\n",
       "      <td>3</td>\n",
       "    </tr>\n",
       "    <tr>\n",
       "      <th>4</th>\n",
       "      <td>Kothanur</td>\n",
       "      <td>2 BHK</td>\n",
       "      <td>1200</td>\n",
       "      <td>2.0</td>\n",
       "      <td>1.0</td>\n",
       "      <td>51.00</td>\n",
       "      <td>2</td>\n",
       "    </tr>\n",
       "  </tbody>\n",
       "</table>\n",
       "</div>"
      ],
      "text/plain": [
       "                   location       size total_sqft  bath  balcony   price  BHK\n",
       "0  Electronic City Phase II      2 BHK       1056   2.0      1.0   39.07    2\n",
       "1          Chikka Tirupathi  4 Bedroom       2600   5.0      3.0  120.00    4\n",
       "2               Uttarahalli      3 BHK       1440   2.0      3.0   62.00    3\n",
       "3        Lingadheeranahalli      3 BHK       1521   3.0      1.0   95.00    3\n",
       "4                  Kothanur      2 BHK       1200   2.0      1.0   51.00    2"
      ]
     },
     "execution_count": 13,
     "metadata": {},
     "output_type": "execute_result"
    }
   ],
   "source": [
    "dataset['BHK'] = dataset['size'].apply(lambda x: int(x.split(' ')[0]))\n",
    "dataset.head()"
   ]
  },
  {
   "cell_type": "code",
   "execution_count": 14,
   "id": "7bb6322b",
   "metadata": {
    "execution": {
     "iopub.execute_input": "2024-07-15T11:16:10.323259Z",
     "iopub.status.busy": "2024-07-15T11:16:10.322790Z",
     "iopub.status.idle": "2024-07-15T11:16:10.335408Z",
     "shell.execute_reply": "2024-07-15T11:16:10.332908Z"
    },
    "papermill": {
     "duration": 0.043958,
     "end_time": "2024-07-15T11:16:10.339043",
     "exception": false,
     "start_time": "2024-07-15T11:16:10.295085",
     "status": "completed"
    },
    "tags": []
   },
   "outputs": [
    {
     "data": {
      "text/plain": [
       "array([ 2,  4,  3,  1,  6,  8,  7,  5, 11,  9, 27, 43, 14, 12, 10, 13])"
      ]
     },
     "execution_count": 14,
     "metadata": {},
     "output_type": "execute_result"
    }
   ],
   "source": [
    "dataset['BHK'].unique()"
   ]
  },
  {
   "cell_type": "code",
   "execution_count": 15,
   "id": "b2acd4c5",
   "metadata": {
    "execution": {
     "iopub.execute_input": "2024-07-15T11:16:10.398809Z",
     "iopub.status.busy": "2024-07-15T11:16:10.398379Z",
     "iopub.status.idle": "2024-07-15T11:16:10.430813Z",
     "shell.execute_reply": "2024-07-15T11:16:10.429098Z"
    },
    "papermill": {
     "duration": 0.069394,
     "end_time": "2024-07-15T11:16:10.434950",
     "exception": false,
     "start_time": "2024-07-15T11:16:10.365556",
     "status": "completed"
    },
    "tags": []
   },
   "outputs": [
    {
     "data": {
      "text/html": [
       "<div>\n",
       "<style scoped>\n",
       "    .dataframe tbody tr th:only-of-type {\n",
       "        vertical-align: middle;\n",
       "    }\n",
       "\n",
       "    .dataframe tbody tr th {\n",
       "        vertical-align: top;\n",
       "    }\n",
       "\n",
       "    .dataframe thead th {\n",
       "        text-align: right;\n",
       "    }\n",
       "</style>\n",
       "<table border=\"1\" class=\"dataframe\">\n",
       "  <thead>\n",
       "    <tr style=\"text-align: right;\">\n",
       "      <th></th>\n",
       "      <th>location</th>\n",
       "      <th>size</th>\n",
       "      <th>total_sqft</th>\n",
       "      <th>bath</th>\n",
       "      <th>balcony</th>\n",
       "      <th>price</th>\n",
       "      <th>BHK</th>\n",
       "    </tr>\n",
       "  </thead>\n",
       "  <tbody>\n",
       "    <tr>\n",
       "      <th>459</th>\n",
       "      <td>1 Giri Nagar</td>\n",
       "      <td>11 BHK</td>\n",
       "      <td>5000</td>\n",
       "      <td>9.0</td>\n",
       "      <td>3.0</td>\n",
       "      <td>360.0</td>\n",
       "      <td>11</td>\n",
       "    </tr>\n",
       "    <tr>\n",
       "      <th>1718</th>\n",
       "      <td>2Electronic City Phase II</td>\n",
       "      <td>27 BHK</td>\n",
       "      <td>8000</td>\n",
       "      <td>27.0</td>\n",
       "      <td>0.0</td>\n",
       "      <td>230.0</td>\n",
       "      <td>27</td>\n",
       "    </tr>\n",
       "    <tr>\n",
       "      <th>1768</th>\n",
       "      <td>1 Ramamurthy Nagar</td>\n",
       "      <td>11 Bedroom</td>\n",
       "      <td>1200</td>\n",
       "      <td>11.0</td>\n",
       "      <td>0.0</td>\n",
       "      <td>170.0</td>\n",
       "      <td>11</td>\n",
       "    </tr>\n",
       "    <tr>\n",
       "      <th>3853</th>\n",
       "      <td>1 Annasandrapalya</td>\n",
       "      <td>11 Bedroom</td>\n",
       "      <td>1200</td>\n",
       "      <td>6.0</td>\n",
       "      <td>3.0</td>\n",
       "      <td>150.0</td>\n",
       "      <td>11</td>\n",
       "    </tr>\n",
       "    <tr>\n",
       "      <th>4684</th>\n",
       "      <td>Munnekollal</td>\n",
       "      <td>43 Bedroom</td>\n",
       "      <td>2400</td>\n",
       "      <td>40.0</td>\n",
       "      <td>0.0</td>\n",
       "      <td>660.0</td>\n",
       "      <td>43</td>\n",
       "    </tr>\n",
       "    <tr>\n",
       "      <th>4916</th>\n",
       "      <td>1Channasandra</td>\n",
       "      <td>14 BHK</td>\n",
       "      <td>1250</td>\n",
       "      <td>15.0</td>\n",
       "      <td>0.0</td>\n",
       "      <td>125.0</td>\n",
       "      <td>14</td>\n",
       "    </tr>\n",
       "    <tr>\n",
       "      <th>6533</th>\n",
       "      <td>Mysore Road</td>\n",
       "      <td>12 Bedroom</td>\n",
       "      <td>2232</td>\n",
       "      <td>6.0</td>\n",
       "      <td>2.0</td>\n",
       "      <td>300.0</td>\n",
       "      <td>12</td>\n",
       "    </tr>\n",
       "    <tr>\n",
       "      <th>9935</th>\n",
       "      <td>1Hoysalanagar</td>\n",
       "      <td>13 BHK</td>\n",
       "      <td>5425</td>\n",
       "      <td>13.0</td>\n",
       "      <td>0.0</td>\n",
       "      <td>275.0</td>\n",
       "      <td>13</td>\n",
       "    </tr>\n",
       "  </tbody>\n",
       "</table>\n",
       "</div>"
      ],
      "text/plain": [
       "                       location        size total_sqft  bath  balcony  price  \\\n",
       "459                1 Giri Nagar      11 BHK       5000   9.0      3.0  360.0   \n",
       "1718  2Electronic City Phase II      27 BHK       8000  27.0      0.0  230.0   \n",
       "1768         1 Ramamurthy Nagar  11 Bedroom       1200  11.0      0.0  170.0   \n",
       "3853          1 Annasandrapalya  11 Bedroom       1200   6.0      3.0  150.0   \n",
       "4684                Munnekollal  43 Bedroom       2400  40.0      0.0  660.0   \n",
       "4916              1Channasandra      14 BHK       1250  15.0      0.0  125.0   \n",
       "6533                Mysore Road  12 Bedroom       2232   6.0      2.0  300.0   \n",
       "9935              1Hoysalanagar      13 BHK       5425  13.0      0.0  275.0   \n",
       "\n",
       "      BHK  \n",
       "459    11  \n",
       "1718   27  \n",
       "1768   11  \n",
       "3853   11  \n",
       "4684   43  \n",
       "4916   14  \n",
       "6533   12  \n",
       "9935   13  "
      ]
     },
     "execution_count": 15,
     "metadata": {},
     "output_type": "execute_result"
    }
   ],
   "source": [
    "dataset[dataset.BHK>10]"
   ]
  },
  {
   "cell_type": "code",
   "execution_count": 16,
   "id": "2dca2e2f",
   "metadata": {
    "execution": {
     "iopub.execute_input": "2024-07-15T11:16:10.499430Z",
     "iopub.status.busy": "2024-07-15T11:16:10.498803Z",
     "iopub.status.idle": "2024-07-15T11:16:10.515268Z",
     "shell.execute_reply": "2024-07-15T11:16:10.511316Z"
    },
    "papermill": {
     "duration": 0.056564,
     "end_time": "2024-07-15T11:16:10.520037",
     "exception": false,
     "start_time": "2024-07-15T11:16:10.463473",
     "status": "completed"
    },
    "tags": []
   },
   "outputs": [
    {
     "data": {
      "text/plain": [
       "array(['1056', '2600', '1440', ..., '1133 - 1384', '774', '4689'],\n",
       "      dtype=object)"
      ]
     },
     "execution_count": 16,
     "metadata": {},
     "output_type": "execute_result"
    }
   ],
   "source": [
    "dataset['total_sqft'].unique()"
   ]
  },
  {
   "cell_type": "markdown",
   "id": "590e58fc",
   "metadata": {
    "papermill": {
     "duration": 0.029095,
     "end_time": "2024-07-15T11:16:10.590255",
     "exception": false,
     "start_time": "2024-07-15T11:16:10.561160",
     "status": "completed"
    },
    "tags": []
   },
   "source": [
    "**Let's change range values to single value**"
   ]
  },
  {
   "cell_type": "markdown",
   "id": "1c9aea0a",
   "metadata": {
    "papermill": {
     "duration": 0.026051,
     "end_time": "2024-07-15T11:16:10.643140",
     "exception": false,
     "start_time": "2024-07-15T11:16:10.617089",
     "status": "completed"
    },
    "tags": []
   },
   "source": [
    "**first write function to check values are float or not**"
   ]
  },
  {
   "cell_type": "code",
   "execution_count": 17,
   "id": "8bf36231",
   "metadata": {
    "execution": {
     "iopub.execute_input": "2024-07-15T11:16:10.717823Z",
     "iopub.status.busy": "2024-07-15T11:16:10.717459Z",
     "iopub.status.idle": "2024-07-15T11:16:10.724409Z",
     "shell.execute_reply": "2024-07-15T11:16:10.723148Z"
    },
    "papermill": {
     "duration": 0.050249,
     "end_time": "2024-07-15T11:16:10.730056",
     "exception": false,
     "start_time": "2024-07-15T11:16:10.679807",
     "status": "completed"
    },
    "tags": []
   },
   "outputs": [],
   "source": [
    "def is_float(x):\n",
    "    try:\n",
    "        float(x)\n",
    "    except:\n",
    "        return False\n",
    "    return True"
   ]
  },
  {
   "cell_type": "code",
   "execution_count": 18,
   "id": "89821bee",
   "metadata": {
    "execution": {
     "iopub.execute_input": "2024-07-15T11:16:10.802264Z",
     "iopub.status.busy": "2024-07-15T11:16:10.801716Z",
     "iopub.status.idle": "2024-07-15T11:16:10.831192Z",
     "shell.execute_reply": "2024-07-15T11:16:10.829790Z"
    },
    "papermill": {
     "duration": 0.065523,
     "end_time": "2024-07-15T11:16:10.834250",
     "exception": false,
     "start_time": "2024-07-15T11:16:10.768727",
     "status": "completed"
    },
    "tags": []
   },
   "outputs": [
    {
     "data": {
      "text/html": [
       "<div>\n",
       "<style scoped>\n",
       "    .dataframe tbody tr th:only-of-type {\n",
       "        vertical-align: middle;\n",
       "    }\n",
       "\n",
       "    .dataframe tbody tr th {\n",
       "        vertical-align: top;\n",
       "    }\n",
       "\n",
       "    .dataframe thead th {\n",
       "        text-align: right;\n",
       "    }\n",
       "</style>\n",
       "<table border=\"1\" class=\"dataframe\">\n",
       "  <thead>\n",
       "    <tr style=\"text-align: right;\">\n",
       "      <th></th>\n",
       "      <th>location</th>\n",
       "      <th>size</th>\n",
       "      <th>total_sqft</th>\n",
       "      <th>bath</th>\n",
       "      <th>balcony</th>\n",
       "      <th>price</th>\n",
       "      <th>BHK</th>\n",
       "    </tr>\n",
       "  </thead>\n",
       "  <tbody>\n",
       "    <tr>\n",
       "      <th>30</th>\n",
       "      <td>Yelahanka</td>\n",
       "      <td>4 BHK</td>\n",
       "      <td>2100 - 2850</td>\n",
       "      <td>4.0</td>\n",
       "      <td>0.0</td>\n",
       "      <td>186.000</td>\n",
       "      <td>4</td>\n",
       "    </tr>\n",
       "    <tr>\n",
       "      <th>122</th>\n",
       "      <td>Hebbal</td>\n",
       "      <td>4 BHK</td>\n",
       "      <td>3067 - 8156</td>\n",
       "      <td>4.0</td>\n",
       "      <td>0.0</td>\n",
       "      <td>477.000</td>\n",
       "      <td>4</td>\n",
       "    </tr>\n",
       "    <tr>\n",
       "      <th>137</th>\n",
       "      <td>8th Phase JP Nagar</td>\n",
       "      <td>2 BHK</td>\n",
       "      <td>1042 - 1105</td>\n",
       "      <td>2.0</td>\n",
       "      <td>0.0</td>\n",
       "      <td>54.005</td>\n",
       "      <td>2</td>\n",
       "    </tr>\n",
       "    <tr>\n",
       "      <th>165</th>\n",
       "      <td>Sarjapur</td>\n",
       "      <td>2 BHK</td>\n",
       "      <td>1145 - 1340</td>\n",
       "      <td>2.0</td>\n",
       "      <td>0.0</td>\n",
       "      <td>43.490</td>\n",
       "      <td>2</td>\n",
       "    </tr>\n",
       "    <tr>\n",
       "      <th>188</th>\n",
       "      <td>KR Puram</td>\n",
       "      <td>2 BHK</td>\n",
       "      <td>1015 - 1540</td>\n",
       "      <td>2.0</td>\n",
       "      <td>0.0</td>\n",
       "      <td>56.800</td>\n",
       "      <td>2</td>\n",
       "    </tr>\n",
       "    <tr>\n",
       "      <th>...</th>\n",
       "      <td>...</td>\n",
       "      <td>...</td>\n",
       "      <td>...</td>\n",
       "      <td>...</td>\n",
       "      <td>...</td>\n",
       "      <td>...</td>\n",
       "      <td>...</td>\n",
       "    </tr>\n",
       "    <tr>\n",
       "      <th>12975</th>\n",
       "      <td>Whitefield</td>\n",
       "      <td>2 BHK</td>\n",
       "      <td>850 - 1060</td>\n",
       "      <td>2.0</td>\n",
       "      <td>0.0</td>\n",
       "      <td>38.190</td>\n",
       "      <td>2</td>\n",
       "    </tr>\n",
       "    <tr>\n",
       "      <th>12990</th>\n",
       "      <td>Talaghattapura</td>\n",
       "      <td>3 BHK</td>\n",
       "      <td>1804 - 2273</td>\n",
       "      <td>3.0</td>\n",
       "      <td>0.0</td>\n",
       "      <td>122.000</td>\n",
       "      <td>3</td>\n",
       "    </tr>\n",
       "    <tr>\n",
       "      <th>13059</th>\n",
       "      <td>Harlur</td>\n",
       "      <td>2 BHK</td>\n",
       "      <td>1200 - 1470</td>\n",
       "      <td>2.0</td>\n",
       "      <td>0.0</td>\n",
       "      <td>72.760</td>\n",
       "      <td>2</td>\n",
       "    </tr>\n",
       "    <tr>\n",
       "      <th>13265</th>\n",
       "      <td>Hoodi</td>\n",
       "      <td>2 BHK</td>\n",
       "      <td>1133 - 1384</td>\n",
       "      <td>2.0</td>\n",
       "      <td>0.0</td>\n",
       "      <td>59.135</td>\n",
       "      <td>2</td>\n",
       "    </tr>\n",
       "    <tr>\n",
       "      <th>13299</th>\n",
       "      <td>Whitefield</td>\n",
       "      <td>4 BHK</td>\n",
       "      <td>2830 - 2882</td>\n",
       "      <td>5.0</td>\n",
       "      <td>0.0</td>\n",
       "      <td>154.500</td>\n",
       "      <td>4</td>\n",
       "    </tr>\n",
       "  </tbody>\n",
       "</table>\n",
       "<p>186 rows × 7 columns</p>\n",
       "</div>"
      ],
      "text/plain": [
       "                 location   size   total_sqft  bath  balcony    price  BHK\n",
       "30              Yelahanka  4 BHK  2100 - 2850   4.0      0.0  186.000    4\n",
       "122                Hebbal  4 BHK  3067 - 8156   4.0      0.0  477.000    4\n",
       "137    8th Phase JP Nagar  2 BHK  1042 - 1105   2.0      0.0   54.005    2\n",
       "165              Sarjapur  2 BHK  1145 - 1340   2.0      0.0   43.490    2\n",
       "188              KR Puram  2 BHK  1015 - 1540   2.0      0.0   56.800    2\n",
       "...                   ...    ...          ...   ...      ...      ...  ...\n",
       "12975          Whitefield  2 BHK   850 - 1060   2.0      0.0   38.190    2\n",
       "12990      Talaghattapura  3 BHK  1804 - 2273   3.0      0.0  122.000    3\n",
       "13059              Harlur  2 BHK  1200 - 1470   2.0      0.0   72.760    2\n",
       "13265               Hoodi  2 BHK  1133 - 1384   2.0      0.0   59.135    2\n",
       "13299          Whitefield  4 BHK  2830 - 2882   5.0      0.0  154.500    4\n",
       "\n",
       "[186 rows x 7 columns]"
      ]
     },
     "execution_count": 18,
     "metadata": {},
     "output_type": "execute_result"
    }
   ],
   "source": [
    "dataset[~dataset['total_sqft'].apply(is_float)]"
   ]
  },
  {
   "cell_type": "markdown",
   "id": "3d481f31",
   "metadata": {
    "papermill": {
     "duration": 0.033136,
     "end_time": "2024-07-15T11:16:10.894481",
     "exception": false,
     "start_time": "2024-07-15T11:16:10.861345",
     "status": "completed"
    },
    "tags": []
   },
   "source": [
    "**write a function that take the avarge of given range**"
   ]
  },
  {
   "cell_type": "code",
   "execution_count": 19,
   "id": "89150fa0",
   "metadata": {
    "execution": {
     "iopub.execute_input": "2024-07-15T11:16:10.955798Z",
     "iopub.status.busy": "2024-07-15T11:16:10.954786Z",
     "iopub.status.idle": "2024-07-15T11:16:10.961974Z",
     "shell.execute_reply": "2024-07-15T11:16:10.960642Z"
    },
    "papermill": {
     "duration": 0.040356,
     "end_time": "2024-07-15T11:16:10.964476",
     "exception": false,
     "start_time": "2024-07-15T11:16:10.924120",
     "status": "completed"
    },
    "tags": []
   },
   "outputs": [],
   "source": [
    "# Define the function to convert range values to average with error handling\n",
    "def range_to_num(x):\n",
    "    try:\n",
    "        tok = x.split('-')\n",
    "        if len(tok) == 2:\n",
    "            return (float(tok[0]) + float(tok[1])) / 2\n",
    "        return float(x)\n",
    "    except Exception as e:\n",
    "#         print(f\"Error converting '{x}': {e}\")\n",
    "        return None"
   ]
  },
  {
   "cell_type": "code",
   "execution_count": 20,
   "id": "c0394cff",
   "metadata": {
    "execution": {
     "iopub.execute_input": "2024-07-15T11:16:11.015605Z",
     "iopub.status.busy": "2024-07-15T11:16:11.015197Z",
     "iopub.status.idle": "2024-07-15T11:16:11.033797Z",
     "shell.execute_reply": "2024-07-15T11:16:11.032468Z"
    },
    "papermill": {
     "duration": 0.047996,
     "end_time": "2024-07-15T11:16:11.036892",
     "exception": false,
     "start_time": "2024-07-15T11:16:10.988896",
     "status": "completed"
    },
    "tags": []
   },
   "outputs": [],
   "source": [
    "# Apply the function to the total_sqft column\n",
    "dataset['total_sqft'] = dataset['total_sqft'].apply(range_to_num)"
   ]
  },
  {
   "cell_type": "code",
   "execution_count": 21,
   "id": "433c30ed",
   "metadata": {
    "execution": {
     "iopub.execute_input": "2024-07-15T11:16:11.088919Z",
     "iopub.status.busy": "2024-07-15T11:16:11.087690Z",
     "iopub.status.idle": "2024-07-15T11:16:11.111317Z",
     "shell.execute_reply": "2024-07-15T11:16:11.109800Z"
    },
    "papermill": {
     "duration": 0.053254,
     "end_time": "2024-07-15T11:16:11.114608",
     "exception": false,
     "start_time": "2024-07-15T11:16:11.061354",
     "status": "completed"
    },
    "tags": []
   },
   "outputs": [
    {
     "data": {
      "text/html": [
       "<div>\n",
       "<style scoped>\n",
       "    .dataframe tbody tr th:only-of-type {\n",
       "        vertical-align: middle;\n",
       "    }\n",
       "\n",
       "    .dataframe tbody tr th {\n",
       "        vertical-align: top;\n",
       "    }\n",
       "\n",
       "    .dataframe thead th {\n",
       "        text-align: right;\n",
       "    }\n",
       "</style>\n",
       "<table border=\"1\" class=\"dataframe\">\n",
       "  <thead>\n",
       "    <tr style=\"text-align: right;\">\n",
       "      <th></th>\n",
       "      <th>location</th>\n",
       "      <th>size</th>\n",
       "      <th>total_sqft</th>\n",
       "      <th>bath</th>\n",
       "      <th>balcony</th>\n",
       "      <th>price</th>\n",
       "      <th>BHK</th>\n",
       "    </tr>\n",
       "  </thead>\n",
       "  <tbody>\n",
       "    <tr>\n",
       "      <th>0</th>\n",
       "      <td>Electronic City Phase II</td>\n",
       "      <td>2 BHK</td>\n",
       "      <td>1056.0</td>\n",
       "      <td>2.0</td>\n",
       "      <td>1.0</td>\n",
       "      <td>39.07</td>\n",
       "      <td>2</td>\n",
       "    </tr>\n",
       "    <tr>\n",
       "      <th>1</th>\n",
       "      <td>Chikka Tirupathi</td>\n",
       "      <td>4 Bedroom</td>\n",
       "      <td>2600.0</td>\n",
       "      <td>5.0</td>\n",
       "      <td>3.0</td>\n",
       "      <td>120.00</td>\n",
       "      <td>4</td>\n",
       "    </tr>\n",
       "    <tr>\n",
       "      <th>2</th>\n",
       "      <td>Uttarahalli</td>\n",
       "      <td>3 BHK</td>\n",
       "      <td>1440.0</td>\n",
       "      <td>2.0</td>\n",
       "      <td>3.0</td>\n",
       "      <td>62.00</td>\n",
       "      <td>3</td>\n",
       "    </tr>\n",
       "    <tr>\n",
       "      <th>3</th>\n",
       "      <td>Lingadheeranahalli</td>\n",
       "      <td>3 BHK</td>\n",
       "      <td>1521.0</td>\n",
       "      <td>3.0</td>\n",
       "      <td>1.0</td>\n",
       "      <td>95.00</td>\n",
       "      <td>3</td>\n",
       "    </tr>\n",
       "    <tr>\n",
       "      <th>4</th>\n",
       "      <td>Kothanur</td>\n",
       "      <td>2 BHK</td>\n",
       "      <td>1200.0</td>\n",
       "      <td>2.0</td>\n",
       "      <td>1.0</td>\n",
       "      <td>51.00</td>\n",
       "      <td>2</td>\n",
       "    </tr>\n",
       "    <tr>\n",
       "      <th>5</th>\n",
       "      <td>Whitefield</td>\n",
       "      <td>2 BHK</td>\n",
       "      <td>1170.0</td>\n",
       "      <td>2.0</td>\n",
       "      <td>1.0</td>\n",
       "      <td>38.00</td>\n",
       "      <td>2</td>\n",
       "    </tr>\n",
       "    <tr>\n",
       "      <th>8</th>\n",
       "      <td>Marathahalli</td>\n",
       "      <td>3 BHK</td>\n",
       "      <td>1310.0</td>\n",
       "      <td>3.0</td>\n",
       "      <td>1.0</td>\n",
       "      <td>63.25</td>\n",
       "      <td>3</td>\n",
       "    </tr>\n",
       "    <tr>\n",
       "      <th>10</th>\n",
       "      <td>Whitefield</td>\n",
       "      <td>3 BHK</td>\n",
       "      <td>1800.0</td>\n",
       "      <td>2.0</td>\n",
       "      <td>2.0</td>\n",
       "      <td>70.00</td>\n",
       "      <td>3</td>\n",
       "    </tr>\n",
       "    <tr>\n",
       "      <th>11</th>\n",
       "      <td>Whitefield</td>\n",
       "      <td>4 Bedroom</td>\n",
       "      <td>2785.0</td>\n",
       "      <td>5.0</td>\n",
       "      <td>3.0</td>\n",
       "      <td>295.00</td>\n",
       "      <td>4</td>\n",
       "    </tr>\n",
       "    <tr>\n",
       "      <th>12</th>\n",
       "      <td>7th Phase JP Nagar</td>\n",
       "      <td>2 BHK</td>\n",
       "      <td>1000.0</td>\n",
       "      <td>2.0</td>\n",
       "      <td>1.0</td>\n",
       "      <td>38.00</td>\n",
       "      <td>2</td>\n",
       "    </tr>\n",
       "  </tbody>\n",
       "</table>\n",
       "</div>"
      ],
      "text/plain": [
       "                    location       size  total_sqft  bath  balcony   price  \\\n",
       "0   Electronic City Phase II      2 BHK      1056.0   2.0      1.0   39.07   \n",
       "1           Chikka Tirupathi  4 Bedroom      2600.0   5.0      3.0  120.00   \n",
       "2                Uttarahalli      3 BHK      1440.0   2.0      3.0   62.00   \n",
       "3         Lingadheeranahalli      3 BHK      1521.0   3.0      1.0   95.00   \n",
       "4                   Kothanur      2 BHK      1200.0   2.0      1.0   51.00   \n",
       "5                 Whitefield      2 BHK      1170.0   2.0      1.0   38.00   \n",
       "8               Marathahalli      3 BHK      1310.0   3.0      1.0   63.25   \n",
       "10                Whitefield      3 BHK      1800.0   2.0      2.0   70.00   \n",
       "11                Whitefield  4 Bedroom      2785.0   5.0      3.0  295.00   \n",
       "12        7th Phase JP Nagar      2 BHK      1000.0   2.0      1.0   38.00   \n",
       "\n",
       "    BHK  \n",
       "0     2  \n",
       "1     4  \n",
       "2     3  \n",
       "3     3  \n",
       "4     2  \n",
       "5     2  \n",
       "8     3  \n",
       "10    3  \n",
       "11    4  \n",
       "12    2  "
      ]
     },
     "execution_count": 21,
     "metadata": {},
     "output_type": "execute_result"
    }
   ],
   "source": [
    "dataset.head(10)"
   ]
  },
  {
   "cell_type": "code",
   "execution_count": 22,
   "id": "d744b144",
   "metadata": {
    "execution": {
     "iopub.execute_input": "2024-07-15T11:16:11.169125Z",
     "iopub.status.busy": "2024-07-15T11:16:11.168682Z",
     "iopub.status.idle": "2024-07-15T11:16:11.178769Z",
     "shell.execute_reply": "2024-07-15T11:16:11.177577Z"
    },
    "papermill": {
     "duration": 0.041497,
     "end_time": "2024-07-15T11:16:11.181339",
     "exception": false,
     "start_time": "2024-07-15T11:16:11.139842",
     "status": "completed"
    },
    "tags": []
   },
   "outputs": [
    {
     "data": {
      "text/plain": [
       "location      Hebbal\n",
       "size           4 BHK\n",
       "total_sqft    5611.5\n",
       "bath             4.0\n",
       "balcony          0.0\n",
       "price          477.0\n",
       "BHK                4\n",
       "Name: 122, dtype: object"
      ]
     },
     "execution_count": 22,
     "metadata": {},
     "output_type": "execute_result"
    }
   ],
   "source": [
    "dataset.loc[122]"
   ]
  },
  {
   "cell_type": "code",
   "execution_count": 23,
   "id": "3e3beeb8",
   "metadata": {
    "execution": {
     "iopub.execute_input": "2024-07-15T11:16:11.234572Z",
     "iopub.status.busy": "2024-07-15T11:16:11.234145Z",
     "iopub.status.idle": "2024-07-15T11:16:11.254127Z",
     "shell.execute_reply": "2024-07-15T11:16:11.252950Z"
    },
    "papermill": {
     "duration": 0.048622,
     "end_time": "2024-07-15T11:16:11.256726",
     "exception": false,
     "start_time": "2024-07-15T11:16:11.208104",
     "status": "completed"
    },
    "tags": []
   },
   "outputs": [
    {
     "data": {
      "text/html": [
       "<div>\n",
       "<style scoped>\n",
       "    .dataframe tbody tr th:only-of-type {\n",
       "        vertical-align: middle;\n",
       "    }\n",
       "\n",
       "    .dataframe tbody tr th {\n",
       "        vertical-align: top;\n",
       "    }\n",
       "\n",
       "    .dataframe thead th {\n",
       "        text-align: right;\n",
       "    }\n",
       "</style>\n",
       "<table border=\"1\" class=\"dataframe\">\n",
       "  <thead>\n",
       "    <tr style=\"text-align: right;\">\n",
       "      <th></th>\n",
       "      <th>location</th>\n",
       "      <th>size</th>\n",
       "      <th>total_sqft</th>\n",
       "      <th>bath</th>\n",
       "      <th>balcony</th>\n",
       "      <th>price</th>\n",
       "      <th>BHK</th>\n",
       "      <th>price_per_sqft</th>\n",
       "    </tr>\n",
       "  </thead>\n",
       "  <tbody>\n",
       "    <tr>\n",
       "      <th>0</th>\n",
       "      <td>Electronic City Phase II</td>\n",
       "      <td>2 BHK</td>\n",
       "      <td>1056.0</td>\n",
       "      <td>2.0</td>\n",
       "      <td>1.0</td>\n",
       "      <td>39.07</td>\n",
       "      <td>2</td>\n",
       "      <td>3699.810606</td>\n",
       "    </tr>\n",
       "    <tr>\n",
       "      <th>1</th>\n",
       "      <td>Chikka Tirupathi</td>\n",
       "      <td>4 Bedroom</td>\n",
       "      <td>2600.0</td>\n",
       "      <td>5.0</td>\n",
       "      <td>3.0</td>\n",
       "      <td>120.00</td>\n",
       "      <td>4</td>\n",
       "      <td>4615.384615</td>\n",
       "    </tr>\n",
       "    <tr>\n",
       "      <th>2</th>\n",
       "      <td>Uttarahalli</td>\n",
       "      <td>3 BHK</td>\n",
       "      <td>1440.0</td>\n",
       "      <td>2.0</td>\n",
       "      <td>3.0</td>\n",
       "      <td>62.00</td>\n",
       "      <td>3</td>\n",
       "      <td>4305.555556</td>\n",
       "    </tr>\n",
       "    <tr>\n",
       "      <th>3</th>\n",
       "      <td>Lingadheeranahalli</td>\n",
       "      <td>3 BHK</td>\n",
       "      <td>1521.0</td>\n",
       "      <td>3.0</td>\n",
       "      <td>1.0</td>\n",
       "      <td>95.00</td>\n",
       "      <td>3</td>\n",
       "      <td>6245.890861</td>\n",
       "    </tr>\n",
       "    <tr>\n",
       "      <th>4</th>\n",
       "      <td>Kothanur</td>\n",
       "      <td>2 BHK</td>\n",
       "      <td>1200.0</td>\n",
       "      <td>2.0</td>\n",
       "      <td>1.0</td>\n",
       "      <td>51.00</td>\n",
       "      <td>2</td>\n",
       "      <td>4250.000000</td>\n",
       "    </tr>\n",
       "  </tbody>\n",
       "</table>\n",
       "</div>"
      ],
      "text/plain": [
       "                   location       size  total_sqft  bath  balcony   price  \\\n",
       "0  Electronic City Phase II      2 BHK      1056.0   2.0      1.0   39.07   \n",
       "1          Chikka Tirupathi  4 Bedroom      2600.0   5.0      3.0  120.00   \n",
       "2               Uttarahalli      3 BHK      1440.0   2.0      3.0   62.00   \n",
       "3        Lingadheeranahalli      3 BHK      1521.0   3.0      1.0   95.00   \n",
       "4                  Kothanur      2 BHK      1200.0   2.0      1.0   51.00   \n",
       "\n",
       "   BHK  price_per_sqft  \n",
       "0    2     3699.810606  \n",
       "1    4     4615.384615  \n",
       "2    3     4305.555556  \n",
       "3    3     6245.890861  \n",
       "4    2     4250.000000  "
      ]
     },
     "execution_count": 23,
     "metadata": {},
     "output_type": "execute_result"
    }
   ],
   "source": [
    "dataset['price_per_sqft'] = dataset['price']*100000/dataset['total_sqft']\n",
    "dataset.head()"
   ]
  },
  {
   "cell_type": "markdown",
   "id": "3d47f9c4",
   "metadata": {
    "papermill": {
     "duration": 0.024383,
     "end_time": "2024-07-15T11:16:11.306387",
     "exception": false,
     "start_time": "2024-07-15T11:16:11.282004",
     "status": "completed"
    },
    "tags": []
   },
   "source": [
    "**Outlier Removal**"
   ]
  },
  {
   "cell_type": "code",
   "execution_count": 24,
   "id": "4d7efcea",
   "metadata": {
    "execution": {
     "iopub.execute_input": "2024-07-15T11:16:11.359667Z",
     "iopub.status.busy": "2024-07-15T11:16:11.359269Z",
     "iopub.status.idle": "2024-07-15T11:16:11.384534Z",
     "shell.execute_reply": "2024-07-15T11:16:11.382959Z"
    },
    "papermill": {
     "duration": 0.057103,
     "end_time": "2024-07-15T11:16:11.388248",
     "exception": false,
     "start_time": "2024-07-15T11:16:11.331145",
     "status": "completed"
    },
    "tags": []
   },
   "outputs": [
    {
     "data": {
      "text/html": [
       "<div>\n",
       "<style scoped>\n",
       "    .dataframe tbody tr th:only-of-type {\n",
       "        vertical-align: middle;\n",
       "    }\n",
       "\n",
       "    .dataframe tbody tr th {\n",
       "        vertical-align: top;\n",
       "    }\n",
       "\n",
       "    .dataframe thead th {\n",
       "        text-align: right;\n",
       "    }\n",
       "</style>\n",
       "<table border=\"1\" class=\"dataframe\">\n",
       "  <thead>\n",
       "    <tr style=\"text-align: right;\">\n",
       "      <th></th>\n",
       "      <th>location</th>\n",
       "      <th>size</th>\n",
       "      <th>total_sqft</th>\n",
       "      <th>bath</th>\n",
       "      <th>balcony</th>\n",
       "      <th>price</th>\n",
       "      <th>BHK</th>\n",
       "      <th>price_per_sqft</th>\n",
       "    </tr>\n",
       "  </thead>\n",
       "  <tbody>\n",
       "    <tr>\n",
       "      <th>58</th>\n",
       "      <td>Murugeshpalya</td>\n",
       "      <td>6 Bedroom</td>\n",
       "      <td>1407.0</td>\n",
       "      <td>4.0</td>\n",
       "      <td>1.0</td>\n",
       "      <td>150.0</td>\n",
       "      <td>6</td>\n",
       "      <td>10660.980810</td>\n",
       "    </tr>\n",
       "    <tr>\n",
       "      <th>68</th>\n",
       "      <td>Devarachikkanahalli</td>\n",
       "      <td>8 Bedroom</td>\n",
       "      <td>1350.0</td>\n",
       "      <td>7.0</td>\n",
       "      <td>0.0</td>\n",
       "      <td>85.0</td>\n",
       "      <td>8</td>\n",
       "      <td>6296.296296</td>\n",
       "    </tr>\n",
       "    <tr>\n",
       "      <th>70</th>\n",
       "      <td>Double Road</td>\n",
       "      <td>3 Bedroom</td>\n",
       "      <td>500.0</td>\n",
       "      <td>3.0</td>\n",
       "      <td>2.0</td>\n",
       "      <td>100.0</td>\n",
       "      <td>3</td>\n",
       "      <td>20000.000000</td>\n",
       "    </tr>\n",
       "    <tr>\n",
       "      <th>78</th>\n",
       "      <td>Kaval Byrasandra</td>\n",
       "      <td>2 BHK</td>\n",
       "      <td>460.0</td>\n",
       "      <td>1.0</td>\n",
       "      <td>0.0</td>\n",
       "      <td>22.0</td>\n",
       "      <td>2</td>\n",
       "      <td>4782.608696</td>\n",
       "    </tr>\n",
       "    <tr>\n",
       "      <th>89</th>\n",
       "      <td>Rajaji Nagar</td>\n",
       "      <td>6 Bedroom</td>\n",
       "      <td>710.0</td>\n",
       "      <td>6.0</td>\n",
       "      <td>3.0</td>\n",
       "      <td>160.0</td>\n",
       "      <td>6</td>\n",
       "      <td>22535.211268</td>\n",
       "    </tr>\n",
       "  </tbody>\n",
       "</table>\n",
       "</div>"
      ],
      "text/plain": [
       "               location       size  total_sqft  bath  balcony  price  BHK  \\\n",
       "58        Murugeshpalya  6 Bedroom      1407.0   4.0      1.0  150.0    6   \n",
       "68  Devarachikkanahalli  8 Bedroom      1350.0   7.0      0.0   85.0    8   \n",
       "70          Double Road  3 Bedroom       500.0   3.0      2.0  100.0    3   \n",
       "78     Kaval Byrasandra      2 BHK       460.0   1.0      0.0   22.0    2   \n",
       "89         Rajaji Nagar  6 Bedroom       710.0   6.0      3.0  160.0    6   \n",
       "\n",
       "    price_per_sqft  \n",
       "58    10660.980810  \n",
       "68     6296.296296  \n",
       "70    20000.000000  \n",
       "78     4782.608696  \n",
       "89    22535.211268  "
      ]
     },
     "execution_count": 24,
     "metadata": {},
     "output_type": "execute_result"
    }
   ],
   "source": [
    "dataset[dataset.total_sqft/dataset.BHK<300].head()"
   ]
  },
  {
   "cell_type": "code",
   "execution_count": 25,
   "id": "ecaae07b",
   "metadata": {
    "execution": {
     "iopub.execute_input": "2024-07-15T11:16:11.448579Z",
     "iopub.status.busy": "2024-07-15T11:16:11.448179Z",
     "iopub.status.idle": "2024-07-15T11:16:11.456300Z",
     "shell.execute_reply": "2024-07-15T11:16:11.455018Z"
    },
    "papermill": {
     "duration": 0.041372,
     "end_time": "2024-07-15T11:16:11.458953",
     "exception": false,
     "start_time": "2024-07-15T11:16:11.417581",
     "status": "completed"
    },
    "tags": []
   },
   "outputs": [
    {
     "data": {
      "text/plain": [
       "(12710, 8)"
      ]
     },
     "execution_count": 25,
     "metadata": {},
     "output_type": "execute_result"
    }
   ],
   "source": [
    "dataset.shape"
   ]
  },
  {
   "cell_type": "code",
   "execution_count": 26,
   "id": "52d49133",
   "metadata": {
    "execution": {
     "iopub.execute_input": "2024-07-15T11:16:11.513131Z",
     "iopub.status.busy": "2024-07-15T11:16:11.512694Z",
     "iopub.status.idle": "2024-07-15T11:16:11.524803Z",
     "shell.execute_reply": "2024-07-15T11:16:11.523477Z"
    },
    "papermill": {
     "duration": 0.042929,
     "end_time": "2024-07-15T11:16:11.528059",
     "exception": false,
     "start_time": "2024-07-15T11:16:11.485130",
     "status": "completed"
    },
    "tags": []
   },
   "outputs": [
    {
     "data": {
      "text/plain": [
       "(12055, 8)"
      ]
     },
     "execution_count": 26,
     "metadata": {},
     "output_type": "execute_result"
    }
   ],
   "source": [
    "dataset = dataset[~(dataset.total_sqft/dataset.BHK<300)]\n",
    "dataset.shape"
   ]
  },
  {
   "cell_type": "code",
   "execution_count": 27,
   "id": "ebd03a7f",
   "metadata": {
    "execution": {
     "iopub.execute_input": "2024-07-15T11:16:11.583983Z",
     "iopub.status.busy": "2024-07-15T11:16:11.583541Z",
     "iopub.status.idle": "2024-07-15T11:16:11.596309Z",
     "shell.execute_reply": "2024-07-15T11:16:11.595151Z"
    },
    "papermill": {
     "duration": 0.043271,
     "end_time": "2024-07-15T11:16:11.599129",
     "exception": false,
     "start_time": "2024-07-15T11:16:11.555858",
     "status": "completed"
    },
    "tags": []
   },
   "outputs": [
    {
     "data": {
      "text/plain": [
       "count     12013.000000\n",
       "mean       6206.082347\n",
       "std        3985.518807\n",
       "min         267.829813\n",
       "25%        4199.363057\n",
       "50%        5252.525253\n",
       "75%        6823.529412\n",
       "max      176470.588235\n",
       "Name: price_per_sqft, dtype: float64"
      ]
     },
     "execution_count": 27,
     "metadata": {},
     "output_type": "execute_result"
    }
   ],
   "source": [
    "dataset.price_per_sqft.describe()"
   ]
  },
  {
   "cell_type": "markdown",
   "id": "bcfa3d87",
   "metadata": {
    "papermill": {
     "duration": 0.025471,
     "end_time": "2024-07-15T11:16:11.650132",
     "exception": false,
     "start_time": "2024-07-15T11:16:11.624661",
     "status": "completed"
    },
    "tags": []
   },
   "source": [
    "*Here we find that min price per sqft is 267 rs/sqft whereas max is 12000000, this shows a wide variation in property prices. We should remove outliers per location using mean and one standard deviation*"
   ]
  },
  {
   "cell_type": "code",
   "execution_count": 28,
   "id": "77277be8",
   "metadata": {
    "execution": {
     "iopub.execute_input": "2024-07-15T11:16:11.705125Z",
     "iopub.status.busy": "2024-07-15T11:16:11.704678Z",
     "iopub.status.idle": "2024-07-15T11:16:13.723813Z",
     "shell.execute_reply": "2024-07-15T11:16:13.722436Z"
    },
    "papermill": {
     "duration": 2.049318,
     "end_time": "2024-07-15T11:16:13.726826",
     "exception": false,
     "start_time": "2024-07-15T11:16:11.677508",
     "status": "completed"
    },
    "tags": []
   },
   "outputs": [
    {
     "data": {
      "text/plain": [
       "(8904, 8)"
      ]
     },
     "execution_count": 28,
     "metadata": {},
     "output_type": "execute_result"
    }
   ],
   "source": [
    "def remove_pps_outliers(df):\n",
    "    df_out = pd.DataFrame()\n",
    "    for key, subdf in df.groupby('location'):\n",
    "        m = np.mean(subdf.price_per_sqft)\n",
    "        st = np.std(subdf.price_per_sqft)\n",
    "        reduced_df = subdf[(subdf.price_per_sqft>(m-st)) & (subdf.price_per_sqft<=(m+st))]\n",
    "        df_out = pd.concat([df_out,reduced_df],ignore_index=True)\n",
    "    return df_out\n",
    "dataset = remove_pps_outliers(dataset)\n",
    "dataset.shape"
   ]
  },
  {
   "cell_type": "markdown",
   "id": "5bda29d0",
   "metadata": {
    "papermill": {
     "duration": 0.02956,
     "end_time": "2024-07-15T11:16:13.786561",
     "exception": false,
     "start_time": "2024-07-15T11:16:13.757001",
     "status": "completed"
    },
    "tags": []
   },
   "source": [
    "*Let's check if for a given location how does the 2 BHK and 3 BHK property prices look like*"
   ]
  },
  {
   "cell_type": "code",
   "execution_count": 29,
   "id": "26540bf1",
   "metadata": {
    "execution": {
     "iopub.execute_input": "2024-07-15T11:16:13.843130Z",
     "iopub.status.busy": "2024-07-15T11:16:13.842673Z",
     "iopub.status.idle": "2024-07-15T11:16:14.404162Z",
     "shell.execute_reply": "2024-07-15T11:16:14.402358Z"
    },
    "papermill": {
     "duration": 0.592458,
     "end_time": "2024-07-15T11:16:14.407178",
     "exception": false,
     "start_time": "2024-07-15T11:16:13.814720",
     "status": "completed"
    },
    "tags": []
   },
   "outputs": [
    {
     "data": {
      "image/png": "[encoded data removed]",
      "text/plain": [
       "<Figure size 1500x1000 with 1 Axes>"
      ]
     },
     "metadata": {},
     "output_type": "display_data"
    }
   ],
   "source": [
    "import matplotlib\n",
    "matplotlib.rcParams[\"figure.figsize\"] = (20,10)\n",
    "def plot_scatter_chart(df,location):\n",
    "    bhk2 = dataset[(dataset.location==location) & (dataset.BHK==2)]\n",
    "    bhk3 = dataset[(dataset.location==location) & (dataset.BHK==3)]\n",
    "    matplotlib.rcParams['figure.figsize'] = (15,10)\n",
    "    plt.scatter(bhk2.total_sqft,bhk2.price,color='blue',label='2 BHK', s=50)\n",
    "    plt.scatter(bhk3.total_sqft,bhk3.price,marker='+', color='green',label='3 BHK', s=50)\n",
    "    plt.xlabel(\"Total Square Feet Area\")\n",
    "    plt.ylabel(\"Price (in Lakh Rupees)\")\n",
    "    plt.title(location)\n",
    "    plt.legend()\n",
    "    \n",
    "plot_scatter_chart(dataset,\"Rajaji Nagar\")"
   ]
  },
  {
   "cell_type": "code",
   "execution_count": 30,
   "id": "550dcbd8",
   "metadata": {
    "execution": {
     "iopub.execute_input": "2024-07-15T11:16:14.465051Z",
     "iopub.status.busy": "2024-07-15T11:16:14.463739Z",
     "iopub.status.idle": "2024-07-15T11:16:14.946200Z",
     "shell.execute_reply": "2024-07-15T11:16:14.944697Z"
    },
    "papermill": {
     "duration": 0.515318,
     "end_time": "2024-07-15T11:16:14.949435",
     "exception": false,
     "start_time": "2024-07-15T11:16:14.434117",
     "status": "completed"
    },
    "tags": []
   },
   "outputs": [
    {
     "data": {
      "image/png": "[encoded data removed]",
      "text/plain": [
       "<Figure size 1500x1000 with 1 Axes>"
      ]
     },
     "metadata": {},
     "output_type": "display_data"
    }
   ],
   "source": [
    "plot_scatter_chart(dataset,\"Hebbal\")"
   ]
  },
  {
   "cell_type": "markdown",
   "id": "d97a4dd4",
   "metadata": {
    "papermill": {
     "duration": 0.026955,
     "end_time": "2024-07-15T11:16:15.004993",
     "exception": false,
     "start_time": "2024-07-15T11:16:14.978038",
     "status": "completed"
    },
    "tags": []
   },
   "source": [
    "**We should also remove properties where for same location, the price of (for example) 3 bedroom apartment is less than 2 bedroom apartment (with same square ft area). What we will do is for a given location, we will build a dictionary of stats per bhk, i.e.**"
   ]
  },
  {
   "cell_type": "markdown",
   "id": "a90bf6b5",
   "metadata": {
    "papermill": {
     "duration": 0.026602,
     "end_time": "2024-07-15T11:16:15.058802",
     "exception": false,
     "start_time": "2024-07-15T11:16:15.032200",
     "status": "completed"
    },
    "tags": []
   },
   "source": [
    "*{\n",
    "    '1' : {\n",
    "        'mean': 4000,\n",
    "        'std: 2000,\n",
    "        'count': 34\n",
    "    },\n",
    "    '2' : {\n",
    "        'mean': 4300,\n",
    "        'std: 2300,\n",
    "        'count': 22\n",
    "    },    \n",
    "}*"
   ]
  },
  {
   "cell_type": "markdown",
   "id": "124e6e82",
   "metadata": {
    "papermill": {
     "duration": 0.027272,
     "end_time": "2024-07-15T11:16:15.113273",
     "exception": false,
     "start_time": "2024-07-15T11:16:15.086001",
     "status": "completed"
    },
    "tags": []
   },
   "source": [
    "**Now we can remove those 2 BHK apartments whose price_per_sqft is less than mean price_per_sqft of 1 BHK apartment**"
   ]
  },
  {
   "cell_type": "code",
   "execution_count": 31,
   "id": "7674de1e",
   "metadata": {
    "execution": {
     "iopub.execute_input": "2024-07-15T11:16:15.171039Z",
     "iopub.status.busy": "2024-07-15T11:16:15.170567Z",
     "iopub.status.idle": "2024-07-15T11:16:16.661021Z",
     "shell.execute_reply": "2024-07-15T11:16:16.659886Z"
    },
    "papermill": {
     "duration": 1.522945,
     "end_time": "2024-07-15T11:16:16.663793",
     "exception": false,
     "start_time": "2024-07-15T11:16:15.140848",
     "status": "completed"
    },
    "tags": []
   },
   "outputs": [
    {
     "data": {
      "text/plain": [
       "(7203, 8)"
      ]
     },
     "execution_count": 31,
     "metadata": {},
     "output_type": "execute_result"
    }
   ],
   "source": [
    "def remove_bhk_outliers(df):\n",
    "    exclude_indices = np.array([])\n",
    "    for location, location_df in df.groupby('location'):\n",
    "        bhk_stats = {}\n",
    "        for bhk, bhk_df in location_df.groupby('BHK'):\n",
    "            bhk_stats[bhk] = {\n",
    "                'mean': np.mean(bhk_df.price_per_sqft),\n",
    "                'std': np.std(bhk_df.price_per_sqft),\n",
    "                'count': bhk_df.shape[0]\n",
    "            }\n",
    "        for bhk, bhk_df in location_df.groupby('BHK'):\n",
    "            stats = bhk_stats.get(bhk-1)\n",
    "            if stats and stats['count']>5:\n",
    "                exclude_indices = np.append(exclude_indices, bhk_df[bhk_df.price_per_sqft<(stats['mean'])].index.values)\n",
    "    return df.drop(exclude_indices,axis='index')\n",
    "dataset = remove_bhk_outliers(dataset)\n",
    "dataset.shape"
   ]
  },
  {
   "cell_type": "code",
   "execution_count": 32,
   "id": "b4a2c620",
   "metadata": {
    "execution": {
     "iopub.execute_input": "2024-07-15T11:16:16.721492Z",
     "iopub.status.busy": "2024-07-15T11:16:16.721083Z",
     "iopub.status.idle": "2024-07-15T11:16:17.176619Z",
     "shell.execute_reply": "2024-07-15T11:16:17.175294Z"
    },
    "papermill": {
     "duration": 0.488184,
     "end_time": "2024-07-15T11:16:17.179606",
     "exception": false,
     "start_time": "2024-07-15T11:16:16.691422",
     "status": "completed"
    },
    "tags": []
   },
   "outputs": [
    {
     "data": {
      "image/png": "[encoded data removed]",
      "text/plain": [
       "<Figure size 1500x1000 with 1 Axes>"
      ]
     },
     "metadata": {},
     "output_type": "display_data"
    }
   ],
   "source": [
    "plot_scatter_chart(dataset,\"Rajaji Nagar\")"
   ]
  },
  {
   "cell_type": "code",
   "execution_count": 33,
   "id": "27c1f30c",
   "metadata": {
    "execution": {
     "iopub.execute_input": "2024-07-15T11:16:17.237775Z",
     "iopub.status.busy": "2024-07-15T11:16:17.237403Z",
     "iopub.status.idle": "2024-07-15T11:16:17.660316Z",
     "shell.execute_reply": "2024-07-15T11:16:17.658850Z"
    },
    "papermill": {
     "duration": 0.45508,
     "end_time": "2024-07-15T11:16:17.663081",
     "exception": false,
     "start_time": "2024-07-15T11:16:17.208001",
     "status": "completed"
    },
    "tags": []
   },
   "outputs": [
    {
     "data": {
      "image/png": "[encoded data removed]",
      "text/plain": [
       "<Figure size 1500x1000 with 1 Axes>"
      ]
     },
     "metadata": {},
     "output_type": "display_data"
    }
   ],
   "source": [
    "plot_scatter_chart(dataset,\"Hebbal\")"
   ]
  },
  {
   "cell_type": "code",
   "execution_count": 34,
   "id": "3710a809",
   "metadata": {
    "execution": {
     "iopub.execute_input": "2024-07-15T11:16:17.727771Z",
     "iopub.status.busy": "2024-07-15T11:16:17.727351Z",
     "iopub.status.idle": "2024-07-15T11:16:18.097125Z",
     "shell.execute_reply": "2024-07-15T11:16:18.095776Z"
    },
    "papermill": {
     "duration": 0.406367,
     "end_time": "2024-07-15T11:16:18.099831",
     "exception": false,
     "start_time": "2024-07-15T11:16:17.693464",
     "status": "completed"
    },
    "tags": []
   },
   "outputs": [
    {
     "data": {
      "text/plain": [
       "Text(0, 0.5, 'Count')"
      ]
     },
     "execution_count": 34,
     "metadata": {},
     "output_type": "execute_result"
    },
    {
     "data": {
      "image/png": "[encoded data removed]",
      "text/plain": [
       "<Figure size 2000x1000 with 1 Axes>"
      ]
     },
     "metadata": {},
     "output_type": "display_data"
    }
   ],
   "source": [
    "import matplotlib\n",
    "matplotlib.rcParams[\"figure.figsize\"] = (20,10)\n",
    "plt.hist(dataset.price_per_sqft,rwidth=0.8)\n",
    "plt.xlabel(\"Price Per Square Feet\")\n",
    "plt.ylabel(\"Count\")"
   ]
  },
  {
   "cell_type": "code",
   "execution_count": 35,
   "id": "f2461c3c",
   "metadata": {
    "execution": {
     "iopub.execute_input": "2024-07-15T11:16:18.161492Z",
     "iopub.status.busy": "2024-07-15T11:16:18.160838Z",
     "iopub.status.idle": "2024-07-15T11:16:18.170185Z",
     "shell.execute_reply": "2024-07-15T11:16:18.168908Z"
    },
    "papermill": {
     "duration": 0.044091,
     "end_time": "2024-07-15T11:16:18.173091",
     "exception": false,
     "start_time": "2024-07-15T11:16:18.129000",
     "status": "completed"
    },
    "tags": []
   },
   "outputs": [
    {
     "data": {
      "text/plain": [
       "array([3., 2., 1., 4., 5., 8., 6., 7., 9.])"
      ]
     },
     "execution_count": 35,
     "metadata": {},
     "output_type": "execute_result"
    }
   ],
   "source": [
    "dataset.bath.unique()"
   ]
  },
  {
   "cell_type": "code",
   "execution_count": 36,
   "id": "70cede21",
   "metadata": {
    "execution": {
     "iopub.execute_input": "2024-07-15T11:16:18.236839Z",
     "iopub.status.busy": "2024-07-15T11:16:18.236374Z",
     "iopub.status.idle": "2024-07-15T11:16:18.638446Z",
     "shell.execute_reply": "2024-07-15T11:16:18.637193Z"
    },
    "papermill": {
     "duration": 0.437183,
     "end_time": "2024-07-15T11:16:18.641200",
     "exception": false,
     "start_time": "2024-07-15T11:16:18.204017",
     "status": "completed"
    },
    "tags": []
   },
   "outputs": [
    {
     "data": {
      "text/plain": [
       "Text(0, 0.5, 'Count')"
      ]
     },
     "execution_count": 36,
     "metadata": {},
     "output_type": "execute_result"
    },
    {
     "data": {
      "image/png": "[encoded data removed]",
      "text/plain": [
       "<Figure size 2000x1000 with 1 Axes>"
      ]
     },
     "metadata": {},
     "output_type": "display_data"
    }
   ],
   "source": [
    "plt.hist(dataset.bath,rwidth=0.8)\n",
    "plt.xlabel(\"Number of bathrooms\")\n",
    "plt.ylabel(\"Count\")"
   ]
  },
  {
   "cell_type": "code",
   "execution_count": 37,
   "id": "372d72a9",
   "metadata": {
    "execution": {
     "iopub.execute_input": "2024-07-15T11:16:18.704599Z",
     "iopub.status.busy": "2024-07-15T11:16:18.704182Z",
     "iopub.status.idle": "2024-07-15T11:16:18.722208Z",
     "shell.execute_reply": "2024-07-15T11:16:18.721022Z"
    },
    "papermill": {
     "duration": 0.052722,
     "end_time": "2024-07-15T11:16:18.724993",
     "exception": false,
     "start_time": "2024-07-15T11:16:18.672271",
     "status": "completed"
    },
    "tags": []
   },
   "outputs": [
    {
     "data": {
      "text/html": [
       "<div>\n",
       "<style scoped>\n",
       "    .dataframe tbody tr th:only-of-type {\n",
       "        vertical-align: middle;\n",
       "    }\n",
       "\n",
       "    .dataframe tbody tr th {\n",
       "        vertical-align: top;\n",
       "    }\n",
       "\n",
       "    .dataframe thead th {\n",
       "        text-align: right;\n",
       "    }\n",
       "</style>\n",
       "<table border=\"1\" class=\"dataframe\">\n",
       "  <thead>\n",
       "    <tr style=\"text-align: right;\">\n",
       "      <th></th>\n",
       "      <th>location</th>\n",
       "      <th>size</th>\n",
       "      <th>total_sqft</th>\n",
       "      <th>bath</th>\n",
       "      <th>balcony</th>\n",
       "      <th>price</th>\n",
       "      <th>BHK</th>\n",
       "      <th>price_per_sqft</th>\n",
       "    </tr>\n",
       "  </thead>\n",
       "  <tbody>\n",
       "    <tr>\n",
       "      <th>1878</th>\n",
       "      <td>Chikkabanavar</td>\n",
       "      <td>4 Bedroom</td>\n",
       "      <td>2460.0</td>\n",
       "      <td>7.0</td>\n",
       "      <td>2.0</td>\n",
       "      <td>80.0</td>\n",
       "      <td>4</td>\n",
       "      <td>3252.032520</td>\n",
       "    </tr>\n",
       "    <tr>\n",
       "      <th>7120</th>\n",
       "      <td>Sathya Sai Layout</td>\n",
       "      <td>6 BHK</td>\n",
       "      <td>11338.0</td>\n",
       "      <td>9.0</td>\n",
       "      <td>1.0</td>\n",
       "      <td>1000.0</td>\n",
       "      <td>6</td>\n",
       "      <td>8819.897689</td>\n",
       "    </tr>\n",
       "    <tr>\n",
       "      <th>7589</th>\n",
       "      <td>Thanisandra</td>\n",
       "      <td>3 BHK</td>\n",
       "      <td>1806.0</td>\n",
       "      <td>6.0</td>\n",
       "      <td>2.0</td>\n",
       "      <td>116.0</td>\n",
       "      <td>3</td>\n",
       "      <td>6423.034330</td>\n",
       "    </tr>\n",
       "  </tbody>\n",
       "</table>\n",
       "</div>"
      ],
      "text/plain": [
       "               location       size  total_sqft  bath  balcony   price  BHK  \\\n",
       "1878      Chikkabanavar  4 Bedroom      2460.0   7.0      2.0    80.0    4   \n",
       "7120  Sathya Sai Layout      6 BHK     11338.0   9.0      1.0  1000.0    6   \n",
       "7589        Thanisandra      3 BHK      1806.0   6.0      2.0   116.0    3   \n",
       "\n",
       "      price_per_sqft  \n",
       "1878     3252.032520  \n",
       "7120     8819.897689  \n",
       "7589     6423.034330  "
      ]
     },
     "execution_count": 37,
     "metadata": {},
     "output_type": "execute_result"
    }
   ],
   "source": [
    "dataset[dataset.bath>dataset.BHK+2]"
   ]
  },
  {
   "cell_type": "markdown",
   "id": "03123ae7",
   "metadata": {
    "papermill": {
     "duration": 0.030079,
     "end_time": "2024-07-15T11:16:18.785588",
     "exception": false,
     "start_time": "2024-07-15T11:16:18.755509",
     "status": "completed"
    },
    "tags": []
   },
   "source": [
    "**Again the business manager has a conversation with you (i.e. a data scientist) that if you have 4 bedroom home and even if you have bathroom in all 4 rooms plus one guest bathroom, you will have total bath = total bed + 1 max. Anything above that is an outlier or a data error and can be removed**"
   ]
  },
  {
   "cell_type": "code",
   "execution_count": 38,
   "id": "78ec2859",
   "metadata": {
    "execution": {
     "iopub.execute_input": "2024-07-15T11:16:18.848768Z",
     "iopub.status.busy": "2024-07-15T11:16:18.848369Z",
     "iopub.status.idle": "2024-07-15T11:16:18.869987Z",
     "shell.execute_reply": "2024-07-15T11:16:18.868804Z"
    },
    "papermill": {
     "duration": 0.056005,
     "end_time": "2024-07-15T11:16:18.872663",
     "exception": false,
     "start_time": "2024-07-15T11:16:18.816658",
     "status": "completed"
    },
    "tags": []
   },
   "outputs": [
    {
     "data": {
      "text/html": [
       "<div>\n",
       "<style scoped>\n",
       "    .dataframe tbody tr th:only-of-type {\n",
       "        vertical-align: middle;\n",
       "    }\n",
       "\n",
       "    .dataframe tbody tr th {\n",
       "        vertical-align: top;\n",
       "    }\n",
       "\n",
       "    .dataframe thead th {\n",
       "        text-align: right;\n",
       "    }\n",
       "</style>\n",
       "<table border=\"1\" class=\"dataframe\">\n",
       "  <thead>\n",
       "    <tr style=\"text-align: right;\">\n",
       "      <th></th>\n",
       "      <th>location</th>\n",
       "      <th>size</th>\n",
       "      <th>total_sqft</th>\n",
       "      <th>bath</th>\n",
       "      <th>balcony</th>\n",
       "      <th>price</th>\n",
       "      <th>BHK</th>\n",
       "      <th>price_per_sqft</th>\n",
       "    </tr>\n",
       "  </thead>\n",
       "  <tbody>\n",
       "    <tr>\n",
       "      <th>0</th>\n",
       "      <td>Devarabeesana Halli</td>\n",
       "      <td>3 BHK</td>\n",
       "      <td>1672.0</td>\n",
       "      <td>3.0</td>\n",
       "      <td>2.0</td>\n",
       "      <td>150.0</td>\n",
       "      <td>3</td>\n",
       "      <td>8971.291866</td>\n",
       "    </tr>\n",
       "    <tr>\n",
       "      <th>1</th>\n",
       "      <td>Devarabeesana Halli</td>\n",
       "      <td>3 BHK</td>\n",
       "      <td>1750.0</td>\n",
       "      <td>3.0</td>\n",
       "      <td>3.0</td>\n",
       "      <td>149.0</td>\n",
       "      <td>3</td>\n",
       "      <td>8514.285714</td>\n",
       "    </tr>\n",
       "    <tr>\n",
       "      <th>2</th>\n",
       "      <td>Devarabeesana Halli</td>\n",
       "      <td>3 BHK</td>\n",
       "      <td>1750.0</td>\n",
       "      <td>3.0</td>\n",
       "      <td>2.0</td>\n",
       "      <td>150.0</td>\n",
       "      <td>3</td>\n",
       "      <td>8571.428571</td>\n",
       "    </tr>\n",
       "    <tr>\n",
       "      <th>4</th>\n",
       "      <td>Devarachikkanahalli</td>\n",
       "      <td>2 BHK</td>\n",
       "      <td>1250.0</td>\n",
       "      <td>2.0</td>\n",
       "      <td>2.0</td>\n",
       "      <td>40.0</td>\n",
       "      <td>2</td>\n",
       "      <td>3200.000000</td>\n",
       "    </tr>\n",
       "    <tr>\n",
       "      <th>5</th>\n",
       "      <td>Devarachikkanahalli</td>\n",
       "      <td>2 Bedroom</td>\n",
       "      <td>1200.0</td>\n",
       "      <td>2.0</td>\n",
       "      <td>2.0</td>\n",
       "      <td>83.0</td>\n",
       "      <td>2</td>\n",
       "      <td>6916.666667</td>\n",
       "    </tr>\n",
       "  </tbody>\n",
       "</table>\n",
       "</div>"
      ],
      "text/plain": [
       "               location       size  total_sqft  bath  balcony  price  BHK  \\\n",
       "0   Devarabeesana Halli      3 BHK      1672.0   3.0      2.0  150.0    3   \n",
       "1   Devarabeesana Halli      3 BHK      1750.0   3.0      3.0  149.0    3   \n",
       "2   Devarabeesana Halli      3 BHK      1750.0   3.0      2.0  150.0    3   \n",
       "4   Devarachikkanahalli      2 BHK      1250.0   2.0      2.0   40.0    2   \n",
       "5   Devarachikkanahalli  2 Bedroom      1200.0   2.0      2.0   83.0    2   \n",
       "\n",
       "   price_per_sqft  \n",
       "0     8971.291866  \n",
       "1     8514.285714  \n",
       "2     8571.428571  \n",
       "4     3200.000000  \n",
       "5     6916.666667  "
      ]
     },
     "execution_count": 38,
     "metadata": {},
     "output_type": "execute_result"
    }
   ],
   "source": [
    "dataset[dataset.bath<dataset.BHK+2].head()"
   ]
  },
  {
   "cell_type": "code",
   "execution_count": 39,
   "id": "e8bfe03e",
   "metadata": {
    "execution": {
     "iopub.execute_input": "2024-07-15T11:16:18.938516Z",
     "iopub.status.busy": "2024-07-15T11:16:18.938115Z",
     "iopub.status.idle": "2024-07-15T11:16:18.956719Z",
     "shell.execute_reply": "2024-07-15T11:16:18.955278Z"
    },
    "papermill": {
     "duration": 0.054278,
     "end_time": "2024-07-15T11:16:18.959557",
     "exception": false,
     "start_time": "2024-07-15T11:16:18.905279",
     "status": "completed"
    },
    "tags": []
   },
   "outputs": [
    {
     "data": {
      "text/html": [
       "<div>\n",
       "<style scoped>\n",
       "    .dataframe tbody tr th:only-of-type {\n",
       "        vertical-align: middle;\n",
       "    }\n",
       "\n",
       "    .dataframe tbody tr th {\n",
       "        vertical-align: top;\n",
       "    }\n",
       "\n",
       "    .dataframe thead th {\n",
       "        text-align: right;\n",
       "    }\n",
       "</style>\n",
       "<table border=\"1\" class=\"dataframe\">\n",
       "  <thead>\n",
       "    <tr style=\"text-align: right;\">\n",
       "      <th></th>\n",
       "      <th>location</th>\n",
       "      <th>total_sqft</th>\n",
       "      <th>bath</th>\n",
       "      <th>balcony</th>\n",
       "      <th>price</th>\n",
       "      <th>BHK</th>\n",
       "    </tr>\n",
       "  </thead>\n",
       "  <tbody>\n",
       "    <tr>\n",
       "      <th>0</th>\n",
       "      <td>Devarabeesana Halli</td>\n",
       "      <td>1672.0</td>\n",
       "      <td>3.0</td>\n",
       "      <td>2.0</td>\n",
       "      <td>150.0</td>\n",
       "      <td>3</td>\n",
       "    </tr>\n",
       "    <tr>\n",
       "      <th>1</th>\n",
       "      <td>Devarabeesana Halli</td>\n",
       "      <td>1750.0</td>\n",
       "      <td>3.0</td>\n",
       "      <td>3.0</td>\n",
       "      <td>149.0</td>\n",
       "      <td>3</td>\n",
       "    </tr>\n",
       "    <tr>\n",
       "      <th>2</th>\n",
       "      <td>Devarabeesana Halli</td>\n",
       "      <td>1750.0</td>\n",
       "      <td>3.0</td>\n",
       "      <td>2.0</td>\n",
       "      <td>150.0</td>\n",
       "      <td>3</td>\n",
       "    </tr>\n",
       "  </tbody>\n",
       "</table>\n",
       "</div>"
      ],
      "text/plain": [
       "               location  total_sqft  bath  balcony  price  BHK\n",
       "0   Devarabeesana Halli      1672.0   3.0      2.0  150.0    3\n",
       "1   Devarabeesana Halli      1750.0   3.0      3.0  149.0    3\n",
       "2   Devarabeesana Halli      1750.0   3.0      2.0  150.0    3"
      ]
     },
     "execution_count": 39,
     "metadata": {},
     "output_type": "execute_result"
    }
   ],
   "source": [
    "dataset = dataset.drop(['size','price_per_sqft'],axis='columns')\n",
    "dataset.head(3)"
   ]
  },
  {
   "cell_type": "markdown",
   "id": "b6f54496",
   "metadata": {
    "papermill": {
     "duration": 0.032695,
     "end_time": "2024-07-15T11:16:19.023530",
     "exception": false,
     "start_time": "2024-07-15T11:16:18.990835",
     "status": "completed"
    },
    "tags": []
   },
   "source": [
    "**Use One Hot Encoding For Location**"
   ]
  },
  {
   "cell_type": "code",
   "execution_count": 40,
   "id": "e51b0de5",
   "metadata": {
    "execution": {
     "iopub.execute_input": "2024-07-15T11:16:19.092021Z",
     "iopub.status.busy": "2024-07-15T11:16:19.091551Z",
     "iopub.status.idle": "2024-07-15T11:16:19.119124Z",
     "shell.execute_reply": "2024-07-15T11:16:19.117831Z"
    },
    "papermill": {
     "duration": 0.064818,
     "end_time": "2024-07-15T11:16:19.122128",
     "exception": false,
     "start_time": "2024-07-15T11:16:19.057310",
     "status": "completed"
    },
    "tags": []
   },
   "outputs": [
    {
     "data": {
      "text/html": [
       "<div>\n",
       "<style scoped>\n",
       "    .dataframe tbody tr th:only-of-type {\n",
       "        vertical-align: middle;\n",
       "    }\n",
       "\n",
       "    .dataframe tbody tr th {\n",
       "        vertical-align: top;\n",
       "    }\n",
       "\n",
       "    .dataframe thead th {\n",
       "        text-align: right;\n",
       "    }\n",
       "</style>\n",
       "<table border=\"1\" class=\"dataframe\">\n",
       "  <thead>\n",
       "    <tr style=\"text-align: right;\">\n",
       "      <th></th>\n",
       "      <th>Devarabeesana Halli</th>\n",
       "      <th>Devarachikkanahalli</th>\n",
       "      <th>Electronic City</th>\n",
       "      <th>Mysore Highway</th>\n",
       "      <th>Rachenahalli</th>\n",
       "      <th>Thanisandra</th>\n",
       "      <th>south</th>\n",
       "      <th>1st Block BEL Layout</th>\n",
       "      <th>1st Block HBR Layout</th>\n",
       "      <th>1st Block HRBR Layout</th>\n",
       "      <th>...</th>\n",
       "      <th>Yarandahalli</th>\n",
       "      <th>Yelachenahalli</th>\n",
       "      <th>Yelahanka</th>\n",
       "      <th>Yelahanka New Town</th>\n",
       "      <th>Yelenahalli</th>\n",
       "      <th>Yemlur</th>\n",
       "      <th>Yeshwanthpur</th>\n",
       "      <th>frazertown</th>\n",
       "      <th>manyata park</th>\n",
       "      <th>tc.palya</th>\n",
       "    </tr>\n",
       "  </thead>\n",
       "  <tbody>\n",
       "    <tr>\n",
       "      <th>0</th>\n",
       "      <td>True</td>\n",
       "      <td>False</td>\n",
       "      <td>False</td>\n",
       "      <td>False</td>\n",
       "      <td>False</td>\n",
       "      <td>False</td>\n",
       "      <td>False</td>\n",
       "      <td>False</td>\n",
       "      <td>False</td>\n",
       "      <td>False</td>\n",
       "      <td>...</td>\n",
       "      <td>False</td>\n",
       "      <td>False</td>\n",
       "      <td>False</td>\n",
       "      <td>False</td>\n",
       "      <td>False</td>\n",
       "      <td>False</td>\n",
       "      <td>False</td>\n",
       "      <td>False</td>\n",
       "      <td>False</td>\n",
       "      <td>False</td>\n",
       "    </tr>\n",
       "    <tr>\n",
       "      <th>1</th>\n",
       "      <td>True</td>\n",
       "      <td>False</td>\n",
       "      <td>False</td>\n",
       "      <td>False</td>\n",
       "      <td>False</td>\n",
       "      <td>False</td>\n",
       "      <td>False</td>\n",
       "      <td>False</td>\n",
       "      <td>False</td>\n",
       "      <td>False</td>\n",
       "      <td>...</td>\n",
       "      <td>False</td>\n",
       "      <td>False</td>\n",
       "      <td>False</td>\n",
       "      <td>False</td>\n",
       "      <td>False</td>\n",
       "      <td>False</td>\n",
       "      <td>False</td>\n",
       "      <td>False</td>\n",
       "      <td>False</td>\n",
       "      <td>False</td>\n",
       "    </tr>\n",
       "    <tr>\n",
       "      <th>2</th>\n",
       "      <td>True</td>\n",
       "      <td>False</td>\n",
       "      <td>False</td>\n",
       "      <td>False</td>\n",
       "      <td>False</td>\n",
       "      <td>False</td>\n",
       "      <td>False</td>\n",
       "      <td>False</td>\n",
       "      <td>False</td>\n",
       "      <td>False</td>\n",
       "      <td>...</td>\n",
       "      <td>False</td>\n",
       "      <td>False</td>\n",
       "      <td>False</td>\n",
       "      <td>False</td>\n",
       "      <td>False</td>\n",
       "      <td>False</td>\n",
       "      <td>False</td>\n",
       "      <td>False</td>\n",
       "      <td>False</td>\n",
       "      <td>False</td>\n",
       "    </tr>\n",
       "  </tbody>\n",
       "</table>\n",
       "<p>3 rows × 745 columns</p>\n",
       "</div>"
      ],
      "text/plain": [
       "    Devarabeesana Halli   Devarachikkanahalli   Electronic City  \\\n",
       "0                  True                 False             False   \n",
       "1                  True                 False             False   \n",
       "2                  True                 False             False   \n",
       "\n",
       "    Mysore Highway   Rachenahalli   Thanisandra   south  1st Block BEL Layout  \\\n",
       "0            False          False         False   False                 False   \n",
       "1            False          False         False   False                 False   \n",
       "2            False          False         False   False                 False   \n",
       "\n",
       "   1st Block HBR Layout  1st Block HRBR Layout  ...  Yarandahalli  \\\n",
       "0                 False                  False  ...         False   \n",
       "1                 False                  False  ...         False   \n",
       "2                 False                  False  ...         False   \n",
       "\n",
       "   Yelachenahalli  Yelahanka  Yelahanka New Town  Yelenahalli  Yemlur  \\\n",
       "0           False      False               False        False   False   \n",
       "1           False      False               False        False   False   \n",
       "2           False      False               False        False   False   \n",
       "\n",
       "   Yeshwanthpur  frazertown  manyata park  tc.palya  \n",
       "0         False       False         False     False  \n",
       "1         False       False         False     False  \n",
       "2         False       False         False     False  \n",
       "\n",
       "[3 rows x 745 columns]"
      ]
     },
     "execution_count": 40,
     "metadata": {},
     "output_type": "execute_result"
    }
   ],
   "source": [
    "dummies = pd.get_dummies(dataset.location)\n",
    "dummies.head(3)"
   ]
  },
  {
   "cell_type": "code",
   "execution_count": 41,
   "id": "55b6401f",
   "metadata": {
    "execution": {
     "iopub.execute_input": "2024-07-15T11:16:19.188794Z",
     "iopub.status.busy": "2024-07-15T11:16:19.188387Z",
     "iopub.status.idle": "2024-07-15T11:16:19.220792Z",
     "shell.execute_reply": "2024-07-15T11:16:19.219629Z"
    },
    "papermill": {
     "duration": 0.070198,
     "end_time": "2024-07-15T11:16:19.223665",
     "exception": false,
     "start_time": "2024-07-15T11:16:19.153467",
     "status": "completed"
    },
    "tags": []
   },
   "outputs": [
    {
     "data": {
      "text/html": [
       "<div>\n",
       "<style scoped>\n",
       "    .dataframe tbody tr th:only-of-type {\n",
       "        vertical-align: middle;\n",
       "    }\n",
       "\n",
       "    .dataframe tbody tr th {\n",
       "        vertical-align: top;\n",
       "    }\n",
       "\n",
       "    .dataframe thead th {\n",
       "        text-align: right;\n",
       "    }\n",
       "</style>\n",
       "<table border=\"1\" class=\"dataframe\">\n",
       "  <thead>\n",
       "    <tr style=\"text-align: right;\">\n",
       "      <th></th>\n",
       "      <th>location</th>\n",
       "      <th>total_sqft</th>\n",
       "      <th>bath</th>\n",
       "      <th>balcony</th>\n",
       "      <th>price</th>\n",
       "      <th>BHK</th>\n",
       "      <th>Devarabeesana Halli</th>\n",
       "      <th>Devarachikkanahalli</th>\n",
       "      <th>Electronic City</th>\n",
       "      <th>Mysore Highway</th>\n",
       "      <th>...</th>\n",
       "      <th>Yarandahalli</th>\n",
       "      <th>Yelachenahalli</th>\n",
       "      <th>Yelahanka</th>\n",
       "      <th>Yelahanka New Town</th>\n",
       "      <th>Yelenahalli</th>\n",
       "      <th>Yemlur</th>\n",
       "      <th>Yeshwanthpur</th>\n",
       "      <th>frazertown</th>\n",
       "      <th>manyata park</th>\n",
       "      <th>tc.palya</th>\n",
       "    </tr>\n",
       "  </thead>\n",
       "  <tbody>\n",
       "    <tr>\n",
       "      <th>0</th>\n",
       "      <td>Devarabeesana Halli</td>\n",
       "      <td>1672.0</td>\n",
       "      <td>3.0</td>\n",
       "      <td>2.0</td>\n",
       "      <td>150.0</td>\n",
       "      <td>3</td>\n",
       "      <td>True</td>\n",
       "      <td>False</td>\n",
       "      <td>False</td>\n",
       "      <td>False</td>\n",
       "      <td>...</td>\n",
       "      <td>False</td>\n",
       "      <td>False</td>\n",
       "      <td>False</td>\n",
       "      <td>False</td>\n",
       "      <td>False</td>\n",
       "      <td>False</td>\n",
       "      <td>False</td>\n",
       "      <td>False</td>\n",
       "      <td>False</td>\n",
       "      <td>False</td>\n",
       "    </tr>\n",
       "    <tr>\n",
       "      <th>1</th>\n",
       "      <td>Devarabeesana Halli</td>\n",
       "      <td>1750.0</td>\n",
       "      <td>3.0</td>\n",
       "      <td>3.0</td>\n",
       "      <td>149.0</td>\n",
       "      <td>3</td>\n",
       "      <td>True</td>\n",
       "      <td>False</td>\n",
       "      <td>False</td>\n",
       "      <td>False</td>\n",
       "      <td>...</td>\n",
       "      <td>False</td>\n",
       "      <td>False</td>\n",
       "      <td>False</td>\n",
       "      <td>False</td>\n",
       "      <td>False</td>\n",
       "      <td>False</td>\n",
       "      <td>False</td>\n",
       "      <td>False</td>\n",
       "      <td>False</td>\n",
       "      <td>False</td>\n",
       "    </tr>\n",
       "    <tr>\n",
       "      <th>2</th>\n",
       "      <td>Devarabeesana Halli</td>\n",
       "      <td>1750.0</td>\n",
       "      <td>3.0</td>\n",
       "      <td>2.0</td>\n",
       "      <td>150.0</td>\n",
       "      <td>3</td>\n",
       "      <td>True</td>\n",
       "      <td>False</td>\n",
       "      <td>False</td>\n",
       "      <td>False</td>\n",
       "      <td>...</td>\n",
       "      <td>False</td>\n",
       "      <td>False</td>\n",
       "      <td>False</td>\n",
       "      <td>False</td>\n",
       "      <td>False</td>\n",
       "      <td>False</td>\n",
       "      <td>False</td>\n",
       "      <td>False</td>\n",
       "      <td>False</td>\n",
       "      <td>False</td>\n",
       "    </tr>\n",
       "    <tr>\n",
       "      <th>4</th>\n",
       "      <td>Devarachikkanahalli</td>\n",
       "      <td>1250.0</td>\n",
       "      <td>2.0</td>\n",
       "      <td>2.0</td>\n",
       "      <td>40.0</td>\n",
       "      <td>2</td>\n",
       "      <td>False</td>\n",
       "      <td>True</td>\n",
       "      <td>False</td>\n",
       "      <td>False</td>\n",
       "      <td>...</td>\n",
       "      <td>False</td>\n",
       "      <td>False</td>\n",
       "      <td>False</td>\n",
       "      <td>False</td>\n",
       "      <td>False</td>\n",
       "      <td>False</td>\n",
       "      <td>False</td>\n",
       "      <td>False</td>\n",
       "      <td>False</td>\n",
       "      <td>False</td>\n",
       "    </tr>\n",
       "    <tr>\n",
       "      <th>5</th>\n",
       "      <td>Devarachikkanahalli</td>\n",
       "      <td>1200.0</td>\n",
       "      <td>2.0</td>\n",
       "      <td>2.0</td>\n",
       "      <td>83.0</td>\n",
       "      <td>2</td>\n",
       "      <td>False</td>\n",
       "      <td>True</td>\n",
       "      <td>False</td>\n",
       "      <td>False</td>\n",
       "      <td>...</td>\n",
       "      <td>False</td>\n",
       "      <td>False</td>\n",
       "      <td>False</td>\n",
       "      <td>False</td>\n",
       "      <td>False</td>\n",
       "      <td>False</td>\n",
       "      <td>False</td>\n",
       "      <td>False</td>\n",
       "      <td>False</td>\n",
       "      <td>False</td>\n",
       "    </tr>\n",
       "  </tbody>\n",
       "</table>\n",
       "<p>5 rows × 751 columns</p>\n",
       "</div>"
      ],
      "text/plain": [
       "               location  total_sqft  bath  balcony  price  BHK  \\\n",
       "0   Devarabeesana Halli      1672.0   3.0      2.0  150.0    3   \n",
       "1   Devarabeesana Halli      1750.0   3.0      3.0  149.0    3   \n",
       "2   Devarabeesana Halli      1750.0   3.0      2.0  150.0    3   \n",
       "4   Devarachikkanahalli      1250.0   2.0      2.0   40.0    2   \n",
       "5   Devarachikkanahalli      1200.0   2.0      2.0   83.0    2   \n",
       "\n",
       "    Devarabeesana Halli   Devarachikkanahalli   Electronic City  \\\n",
       "0                  True                 False             False   \n",
       "1                  True                 False             False   \n",
       "2                  True                 False             False   \n",
       "4                 False                  True             False   \n",
       "5                 False                  True             False   \n",
       "\n",
       "    Mysore Highway  ...  Yarandahalli  Yelachenahalli  Yelahanka  \\\n",
       "0            False  ...         False           False      False   \n",
       "1            False  ...         False           False      False   \n",
       "2            False  ...         False           False      False   \n",
       "4            False  ...         False           False      False   \n",
       "5            False  ...         False           False      False   \n",
       "\n",
       "   Yelahanka New Town  Yelenahalli  Yemlur  Yeshwanthpur  frazertown  \\\n",
       "0               False        False   False         False       False   \n",
       "1               False        False   False         False       False   \n",
       "2               False        False   False         False       False   \n",
       "4               False        False   False         False       False   \n",
       "5               False        False   False         False       False   \n",
       "\n",
       "   manyata park  tc.palya  \n",
       "0         False     False  \n",
       "1         False     False  \n",
       "2         False     False  \n",
       "4         False     False  \n",
       "5         False     False  \n",
       "\n",
       "[5 rows x 751 columns]"
      ]
     },
     "execution_count": 41,
     "metadata": {},
     "output_type": "execute_result"
    }
   ],
   "source": [
    "dataset = pd.concat([dataset,dummies],axis='columns')\n",
    "dataset.head()"
   ]
  },
  {
   "cell_type": "code",
   "execution_count": 42,
   "id": "f68a7d61",
   "metadata": {
    "execution": {
     "iopub.execute_input": "2024-07-15T11:16:19.289982Z",
     "iopub.status.busy": "2024-07-15T11:16:19.289543Z",
     "iopub.status.idle": "2024-07-15T11:16:19.301908Z",
     "shell.execute_reply": "2024-07-15T11:16:19.300570Z"
    },
    "papermill": {
     "duration": 0.049341,
     "end_time": "2024-07-15T11:16:19.305139",
     "exception": false,
     "start_time": "2024-07-15T11:16:19.255798",
     "status": "completed"
    },
    "tags": []
   },
   "outputs": [],
   "source": [
    "dataset = dataset.drop('location',axis='columns')\n"
   ]
  },
  {
   "cell_type": "code",
   "execution_count": 43,
   "id": "2e8e87fa",
   "metadata": {
    "execution": {
     "iopub.execute_input": "2024-07-15T11:16:19.372661Z",
     "iopub.status.busy": "2024-07-15T11:16:19.372283Z",
     "iopub.status.idle": "2024-07-15T11:16:19.405773Z",
     "shell.execute_reply": "2024-07-15T11:16:19.404372Z"
    },
    "papermill": {
     "duration": 0.070277,
     "end_time": "2024-07-15T11:16:19.408950",
     "exception": false,
     "start_time": "2024-07-15T11:16:19.338673",
     "status": "completed"
    },
    "tags": []
   },
   "outputs": [
    {
     "data": {
      "text/html": [
       "<div>\n",
       "<style scoped>\n",
       "    .dataframe tbody tr th:only-of-type {\n",
       "        vertical-align: middle;\n",
       "    }\n",
       "\n",
       "    .dataframe tbody tr th {\n",
       "        vertical-align: top;\n",
       "    }\n",
       "\n",
       "    .dataframe thead th {\n",
       "        text-align: right;\n",
       "    }\n",
       "</style>\n",
       "<table border=\"1\" class=\"dataframe\">\n",
       "  <thead>\n",
       "    <tr style=\"text-align: right;\">\n",
       "      <th></th>\n",
       "      <th>total_sqft</th>\n",
       "      <th>bath</th>\n",
       "      <th>balcony</th>\n",
       "      <th>price</th>\n",
       "      <th>BHK</th>\n",
       "      <th>Devarabeesana Halli</th>\n",
       "      <th>Devarachikkanahalli</th>\n",
       "      <th>Electronic City</th>\n",
       "      <th>Mysore Highway</th>\n",
       "      <th>Rachenahalli</th>\n",
       "      <th>...</th>\n",
       "      <th>Yarandahalli</th>\n",
       "      <th>Yelachenahalli</th>\n",
       "      <th>Yelahanka</th>\n",
       "      <th>Yelahanka New Town</th>\n",
       "      <th>Yelenahalli</th>\n",
       "      <th>Yemlur</th>\n",
       "      <th>Yeshwanthpur</th>\n",
       "      <th>frazertown</th>\n",
       "      <th>manyata park</th>\n",
       "      <th>tc.palya</th>\n",
       "    </tr>\n",
       "  </thead>\n",
       "  <tbody>\n",
       "    <tr>\n",
       "      <th>0</th>\n",
       "      <td>1672.0</td>\n",
       "      <td>3.0</td>\n",
       "      <td>2.0</td>\n",
       "      <td>150.0</td>\n",
       "      <td>3</td>\n",
       "      <td>True</td>\n",
       "      <td>False</td>\n",
       "      <td>False</td>\n",
       "      <td>False</td>\n",
       "      <td>False</td>\n",
       "      <td>...</td>\n",
       "      <td>False</td>\n",
       "      <td>False</td>\n",
       "      <td>False</td>\n",
       "      <td>False</td>\n",
       "      <td>False</td>\n",
       "      <td>False</td>\n",
       "      <td>False</td>\n",
       "      <td>False</td>\n",
       "      <td>False</td>\n",
       "      <td>False</td>\n",
       "    </tr>\n",
       "    <tr>\n",
       "      <th>1</th>\n",
       "      <td>1750.0</td>\n",
       "      <td>3.0</td>\n",
       "      <td>3.0</td>\n",
       "      <td>149.0</td>\n",
       "      <td>3</td>\n",
       "      <td>True</td>\n",
       "      <td>False</td>\n",
       "      <td>False</td>\n",
       "      <td>False</td>\n",
       "      <td>False</td>\n",
       "      <td>...</td>\n",
       "      <td>False</td>\n",
       "      <td>False</td>\n",
       "      <td>False</td>\n",
       "      <td>False</td>\n",
       "      <td>False</td>\n",
       "      <td>False</td>\n",
       "      <td>False</td>\n",
       "      <td>False</td>\n",
       "      <td>False</td>\n",
       "      <td>False</td>\n",
       "    </tr>\n",
       "    <tr>\n",
       "      <th>2</th>\n",
       "      <td>1750.0</td>\n",
       "      <td>3.0</td>\n",
       "      <td>2.0</td>\n",
       "      <td>150.0</td>\n",
       "      <td>3</td>\n",
       "      <td>True</td>\n",
       "      <td>False</td>\n",
       "      <td>False</td>\n",
       "      <td>False</td>\n",
       "      <td>False</td>\n",
       "      <td>...</td>\n",
       "      <td>False</td>\n",
       "      <td>False</td>\n",
       "      <td>False</td>\n",
       "      <td>False</td>\n",
       "      <td>False</td>\n",
       "      <td>False</td>\n",
       "      <td>False</td>\n",
       "      <td>False</td>\n",
       "      <td>False</td>\n",
       "      <td>False</td>\n",
       "    </tr>\n",
       "    <tr>\n",
       "      <th>4</th>\n",
       "      <td>1250.0</td>\n",
       "      <td>2.0</td>\n",
       "      <td>2.0</td>\n",
       "      <td>40.0</td>\n",
       "      <td>2</td>\n",
       "      <td>False</td>\n",
       "      <td>True</td>\n",
       "      <td>False</td>\n",
       "      <td>False</td>\n",
       "      <td>False</td>\n",
       "      <td>...</td>\n",
       "      <td>False</td>\n",
       "      <td>False</td>\n",
       "      <td>False</td>\n",
       "      <td>False</td>\n",
       "      <td>False</td>\n",
       "      <td>False</td>\n",
       "      <td>False</td>\n",
       "      <td>False</td>\n",
       "      <td>False</td>\n",
       "      <td>False</td>\n",
       "    </tr>\n",
       "    <tr>\n",
       "      <th>5</th>\n",
       "      <td>1200.0</td>\n",
       "      <td>2.0</td>\n",
       "      <td>2.0</td>\n",
       "      <td>83.0</td>\n",
       "      <td>2</td>\n",
       "      <td>False</td>\n",
       "      <td>True</td>\n",
       "      <td>False</td>\n",
       "      <td>False</td>\n",
       "      <td>False</td>\n",
       "      <td>...</td>\n",
       "      <td>False</td>\n",
       "      <td>False</td>\n",
       "      <td>False</td>\n",
       "      <td>False</td>\n",
       "      <td>False</td>\n",
       "      <td>False</td>\n",
       "      <td>False</td>\n",
       "      <td>False</td>\n",
       "      <td>False</td>\n",
       "      <td>False</td>\n",
       "    </tr>\n",
       "  </tbody>\n",
       "</table>\n",
       "<p>5 rows × 750 columns</p>\n",
       "</div>"
      ],
      "text/plain": [
       "   total_sqft  bath  balcony  price  BHK   Devarabeesana Halli  \\\n",
       "0      1672.0   3.0      2.0  150.0    3                  True   \n",
       "1      1750.0   3.0      3.0  149.0    3                  True   \n",
       "2      1750.0   3.0      2.0  150.0    3                  True   \n",
       "4      1250.0   2.0      2.0   40.0    2                 False   \n",
       "5      1200.0   2.0      2.0   83.0    2                 False   \n",
       "\n",
       "    Devarachikkanahalli   Electronic City   Mysore Highway   Rachenahalli  \\\n",
       "0                 False             False            False          False   \n",
       "1                 False             False            False          False   \n",
       "2                 False             False            False          False   \n",
       "4                  True             False            False          False   \n",
       "5                  True             False            False          False   \n",
       "\n",
       "   ...  Yarandahalli  Yelachenahalli  Yelahanka  Yelahanka New Town  \\\n",
       "0  ...         False           False      False               False   \n",
       "1  ...         False           False      False               False   \n",
       "2  ...         False           False      False               False   \n",
       "4  ...         False           False      False               False   \n",
       "5  ...         False           False      False               False   \n",
       "\n",
       "   Yelenahalli  Yemlur  Yeshwanthpur  frazertown  manyata park  tc.palya  \n",
       "0        False   False         False       False         False     False  \n",
       "1        False   False         False       False         False     False  \n",
       "2        False   False         False       False         False     False  \n",
       "4        False   False         False       False         False     False  \n",
       "5        False   False         False       False         False     False  \n",
       "\n",
       "[5 rows x 750 columns]"
      ]
     },
     "execution_count": 43,
     "metadata": {},
     "output_type": "execute_result"
    }
   ],
   "source": [
    "dataset.head()"
   ]
  },
  {
   "cell_type": "markdown",
   "id": "a8342aa4",
   "metadata": {
    "papermill": {
     "duration": 0.032545,
     "end_time": "2024-07-15T11:16:19.474204",
     "exception": false,
     "start_time": "2024-07-15T11:16:19.441659",
     "status": "completed"
    },
    "tags": []
   },
   "source": [
    "**Build Model**"
   ]
  },
  {
   "cell_type": "code",
   "execution_count": 44,
   "id": "84e4ab8b",
   "metadata": {
    "execution": {
     "iopub.execute_input": "2024-07-15T11:16:19.541585Z",
     "iopub.status.busy": "2024-07-15T11:16:19.541188Z",
     "iopub.status.idle": "2024-07-15T11:16:19.571152Z",
     "shell.execute_reply": "2024-07-15T11:16:19.569584Z"
    },
    "papermill": {
     "duration": 0.066605,
     "end_time": "2024-07-15T11:16:19.574087",
     "exception": false,
     "start_time": "2024-07-15T11:16:19.507482",
     "status": "completed"
    },
    "tags": []
   },
   "outputs": [
    {
     "data": {
      "text/html": [
       "<div>\n",
       "<style scoped>\n",
       "    .dataframe tbody tr th:only-of-type {\n",
       "        vertical-align: middle;\n",
       "    }\n",
       "\n",
       "    .dataframe tbody tr th {\n",
       "        vertical-align: top;\n",
       "    }\n",
       "\n",
       "    .dataframe thead th {\n",
       "        text-align: right;\n",
       "    }\n",
       "</style>\n",
       "<table border=\"1\" class=\"dataframe\">\n",
       "  <thead>\n",
       "    <tr style=\"text-align: right;\">\n",
       "      <th></th>\n",
       "      <th>total_sqft</th>\n",
       "      <th>bath</th>\n",
       "      <th>balcony</th>\n",
       "      <th>BHK</th>\n",
       "      <th>Devarabeesana Halli</th>\n",
       "      <th>Devarachikkanahalli</th>\n",
       "      <th>Electronic City</th>\n",
       "      <th>Mysore Highway</th>\n",
       "      <th>Rachenahalli</th>\n",
       "      <th>Thanisandra</th>\n",
       "      <th>...</th>\n",
       "      <th>Yarandahalli</th>\n",
       "      <th>Yelachenahalli</th>\n",
       "      <th>Yelahanka</th>\n",
       "      <th>Yelahanka New Town</th>\n",
       "      <th>Yelenahalli</th>\n",
       "      <th>Yemlur</th>\n",
       "      <th>Yeshwanthpur</th>\n",
       "      <th>frazertown</th>\n",
       "      <th>manyata park</th>\n",
       "      <th>tc.palya</th>\n",
       "    </tr>\n",
       "  </thead>\n",
       "  <tbody>\n",
       "    <tr>\n",
       "      <th>0</th>\n",
       "      <td>1672.0</td>\n",
       "      <td>3.0</td>\n",
       "      <td>2.0</td>\n",
       "      <td>3</td>\n",
       "      <td>True</td>\n",
       "      <td>False</td>\n",
       "      <td>False</td>\n",
       "      <td>False</td>\n",
       "      <td>False</td>\n",
       "      <td>False</td>\n",
       "      <td>...</td>\n",
       "      <td>False</td>\n",
       "      <td>False</td>\n",
       "      <td>False</td>\n",
       "      <td>False</td>\n",
       "      <td>False</td>\n",
       "      <td>False</td>\n",
       "      <td>False</td>\n",
       "      <td>False</td>\n",
       "      <td>False</td>\n",
       "      <td>False</td>\n",
       "    </tr>\n",
       "    <tr>\n",
       "      <th>1</th>\n",
       "      <td>1750.0</td>\n",
       "      <td>3.0</td>\n",
       "      <td>3.0</td>\n",
       "      <td>3</td>\n",
       "      <td>True</td>\n",
       "      <td>False</td>\n",
       "      <td>False</td>\n",
       "      <td>False</td>\n",
       "      <td>False</td>\n",
       "      <td>False</td>\n",
       "      <td>...</td>\n",
       "      <td>False</td>\n",
       "      <td>False</td>\n",
       "      <td>False</td>\n",
       "      <td>False</td>\n",
       "      <td>False</td>\n",
       "      <td>False</td>\n",
       "      <td>False</td>\n",
       "      <td>False</td>\n",
       "      <td>False</td>\n",
       "      <td>False</td>\n",
       "    </tr>\n",
       "    <tr>\n",
       "      <th>2</th>\n",
       "      <td>1750.0</td>\n",
       "      <td>3.0</td>\n",
       "      <td>2.0</td>\n",
       "      <td>3</td>\n",
       "      <td>True</td>\n",
       "      <td>False</td>\n",
       "      <td>False</td>\n",
       "      <td>False</td>\n",
       "      <td>False</td>\n",
       "      <td>False</td>\n",
       "      <td>...</td>\n",
       "      <td>False</td>\n",
       "      <td>False</td>\n",
       "      <td>False</td>\n",
       "      <td>False</td>\n",
       "      <td>False</td>\n",
       "      <td>False</td>\n",
       "      <td>False</td>\n",
       "      <td>False</td>\n",
       "      <td>False</td>\n",
       "      <td>False</td>\n",
       "    </tr>\n",
       "  </tbody>\n",
       "</table>\n",
       "<p>3 rows × 749 columns</p>\n",
       "</div>"
      ],
      "text/plain": [
       "   total_sqft  bath  balcony  BHK   Devarabeesana Halli   Devarachikkanahalli  \\\n",
       "0      1672.0   3.0      2.0    3                  True                 False   \n",
       "1      1750.0   3.0      3.0    3                  True                 False   \n",
       "2      1750.0   3.0      2.0    3                  True                 False   \n",
       "\n",
       "    Electronic City   Mysore Highway   Rachenahalli   Thanisandra  ...  \\\n",
       "0             False            False          False         False  ...   \n",
       "1             False            False          False         False  ...   \n",
       "2             False            False          False         False  ...   \n",
       "\n",
       "   Yarandahalli  Yelachenahalli  Yelahanka  Yelahanka New Town  Yelenahalli  \\\n",
       "0         False           False      False               False        False   \n",
       "1         False           False      False               False        False   \n",
       "2         False           False      False               False        False   \n",
       "\n",
       "   Yemlur  Yeshwanthpur  frazertown  manyata park  tc.palya  \n",
       "0   False         False       False         False     False  \n",
       "1   False         False       False         False     False  \n",
       "2   False         False       False         False     False  \n",
       "\n",
       "[3 rows x 749 columns]"
      ]
     },
     "execution_count": 44,
     "metadata": {},
     "output_type": "execute_result"
    }
   ],
   "source": [
    "X = dataset.drop(['price'],axis='columns')\n",
    "X.head(3)"
   ]
  },
  {
   "cell_type": "code",
   "execution_count": 45,
   "id": "c58ada80",
   "metadata": {
    "execution": {
     "iopub.execute_input": "2024-07-15T11:16:19.644795Z",
     "iopub.status.busy": "2024-07-15T11:16:19.644401Z",
     "iopub.status.idle": "2024-07-15T11:16:19.654703Z",
     "shell.execute_reply": "2024-07-15T11:16:19.653189Z"
    },
    "papermill": {
     "duration": 0.048018,
     "end_time": "2024-07-15T11:16:19.657363",
     "exception": false,
     "start_time": "2024-07-15T11:16:19.609345",
     "status": "completed"
    },
    "tags": []
   },
   "outputs": [
    {
     "data": {
      "text/plain": [
       "0    150.0\n",
       "1    149.0\n",
       "2    150.0\n",
       "Name: price, dtype: float64"
      ]
     },
     "execution_count": 45,
     "metadata": {},
     "output_type": "execute_result"
    }
   ],
   "source": [
    "\n",
    "y = dataset.price\n",
    "y.head(3)"
   ]
  },
  {
   "cell_type": "code",
   "execution_count": 46,
   "id": "8077a997",
   "metadata": {
    "execution": {
     "iopub.execute_input": "2024-07-15T11:16:19.726893Z",
     "iopub.status.busy": "2024-07-15T11:16:19.726448Z",
     "iopub.status.idle": "2024-07-15T11:16:20.092565Z",
     "shell.execute_reply": "2024-07-15T11:16:20.091262Z"
    },
    "papermill": {
     "duration": 0.404698,
     "end_time": "2024-07-15T11:16:20.095702",
     "exception": false,
     "start_time": "2024-07-15T11:16:19.691004",
     "status": "completed"
    },
    "tags": []
   },
   "outputs": [],
   "source": [
    "from sklearn.model_selection import train_test_split\n",
    "X_train, X_test, y_train, y_test = train_test_split(X,y,test_size=0.2,random_state=10)"
   ]
  },
  {
   "cell_type": "code",
   "execution_count": 47,
   "id": "a208e5e8",
   "metadata": {
    "execution": {
     "iopub.execute_input": "2024-07-15T11:16:20.163158Z",
     "iopub.status.busy": "2024-07-15T11:16:20.162673Z",
     "iopub.status.idle": "2024-07-15T11:16:20.168389Z",
     "shell.execute_reply": "2024-07-15T11:16:20.167032Z"
    },
    "papermill": {
     "duration": 0.043062,
     "end_time": "2024-07-15T11:16:20.171234",
     "exception": false,
     "start_time": "2024-07-15T11:16:20.128172",
     "status": "completed"
    },
    "tags": []
   },
   "outputs": [],
   "source": [
    "# from sklearn.linear_model import LinearRegression\n",
    "# lr_clf = LinearRegression()\n",
    "# lr_clf.fit(X_train,y_train)\n",
    "# lr_clf.score(X_test,y_test)"
   ]
  },
  {
   "cell_type": "code",
   "execution_count": 48,
   "id": "ae08ae71",
   "metadata": {
    "execution": {
     "iopub.execute_input": "2024-07-15T11:16:20.240432Z",
     "iopub.status.busy": "2024-07-15T11:16:20.239990Z",
     "iopub.status.idle": "2024-07-15T11:16:20.592416Z",
     "shell.execute_reply": "2024-07-15T11:16:20.590990Z"
    },
    "papermill": {
     "duration": 0.390425,
     "end_time": "2024-07-15T11:16:20.595312",
     "exception": false,
     "start_time": "2024-07-15T11:16:20.204887",
     "status": "completed"
    },
    "tags": []
   },
   "outputs": [],
   "source": [
    "from sklearn.linear_model import LinearRegression, Lasso\n",
    "from sklearn.tree import DecisionTreeRegressor\n",
    "from sklearn.ensemble import RandomForestRegressor\n",
    "from sklearn.svm import SVR\n",
    "from sklearn.metrics import mean_squared_error"
   ]
  },
  {
   "cell_type": "code",
   "execution_count": 49,
   "id": "9b5458b5",
   "metadata": {
    "execution": {
     "iopub.execute_input": "2024-07-15T11:16:20.668835Z",
     "iopub.status.busy": "2024-07-15T11:16:20.667565Z",
     "iopub.status.idle": "2024-07-15T11:16:21.428401Z",
     "shell.execute_reply": "2024-07-15T11:16:21.426542Z"
    },
    "papermill": {
     "duration": 0.805563,
     "end_time": "2024-07-15T11:16:21.433228",
     "exception": false,
     "start_time": "2024-07-15T11:16:20.627665",
     "status": "completed"
    },
    "tags": []
   },
   "outputs": [],
   "source": [
    "# Linear Regression\n",
    "lr_clf = LinearRegression()\n",
    "lr_clf.fit(X_train, y_train)\n",
    "lr_score = lr_clf.score(X_test, y_test)\n",
    "lr_mse = mean_squared_error(y_test, lr_clf.predict(X_test))"
   ]
  },
  {
   "cell_type": "code",
   "execution_count": 50,
   "id": "83b9cf5b",
   "metadata": {
    "execution": {
     "iopub.execute_input": "2024-07-15T11:16:21.556916Z",
     "iopub.status.busy": "2024-07-15T11:16:21.556379Z",
     "iopub.status.idle": "2024-07-15T11:16:21.965493Z",
     "shell.execute_reply": "2024-07-15T11:16:21.963949Z"
    },
    "papermill": {
     "duration": 0.462709,
     "end_time": "2024-07-15T11:16:21.969780",
     "exception": false,
     "start_time": "2024-07-15T11:16:21.507071",
     "status": "completed"
    },
    "tags": []
   },
   "outputs": [],
   "source": [
    "# Lasso Regression\n",
    "lasso_clf = Lasso()\n",
    "lasso_clf.fit(X_train, y_train)\n",
    "lasso_score = lasso_clf.score(X_test, y_test)\n",
    "lasso_mse = mean_squared_error(y_test, lasso_clf.predict(X_test))\n"
   ]
  },
  {
   "cell_type": "code",
   "execution_count": 51,
   "id": "3636b363",
   "metadata": {
    "execution": {
     "iopub.execute_input": "2024-07-15T11:16:22.115830Z",
     "iopub.status.busy": "2024-07-15T11:16:22.115408Z",
     "iopub.status.idle": "2024-07-15T11:16:22.612465Z",
     "shell.execute_reply": "2024-07-15T11:16:22.611342Z"
    },
    "papermill": {
     "duration": 0.541627,
     "end_time": "2024-07-15T11:16:22.615786",
     "exception": false,
     "start_time": "2024-07-15T11:16:22.074159",
     "status": "completed"
    },
    "tags": []
   },
   "outputs": [],
   "source": [
    "# Decision Tree Regressor\n",
    "tree_clf = DecisionTreeRegressor()\n",
    "tree_clf.fit(X_train, y_train)\n",
    "tree_score = tree_clf.score(X_test, y_test)\n",
    "tree_mse = mean_squared_error(y_test, tree_clf.predict(X_test))"
   ]
  },
  {
   "cell_type": "code",
   "execution_count": 52,
   "id": "10ea38ab",
   "metadata": {
    "execution": {
     "iopub.execute_input": "2024-07-15T11:16:22.683175Z",
     "iopub.status.busy": "2024-07-15T11:16:22.682725Z",
     "iopub.status.idle": "2024-07-15T11:16:44.729626Z",
     "shell.execute_reply": "2024-07-15T11:16:44.728228Z"
    },
    "papermill": {
     "duration": 22.084226,
     "end_time": "2024-07-15T11:16:44.732597",
     "exception": false,
     "start_time": "2024-07-15T11:16:22.648371",
     "status": "completed"
    },
    "tags": []
   },
   "outputs": [],
   "source": [
    "# Random Forest Regressor\n",
    "rf_clf = RandomForestRegressor()\n",
    "rf_clf.fit(X_train, y_train)\n",
    "rf_score = rf_clf.score(X_test, y_test)\n",
    "rf_mse = mean_squared_error(y_test, rf_clf.predict(X_test))"
   ]
  },
  {
   "cell_type": "code",
   "execution_count": 53,
   "id": "f3fdc32c",
   "metadata": {
    "execution": {
     "iopub.execute_input": "2024-07-15T11:16:44.801138Z",
     "iopub.status.busy": "2024-07-15T11:16:44.800528Z",
     "iopub.status.idle": "2024-07-15T11:17:22.037002Z",
     "shell.execute_reply": "2024-07-15T11:17:22.035731Z"
    },
    "papermill": {
     "duration": 37.274872,
     "end_time": "2024-07-15T11:17:22.040147",
     "exception": false,
     "start_time": "2024-07-15T11:16:44.765275",
     "status": "completed"
    },
    "tags": []
   },
   "outputs": [],
   "source": [
    "# Support Vector Regressor\n",
    "svr_clf = SVR()\n",
    "svr_clf.fit(X_train, y_train)\n",
    "svr_score = svr_clf.score(X_test, y_test)\n",
    "svr_mse = mean_squared_error(y_test, svr_clf.predict(X_test))"
   ]
  },
  {
   "cell_type": "code",
   "execution_count": 54,
   "id": "79708003",
   "metadata": {
    "execution": {
     "iopub.execute_input": "2024-07-15T11:17:22.107387Z",
     "iopub.status.busy": "2024-07-15T11:17:22.106976Z",
     "iopub.status.idle": "2024-07-15T11:17:22.114576Z",
     "shell.execute_reply": "2024-07-15T11:17:22.112979Z"
    },
    "papermill": {
     "duration": 0.045957,
     "end_time": "2024-07-15T11:17:22.118746",
     "exception": false,
     "start_time": "2024-07-15T11:17:22.072789",
     "status": "completed"
    },
    "tags": []
   },
   "outputs": [
    {
     "name": "stdout",
     "output_type": "stream",
     "text": [
      "Linear Regression - Score: 0.801092423009407, MSE: 2370.8396202156086\n",
      "Lasso Regression - Score: 0.6388031215199886, MSE: 4305.214930244275\n",
      "Decision Tree Regressor - Score: 0.4441281170236029, MSE: 6625.6052376859625\n",
      "Random Forest Regressor - Score: 0.669730459395768, MSE: 3936.5826282824423\n",
      "Support Vector Regressor - Score: 0.348451861918306, MSE: 7765.999483844928\n"
     ]
    }
   ],
   "source": [
    "# Printing the scores and mean squared errors\n",
    "print(f\"Linear Regression - Score: {lr_score}, MSE: {lr_mse}\")\n",
    "print(f\"Lasso Regression - Score: {lasso_score}, MSE: {lasso_mse}\")\n",
    "print(f\"Decision Tree Regressor - Score: {tree_score}, MSE: {tree_mse}\")\n",
    "print(f\"Random Forest Regressor - Score: {rf_score}, MSE: {rf_mse}\")\n",
    "print(f\"Support Vector Regressor - Score: {svr_score}, MSE: {svr_mse}\")"
   ]
  }
 ],
 "metadata": {
  "kaggle": {
   "accelerator": "none",
   "dataSources": [
    {
     "datasetId": 4592113,
     "sourceId": 7834562,
     "sourceType": "datasetVersion"
    }
   ],
   "dockerImageVersionId": 30746,
   "isGpuEnabled": false,
   "isInternetEnabled": true,
   "language": "python",
   "sourceType": "notebook"
  },
  "kernelspec": {
   "display_name": "Python 3",
   "language": "python",
   "name": "python3"
  },
  "language_info": {
   "codemirror_mode": {
    "name": "ipython",
    "version": 3
   },
   "file_extension": ".py",
   "mimetype": "text/x-python",
   "name": "python",
   "nbconvert_exporter": "python",
   "pygments_lexer": "ipython3",
   "version": "3.10.13"
  },
  "papermill": {
   "default_parameters": {},
   "duration": 80.262629,
   "end_time": "2024-07-15T11:17:22.877784",
   "environment_variables": {},
   "exception": null,
   "input_path": "__notebook__.ipynb",
   "output_path": "__notebook__.ipynb",
   "parameters": {},
   "start_time": "2024-07-15T11:16:02.615155",
   "version": "2.5.0"
  }
 },
 "nbformat": 4,
 "nbformat_minor": 5
}
