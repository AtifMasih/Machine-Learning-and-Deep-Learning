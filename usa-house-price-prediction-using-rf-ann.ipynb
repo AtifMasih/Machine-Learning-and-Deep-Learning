{
 "cells": [
  {
   "cell_type": "code",
   "execution_count": 1,
   "id": "81b95ffc",
   "metadata": {
    "_cell_guid": "b1076dfc-b9ad-4769-8c92-a6c4dae69d19",
    "_uuid": "8f2839f25d086af736a60e9eeb907d3b93b6e0e5",
    "execution": {
     "iopub.execute_input": "2024-07-25T18:10:28.498782Z",
     "iopub.status.busy": "2024-07-25T18:10:28.498394Z",
     "iopub.status.idle": "2024-07-25T18:10:29.479696Z",
     "shell.execute_reply": "2024-07-25T18:10:29.478570Z"
    },
    "papermill": {
     "duration": 0.996045,
     "end_time": "2024-07-25T18:10:29.482354",
     "exception": false,
     "start_time": "2024-07-25T18:10:28.486309",
     "status": "completed"
    },
    "tags": []
   },
   "outputs": [
    {
     "name": "stdout",
     "output_type": "stream",
     "text": [
      "/kaggle/input/usa-house-prices/USA Housing Dataset.csv\n"
     ]
    }
   ],
   "source": [
    "# This Python 3 environment comes with many helpful analytics libraries installed\n",
    "# It is defined by the kaggle/python Docker image: https://github.com/kaggle/docker-python\n",
    "# For example, here's several helpful packages to load\n",
    "\n",
    "import numpy as np # linear algebra\n",
    "import pandas as pd # data processing, CSV file I/O (e.g. pd.read_csv)\n",
    "\n",
    "# Input data files are available in the read-only \"../input/\" directory\n",
    "# For example, running this (by clicking run or pressing Shift+Enter) will list all files under the input directory\n",
    "\n",
    "import os\n",
    "for dirname, _, filenames in os.walk('/kaggle/input'):\n",
    "    for filename in filenames:\n",
    "        print(os.path.join(dirname, filename))\n",
    "\n",
    "# You can write up to 20GB to the current directory (/kaggle/working/) that gets preserved as output when you create a version using \"Save & Run All\" \n",
    "# You can also write temporary files to /kaggle/temp/, but they won't be saved outside of the current session"
   ]
  },
  {
   "cell_type": "markdown",
   "id": "9c805c7d",
   "metadata": {
    "papermill": {
     "duration": 0.009198,
     "end_time": "2024-07-25T18:10:29.501252",
     "exception": false,
     "start_time": "2024-07-25T18:10:29.492054",
     "status": "completed"
    },
    "tags": []
   },
   "source": [
    "**Load the dataset**"
   ]
  },
  {
   "cell_type": "code",
   "execution_count": 2,
   "id": "de8aef43",
   "metadata": {
    "execution": {
     "iopub.execute_input": "2024-07-25T18:10:29.522368Z",
     "iopub.status.busy": "2024-07-25T18:10:29.521843Z",
     "iopub.status.idle": "2024-07-25T18:10:29.593574Z",
     "shell.execute_reply": "2024-07-25T18:10:29.592436Z"
    },
    "papermill": {
     "duration": 0.084584,
     "end_time": "2024-07-25T18:10:29.595901",
     "exception": false,
     "start_time": "2024-07-25T18:10:29.511317",
     "status": "completed"
    },
    "tags": []
   },
   "outputs": [
    {
     "data": {
      "text/html": [
       "<div>\n",
       "<style scoped>\n",
       "    .dataframe tbody tr th:only-of-type {\n",
       "        vertical-align: middle;\n",
       "    }\n",
       "\n",
       "    .dataframe tbody tr th {\n",
       "        vertical-align: top;\n",
       "    }\n",
       "\n",
       "    .dataframe thead th {\n",
       "        text-align: right;\n",
       "    }\n",
       "</style>\n",
       "<table border=\"1\" class=\"dataframe\">\n",
       "  <thead>\n",
       "    <tr style=\"text-align: right;\">\n",
       "      <th></th>\n",
       "      <th>date</th>\n",
       "      <th>price</th>\n",
       "      <th>bedrooms</th>\n",
       "      <th>bathrooms</th>\n",
       "      <th>sqft_living</th>\n",
       "      <th>sqft_lot</th>\n",
       "      <th>floors</th>\n",
       "      <th>waterfront</th>\n",
       "      <th>view</th>\n",
       "      <th>condition</th>\n",
       "      <th>sqft_above</th>\n",
       "      <th>sqft_basement</th>\n",
       "      <th>yr_built</th>\n",
       "      <th>yr_renovated</th>\n",
       "      <th>street</th>\n",
       "      <th>city</th>\n",
       "      <th>statezip</th>\n",
       "      <th>country</th>\n",
       "    </tr>\n",
       "  </thead>\n",
       "  <tbody>\n",
       "    <tr>\n",
       "      <th>0</th>\n",
       "      <td>2014-05-09 00:00:00</td>\n",
       "      <td>376000.0</td>\n",
       "      <td>3.0</td>\n",
       "      <td>2.00</td>\n",
       "      <td>1340</td>\n",
       "      <td>1384</td>\n",
       "      <td>3.0</td>\n",
       "      <td>0</td>\n",
       "      <td>0</td>\n",
       "      <td>3</td>\n",
       "      <td>1340</td>\n",
       "      <td>0</td>\n",
       "      <td>2008</td>\n",
       "      <td>0</td>\n",
       "      <td>9245-9249 Fremont Ave N</td>\n",
       "      <td>Seattle</td>\n",
       "      <td>WA 98103</td>\n",
       "      <td>USA</td>\n",
       "    </tr>\n",
       "    <tr>\n",
       "      <th>1</th>\n",
       "      <td>2014-05-09 00:00:00</td>\n",
       "      <td>800000.0</td>\n",
       "      <td>4.0</td>\n",
       "      <td>3.25</td>\n",
       "      <td>3540</td>\n",
       "      <td>159430</td>\n",
       "      <td>2.0</td>\n",
       "      <td>0</td>\n",
       "      <td>0</td>\n",
       "      <td>3</td>\n",
       "      <td>3540</td>\n",
       "      <td>0</td>\n",
       "      <td>2007</td>\n",
       "      <td>0</td>\n",
       "      <td>33001 NE 24th St</td>\n",
       "      <td>Carnation</td>\n",
       "      <td>WA 98014</td>\n",
       "      <td>USA</td>\n",
       "    </tr>\n",
       "    <tr>\n",
       "      <th>2</th>\n",
       "      <td>2014-05-09 00:00:00</td>\n",
       "      <td>2238888.0</td>\n",
       "      <td>5.0</td>\n",
       "      <td>6.50</td>\n",
       "      <td>7270</td>\n",
       "      <td>130017</td>\n",
       "      <td>2.0</td>\n",
       "      <td>0</td>\n",
       "      <td>0</td>\n",
       "      <td>3</td>\n",
       "      <td>6420</td>\n",
       "      <td>850</td>\n",
       "      <td>2010</td>\n",
       "      <td>0</td>\n",
       "      <td>7070 270th Pl SE</td>\n",
       "      <td>Issaquah</td>\n",
       "      <td>WA 98029</td>\n",
       "      <td>USA</td>\n",
       "    </tr>\n",
       "    <tr>\n",
       "      <th>3</th>\n",
       "      <td>2014-05-09 00:00:00</td>\n",
       "      <td>324000.0</td>\n",
       "      <td>3.0</td>\n",
       "      <td>2.25</td>\n",
       "      <td>998</td>\n",
       "      <td>904</td>\n",
       "      <td>2.0</td>\n",
       "      <td>0</td>\n",
       "      <td>0</td>\n",
       "      <td>3</td>\n",
       "      <td>798</td>\n",
       "      <td>200</td>\n",
       "      <td>2007</td>\n",
       "      <td>0</td>\n",
       "      <td>820 NW 95th St</td>\n",
       "      <td>Seattle</td>\n",
       "      <td>WA 98117</td>\n",
       "      <td>USA</td>\n",
       "    </tr>\n",
       "    <tr>\n",
       "      <th>4</th>\n",
       "      <td>2014-05-10 00:00:00</td>\n",
       "      <td>549900.0</td>\n",
       "      <td>5.0</td>\n",
       "      <td>2.75</td>\n",
       "      <td>3060</td>\n",
       "      <td>7015</td>\n",
       "      <td>1.0</td>\n",
       "      <td>0</td>\n",
       "      <td>0</td>\n",
       "      <td>5</td>\n",
       "      <td>1600</td>\n",
       "      <td>1460</td>\n",
       "      <td>1979</td>\n",
       "      <td>0</td>\n",
       "      <td>10834 31st Ave SW</td>\n",
       "      <td>Seattle</td>\n",
       "      <td>WA 98146</td>\n",
       "      <td>USA</td>\n",
       "    </tr>\n",
       "  </tbody>\n",
       "</table>\n",
       "</div>"
      ],
      "text/plain": [
       "                  date      price  bedrooms  bathrooms  sqft_living  sqft_lot  \\\n",
       "0  2014-05-09 00:00:00   376000.0       3.0       2.00         1340      1384   \n",
       "1  2014-05-09 00:00:00   800000.0       4.0       3.25         3540    159430   \n",
       "2  2014-05-09 00:00:00  2238888.0       5.0       6.50         7270    130017   \n",
       "3  2014-05-09 00:00:00   324000.0       3.0       2.25          998       904   \n",
       "4  2014-05-10 00:00:00   549900.0       5.0       2.75         3060      7015   \n",
       "\n",
       "   floors  waterfront  view  condition  sqft_above  sqft_basement  yr_built  \\\n",
       "0     3.0           0     0          3        1340              0      2008   \n",
       "1     2.0           0     0          3        3540              0      2007   \n",
       "2     2.0           0     0          3        6420            850      2010   \n",
       "3     2.0           0     0          3         798            200      2007   \n",
       "4     1.0           0     0          5        1600           1460      1979   \n",
       "\n",
       "   yr_renovated                   street       city  statezip country  \n",
       "0             0  9245-9249 Fremont Ave N    Seattle  WA 98103     USA  \n",
       "1             0         33001 NE 24th St  Carnation  WA 98014     USA  \n",
       "2             0         7070 270th Pl SE   Issaquah  WA 98029     USA  \n",
       "3             0           820 NW 95th St    Seattle  WA 98117     USA  \n",
       "4             0        10834 31st Ave SW    Seattle  WA 98146     USA  "
      ]
     },
     "execution_count": 2,
     "metadata": {},
     "output_type": "execute_result"
    }
   ],
   "source": [
    "dataset = pd.read_csv(\"/kaggle/input/usa-house-prices/USA Housing Dataset.csv\")\n",
    "dataset.head()"
   ]
  },
  {
   "cell_type": "markdown",
   "id": "8cb1c858",
   "metadata": {
    "papermill": {
     "duration": 0.009486,
     "end_time": "2024-07-25T18:10:29.615032",
     "exception": false,
     "start_time": "2024-07-25T18:10:29.605546",
     "status": "completed"
    },
    "tags": []
   },
   "source": [
    "**Explore the dataset**"
   ]
  },
  {
   "cell_type": "code",
   "execution_count": 3,
   "id": "8e940dfd",
   "metadata": {
    "execution": {
     "iopub.execute_input": "2024-07-25T18:10:29.637183Z",
     "iopub.status.busy": "2024-07-25T18:10:29.636775Z",
     "iopub.status.idle": "2024-07-25T18:10:29.643937Z",
     "shell.execute_reply": "2024-07-25T18:10:29.642687Z"
    },
    "papermill": {
     "duration": 0.020567,
     "end_time": "2024-07-25T18:10:29.646338",
     "exception": false,
     "start_time": "2024-07-25T18:10:29.625771",
     "status": "completed"
    },
    "tags": []
   },
   "outputs": [
    {
     "data": {
      "text/plain": [
       "(4140, 18)"
      ]
     },
     "execution_count": 3,
     "metadata": {},
     "output_type": "execute_result"
    }
   ],
   "source": [
    "dataset.shape"
   ]
  },
  {
   "cell_type": "code",
   "execution_count": 4,
   "id": "fe21fe0c",
   "metadata": {
    "execution": {
     "iopub.execute_input": "2024-07-25T18:10:29.667800Z",
     "iopub.status.busy": "2024-07-25T18:10:29.667432Z",
     "iopub.status.idle": "2024-07-25T18:10:29.674239Z",
     "shell.execute_reply": "2024-07-25T18:10:29.673164Z"
    },
    "papermill": {
     "duration": 0.020566,
     "end_time": "2024-07-25T18:10:29.676787",
     "exception": false,
     "start_time": "2024-07-25T18:10:29.656221",
     "status": "completed"
    },
    "tags": []
   },
   "outputs": [
    {
     "data": {
      "text/plain": [
       "Index(['date', 'price', 'bedrooms', 'bathrooms', 'sqft_living', 'sqft_lot',\n",
       "       'floors', 'waterfront', 'view', 'condition', 'sqft_above',\n",
       "       'sqft_basement', 'yr_built', 'yr_renovated', 'street', 'city',\n",
       "       'statezip', 'country'],\n",
       "      dtype='object')"
      ]
     },
     "execution_count": 4,
     "metadata": {},
     "output_type": "execute_result"
    }
   ],
   "source": [
    "dataset.columns"
   ]
  },
  {
   "cell_type": "markdown",
   "id": "a9eec855",
   "metadata": {
    "papermill": {
     "duration": 0.010445,
     "end_time": "2024-07-25T18:10:29.697516",
     "exception": false,
     "start_time": "2024-07-25T18:10:29.687071",
     "status": "completed"
    },
    "tags": []
   },
   "source": [
    "**Let's remove unused columns**"
   ]
  },
  {
   "cell_type": "code",
   "execution_count": 5,
   "id": "89a168d6",
   "metadata": {
    "execution": {
     "iopub.execute_input": "2024-07-25T18:10:29.720065Z",
     "iopub.status.busy": "2024-07-25T18:10:29.719691Z",
     "iopub.status.idle": "2024-07-25T18:10:29.746569Z",
     "shell.execute_reply": "2024-07-25T18:10:29.745352Z"
    },
    "papermill": {
     "duration": 0.041032,
     "end_time": "2024-07-25T18:10:29.749319",
     "exception": false,
     "start_time": "2024-07-25T18:10:29.708287",
     "status": "completed"
    },
    "tags": []
   },
   "outputs": [
    {
     "data": {
      "text/html": [
       "<div>\n",
       "<style scoped>\n",
       "    .dataframe tbody tr th:only-of-type {\n",
       "        vertical-align: middle;\n",
       "    }\n",
       "\n",
       "    .dataframe tbody tr th {\n",
       "        vertical-align: top;\n",
       "    }\n",
       "\n",
       "    .dataframe thead th {\n",
       "        text-align: right;\n",
       "    }\n",
       "</style>\n",
       "<table border=\"1\" class=\"dataframe\">\n",
       "  <thead>\n",
       "    <tr style=\"text-align: right;\">\n",
       "      <th></th>\n",
       "      <th>price</th>\n",
       "      <th>bedrooms</th>\n",
       "      <th>bathrooms</th>\n",
       "      <th>sqft_living</th>\n",
       "      <th>sqft_lot</th>\n",
       "      <th>floors</th>\n",
       "      <th>waterfront</th>\n",
       "      <th>view</th>\n",
       "      <th>condition</th>\n",
       "      <th>sqft_above</th>\n",
       "      <th>sqft_basement</th>\n",
       "      <th>yr_built</th>\n",
       "      <th>yr_renovated</th>\n",
       "      <th>street</th>\n",
       "      <th>city</th>\n",
       "    </tr>\n",
       "  </thead>\n",
       "  <tbody>\n",
       "    <tr>\n",
       "      <th>0</th>\n",
       "      <td>376000.0</td>\n",
       "      <td>3.0</td>\n",
       "      <td>2.00</td>\n",
       "      <td>1340</td>\n",
       "      <td>1384</td>\n",
       "      <td>3.0</td>\n",
       "      <td>0</td>\n",
       "      <td>0</td>\n",
       "      <td>3</td>\n",
       "      <td>1340</td>\n",
       "      <td>0</td>\n",
       "      <td>2008</td>\n",
       "      <td>0</td>\n",
       "      <td>9245-9249 Fremont Ave N</td>\n",
       "      <td>Seattle</td>\n",
       "    </tr>\n",
       "    <tr>\n",
       "      <th>1</th>\n",
       "      <td>800000.0</td>\n",
       "      <td>4.0</td>\n",
       "      <td>3.25</td>\n",
       "      <td>3540</td>\n",
       "      <td>159430</td>\n",
       "      <td>2.0</td>\n",
       "      <td>0</td>\n",
       "      <td>0</td>\n",
       "      <td>3</td>\n",
       "      <td>3540</td>\n",
       "      <td>0</td>\n",
       "      <td>2007</td>\n",
       "      <td>0</td>\n",
       "      <td>33001 NE 24th St</td>\n",
       "      <td>Carnation</td>\n",
       "    </tr>\n",
       "    <tr>\n",
       "      <th>2</th>\n",
       "      <td>2238888.0</td>\n",
       "      <td>5.0</td>\n",
       "      <td>6.50</td>\n",
       "      <td>7270</td>\n",
       "      <td>130017</td>\n",
       "      <td>2.0</td>\n",
       "      <td>0</td>\n",
       "      <td>0</td>\n",
       "      <td>3</td>\n",
       "      <td>6420</td>\n",
       "      <td>850</td>\n",
       "      <td>2010</td>\n",
       "      <td>0</td>\n",
       "      <td>7070 270th Pl SE</td>\n",
       "      <td>Issaquah</td>\n",
       "    </tr>\n",
       "    <tr>\n",
       "      <th>3</th>\n",
       "      <td>324000.0</td>\n",
       "      <td>3.0</td>\n",
       "      <td>2.25</td>\n",
       "      <td>998</td>\n",
       "      <td>904</td>\n",
       "      <td>2.0</td>\n",
       "      <td>0</td>\n",
       "      <td>0</td>\n",
       "      <td>3</td>\n",
       "      <td>798</td>\n",
       "      <td>200</td>\n",
       "      <td>2007</td>\n",
       "      <td>0</td>\n",
       "      <td>820 NW 95th St</td>\n",
       "      <td>Seattle</td>\n",
       "    </tr>\n",
       "    <tr>\n",
       "      <th>4</th>\n",
       "      <td>549900.0</td>\n",
       "      <td>5.0</td>\n",
       "      <td>2.75</td>\n",
       "      <td>3060</td>\n",
       "      <td>7015</td>\n",
       "      <td>1.0</td>\n",
       "      <td>0</td>\n",
       "      <td>0</td>\n",
       "      <td>5</td>\n",
       "      <td>1600</td>\n",
       "      <td>1460</td>\n",
       "      <td>1979</td>\n",
       "      <td>0</td>\n",
       "      <td>10834 31st Ave SW</td>\n",
       "      <td>Seattle</td>\n",
       "    </tr>\n",
       "  </tbody>\n",
       "</table>\n",
       "</div>"
      ],
      "text/plain": [
       "       price  bedrooms  bathrooms  sqft_living  sqft_lot  floors  waterfront  \\\n",
       "0   376000.0       3.0       2.00         1340      1384     3.0           0   \n",
       "1   800000.0       4.0       3.25         3540    159430     2.0           0   \n",
       "2  2238888.0       5.0       6.50         7270    130017     2.0           0   \n",
       "3   324000.0       3.0       2.25          998       904     2.0           0   \n",
       "4   549900.0       5.0       2.75         3060      7015     1.0           0   \n",
       "\n",
       "   view  condition  sqft_above  sqft_basement  yr_built  yr_renovated  \\\n",
       "0     0          3        1340              0      2008             0   \n",
       "1     0          3        3540              0      2007             0   \n",
       "2     0          3        6420            850      2010             0   \n",
       "3     0          3         798            200      2007             0   \n",
       "4     0          5        1600           1460      1979             0   \n",
       "\n",
       "                    street       city  \n",
       "0  9245-9249 Fremont Ave N    Seattle  \n",
       "1         33001 NE 24th St  Carnation  \n",
       "2         7070 270th Pl SE   Issaquah  \n",
       "3           820 NW 95th St    Seattle  \n",
       "4        10834 31st Ave SW    Seattle  "
      ]
     },
     "execution_count": 5,
     "metadata": {},
     "output_type": "execute_result"
    }
   ],
   "source": [
    "dataset = dataset.drop(['date','statezip','country'], axis = 'columns')\n",
    "dataset.head()"
   ]
  },
  {
   "cell_type": "markdown",
   "id": "ed2c23fa",
   "metadata": {
    "papermill": {
     "duration": 0.009965,
     "end_time": "2024-07-25T18:10:29.769504",
     "exception": false,
     "start_time": "2024-07-25T18:10:29.759539",
     "status": "completed"
    },
    "tags": []
   },
   "source": [
    "**Let's create barplot to check House in each city**"
   ]
  },
  {
   "cell_type": "code",
   "execution_count": 6,
   "id": "169eb1c4",
   "metadata": {
    "execution": {
     "iopub.execute_input": "2024-07-25T18:10:29.791591Z",
     "iopub.status.busy": "2024-07-25T18:10:29.791220Z",
     "iopub.status.idle": "2024-07-25T18:10:29.808144Z",
     "shell.execute_reply": "2024-07-25T18:10:29.806908Z"
    },
    "papermill": {
     "duration": 0.030992,
     "end_time": "2024-07-25T18:10:29.810699",
     "exception": false,
     "start_time": "2024-07-25T18:10:29.779707",
     "status": "completed"
    },
    "tags": []
   },
   "outputs": [
    {
     "data": {
      "text/plain": [
       "city\n",
       "Seattle               1415\n",
       "Renton                 261\n",
       "Bellevue               260\n",
       "Redmond                209\n",
       "Kent                   167\n",
       "Kirkland               166\n",
       "Auburn                 162\n",
       "Issaquah               162\n",
       "Sammamish              158\n",
       "Federal Way            131\n",
       "Shoreline              112\n",
       "Woodinville            103\n",
       "Maple Valley            90\n",
       "Mercer Island           81\n",
       "Snoqualmie              65\n",
       "Burien                  64\n",
       "Kenmore                 58\n",
       "Des Moines              52\n",
       "North Bend              45\n",
       "Covington               39\n",
       "Duvall                  39\n",
       "Lake Forest Park        33\n",
       "Newcastle               31\n",
       "Bothell                 30\n",
       "SeaTac                  29\n",
       "Vashon                  28\n",
       "Tukwila                 28\n",
       "Enumclaw                28\n",
       "Carnation               18\n",
       "Normandy Park           16\n",
       "Medina                  11\n",
       "Clyde Hill              10\n",
       "Fall City                9\n",
       "Black Diamond            7\n",
       "Pacific                  6\n",
       "Yarrow Point             4\n",
       "Ravensdale               4\n",
       "Preston                  2\n",
       "Milton                   2\n",
       "Skykomish                2\n",
       "Snoqualmie Pass          1\n",
       "Beaux Arts Village       1\n",
       "Algona                   1\n",
       "Name: count, dtype: int64"
      ]
     },
     "execution_count": 6,
     "metadata": {},
     "output_type": "execute_result"
    }
   ],
   "source": [
    "import matplotlib.pyplot as plt\n",
    "# Count the number of houses in each city\n",
    "city_counts = dataset['city'].value_counts()\n",
    "city_counts"
   ]
  },
  {
   "cell_type": "code",
   "execution_count": 7,
   "id": "ece3f901",
   "metadata": {
    "execution": {
     "iopub.execute_input": "2024-07-25T18:10:29.833547Z",
     "iopub.status.busy": "2024-07-25T18:10:29.833136Z",
     "iopub.status.idle": "2024-07-25T18:10:30.481704Z",
     "shell.execute_reply": "2024-07-25T18:10:30.480529Z"
    },
    "papermill": {
     "duration": 0.663842,
     "end_time": "2024-07-25T18:10:30.485106",
     "exception": false,
     "start_time": "2024-07-25T18:10:29.821264",
     "status": "completed"
    },
    "tags": []
   },
   "outputs": [
    {
     "data": {
      "image/png": "[encoded data removed]",
      "text/plain": [
       "<Figure size 1600x900 with 1 Axes>"
      ]
     },
     "metadata": {},
     "output_type": "display_data"
    }
   ],
   "source": [
    "# Plot the bar chart\n",
    "plt.figure(figsize=(16, 9))\n",
    "city_counts.plot(kind='bar')\n",
    "plt.title('Number of Houses by City')\n",
    "plt.xlabel('City')\n",
    "plt.ylabel('Count')\n",
    "plt.xticks(rotation=45)\n",
    "plt.show()"
   ]
  },
  {
   "cell_type": "markdown",
   "id": "03c4f7be",
   "metadata": {
    "papermill": {
     "duration": 0.011517,
     "end_time": "2024-07-25T18:10:30.508425",
     "exception": false,
     "start_time": "2024-07-25T18:10:30.496908",
     "status": "completed"
    },
    "tags": []
   },
   "source": [
    "**Let's create barplot to check House in Street**"
   ]
  },
  {
   "cell_type": "code",
   "execution_count": 8,
   "id": "310cf373",
   "metadata": {
    "execution": {
     "iopub.execute_input": "2024-07-25T18:10:30.534059Z",
     "iopub.status.busy": "2024-07-25T18:10:30.533239Z",
     "iopub.status.idle": "2024-07-25T18:10:30.544908Z",
     "shell.execute_reply": "2024-07-25T18:10:30.543771Z"
    },
    "papermill": {
     "duration": 0.027238,
     "end_time": "2024-07-25T18:10:30.547487",
     "exception": false,
     "start_time": "2024-07-25T18:10:30.520249",
     "status": "completed"
    },
    "tags": []
   },
   "outputs": [
    {
     "data": {
      "text/plain": [
       "street\n",
       "2520 Mulberry Walk NE    4\n",
       "2500 Mulberry Walk NE    3\n",
       "14583 NE 58th St         2\n",
       "14634 128th Ave NE       2\n",
       "34115 SE Ash St          2\n",
       "                        ..\n",
       "9007 4th Ave NW          1\n",
       "21924 234th Ave SE       1\n",
       "4612 92nd Ave NE         1\n",
       "2825 W Elmore Pl         1\n",
       "18717 SE 258th St        1\n",
       "Name: count, Length: 4079, dtype: int64"
      ]
     },
     "execution_count": 8,
     "metadata": {},
     "output_type": "execute_result"
    }
   ],
   "source": [
    "# Count the number of houses in each city\n",
    "street_counts = dataset['street'].value_counts()\n",
    "street_counts"
   ]
  },
  {
   "cell_type": "code",
   "execution_count": 9,
   "id": "6d9e0f5a",
   "metadata": {
    "execution": {
     "iopub.execute_input": "2024-07-25T18:10:30.574092Z",
     "iopub.status.busy": "2024-07-25T18:10:30.573643Z",
     "iopub.status.idle": "2024-07-25T18:10:30.583251Z",
     "shell.execute_reply": "2024-07-25T18:10:30.581666Z"
    },
    "papermill": {
     "duration": 0.025518,
     "end_time": "2024-07-25T18:10:30.585767",
     "exception": false,
     "start_time": "2024-07-25T18:10:30.560249",
     "status": "completed"
    },
    "tags": []
   },
   "outputs": [
    {
     "name": "stdout",
     "output_type": "stream",
     "text": [
      "Streets with more than one housestreet\n",
      "2520 Mulberry Walk NE        4\n",
      "2500 Mulberry Walk NE        3\n",
      "14583 NE 58th St             2\n",
      "14634 128th Ave NE           2\n",
      "34115 SE Ash St              2\n",
      "7075-7131 Thompson Ave SE    2\n",
      "8216 Linden Ave N            2\n",
      "12418 NE 100th St            2\n",
      "2300 14th Ave S              2\n",
      "5010 Greenwood Ave N         2\n",
      "11807 NE 105th Ct            2\n",
      "5968 44th Ave S              2\n",
      "11824 SE 203rd St            2\n",
      "323 25th Ave S               2\n",
      "11034 NE 26th Pl             2\n",
      "11931 179th Pl NE            2\n",
      "4507 Linden Ave N            2\n",
      "11716 16th Ave NE            2\n",
      "13420 121st Ave NE           2\n",
      "611 N 46th St                2\n",
      "22840 SE 269th St            2\n",
      "1018 NE 96th St              2\n",
      "619 9th Ave                  2\n",
      "1149-1199 91st Ave NE        2\n",
      "5703 Charlotte Ave SE        2\n",
      "Indian Trail                 2\n",
      "6520-6588 8th Ave NW         2\n",
      "8434 W Mercer Way            2\n",
      "21132 NE 42nd St             2\n",
      "3510 S Holly St              2\n",
      "2803 SW Bataan St            2\n",
      "769 N 74th St                2\n",
      "17510 12th Ave NE            2\n",
      "13820 NE 72nd Pl             2\n",
      "606 5th St SE                2\n",
      "455 S 190th St               2\n",
      "820 NW 95th St               2\n",
      "8430 8th Ave SW              2\n",
      "26007 SE 27th St             2\n",
      "13516 164th Ave SE           2\n",
      "34809 SE Garden Ct           2\n",
      "615 NW 92nd St               2\n",
      "2008 Yale Ave E              2\n",
      "23620 SE 243rd Pl            2\n",
      "897 SE 11th St               2\n",
      "106 24th Ave E               2\n",
      "8354 11th Ave NW             2\n",
      "2358 Fairview Ave E          2\n",
      "9413 34th Ave SW             2\n",
      "3715 NE 153rd St             2\n",
      "1610 N 185th St              2\n",
      "7490 85th Ave SE             2\n",
      "19454 SE 27th Pl             2\n",
      "34214 SE Carmichael St       2\n",
      "6008 8th Ave NE              2\n",
      "353 N 105th St               2\n",
      "2739 31st Ave S              2\n",
      "5221 NE 7th Pl               2\n",
      "Name: count, dtype: int64 and Streets with one house 4021\n"
     ]
    }
   ],
   "source": [
    "# Filter out streets with only one house\n",
    "streets_greater_than_one = street_counts[street_counts > 1]\n",
    "other_streets_count = street_counts[street_counts == 1].sum()\n",
    "print(f'Streets with more than one house{streets_greater_than_one} and Streets with one house {other_streets_count}')"
   ]
  },
  {
   "cell_type": "markdown",
   "id": "d46aae75",
   "metadata": {
    "papermill": {
     "duration": 0.012463,
     "end_time": "2024-07-25T18:10:30.610421",
     "exception": false,
     "start_time": "2024-07-25T18:10:30.597958",
     "status": "completed"
    },
    "tags": []
   },
   "source": [
    "**In this code snippet, you can adjust the top_n variable to control the number of top streets displayed individually on the bar chart. The remaining streets will be grouped into an \"Other\" category. This approach can help simplify the visualization when dealing with a large number of categories.**"
   ]
  },
  {
   "cell_type": "code",
   "execution_count": 10,
   "id": "6291c9bf",
   "metadata": {
    "execution": {
     "iopub.execute_input": "2024-07-25T18:10:30.636653Z",
     "iopub.status.busy": "2024-07-25T18:10:30.636276Z",
     "iopub.status.idle": "2024-07-25T18:10:30.642344Z",
     "shell.execute_reply": "2024-07-25T18:10:30.641216Z"
    },
    "papermill": {
     "duration": 0.022267,
     "end_time": "2024-07-25T18:10:30.644803",
     "exception": false,
     "start_time": "2024-07-25T18:10:30.622536",
     "status": "completed"
    },
    "tags": []
   },
   "outputs": [],
   "source": [
    "# Choose the top N streets to display individually\n",
    "top_n = 10  # Choose the number of top streets to display\n",
    "top_streets = streets_greater_than_one.head(top_n)\n",
    "\n",
    "# Sum the counts of the remaining streets\n",
    "other_count = streets_greater_than_one.sum() - top_streets.sum()"
   ]
  },
  {
   "cell_type": "markdown",
   "id": "874afb57",
   "metadata": {
    "papermill": {
     "duration": 0.012092,
     "end_time": "2024-07-25T18:10:30.669202",
     "exception": false,
     "start_time": "2024-07-25T18:10:30.657110",
     "status": "completed"
    },
    "tags": []
   },
   "source": [
    "**concatenate the two series together using pd.concat() to create the aggregated_counts series**"
   ]
  },
  {
   "cell_type": "code",
   "execution_count": 11,
   "id": "6b317df0",
   "metadata": {
    "execution": {
     "iopub.execute_input": "2024-07-25T18:10:30.695369Z",
     "iopub.status.busy": "2024-07-25T18:10:30.694924Z",
     "iopub.status.idle": "2024-07-25T18:10:30.704734Z",
     "shell.execute_reply": "2024-07-25T18:10:30.703413Z"
    },
    "papermill": {
     "duration": 0.025541,
     "end_time": "2024-07-25T18:10:30.707010",
     "exception": false,
     "start_time": "2024-07-25T18:10:30.681469",
     "status": "completed"
    },
    "tags": []
   },
   "outputs": [
    {
     "data": {
      "text/plain": [
       "2520 Mulberry Walk NE         4\n",
       "2500 Mulberry Walk NE         3\n",
       "14583 NE 58th St              2\n",
       "14634 128th Ave NE            2\n",
       "34115 SE Ash St               2\n",
       "7075-7131 Thompson Ave SE     2\n",
       "8216 Linden Ave N             2\n",
       "12418 NE 100th St             2\n",
       "2300 14th Ave S               2\n",
       "5010 Greenwood Ave N          2\n",
       "Other                        96\n",
       "dtype: int64"
      ]
     },
     "execution_count": 11,
     "metadata": {},
     "output_type": "execute_result"
    }
   ],
   "source": [
    "# Create a new series with aggregated counts\n",
    "aggregated_counts = pd.concat([top_streets, pd.Series([other_count], index=['Other'])])\n",
    "aggregated_counts"
   ]
  },
  {
   "cell_type": "code",
   "execution_count": 12,
   "id": "0c822ab6",
   "metadata": {
    "execution": {
     "iopub.execute_input": "2024-07-25T18:10:30.734767Z",
     "iopub.status.busy": "2024-07-25T18:10:30.734366Z",
     "iopub.status.idle": "2024-07-25T18:10:31.111150Z",
     "shell.execute_reply": "2024-07-25T18:10:31.109954Z"
    },
    "papermill": {
     "duration": 0.393348,
     "end_time": "2024-07-25T18:10:31.113545",
     "exception": false,
     "start_time": "2024-07-25T18:10:30.720197",
     "status": "completed"
    },
    "tags": []
   },
   "outputs": [
    {
     "data": {
      "image/png": "[encoded data removed]",
      "text/plain": [
       "<Figure size 1600x900 with 1 Axes>"
      ]
     },
     "metadata": {},
     "output_type": "display_data"
    }
   ],
   "source": [
    "# Plot the bar chart\n",
    "plt.figure(figsize=(16, 9))\n",
    "aggregated_counts.plot(kind='bar')\n",
    "plt.title('Number of Houses by Street')\n",
    "plt.xlabel('Street')\n",
    "plt.ylabel('Count')\n",
    "plt.xticks(rotation=45)\n",
    "plt.show()"
   ]
  },
  {
   "cell_type": "code",
   "execution_count": 13,
   "id": "941607f5",
   "metadata": {
    "execution": {
     "iopub.execute_input": "2024-07-25T18:10:31.141899Z",
     "iopub.status.busy": "2024-07-25T18:10:31.141506Z",
     "iopub.status.idle": "2024-07-25T18:10:31.160646Z",
     "shell.execute_reply": "2024-07-25T18:10:31.158792Z"
    },
    "papermill": {
     "duration": 0.035996,
     "end_time": "2024-07-25T18:10:31.162869",
     "exception": false,
     "start_time": "2024-07-25T18:10:31.126873",
     "status": "completed"
    },
    "tags": []
   },
   "outputs": [
    {
     "name": "stdout",
     "output_type": "stream",
     "text": [
      "<class 'pandas.core.frame.DataFrame'>\n",
      "RangeIndex: 4140 entries, 0 to 4139\n",
      "Data columns (total 15 columns):\n",
      " #   Column         Non-Null Count  Dtype  \n",
      "---  ------         --------------  -----  \n",
      " 0   price          4140 non-null   float64\n",
      " 1   bedrooms       4140 non-null   float64\n",
      " 2   bathrooms      4140 non-null   float64\n",
      " 3   sqft_living    4140 non-null   int64  \n",
      " 4   sqft_lot       4140 non-null   int64  \n",
      " 5   floors         4140 non-null   float64\n",
      " 6   waterfront     4140 non-null   int64  \n",
      " 7   view           4140 non-null   int64  \n",
      " 8   condition      4140 non-null   int64  \n",
      " 9   sqft_above     4140 non-null   int64  \n",
      " 10  sqft_basement  4140 non-null   int64  \n",
      " 11  yr_built       4140 non-null   int64  \n",
      " 12  yr_renovated   4140 non-null   int64  \n",
      " 13  street         4140 non-null   object \n",
      " 14  city           4140 non-null   object \n",
      "dtypes: float64(4), int64(9), object(2)\n",
      "memory usage: 485.3+ KB\n"
     ]
    }
   ],
   "source": [
    "dataset.info()"
   ]
  },
  {
   "cell_type": "code",
   "execution_count": 14,
   "id": "89c3ef70",
   "metadata": {
    "execution": {
     "iopub.execute_input": "2024-07-25T18:10:31.191962Z",
     "iopub.status.busy": "2024-07-25T18:10:31.190953Z",
     "iopub.status.idle": "2024-07-25T18:10:31.199221Z",
     "shell.execute_reply": "2024-07-25T18:10:31.198036Z"
    },
    "papermill": {
     "duration": 0.025259,
     "end_time": "2024-07-25T18:10:31.201555",
     "exception": false,
     "start_time": "2024-07-25T18:10:31.176296",
     "status": "completed"
    },
    "tags": []
   },
   "outputs": [
    {
     "data": {
      "text/plain": [
       "Index(['street', 'city'], dtype='object')"
      ]
     },
     "execution_count": 14,
     "metadata": {},
     "output_type": "execute_result"
    }
   ],
   "source": [
    "dataset.select_dtypes(include = 'object').columns"
   ]
  },
  {
   "cell_type": "code",
   "execution_count": 15,
   "id": "46ac7258",
   "metadata": {
    "execution": {
     "iopub.execute_input": "2024-07-25T18:10:31.230892Z",
     "iopub.status.busy": "2024-07-25T18:10:31.230510Z",
     "iopub.status.idle": "2024-07-25T18:10:31.238887Z",
     "shell.execute_reply": "2024-07-25T18:10:31.237908Z"
    },
    "papermill": {
     "duration": 0.025864,
     "end_time": "2024-07-25T18:10:31.241381",
     "exception": false,
     "start_time": "2024-07-25T18:10:31.215517",
     "status": "completed"
    },
    "tags": []
   },
   "outputs": [
    {
     "data": {
      "text/plain": [
       "2"
      ]
     },
     "execution_count": 15,
     "metadata": {},
     "output_type": "execute_result"
    }
   ],
   "source": [
    "len(dataset.select_dtypes(include = 'object').columns)"
   ]
  },
  {
   "cell_type": "markdown",
   "id": "7baf154d",
   "metadata": {
    "papermill": {
     "duration": 0.013377,
     "end_time": "2024-07-25T18:10:31.268266",
     "exception": false,
     "start_time": "2024-07-25T18:10:31.254889",
     "status": "completed"
    },
    "tags": []
   },
   "source": [
    "**Lets handle Categorical Values**"
   ]
  },
  {
   "cell_type": "code",
   "execution_count": 16,
   "id": "9a11f3f4",
   "metadata": {
    "execution": {
     "iopub.execute_input": "2024-07-25T18:10:31.299149Z",
     "iopub.status.busy": "2024-07-25T18:10:31.298690Z",
     "iopub.status.idle": "2024-07-25T18:10:31.355643Z",
     "shell.execute_reply": "2024-07-25T18:10:31.354451Z"
    },
    "papermill": {
     "duration": 0.075446,
     "end_time": "2024-07-25T18:10:31.358220",
     "exception": false,
     "start_time": "2024-07-25T18:10:31.282774",
     "status": "completed"
    },
    "tags": []
   },
   "outputs": [
    {
     "data": {
      "text/html": [
       "<div>\n",
       "<style scoped>\n",
       "    .dataframe tbody tr th:only-of-type {\n",
       "        vertical-align: middle;\n",
       "    }\n",
       "\n",
       "    .dataframe tbody tr th {\n",
       "        vertical-align: top;\n",
       "    }\n",
       "\n",
       "    .dataframe thead th {\n",
       "        text-align: right;\n",
       "    }\n",
       "</style>\n",
       "<table border=\"1\" class=\"dataframe\">\n",
       "  <thead>\n",
       "    <tr style=\"text-align: right;\">\n",
       "      <th></th>\n",
       "      <th>price</th>\n",
       "      <th>bedrooms</th>\n",
       "      <th>bathrooms</th>\n",
       "      <th>sqft_living</th>\n",
       "      <th>sqft_lot</th>\n",
       "      <th>floors</th>\n",
       "      <th>waterfront</th>\n",
       "      <th>view</th>\n",
       "      <th>condition</th>\n",
       "      <th>sqft_above</th>\n",
       "      <th>...</th>\n",
       "      <th>city_SeaTac</th>\n",
       "      <th>city_Seattle</th>\n",
       "      <th>city_Shoreline</th>\n",
       "      <th>city_Skykomish</th>\n",
       "      <th>city_Snoqualmie</th>\n",
       "      <th>city_Snoqualmie Pass</th>\n",
       "      <th>city_Tukwila</th>\n",
       "      <th>city_Vashon</th>\n",
       "      <th>city_Woodinville</th>\n",
       "      <th>city_Yarrow Point</th>\n",
       "    </tr>\n",
       "  </thead>\n",
       "  <tbody>\n",
       "    <tr>\n",
       "      <th>0</th>\n",
       "      <td>376000.0</td>\n",
       "      <td>3.0</td>\n",
       "      <td>2.00</td>\n",
       "      <td>1340</td>\n",
       "      <td>1384</td>\n",
       "      <td>3.0</td>\n",
       "      <td>0</td>\n",
       "      <td>0</td>\n",
       "      <td>3</td>\n",
       "      <td>1340</td>\n",
       "      <td>...</td>\n",
       "      <td>False</td>\n",
       "      <td>True</td>\n",
       "      <td>False</td>\n",
       "      <td>False</td>\n",
       "      <td>False</td>\n",
       "      <td>False</td>\n",
       "      <td>False</td>\n",
       "      <td>False</td>\n",
       "      <td>False</td>\n",
       "      <td>False</td>\n",
       "    </tr>\n",
       "    <tr>\n",
       "      <th>1</th>\n",
       "      <td>800000.0</td>\n",
       "      <td>4.0</td>\n",
       "      <td>3.25</td>\n",
       "      <td>3540</td>\n",
       "      <td>159430</td>\n",
       "      <td>2.0</td>\n",
       "      <td>0</td>\n",
       "      <td>0</td>\n",
       "      <td>3</td>\n",
       "      <td>3540</td>\n",
       "      <td>...</td>\n",
       "      <td>False</td>\n",
       "      <td>False</td>\n",
       "      <td>False</td>\n",
       "      <td>False</td>\n",
       "      <td>False</td>\n",
       "      <td>False</td>\n",
       "      <td>False</td>\n",
       "      <td>False</td>\n",
       "      <td>False</td>\n",
       "      <td>False</td>\n",
       "    </tr>\n",
       "    <tr>\n",
       "      <th>2</th>\n",
       "      <td>2238888.0</td>\n",
       "      <td>5.0</td>\n",
       "      <td>6.50</td>\n",
       "      <td>7270</td>\n",
       "      <td>130017</td>\n",
       "      <td>2.0</td>\n",
       "      <td>0</td>\n",
       "      <td>0</td>\n",
       "      <td>3</td>\n",
       "      <td>6420</td>\n",
       "      <td>...</td>\n",
       "      <td>False</td>\n",
       "      <td>False</td>\n",
       "      <td>False</td>\n",
       "      <td>False</td>\n",
       "      <td>False</td>\n",
       "      <td>False</td>\n",
       "      <td>False</td>\n",
       "      <td>False</td>\n",
       "      <td>False</td>\n",
       "      <td>False</td>\n",
       "    </tr>\n",
       "    <tr>\n",
       "      <th>3</th>\n",
       "      <td>324000.0</td>\n",
       "      <td>3.0</td>\n",
       "      <td>2.25</td>\n",
       "      <td>998</td>\n",
       "      <td>904</td>\n",
       "      <td>2.0</td>\n",
       "      <td>0</td>\n",
       "      <td>0</td>\n",
       "      <td>3</td>\n",
       "      <td>798</td>\n",
       "      <td>...</td>\n",
       "      <td>False</td>\n",
       "      <td>True</td>\n",
       "      <td>False</td>\n",
       "      <td>False</td>\n",
       "      <td>False</td>\n",
       "      <td>False</td>\n",
       "      <td>False</td>\n",
       "      <td>False</td>\n",
       "      <td>False</td>\n",
       "      <td>False</td>\n",
       "    </tr>\n",
       "    <tr>\n",
       "      <th>4</th>\n",
       "      <td>549900.0</td>\n",
       "      <td>5.0</td>\n",
       "      <td>2.75</td>\n",
       "      <td>3060</td>\n",
       "      <td>7015</td>\n",
       "      <td>1.0</td>\n",
       "      <td>0</td>\n",
       "      <td>0</td>\n",
       "      <td>5</td>\n",
       "      <td>1600</td>\n",
       "      <td>...</td>\n",
       "      <td>False</td>\n",
       "      <td>True</td>\n",
       "      <td>False</td>\n",
       "      <td>False</td>\n",
       "      <td>False</td>\n",
       "      <td>False</td>\n",
       "      <td>False</td>\n",
       "      <td>False</td>\n",
       "      <td>False</td>\n",
       "      <td>False</td>\n",
       "    </tr>\n",
       "  </tbody>\n",
       "</table>\n",
       "<p>5 rows × 4133 columns</p>\n",
       "</div>"
      ],
      "text/plain": [
       "       price  bedrooms  bathrooms  sqft_living  sqft_lot  floors  waterfront  \\\n",
       "0   376000.0       3.0       2.00         1340      1384     3.0           0   \n",
       "1   800000.0       4.0       3.25         3540    159430     2.0           0   \n",
       "2  2238888.0       5.0       6.50         7270    130017     2.0           0   \n",
       "3   324000.0       3.0       2.25          998       904     2.0           0   \n",
       "4   549900.0       5.0       2.75         3060      7015     1.0           0   \n",
       "\n",
       "   view  condition  sqft_above  ...  city_SeaTac  city_Seattle  \\\n",
       "0     0          3        1340  ...        False          True   \n",
       "1     0          3        3540  ...        False         False   \n",
       "2     0          3        6420  ...        False         False   \n",
       "3     0          3         798  ...        False          True   \n",
       "4     0          5        1600  ...        False          True   \n",
       "\n",
       "   city_Shoreline  city_Skykomish  city_Snoqualmie  city_Snoqualmie Pass  \\\n",
       "0           False           False            False                 False   \n",
       "1           False           False            False                 False   \n",
       "2           False           False            False                 False   \n",
       "3           False           False            False                 False   \n",
       "4           False           False            False                 False   \n",
       "\n",
       "   city_Tukwila  city_Vashon  city_Woodinville  city_Yarrow Point  \n",
       "0         False        False             False              False  \n",
       "1         False        False             False              False  \n",
       "2         False        False             False              False  \n",
       "3         False        False             False              False  \n",
       "4         False        False             False              False  \n",
       "\n",
       "[5 rows x 4133 columns]"
      ]
     },
     "execution_count": 16,
     "metadata": {},
     "output_type": "execute_result"
    }
   ],
   "source": [
    "# Perform one-hot encoding for 'street' and 'city' columns\n",
    "dataset= pd.get_dummies(dataset, columns=['street', 'city'], drop_first = True)\n",
    "dataset.head()"
   ]
  },
  {
   "cell_type": "code",
   "execution_count": 17,
   "id": "84169c5d",
   "metadata": {
    "execution": {
     "iopub.execute_input": "2024-07-25T18:10:31.388835Z",
     "iopub.status.busy": "2024-07-25T18:10:31.387750Z",
     "iopub.status.idle": "2024-07-25T18:10:31.395424Z",
     "shell.execute_reply": "2024-07-25T18:10:31.394383Z"
    },
    "papermill": {
     "duration": 0.025263,
     "end_time": "2024-07-25T18:10:31.397563",
     "exception": false,
     "start_time": "2024-07-25T18:10:31.372300",
     "status": "completed"
    },
    "tags": []
   },
   "outputs": [
    {
     "data": {
      "text/plain": [
       "Index([], dtype='object')"
      ]
     },
     "execution_count": 17,
     "metadata": {},
     "output_type": "execute_result"
    }
   ],
   "source": [
    "dataset.select_dtypes(include = 'object').columns"
   ]
  },
  {
   "cell_type": "markdown",
   "id": "a65d0bc2",
   "metadata": {
    "papermill": {
     "duration": 0.013906,
     "end_time": "2024-07-25T18:10:31.425454",
     "exception": false,
     "start_time": "2024-07-25T18:10:31.411548",
     "status": "completed"
    },
    "tags": []
   },
   "source": [
    "**Check and handle missing values**"
   ]
  },
  {
   "cell_type": "code",
   "execution_count": 18,
   "id": "bc385582",
   "metadata": {
    "execution": {
     "iopub.execute_input": "2024-07-25T18:10:31.514187Z",
     "iopub.status.busy": "2024-07-25T18:10:31.513785Z",
     "iopub.status.idle": "2024-07-25T18:10:31.538652Z",
     "shell.execute_reply": "2024-07-25T18:10:31.537612Z"
    },
    "papermill": {
     "duration": 0.043046,
     "end_time": "2024-07-25T18:10:31.541397",
     "exception": false,
     "start_time": "2024-07-25T18:10:31.498351",
     "status": "completed"
    },
    "tags": []
   },
   "outputs": [
    {
     "data": {
      "text/plain": [
       "False"
      ]
     },
     "execution_count": 18,
     "metadata": {},
     "output_type": "execute_result"
    }
   ],
   "source": [
    "dataset.isnull().values.any()"
   ]
  },
  {
   "cell_type": "markdown",
   "id": "0c3fd013",
   "metadata": {
    "papermill": {
     "duration": 0.014563,
     "end_time": "2024-07-25T18:10:31.570524",
     "exception": false,
     "start_time": "2024-07-25T18:10:31.555961",
     "status": "completed"
    },
    "tags": []
   },
   "source": [
    "**Feature Scaling and Feature Engineering**"
   ]
  },
  {
   "cell_type": "code",
   "execution_count": 19,
   "id": "4125ce41",
   "metadata": {
    "execution": {
     "iopub.execute_input": "2024-07-25T18:10:31.601103Z",
     "iopub.status.busy": "2024-07-25T18:10:31.600670Z",
     "iopub.status.idle": "2024-07-25T18:10:31.629751Z",
     "shell.execute_reply": "2024-07-25T18:10:31.628597Z"
    },
    "papermill": {
     "duration": 0.047253,
     "end_time": "2024-07-25T18:10:31.632210",
     "exception": false,
     "start_time": "2024-07-25T18:10:31.584957",
     "status": "completed"
    },
    "tags": []
   },
   "outputs": [
    {
     "data": {
      "text/html": [
       "<div>\n",
       "<style scoped>\n",
       "    .dataframe tbody tr th:only-of-type {\n",
       "        vertical-align: middle;\n",
       "    }\n",
       "\n",
       "    .dataframe tbody tr th {\n",
       "        vertical-align: top;\n",
       "    }\n",
       "\n",
       "    .dataframe thead th {\n",
       "        text-align: right;\n",
       "    }\n",
       "</style>\n",
       "<table border=\"1\" class=\"dataframe\">\n",
       "  <thead>\n",
       "    <tr style=\"text-align: right;\">\n",
       "      <th></th>\n",
       "      <th>price</th>\n",
       "      <th>bedrooms</th>\n",
       "      <th>bathrooms</th>\n",
       "      <th>floors</th>\n",
       "      <th>waterfront</th>\n",
       "      <th>view</th>\n",
       "      <th>condition</th>\n",
       "      <th>sqft_above</th>\n",
       "      <th>sqft_basement</th>\n",
       "      <th>yr_built</th>\n",
       "      <th>...</th>\n",
       "      <th>city_Seattle</th>\n",
       "      <th>city_Shoreline</th>\n",
       "      <th>city_Skykomish</th>\n",
       "      <th>city_Snoqualmie</th>\n",
       "      <th>city_Snoqualmie Pass</th>\n",
       "      <th>city_Tukwila</th>\n",
       "      <th>city_Vashon</th>\n",
       "      <th>city_Woodinville</th>\n",
       "      <th>city_Yarrow Point</th>\n",
       "      <th>total_area</th>\n",
       "    </tr>\n",
       "  </thead>\n",
       "  <tbody>\n",
       "    <tr>\n",
       "      <th>0</th>\n",
       "      <td>376000.0</td>\n",
       "      <td>3.0</td>\n",
       "      <td>2.00</td>\n",
       "      <td>3.0</td>\n",
       "      <td>0</td>\n",
       "      <td>0</td>\n",
       "      <td>3</td>\n",
       "      <td>1340</td>\n",
       "      <td>0</td>\n",
       "      <td>2008</td>\n",
       "      <td>...</td>\n",
       "      <td>True</td>\n",
       "      <td>False</td>\n",
       "      <td>False</td>\n",
       "      <td>False</td>\n",
       "      <td>False</td>\n",
       "      <td>False</td>\n",
       "      <td>False</td>\n",
       "      <td>False</td>\n",
       "      <td>False</td>\n",
       "      <td>2724</td>\n",
       "    </tr>\n",
       "    <tr>\n",
       "      <th>1</th>\n",
       "      <td>800000.0</td>\n",
       "      <td>4.0</td>\n",
       "      <td>3.25</td>\n",
       "      <td>2.0</td>\n",
       "      <td>0</td>\n",
       "      <td>0</td>\n",
       "      <td>3</td>\n",
       "      <td>3540</td>\n",
       "      <td>0</td>\n",
       "      <td>2007</td>\n",
       "      <td>...</td>\n",
       "      <td>False</td>\n",
       "      <td>False</td>\n",
       "      <td>False</td>\n",
       "      <td>False</td>\n",
       "      <td>False</td>\n",
       "      <td>False</td>\n",
       "      <td>False</td>\n",
       "      <td>False</td>\n",
       "      <td>False</td>\n",
       "      <td>162970</td>\n",
       "    </tr>\n",
       "  </tbody>\n",
       "</table>\n",
       "<p>2 rows × 4132 columns</p>\n",
       "</div>"
      ],
      "text/plain": [
       "      price  bedrooms  bathrooms  floors  waterfront  view  condition  \\\n",
       "0  376000.0       3.0       2.00     3.0           0     0          3   \n",
       "1  800000.0       4.0       3.25     2.0           0     0          3   \n",
       "\n",
       "   sqft_above  sqft_basement  yr_built  ...  city_Seattle  city_Shoreline  \\\n",
       "0        1340              0      2008  ...          True           False   \n",
       "1        3540              0      2007  ...         False           False   \n",
       "\n",
       "   city_Skykomish  city_Snoqualmie  city_Snoqualmie Pass  city_Tukwila  \\\n",
       "0           False            False                 False         False   \n",
       "1           False            False                 False         False   \n",
       "\n",
       "   city_Vashon  city_Woodinville  city_Yarrow Point  total_area  \n",
       "0        False             False              False        2724  \n",
       "1        False             False              False      162970  \n",
       "\n",
       "[2 rows x 4132 columns]"
      ]
     },
     "execution_count": 19,
     "metadata": {},
     "output_type": "execute_result"
    }
   ],
   "source": [
    "# Perform feature engineering - create a new feature 'total_area' by adding 'sqft_living' and 'sqft_lot'\n",
    "dataset['total_area'] = dataset['sqft_living'] + dataset['sqft_lot']\n",
    "dataset = dataset.drop(['sqft_living', 'sqft_lot'], axis = 'columns')\n",
    "dataset.head(2)"
   ]
  },
  {
   "cell_type": "code",
   "execution_count": 20,
   "id": "6f0a302a",
   "metadata": {
    "execution": {
     "iopub.execute_input": "2024-07-25T18:10:31.663969Z",
     "iopub.status.busy": "2024-07-25T18:10:31.663021Z",
     "iopub.status.idle": "2024-07-25T18:10:31.669562Z",
     "shell.execute_reply": "2024-07-25T18:10:31.668537Z"
    },
    "papermill": {
     "duration": 0.024729,
     "end_time": "2024-07-25T18:10:31.671724",
     "exception": false,
     "start_time": "2024-07-25T18:10:31.646995",
     "status": "completed"
    },
    "tags": []
   },
   "outputs": [
    {
     "data": {
      "text/plain": [
       "(4140, 4132)"
      ]
     },
     "execution_count": 20,
     "metadata": {},
     "output_type": "execute_result"
    }
   ],
   "source": [
    "dataset.shape"
   ]
  },
  {
   "cell_type": "code",
   "execution_count": 21,
   "id": "afbc2b89",
   "metadata": {
    "execution": {
     "iopub.execute_input": "2024-07-25T18:10:31.703346Z",
     "iopub.status.busy": "2024-07-25T18:10:31.702949Z",
     "iopub.status.idle": "2024-07-25T18:10:34.095627Z",
     "shell.execute_reply": "2024-07-25T18:10:34.094564Z"
    },
    "papermill": {
     "duration": 2.411749,
     "end_time": "2024-07-25T18:10:34.098378",
     "exception": false,
     "start_time": "2024-07-25T18:10:31.686629",
     "status": "completed"
    },
    "tags": []
   },
   "outputs": [],
   "source": [
    "from sklearn.preprocessing import StandardScaler\n",
    "\n",
    "# Feature scaling\n",
    "scaler = StandardScaler()\n",
    "scaled_features = scaler.fit_transform(dataset.drop(['price'], axis=1))\n",
    "\n",
    "# Create a new DataFrame with scaled features\n",
    "df_scaled = pd.DataFrame(scaled_features, columns=dataset.drop(['price'], axis=1).columns)\n",
    "# df_scaled.head()\n",
    "# Train a Random Forest model to identify important features\n",
    "X = df_scaled\n",
    "y = dataset['price']"
   ]
  },
  {
   "cell_type": "markdown",
   "id": "1d72d6b7",
   "metadata": {
    "papermill": {
     "duration": 0.014614,
     "end_time": "2024-07-25T18:10:34.127903",
     "exception": false,
     "start_time": "2024-07-25T18:10:34.113289",
     "status": "completed"
    },
    "tags": []
   },
   "source": [
    "**Let's Create Train and test for model**"
   ]
  },
  {
   "cell_type": "code",
   "execution_count": 22,
   "id": "0f8e9ad8",
   "metadata": {
    "execution": {
     "iopub.execute_input": "2024-07-25T18:10:34.160420Z",
     "iopub.status.busy": "2024-07-25T18:10:34.159975Z",
     "iopub.status.idle": "2024-07-25T18:10:34.358479Z",
     "shell.execute_reply": "2024-07-25T18:10:34.357282Z"
    },
    "papermill": {
     "duration": 0.217571,
     "end_time": "2024-07-25T18:10:34.361289",
     "exception": false,
     "start_time": "2024-07-25T18:10:34.143718",
     "status": "completed"
    },
    "tags": []
   },
   "outputs": [],
   "source": [
    "from sklearn.model_selection import train_test_split\n",
    "X_train, X_test, y_train, y_test = train_test_split(X, y,test_size=0.2,random_state=42)"
   ]
  },
  {
   "cell_type": "markdown",
   "id": "002cb84f",
   "metadata": {
    "papermill": {
     "duration": 0.014727,
     "end_time": "2024-07-25T18:10:34.390870",
     "exception": false,
     "start_time": "2024-07-25T18:10:34.376143",
     "status": "completed"
    },
    "tags": []
   },
   "source": [
    "**Let's train the model using Random Forest**"
   ]
  },
  {
   "cell_type": "code",
   "execution_count": 23,
   "id": "15699838",
   "metadata": {
    "execution": {
     "iopub.execute_input": "2024-07-25T18:10:34.422575Z",
     "iopub.status.busy": "2024-07-25T18:10:34.422188Z",
     "iopub.status.idle": "2024-07-25T18:11:10.734650Z",
     "shell.execute_reply": "2024-07-25T18:11:10.733365Z"
    },
    "papermill": {
     "duration": 36.346647,
     "end_time": "2024-07-25T18:11:10.752415",
     "exception": false,
     "start_time": "2024-07-25T18:10:34.405768",
     "status": "completed"
    },
    "tags": []
   },
   "outputs": [
    {
     "data": {
      "text/html": [
       "<style>#sk-container-id-1 {color: black;background-color: white;}#sk-container-id-1 pre{padding: 0;}#sk-container-id-1 div.sk-toggleable {background-color: white;}#sk-container-id-1 label.sk-toggleable__label {cursor: pointer;display: block;width: 100%;margin-bottom: 0;padding: 0.3em;box-sizing: border-box;text-align: center;}#sk-container-id-1 label.sk-toggleable__label-arrow:before {content: \"▸\";float: left;margin-right: 0.25em;color: #696969;}#sk-container-id-1 label.sk-toggleable__label-arrow:hover:before {color: black;}#sk-container-id-1 div.sk-estimator:hover label.sk-toggleable__label-arrow:before {color: black;}#sk-container-id-1 div.sk-toggleable__content {max-height: 0;max-width: 0;overflow: hidden;text-align: left;background-color: #f0f8ff;}#sk-container-id-1 div.sk-toggleable__content pre {margin: 0.2em;color: black;border-radius: 0.25em;background-color: #f0f8ff;}#sk-container-id-1 input.sk-toggleable__control:checked~div.sk-toggleable__content {max-height: 200px;max-width: 100%;overflow: auto;}#sk-container-id-1 input.sk-toggleable__control:checked~label.sk-toggleable__label-arrow:before {content: \"▾\";}#sk-container-id-1 div.sk-estimator input.sk-toggleable__control:checked~label.sk-toggleable__label {background-color: #d4ebff;}#sk-container-id-1 div.sk-label input.sk-toggleable__control:checked~label.sk-toggleable__label {background-color: #d4ebff;}#sk-container-id-1 input.sk-hidden--visually {border: 0;clip: rect(1px 1px 1px 1px);clip: rect(1px, 1px, 1px, 1px);height: 1px;margin: -1px;overflow: hidden;padding: 0;position: absolute;width: 1px;}#sk-container-id-1 div.sk-estimator {font-family: monospace;background-color: #f0f8ff;border: 1px dotted black;border-radius: 0.25em;box-sizing: border-box;margin-bottom: 0.5em;}#sk-container-id-1 div.sk-estimator:hover {background-color: #d4ebff;}#sk-container-id-1 div.sk-parallel-item::after {content: \"\";width: 100%;border-bottom: 1px solid gray;flex-grow: 1;}#sk-container-id-1 div.sk-label:hover label.sk-toggleable__label {background-color: #d4ebff;}#sk-container-id-1 div.sk-serial::before {content: \"\";position: absolute;border-left: 1px solid gray;box-sizing: border-box;top: 0;bottom: 0;left: 50%;z-index: 0;}#sk-container-id-1 div.sk-serial {display: flex;flex-direction: column;align-items: center;background-color: white;padding-right: 0.2em;padding-left: 0.2em;position: relative;}#sk-container-id-1 div.sk-item {position: relative;z-index: 1;}#sk-container-id-1 div.sk-parallel {display: flex;align-items: stretch;justify-content: center;background-color: white;position: relative;}#sk-container-id-1 div.sk-item::before, #sk-container-id-1 div.sk-parallel-item::before {content: \"\";position: absolute;border-left: 1px solid gray;box-sizing: border-box;top: 0;bottom: 0;left: 50%;z-index: -1;}#sk-container-id-1 div.sk-parallel-item {display: flex;flex-direction: column;z-index: 1;position: relative;background-color: white;}#sk-container-id-1 div.sk-parallel-item:first-child::after {align-self: flex-end;width: 50%;}#sk-container-id-1 div.sk-parallel-item:last-child::after {align-self: flex-start;width: 50%;}#sk-container-id-1 div.sk-parallel-item:only-child::after {width: 0;}#sk-container-id-1 div.sk-dashed-wrapped {border: 1px dashed gray;margin: 0 0.4em 0.5em 0.4em;box-sizing: border-box;padding-bottom: 0.4em;background-color: white;}#sk-container-id-1 div.sk-label label {font-family: monospace;font-weight: bold;display: inline-block;line-height: 1.2em;}#sk-container-id-1 div.sk-label-container {text-align: center;}#sk-container-id-1 div.sk-container {/* jupyter's `normalize.less` sets `[hidden] { display: none; }` but bootstrap.min.css set `[hidden] { display: none !important; }` so we also need the `!important` here to be able to override the default hidden behavior on the sphinx rendered scikit-learn.org. See: https://github.com/scikit-learn/scikit-learn/issues/21755 */display: inline-block !important;position: relative;}#sk-container-id-1 div.sk-text-repr-fallback {display: none;}</style><div id=\"sk-container-id-1\" class=\"sk-top-container\"><div class=\"sk-text-repr-fallback\"><pre>RandomForestRegressor()</pre><b>In a Jupyter environment, please rerun this cell to show the HTML representation or trust the notebook. <br />On GitHub, the HTML representation is unable to render, please try loading this page with nbviewer.org.</b></div><div class=\"sk-container\" hidden><div class=\"sk-item\"><div class=\"sk-estimator sk-toggleable\"><input class=\"sk-toggleable__control sk-hidden--visually\" id=\"sk-estimator-id-1\" type=\"checkbox\" checked><label for=\"sk-estimator-id-1\" class=\"sk-toggleable__label sk-toggleable__label-arrow\">RandomForestRegressor</label><div class=\"sk-toggleable__content\"><pre>RandomForestRegressor()</pre></div></div></div></div></div>"
      ],
      "text/plain": [
       "RandomForestRegressor()"
      ]
     },
     "execution_count": 23,
     "metadata": {},
     "output_type": "execute_result"
    }
   ],
   "source": [
    "from sklearn.ensemble import RandomForestRegressor\n",
    "rf = RandomForestRegressor()\n",
    "rf.fit(X_train,y_train)"
   ]
  },
  {
   "cell_type": "code",
   "execution_count": 24,
   "id": "a0a755d3",
   "metadata": {
    "execution": {
     "iopub.execute_input": "2024-07-25T18:11:10.784117Z",
     "iopub.status.busy": "2024-07-25T18:11:10.783688Z",
     "iopub.status.idle": "2024-07-25T18:11:10.885634Z",
     "shell.execute_reply": "2024-07-25T18:11:10.884283Z"
    },
    "papermill": {
     "duration": 0.120748,
     "end_time": "2024-07-25T18:11:10.888177",
     "exception": false,
     "start_time": "2024-07-25T18:11:10.767429",
     "status": "completed"
    },
    "tags": []
   },
   "outputs": [
    {
     "name": "stdout",
     "output_type": "stream",
     "text": [
      "Mean Squared Error (MSE): 54372268707.06801\n",
      "R-squared (R2) Score: 0.48135605588927854\n"
     ]
    }
   ],
   "source": [
    "from sklearn.metrics import mean_squared_error, r2_score\n",
    "# Make predictions on the test set\n",
    "y_pred = rf.predict(X_test)\n",
    "\n",
    "# Calculate Mean Squared Error (MSE)\n",
    "mse = mean_squared_error(y_test, y_pred)\n",
    "print(\"Mean Squared Error (MSE):\", mse)\n",
    "\n",
    "# Calculate R-squared (R2) score\n",
    "r2 = r2_score(y_test, y_pred)\n",
    "print(\"R-squared (R2) Score:\", r2)"
   ]
  },
  {
   "cell_type": "markdown",
   "id": "a309ace3",
   "metadata": {
    "papermill": {
     "duration": 0.015351,
     "end_time": "2024-07-25T18:11:10.919175",
     "exception": false,
     "start_time": "2024-07-25T18:11:10.903824",
     "status": "completed"
    },
    "tags": []
   },
   "source": [
    "**Bar Plot of important Features identify by RF**"
   ]
  },
  {
   "cell_type": "code",
   "execution_count": 25,
   "id": "99791f03",
   "metadata": {
    "execution": {
     "iopub.execute_input": "2024-07-25T18:11:10.952009Z",
     "iopub.status.busy": "2024-07-25T18:11:10.951630Z",
     "iopub.status.idle": "2024-07-25T18:11:11.273602Z",
     "shell.execute_reply": "2024-07-25T18:11:11.272543Z"
    },
    "papermill": {
     "duration": 0.341173,
     "end_time": "2024-07-25T18:11:11.275924",
     "exception": false,
     "start_time": "2024-07-25T18:11:10.934751",
     "status": "completed"
    },
    "tags": []
   },
   "outputs": [
    {
     "data": {
      "image/png": "[encoded data removed]",
      "text/plain": [
       "<Figure size 1200x600 with 1 Axes>"
      ]
     },
     "metadata": {},
     "output_type": "display_data"
    }
   ],
   "source": [
    "# Get feature importances\n",
    "feature_importances = rf.feature_importances_\n",
    "feature_importances_df = pd.DataFrame({'Feature': df_scaled.columns, 'Importance': feature_importances})\n",
    "feature_importances_df = feature_importances_df.sort_values(by='Importance', ascending=False)\n",
    "\n",
    "# Select the top 10 most important features\n",
    "top_10_features = feature_importances_df.head(10)\n",
    "\n",
    "# Plot feature importances for the top 10 features\n",
    "plt.figure(figsize=(12, 6))\n",
    "plt.bar(top_10_features['Feature'], top_10_features['Importance'])\n",
    "plt.xticks(rotation=45)\n",
    "plt.ylabel('Importance')\n",
    "plt.title('Top 10 Feature Importances')\n",
    "plt.show()"
   ]
  },
  {
   "cell_type": "markdown",
   "id": "1698be0a",
   "metadata": {
    "papermill": {
     "duration": 0.015997,
     "end_time": "2024-07-25T18:11:11.308217",
     "exception": false,
     "start_time": "2024-07-25T18:11:11.292220",
     "status": "completed"
    },
    "tags": []
   },
   "source": [
    "**Artificial Neural Network (ANN)**"
   ]
  },
  {
   "cell_type": "code",
   "execution_count": 26,
   "id": "b384fa57",
   "metadata": {
    "execution": {
     "iopub.execute_input": "2024-07-25T18:11:11.342421Z",
     "iopub.status.busy": "2024-07-25T18:11:11.341977Z",
     "iopub.status.idle": "2024-07-25T18:11:11.354390Z",
     "shell.execute_reply": "2024-07-25T18:11:11.353190Z"
    },
    "papermill": {
     "duration": 0.032641,
     "end_time": "2024-07-25T18:11:11.356888",
     "exception": false,
     "start_time": "2024-07-25T18:11:11.324247",
     "status": "completed"
    },
    "tags": []
   },
   "outputs": [],
   "source": [
    "from sklearn.neural_network import MLPRegressor"
   ]
  },
  {
   "cell_type": "code",
   "execution_count": 27,
   "id": "ea279abf",
   "metadata": {
    "execution": {
     "iopub.execute_input": "2024-07-25T18:11:11.390670Z",
     "iopub.status.busy": "2024-07-25T18:11:11.390263Z",
     "iopub.status.idle": "2024-07-25T18:15:55.196376Z",
     "shell.execute_reply": "2024-07-25T18:15:55.195033Z"
    },
    "papermill": {
     "duration": 283.827655,
     "end_time": "2024-07-25T18:15:55.200708",
     "exception": false,
     "start_time": "2024-07-25T18:11:11.373053",
     "status": "completed"
    },
    "tags": []
   },
   "outputs": [
    {
     "name": "stderr",
     "output_type": "stream",
     "text": [
      "/opt/conda/lib/python3.10/site-packages/sklearn/neural_network/_multilayer_perceptron.py:686: ConvergenceWarning: Stochastic Optimizer: Maximum iterations (500) reached and the optimization hasn't converged yet.\n",
      "  warnings.warn(\n"
     ]
    }
   ],
   "source": [
    "#Train the ANN Model\n",
    "mlp = MLPRegressor(hidden_layer_sizes=(100, 50), max_iter=500, random_state=42)\n",
    "mlp.fit(X_train, y_train)\n",
    "\n",
    "# Evaluate the Model\n",
    "y_pred_train = mlp.predict(X_train)\n",
    "y_pred_test = mlp.predict(X_test)"
   ]
  },
  {
   "cell_type": "code",
   "execution_count": 28,
   "id": "6d429d71",
   "metadata": {
    "execution": {
     "iopub.execute_input": "2024-07-25T18:15:55.260040Z",
     "iopub.status.busy": "2024-07-25T18:15:55.259480Z",
     "iopub.status.idle": "2024-07-25T18:15:55.279305Z",
     "shell.execute_reply": "2024-07-25T18:15:55.278043Z"
    },
    "papermill": {
     "duration": 0.05506,
     "end_time": "2024-07-25T18:15:55.284040",
     "exception": false,
     "start_time": "2024-07-25T18:15:55.228980",
     "status": "completed"
    },
    "tags": []
   },
   "outputs": [
    {
     "name": "stdout",
     "output_type": "stream",
     "text": [
      "Training MSE: 149967141171.08405\n",
      "Testing MSE: 306863466689.2414\n",
      "Training R2 Score: 0.6245970198259996\n",
      "Testing R2 Score: -1.927096522763053\n"
     ]
    }
   ],
   "source": [
    "# Calculate Metrics\n",
    "mse_train = mean_squared_error(y_train, y_pred_train)\n",
    "mse_test = mean_squared_error(y_test, y_pred_test)\n",
    "r2_train = r2_score(y_train, y_pred_train)\n",
    "r2_test = r2_score(y_test, y_pred_test)\n",
    "\n",
    "print(f\"Training MSE: {mse_train}\")\n",
    "print(f\"Testing MSE: {mse_test}\")\n",
    "print(f\"Training R2 Score: {r2_train}\")\n",
    "print(f\"Testing R2 Score: {r2_test}\")"
   ]
  },
  {
   "cell_type": "markdown",
   "id": "ed792e96",
   "metadata": {
    "papermill": {
     "duration": 0.016298,
     "end_time": "2024-07-25T18:15:55.330280",
     "exception": false,
     "start_time": "2024-07-25T18:15:55.313982",
     "status": "completed"
    },
    "tags": []
   },
   "source": [
    "**Optimization of RF using Grid Search**"
   ]
  },
  {
   "cell_type": "code",
   "execution_count": 29,
   "id": "6a9ad342",
   "metadata": {
    "execution": {
     "iopub.execute_input": "2024-07-25T18:15:55.363873Z",
     "iopub.status.busy": "2024-07-25T18:15:55.363422Z",
     "iopub.status.idle": "2024-07-25T18:16:09.648560Z",
     "shell.execute_reply": "2024-07-25T18:16:09.647347Z"
    },
    "papermill": {
     "duration": 14.304934,
     "end_time": "2024-07-25T18:16:09.651335",
     "exception": false,
     "start_time": "2024-07-25T18:15:55.346401",
     "status": "completed"
    },
    "tags": []
   },
   "outputs": [
    {
     "name": "stderr",
     "output_type": "stream",
     "text": [
      "2024-07-25 18:15:57.652293: E external/local_xla/xla/stream_executor/cuda/cuda_dnn.cc:9261] Unable to register cuDNN factory: Attempting to register factory for plugin cuDNN when one has already been registered\n",
      "2024-07-25 18:15:57.652454: E external/local_xla/xla/stream_executor/cuda/cuda_fft.cc:607] Unable to register cuFFT factory: Attempting to register factory for plugin cuFFT when one has already been registered\n",
      "2024-07-25 18:15:57.834717: E external/local_xla/xla/stream_executor/cuda/cuda_blas.cc:1515] Unable to register cuBLAS factory: Attempting to register factory for plugin cuBLAS when one has already been registered\n"
     ]
    }
   ],
   "source": [
    "from tensorflow.keras.models import Sequential\n",
    "from tensorflow.keras.layers import Dense\n",
    "from tensorflow.keras.optimizers import Adam\n",
    "from sklearn.metrics import mean_squared_error, r2_score"
   ]
  },
  {
   "cell_type": "code",
   "execution_count": 30,
   "id": "d272f6c5",
   "metadata": {
    "execution": {
     "iopub.execute_input": "2024-07-25T18:16:09.686597Z",
     "iopub.status.busy": "2024-07-25T18:16:09.685239Z",
     "iopub.status.idle": "2024-07-25T18:20:14.355409Z",
     "shell.execute_reply": "2024-07-25T18:20:14.354265Z"
    },
    "papermill": {
     "duration": 244.690325,
     "end_time": "2024-07-25T18:20:14.358046",
     "exception": false,
     "start_time": "2024-07-25T18:16:09.667721",
     "status": "completed"
    },
    "tags": []
   },
   "outputs": [
    {
     "name": "stderr",
     "output_type": "stream",
     "text": [
      "/opt/conda/lib/python3.10/site-packages/keras/src/layers/core/dense.py:87: UserWarning: Do not pass an `input_shape`/`input_dim` argument to a layer. When using Sequential models, prefer using an `Input(shape)` object as the first layer in the model instead.\n",
      "  super().__init__(activity_regularizer=activity_regularizer, **kwargs)\n"
     ]
    },
    {
     "name": "stdout",
     "output_type": "stream",
     "text": [
      "Epoch 1/500\n",
      "\u001b[1m83/83\u001b[0m \u001b[32m━━━━━━━━━━━━━━━━━━━━\u001b[0m\u001b[37m\u001b[0m \u001b[1m2s\u001b[0m 8ms/step - loss: 633007702016.0000 - val_loss: 1512480440320.0000\n",
      "Epoch 2/500\n",
      "\u001b[1m83/83\u001b[0m \u001b[32m━━━━━━━━━━━━━━━━━━━━\u001b[0m\u001b[37m\u001b[0m \u001b[1m0s\u001b[0m 6ms/step - loss: 507556659200.0000 - val_loss: 1512437448704.0000\n",
      "Epoch 3/500\n",
      "\u001b[1m83/83\u001b[0m \u001b[32m━━━━━━━━━━━━━━━━━━━━\u001b[0m\u001b[37m\u001b[0m \u001b[1m0s\u001b[0m 6ms/step - loss: 549915262976.0000 - val_loss: 1512240054272.0000\n",
      "Epoch 4/500\n",
      "\u001b[1m83/83\u001b[0m \u001b[32m━━━━━━━━━━━━━━━━━━━━\u001b[0m\u001b[37m\u001b[0m \u001b[1m0s\u001b[0m 5ms/step - loss: 538790035456.0000 - val_loss: 1511818395648.0000\n",
      "Epoch 5/500\n",
      "\u001b[1m83/83\u001b[0m \u001b[32m━━━━━━━━━━━━━━━━━━━━\u001b[0m\u001b[37m\u001b[0m \u001b[1m0s\u001b[0m 5ms/step - loss: 462461698048.0000 - val_loss: 1511110606848.0000\n",
      "Epoch 6/500\n",
      "\u001b[1m83/83\u001b[0m \u001b[32m━━━━━━━━━━━━━━━━━━━━\u001b[0m\u001b[37m\u001b[0m \u001b[1m0s\u001b[0m 6ms/step - loss: 461228441600.0000 - val_loss: 1510083526656.0000\n",
      "Epoch 7/500\n",
      "\u001b[1m83/83\u001b[0m \u001b[32m━━━━━━━━━━━━━━━━━━━━\u001b[0m\u001b[37m\u001b[0m \u001b[1m0s\u001b[0m 5ms/step - loss: 459943542784.0000 - val_loss: 1508772282368.0000\n",
      "Epoch 8/500\n",
      "\u001b[1m83/83\u001b[0m \u001b[32m━━━━━━━━━━━━━━━━━━━━\u001b[0m\u001b[37m\u001b[0m \u001b[1m1s\u001b[0m 6ms/step - loss: 458046898176.0000 - val_loss: 1507187097600.0000\n",
      "Epoch 9/500\n",
      "\u001b[1m83/83\u001b[0m \u001b[32m━━━━━━━━━━━━━━━━━━━━\u001b[0m\u001b[37m\u001b[0m \u001b[1m0s\u001b[0m 6ms/step - loss: 357281300480.0000 - val_loss: 1505466253312.0000\n",
      "Epoch 10/500\n",
      "\u001b[1m83/83\u001b[0m \u001b[32m━━━━━━━━━━━━━━━━━━━━\u001b[0m\u001b[37m\u001b[0m \u001b[1m0s\u001b[0m 6ms/step - loss: 295378452480.0000 - val_loss: 1503749472256.0000\n",
      "Epoch 11/500\n",
      "\u001b[1m83/83\u001b[0m \u001b[32m━━━━━━━━━━━━━━━━━━━━\u001b[0m\u001b[37m\u001b[0m \u001b[1m0s\u001b[0m 5ms/step - loss: 287525568512.0000 - val_loss: 1502129815552.0000\n",
      "Epoch 12/500\n",
      "\u001b[1m83/83\u001b[0m \u001b[32m━━━━━━━━━━━━━━━━━━━━\u001b[0m\u001b[37m\u001b[0m \u001b[1m0s\u001b[0m 5ms/step - loss: 267163582464.0000 - val_loss: 1500746874880.0000\n",
      "Epoch 13/500\n",
      "\u001b[1m83/83\u001b[0m \u001b[32m━━━━━━━━━━━━━━━━━━━━\u001b[0m\u001b[37m\u001b[0m \u001b[1m0s\u001b[0m 5ms/step - loss: 404936065024.0000 - val_loss: 1499672215552.0000\n",
      "Epoch 14/500\n",
      "\u001b[1m83/83\u001b[0m \u001b[32m━━━━━━━━━━━━━━━━━━━━\u001b[0m\u001b[37m\u001b[0m \u001b[1m0s\u001b[0m 5ms/step - loss: 184533336064.0000 - val_loss: 1498907934720.0000\n",
      "Epoch 15/500\n",
      "\u001b[1m83/83\u001b[0m \u001b[32m━━━━━━━━━━━━━━━━━━━━\u001b[0m\u001b[37m\u001b[0m \u001b[1m0s\u001b[0m 6ms/step - loss: 180574191616.0000 - val_loss: 1498404093952.0000\n",
      "Epoch 16/500\n",
      "\u001b[1m83/83\u001b[0m \u001b[32m━━━━━━━━━━━━━━━━━━━━\u001b[0m\u001b[37m\u001b[0m \u001b[1m0s\u001b[0m 5ms/step - loss: 184067883008.0000 - val_loss: 1498086113280.0000\n",
      "Epoch 17/500\n",
      "\u001b[1m83/83\u001b[0m \u001b[32m━━━━━━━━━━━━━━━━━━━━\u001b[0m\u001b[37m\u001b[0m \u001b[1m0s\u001b[0m 5ms/step - loss: 324228907008.0000 - val_loss: 1497963036672.0000\n",
      "Epoch 18/500\n",
      "\u001b[1m83/83\u001b[0m \u001b[32m━━━━━━━━━━━━━━━━━━━━\u001b[0m\u001b[37m\u001b[0m \u001b[1m0s\u001b[0m 5ms/step - loss: 194442756096.0000 - val_loss: 1497804046336.0000\n",
      "Epoch 19/500\n",
      "\u001b[1m83/83\u001b[0m \u001b[32m━━━━━━━━━━━━━━━━━━━━\u001b[0m\u001b[37m\u001b[0m \u001b[1m0s\u001b[0m 5ms/step - loss: 214753329152.0000 - val_loss: 1497742835712.0000\n",
      "Epoch 20/500\n",
      "\u001b[1m83/83\u001b[0m \u001b[32m━━━━━━━━━━━━━━━━━━━━\u001b[0m\u001b[37m\u001b[0m \u001b[1m0s\u001b[0m 5ms/step - loss: 209848434688.0000 - val_loss: 1497638502400.0000\n",
      "Epoch 21/500\n",
      "\u001b[1m83/83\u001b[0m \u001b[32m━━━━━━━━━━━━━━━━━━━━\u001b[0m\u001b[37m\u001b[0m \u001b[1m0s\u001b[0m 5ms/step - loss: 112184336384.0000 - val_loss: 1497518178304.0000\n",
      "Epoch 22/500\n",
      "\u001b[1m83/83\u001b[0m \u001b[32m━━━━━━━━━━━━━━━━━━━━\u001b[0m\u001b[37m\u001b[0m \u001b[1m0s\u001b[0m 6ms/step - loss: 163124428800.0000 - val_loss: 1497419350016.0000\n",
      "Epoch 23/500\n",
      "\u001b[1m83/83\u001b[0m \u001b[32m━━━━━━━━━━━━━━━━━━━━\u001b[0m\u001b[37m\u001b[0m \u001b[1m0s\u001b[0m 5ms/step - loss: 88804343808.0000 - val_loss: 1497301254144.0000\n",
      "Epoch 24/500\n",
      "\u001b[1m83/83\u001b[0m \u001b[32m━━━━━━━━━━━━━━━━━━━━\u001b[0m\u001b[37m\u001b[0m \u001b[1m0s\u001b[0m 5ms/step - loss: 159993970688.0000 - val_loss: 1497165201408.0000\n",
      "Epoch 25/500\n",
      "\u001b[1m83/83\u001b[0m \u001b[32m━━━━━━━━━━━━━━━━━━━━\u001b[0m\u001b[37m\u001b[0m \u001b[1m0s\u001b[0m 5ms/step - loss: 176988241920.0000 - val_loss: 1496969904128.0000\n",
      "Epoch 26/500\n",
      "\u001b[1m83/83\u001b[0m \u001b[32m━━━━━━━━━━━━━━━━━━━━\u001b[0m\u001b[37m\u001b[0m \u001b[1m0s\u001b[0m 5ms/step - loss: 238880849920.0000 - val_loss: 1496774606848.0000\n",
      "Epoch 27/500\n",
      "\u001b[1m83/83\u001b[0m \u001b[32m━━━━━━━━━━━━━━━━━━━━\u001b[0m\u001b[37m\u001b[0m \u001b[1m0s\u001b[0m 5ms/step - loss: 86720339968.0000 - val_loss: 1496577998848.0000\n",
      "Epoch 28/500\n",
      "\u001b[1m83/83\u001b[0m \u001b[32m━━━━━━━━━━━━━━━━━━━━\u001b[0m\u001b[37m\u001b[0m \u001b[1m0s\u001b[0m 5ms/step - loss: 109023174656.0000 - val_loss: 1496334729216.0000\n",
      "Epoch 29/500\n",
      "\u001b[1m83/83\u001b[0m \u001b[32m━━━━━━━━━━━━━━━━━━━━\u001b[0m\u001b[37m\u001b[0m \u001b[1m1s\u001b[0m 6ms/step - loss: 203311611904.0000 - val_loss: 1496062885888.0000\n",
      "Epoch 30/500\n",
      "\u001b[1m83/83\u001b[0m \u001b[32m━━━━━━━━━━━━━━━━━━━━\u001b[0m\u001b[37m\u001b[0m \u001b[1m0s\u001b[0m 5ms/step - loss: 186433323008.0000 - val_loss: 1495790125056.0000\n",
      "Epoch 31/500\n",
      "\u001b[1m83/83\u001b[0m \u001b[32m━━━━━━━━━━━━━━━━━━━━\u001b[0m\u001b[37m\u001b[0m \u001b[1m0s\u001b[0m 5ms/step - loss: 98248794112.0000 - val_loss: 1495444226048.0000\n",
      "Epoch 32/500\n",
      "\u001b[1m83/83\u001b[0m \u001b[32m━━━━━━━━━━━━━━━━━━━━\u001b[0m\u001b[37m\u001b[0m \u001b[1m0s\u001b[0m 5ms/step - loss: 97084735488.0000 - val_loss: 1495130177536.0000\n",
      "Epoch 33/500\n",
      "\u001b[1m83/83\u001b[0m \u001b[32m━━━━━━━━━━━━━━━━━━━━\u001b[0m\u001b[37m\u001b[0m \u001b[1m0s\u001b[0m 5ms/step - loss: 150246178816.0000 - val_loss: 1494758588416.0000\n",
      "Epoch 34/500\n",
      "\u001b[1m83/83\u001b[0m \u001b[32m━━━━━━━━━━━━━━━━━━━━\u001b[0m\u001b[37m\u001b[0m \u001b[1m0s\u001b[0m 5ms/step - loss: 347352694784.0000 - val_loss: 1494353969152.0000\n",
      "Epoch 35/500\n",
      "\u001b[1m83/83\u001b[0m \u001b[32m━━━━━━━━━━━━━━━━━━━━\u001b[0m\u001b[37m\u001b[0m \u001b[1m0s\u001b[0m 6ms/step - loss: 101849677824.0000 - val_loss: 1493898887168.0000\n",
      "Epoch 36/500\n",
      "\u001b[1m83/83\u001b[0m \u001b[32m━━━━━━━━━━━━━━━━━━━━\u001b[0m\u001b[37m\u001b[0m \u001b[1m0s\u001b[0m 5ms/step - loss: 339823296512.0000 - val_loss: 1493410643968.0000\n",
      "Epoch 37/500\n",
      "\u001b[1m83/83\u001b[0m \u001b[32m━━━━━━━━━━━━━━━━━━━━\u001b[0m\u001b[37m\u001b[0m \u001b[1m0s\u001b[0m 5ms/step - loss: 59154632704.0000 - val_loss: 1492876263424.0000\n",
      "Epoch 38/500\n",
      "\u001b[1m83/83\u001b[0m \u001b[32m━━━━━━━━━━━━━━━━━━━━\u001b[0m\u001b[37m\u001b[0m \u001b[1m1s\u001b[0m 7ms/step - loss: 80484696064.0000 - val_loss: 1492345946112.0000\n",
      "Epoch 39/500\n",
      "\u001b[1m83/83\u001b[0m \u001b[32m━━━━━━━━━━━━━━━━━━━━\u001b[0m\u001b[37m\u001b[0m \u001b[1m1s\u001b[0m 6ms/step - loss: 111062786048.0000 - val_loss: 1491655589888.0000\n",
      "Epoch 40/500\n",
      "\u001b[1m83/83\u001b[0m \u001b[32m━━━━━━━━━━━━━━━━━━━━\u001b[0m\u001b[37m\u001b[0m \u001b[1m1s\u001b[0m 6ms/step - loss: 109731913728.0000 - val_loss: 1491012681728.0000\n",
      "Epoch 41/500\n",
      "\u001b[1m83/83\u001b[0m \u001b[32m━━━━━━━━━━━━━━━━━━━━\u001b[0m\u001b[37m\u001b[0m \u001b[1m1s\u001b[0m 6ms/step - loss: 115223461888.0000 - val_loss: 1490253381632.0000\n",
      "Epoch 42/500\n",
      "\u001b[1m83/83\u001b[0m \u001b[32m━━━━━━━━━━━━━━━━━━━━\u001b[0m\u001b[37m\u001b[0m \u001b[1m0s\u001b[0m 5ms/step - loss: 67250102272.0000 - val_loss: 1489445453824.0000\n",
      "Epoch 43/500\n",
      "\u001b[1m83/83\u001b[0m \u001b[32m━━━━━━━━━━━━━━━━━━━━\u001b[0m\u001b[37m\u001b[0m \u001b[1m0s\u001b[0m 5ms/step - loss: 90334707712.0000 - val_loss: 1488590340096.0000\n",
      "Epoch 44/500\n",
      "\u001b[1m83/83\u001b[0m \u001b[32m━━━━━━━━━━━━━━━━━━━━\u001b[0m\u001b[37m\u001b[0m \u001b[1m0s\u001b[0m 5ms/step - loss: 75382538240.0000 - val_loss: 1487715958784.0000\n",
      "Epoch 45/500\n",
      "\u001b[1m83/83\u001b[0m \u001b[32m━━━━━━━━━━━━━━━━━━━━\u001b[0m\u001b[37m\u001b[0m \u001b[1m0s\u001b[0m 5ms/step - loss: 81093058560.0000 - val_loss: 1486750351360.0000\n",
      "Epoch 46/500\n",
      "\u001b[1m83/83\u001b[0m \u001b[32m━━━━━━━━━━━━━━━━━━━━\u001b[0m\u001b[37m\u001b[0m \u001b[1m0s\u001b[0m 5ms/step - loss: 309518991360.0000 - val_loss: 1485753810944.0000\n",
      "Epoch 47/500\n",
      "\u001b[1m83/83\u001b[0m \u001b[32m━━━━━━━━━━━━━━━━━━━━\u001b[0m\u001b[37m\u001b[0m \u001b[1m1s\u001b[0m 6ms/step - loss: 59245047808.0000 - val_loss: 1484661456896.0000\n",
      "Epoch 48/500\n",
      "\u001b[1m83/83\u001b[0m \u001b[32m━━━━━━━━━━━━━━━━━━━━\u001b[0m\u001b[37m\u001b[0m \u001b[1m0s\u001b[0m 5ms/step - loss: 112492232704.0000 - val_loss: 1483498979328.0000\n",
      "Epoch 49/500\n",
      "\u001b[1m83/83\u001b[0m \u001b[32m━━━━━━━━━━━━━━━━━━━━\u001b[0m\u001b[37m\u001b[0m \u001b[1m1s\u001b[0m 6ms/step - loss: 77838262272.0000 - val_loss: 1482360881152.0000\n",
      "Epoch 50/500\n",
      "\u001b[1m83/83\u001b[0m \u001b[32m━━━━━━━━━━━━━━━━━━━━\u001b[0m\u001b[37m\u001b[0m \u001b[1m0s\u001b[0m 5ms/step - loss: 70439141376.0000 - val_loss: 1481166159872.0000\n",
      "Epoch 51/500\n",
      "\u001b[1m83/83\u001b[0m \u001b[32m━━━━━━━━━━━━━━━━━━━━\u001b[0m\u001b[37m\u001b[0m \u001b[1m0s\u001b[0m 5ms/step - loss: 84934336512.0000 - val_loss: 1479863435264.0000\n",
      "Epoch 52/500\n",
      "\u001b[1m83/83\u001b[0m \u001b[32m━━━━━━━━━━━━━━━━━━━━\u001b[0m\u001b[37m\u001b[0m \u001b[1m0s\u001b[0m 5ms/step - loss: 140458229760.0000 - val_loss: 1478535151616.0000\n",
      "Epoch 53/500\n",
      "\u001b[1m83/83\u001b[0m \u001b[32m━━━━━━━━━━━━━━━━━━━━\u001b[0m\u001b[37m\u001b[0m \u001b[1m0s\u001b[0m 5ms/step - loss: 117146984448.0000 - val_loss: 1477206343680.0000\n",
      "Epoch 54/500\n",
      "\u001b[1m83/83\u001b[0m \u001b[32m━━━━━━━━━━━━━━━━━━━━\u001b[0m\u001b[37m\u001b[0m \u001b[1m0s\u001b[0m 5ms/step - loss: 90438991872.0000 - val_loss: 1475853025280.0000\n",
      "Epoch 55/500\n",
      "\u001b[1m83/83\u001b[0m \u001b[32m━━━━━━━━━━━━━━━━━━━━\u001b[0m\u001b[37m\u001b[0m \u001b[1m0s\u001b[0m 5ms/step - loss: 54508666880.0000 - val_loss: 1474433122304.0000\n",
      "Epoch 56/500\n",
      "\u001b[1m83/83\u001b[0m \u001b[32m━━━━━━━━━━━━━━━━━━━━\u001b[0m\u001b[37m\u001b[0m \u001b[1m0s\u001b[0m 5ms/step - loss: 90262208512.0000 - val_loss: 1472962887680.0000\n",
      "Epoch 57/500\n",
      "\u001b[1m83/83\u001b[0m \u001b[32m━━━━━━━━━━━━━━━━━━━━\u001b[0m\u001b[37m\u001b[0m \u001b[1m0s\u001b[0m 5ms/step - loss: 88724111360.0000 - val_loss: 1471459229696.0000\n",
      "Epoch 58/500\n",
      "\u001b[1m83/83\u001b[0m \u001b[32m━━━━━━━━━━━━━━━━━━━━\u001b[0m\u001b[37m\u001b[0m \u001b[1m0s\u001b[0m 5ms/step - loss: 130751660032.0000 - val_loss: 1469941022720.0000\n",
      "Epoch 59/500\n",
      "\u001b[1m83/83\u001b[0m \u001b[32m━━━━━━━━━━━━━━━━━━━━\u001b[0m\u001b[37m\u001b[0m \u001b[1m0s\u001b[0m 5ms/step - loss: 113624907776.0000 - val_loss: 1468471836672.0000\n",
      "Epoch 60/500\n",
      "\u001b[1m83/83\u001b[0m \u001b[32m━━━━━━━━━━━━━━━━━━━━\u001b[0m\u001b[37m\u001b[0m \u001b[1m0s\u001b[0m 5ms/step - loss: 62706458624.0000 - val_loss: 1466975125504.0000\n",
      "Epoch 61/500\n",
      "\u001b[1m83/83\u001b[0m \u001b[32m━━━━━━━━━━━━━━━━━━━━\u001b[0m\u001b[37m\u001b[0m \u001b[1m0s\u001b[0m 5ms/step - loss: 82914435072.0000 - val_loss: 1465541328896.0000\n",
      "Epoch 62/500\n",
      "\u001b[1m83/83\u001b[0m \u001b[32m━━━━━━━━━━━━━━━━━━━━\u001b[0m\u001b[37m\u001b[0m \u001b[1m0s\u001b[0m 5ms/step - loss: 100986142720.0000 - val_loss: 1463885103104.0000\n",
      "Epoch 63/500\n",
      "\u001b[1m83/83\u001b[0m \u001b[32m━━━━━━━━━━━━━━━━━━━━\u001b[0m\u001b[37m\u001b[0m \u001b[1m0s\u001b[0m 5ms/step - loss: 69764333568.0000 - val_loss: 1462382231552.0000\n",
      "Epoch 64/500\n",
      "\u001b[1m83/83\u001b[0m \u001b[32m━━━━━━━━━━━━━━━━━━━━\u001b[0m\u001b[37m\u001b[0m \u001b[1m0s\u001b[0m 6ms/step - loss: 170196697088.0000 - val_loss: 1460835450880.0000\n",
      "Epoch 65/500\n",
      "\u001b[1m83/83\u001b[0m \u001b[32m━━━━━━━━━━━━━━━━━━━━\u001b[0m\u001b[37m\u001b[0m \u001b[1m0s\u001b[0m 5ms/step - loss: 84427735040.0000 - val_loss: 1459217629184.0000\n",
      "Epoch 66/500\n",
      "\u001b[1m83/83\u001b[0m \u001b[32m━━━━━━━━━━━━━━━━━━━━\u001b[0m\u001b[37m\u001b[0m \u001b[1m0s\u001b[0m 5ms/step - loss: 33863735296.0000 - val_loss: 1457688412160.0000\n",
      "Epoch 67/500\n",
      "\u001b[1m83/83\u001b[0m \u001b[32m━━━━━━━━━━━━━━━━━━━━\u001b[0m\u001b[37m\u001b[0m \u001b[1m0s\u001b[0m 5ms/step - loss: 92115812352.0000 - val_loss: 1456095494144.0000\n",
      "Epoch 68/500\n",
      "\u001b[1m83/83\u001b[0m \u001b[32m━━━━━━━━━━━━━━━━━━━━\u001b[0m\u001b[37m\u001b[0m \u001b[1m0s\u001b[0m 5ms/step - loss: 59086970880.0000 - val_loss: 1454629322752.0000\n",
      "Epoch 69/500\n",
      "\u001b[1m83/83\u001b[0m \u001b[32m━━━━━━━━━━━━━━━━━━━━\u001b[0m\u001b[37m\u001b[0m \u001b[1m0s\u001b[0m 5ms/step - loss: 26745468928.0000 - val_loss: 1453139165184.0000\n",
      "Epoch 70/500\n",
      "\u001b[1m83/83\u001b[0m \u001b[32m━━━━━━━━━━━━━━━━━━━━\u001b[0m\u001b[37m\u001b[0m \u001b[1m1s\u001b[0m 6ms/step - loss: 27670159360.0000 - val_loss: 1451585175552.0000\n",
      "Epoch 71/500\n",
      "\u001b[1m83/83\u001b[0m \u001b[32m━━━━━━━━━━━━━━━━━━━━\u001b[0m\u001b[37m\u001b[0m \u001b[1m0s\u001b[0m 6ms/step - loss: 48000942080.0000 - val_loss: 1450121887744.0000\n",
      "Epoch 72/500\n",
      "\u001b[1m83/83\u001b[0m \u001b[32m━━━━━━━━━━━━━━━━━━━━\u001b[0m\u001b[37m\u001b[0m \u001b[1m0s\u001b[0m 6ms/step - loss: 220738011136.0000 - val_loss: 1448421228544.0000\n",
      "Epoch 73/500\n",
      "\u001b[1m83/83\u001b[0m \u001b[32m━━━━━━━━━━━━━━━━━━━━\u001b[0m\u001b[37m\u001b[0m \u001b[1m0s\u001b[0m 5ms/step - loss: 49133256704.0000 - val_loss: 1447054409728.0000\n",
      "Epoch 74/500\n",
      "\u001b[1m83/83\u001b[0m \u001b[32m━━━━━━━━━━━━━━━━━━━━\u001b[0m\u001b[37m\u001b[0m \u001b[1m0s\u001b[0m 5ms/step - loss: 63630934016.0000 - val_loss: 1445506580480.0000\n",
      "Epoch 75/500\n",
      "\u001b[1m83/83\u001b[0m \u001b[32m━━━━━━━━━━━━━━━━━━━━\u001b[0m\u001b[37m\u001b[0m \u001b[1m0s\u001b[0m 5ms/step - loss: 88510930944.0000 - val_loss: 1443959406592.0000\n",
      "Epoch 76/500\n",
      "\u001b[1m83/83\u001b[0m \u001b[32m━━━━━━━━━━━━━━━━━━━━\u001b[0m\u001b[37m\u001b[0m \u001b[1m0s\u001b[0m 6ms/step - loss: 27778646016.0000 - val_loss: 1442819735552.0000\n",
      "Epoch 77/500\n",
      "\u001b[1m83/83\u001b[0m \u001b[32m━━━━━━━━━━━━━━━━━━━━\u001b[0m\u001b[37m\u001b[0m \u001b[1m0s\u001b[0m 5ms/step - loss: 27381659648.0000 - val_loss: 1441469562880.0000\n",
      "Epoch 78/500\n",
      "\u001b[1m83/83\u001b[0m \u001b[32m━━━━━━━━━━━━━━━━━━━━\u001b[0m\u001b[37m\u001b[0m \u001b[1m0s\u001b[0m 6ms/step - loss: 63273598976.0000 - val_loss: 1439805341696.0000\n",
      "Epoch 79/500\n",
      "\u001b[1m83/83\u001b[0m \u001b[32m━━━━━━━━━━━━━━━━━━━━\u001b[0m\u001b[37m\u001b[0m \u001b[1m0s\u001b[0m 5ms/step - loss: 17190709248.0000 - val_loss: 1438478630912.0000\n",
      "Epoch 80/500\n",
      "\u001b[1m83/83\u001b[0m \u001b[32m━━━━━━━━━━━━━━━━━━━━\u001b[0m\u001b[37m\u001b[0m \u001b[1m0s\u001b[0m 5ms/step - loss: 84920098816.0000 - val_loss: 1436873261056.0000\n",
      "Epoch 81/500\n",
      "\u001b[1m83/83\u001b[0m \u001b[32m━━━━━━━━━━━━━━━━━━━━\u001b[0m\u001b[37m\u001b[0m \u001b[1m0s\u001b[0m 5ms/step - loss: 74036346880.0000 - val_loss: 1435533312000.0000\n",
      "Epoch 82/500\n",
      "\u001b[1m83/83\u001b[0m \u001b[32m━━━━━━━━━━━━━━━━━━━━\u001b[0m\u001b[37m\u001b[0m \u001b[1m0s\u001b[0m 5ms/step - loss: 20668981248.0000 - val_loss: 1434311065600.0000\n",
      "Epoch 83/500\n",
      "\u001b[1m83/83\u001b[0m \u001b[32m━━━━━━━━━━━━━━━━━━━━\u001b[0m\u001b[37m\u001b[0m \u001b[1m0s\u001b[0m 5ms/step - loss: 33017143296.0000 - val_loss: 1432801247232.0000\n",
      "Epoch 84/500\n",
      "\u001b[1m83/83\u001b[0m \u001b[32m━━━━━━━━━━━━━━━━━━━━\u001b[0m\u001b[37m\u001b[0m \u001b[1m0s\u001b[0m 5ms/step - loss: 39748919296.0000 - val_loss: 1431401791488.0000\n",
      "Epoch 85/500\n",
      "\u001b[1m83/83\u001b[0m \u001b[32m━━━━━━━━━━━━━━━━━━━━\u001b[0m\u001b[37m\u001b[0m \u001b[1m0s\u001b[0m 6ms/step - loss: 8847281152.0000 - val_loss: 1430195666944.0000\n",
      "Epoch 86/500\n",
      "\u001b[1m83/83\u001b[0m \u001b[32m━━━━━━━━━━━━━━━━━━━━\u001b[0m\u001b[37m\u001b[0m \u001b[1m0s\u001b[0m 5ms/step - loss: 13001895936.0000 - val_loss: 1428769603584.0000\n",
      "Epoch 87/500\n",
      "\u001b[1m83/83\u001b[0m \u001b[32m━━━━━━━━━━━━━━━━━━━━\u001b[0m\u001b[37m\u001b[0m \u001b[1m0s\u001b[0m 5ms/step - loss: 52908953600.0000 - val_loss: 1427094765568.0000\n",
      "Epoch 88/500\n",
      "\u001b[1m83/83\u001b[0m \u001b[32m━━━━━━━━━━━━━━━━━━━━\u001b[0m\u001b[37m\u001b[0m \u001b[1m0s\u001b[0m 5ms/step - loss: 200697004032.0000 - val_loss: 1425485725696.0000\n",
      "Epoch 89/500\n",
      "\u001b[1m83/83\u001b[0m \u001b[32m━━━━━━━━━━━━━━━━━━━━\u001b[0m\u001b[37m\u001b[0m \u001b[1m0s\u001b[0m 5ms/step - loss: 30395297792.0000 - val_loss: 1424480534528.0000\n",
      "Epoch 90/500\n",
      "\u001b[1m83/83\u001b[0m \u001b[32m━━━━━━━━━━━━━━━━━━━━\u001b[0m\u001b[37m\u001b[0m \u001b[1m0s\u001b[0m 6ms/step - loss: 13444221952.0000 - val_loss: 1423423438848.0000\n",
      "Epoch 91/500\n",
      "\u001b[1m83/83\u001b[0m \u001b[32m━━━━━━━━━━━━━━━━━━━━\u001b[0m\u001b[37m\u001b[0m \u001b[1m1s\u001b[0m 6ms/step - loss: 132034854912.0000 - val_loss: 1421636141056.0000\n",
      "Epoch 92/500\n",
      "\u001b[1m83/83\u001b[0m \u001b[32m━━━━━━━━━━━━━━━━━━━━\u001b[0m\u001b[37m\u001b[0m \u001b[1m0s\u001b[0m 5ms/step - loss: 16224735232.0000 - val_loss: 1420667387904.0000\n",
      "Epoch 93/500\n",
      "\u001b[1m83/83\u001b[0m \u001b[32m━━━━━━━━━━━━━━━━━━━━\u001b[0m\u001b[37m\u001b[0m \u001b[1m0s\u001b[0m 6ms/step - loss: 14015598592.0000 - val_loss: 1419363876864.0000\n",
      "Epoch 94/500\n",
      "\u001b[1m83/83\u001b[0m \u001b[32m━━━━━━━━━━━━━━━━━━━━\u001b[0m\u001b[37m\u001b[0m \u001b[1m0s\u001b[0m 5ms/step - loss: 17178177536.0000 - val_loss: 1417813950464.0000\n",
      "Epoch 95/500\n",
      "\u001b[1m83/83\u001b[0m \u001b[32m━━━━━━━━━━━━━━━━━━━━\u001b[0m\u001b[37m\u001b[0m \u001b[1m0s\u001b[0m 5ms/step - loss: 94084841472.0000 - val_loss: 1416217231360.0000\n",
      "Epoch 96/500\n",
      "\u001b[1m83/83\u001b[0m \u001b[32m━━━━━━━━━━━━━━━━━━━━\u001b[0m\u001b[37m\u001b[0m \u001b[1m0s\u001b[0m 5ms/step - loss: 16656495616.0000 - val_loss: 1415328301056.0000\n",
      "Epoch 97/500\n",
      "\u001b[1m83/83\u001b[0m \u001b[32m━━━━━━━━━━━━━━━━━━━━\u001b[0m\u001b[37m\u001b[0m \u001b[1m0s\u001b[0m 6ms/step - loss: 18371682304.0000 - val_loss: 1413920849920.0000\n",
      "Epoch 98/500\n",
      "\u001b[1m83/83\u001b[0m \u001b[32m━━━━━━━━━━━━━━━━━━━━\u001b[0m\u001b[37m\u001b[0m \u001b[1m0s\u001b[0m 5ms/step - loss: 54646939648.0000 - val_loss: 1412488495104.0000\n",
      "Epoch 99/500\n",
      "\u001b[1m83/83\u001b[0m \u001b[32m━━━━━━━━━━━━━━━━━━━━\u001b[0m\u001b[37m\u001b[0m \u001b[1m0s\u001b[0m 5ms/step - loss: 40430211072.0000 - val_loss: 1411313827840.0000\n",
      "Epoch 100/500\n",
      "\u001b[1m83/83\u001b[0m \u001b[32m━━━━━━━━━━━━━━━━━━━━\u001b[0m\u001b[37m\u001b[0m \u001b[1m0s\u001b[0m 5ms/step - loss: 20131491840.0000 - val_loss: 1409836908544.0000\n",
      "Epoch 101/500\n",
      "\u001b[1m83/83\u001b[0m \u001b[32m━━━━━━━━━━━━━━━━━━━━\u001b[0m\u001b[37m\u001b[0m \u001b[1m0s\u001b[0m 5ms/step - loss: 32042598400.0000 - val_loss: 1408618070016.0000\n",
      "Epoch 102/500\n",
      "\u001b[1m83/83\u001b[0m \u001b[32m━━━━━━━━━━━━━━━━━━━━\u001b[0m\u001b[37m\u001b[0m \u001b[1m0s\u001b[0m 6ms/step - loss: 14273339392.0000 - val_loss: 1407409061888.0000\n",
      "Epoch 103/500\n",
      "\u001b[1m83/83\u001b[0m \u001b[32m━━━━━━━━━━━━━━━━━━━━\u001b[0m\u001b[37m\u001b[0m \u001b[1m0s\u001b[0m 6ms/step - loss: 13919580160.0000 - val_loss: 1406238457856.0000\n",
      "Epoch 104/500\n",
      "\u001b[1m83/83\u001b[0m \u001b[32m━━━━━━━━━━━━━━━━━━━━\u001b[0m\u001b[37m\u001b[0m \u001b[1m1s\u001b[0m 6ms/step - loss: 17493555200.0000 - val_loss: 1404791291904.0000\n",
      "Epoch 105/500\n",
      "\u001b[1m83/83\u001b[0m \u001b[32m━━━━━━━━━━━━━━━━━━━━\u001b[0m\u001b[37m\u001b[0m \u001b[1m1s\u001b[0m 6ms/step - loss: 59361091584.0000 - val_loss: 1403109638144.0000\n",
      "Epoch 106/500\n",
      "\u001b[1m83/83\u001b[0m \u001b[32m━━━━━━━━━━━━━━━━━━━━\u001b[0m\u001b[37m\u001b[0m \u001b[1m0s\u001b[0m 6ms/step - loss: 12924000256.0000 - val_loss: 1402313637888.0000\n",
      "Epoch 107/500\n",
      "\u001b[1m83/83\u001b[0m \u001b[32m━━━━━━━━━━━━━━━━━━━━\u001b[0m\u001b[37m\u001b[0m \u001b[1m0s\u001b[0m 5ms/step - loss: 62274187264.0000 - val_loss: 1400227233792.0000\n",
      "Epoch 108/500\n",
      "\u001b[1m83/83\u001b[0m \u001b[32m━━━━━━━━━━━━━━━━━━━━\u001b[0m\u001b[37m\u001b[0m \u001b[1m0s\u001b[0m 6ms/step - loss: 40481546240.0000 - val_loss: 1399420616704.0000\n",
      "Epoch 109/500\n",
      "\u001b[1m83/83\u001b[0m \u001b[32m━━━━━━━━━━━━━━━━━━━━\u001b[0m\u001b[37m\u001b[0m \u001b[1m0s\u001b[0m 6ms/step - loss: 57124909056.0000 - val_loss: 1397839626240.0000\n",
      "Epoch 110/500\n",
      "\u001b[1m83/83\u001b[0m \u001b[32m━━━━━━━━━━━━━━━━━━━━\u001b[0m\u001b[37m\u001b[0m \u001b[1m0s\u001b[0m 5ms/step - loss: 139460640768.0000 - val_loss: 1396570062848.0000\n",
      "Epoch 111/500\n",
      "\u001b[1m83/83\u001b[0m \u001b[32m━━━━━━━━━━━━━━━━━━━━\u001b[0m\u001b[37m\u001b[0m \u001b[1m1s\u001b[0m 6ms/step - loss: 7475468800.0000 - val_loss: 1395548094464.0000\n",
      "Epoch 112/500\n",
      "\u001b[1m83/83\u001b[0m \u001b[32m━━━━━━━━━━━━━━━━━━━━\u001b[0m\u001b[37m\u001b[0m \u001b[1m0s\u001b[0m 5ms/step - loss: 19673917440.0000 - val_loss: 1394196873216.0000\n",
      "Epoch 113/500\n",
      "\u001b[1m83/83\u001b[0m \u001b[32m━━━━━━━━━━━━━━━━━━━━\u001b[0m\u001b[37m\u001b[0m \u001b[1m0s\u001b[0m 6ms/step - loss: 14301164544.0000 - val_loss: 1392877109248.0000\n",
      "Epoch 114/500\n",
      "\u001b[1m83/83\u001b[0m \u001b[32m━━━━━━━━━━━━━━━━━━━━\u001b[0m\u001b[37m\u001b[0m \u001b[1m0s\u001b[0m 5ms/step - loss: 111211700224.0000 - val_loss: 1391455895552.0000\n",
      "Epoch 115/500\n",
      "\u001b[1m83/83\u001b[0m \u001b[32m━━━━━━━━━━━━━━━━━━━━\u001b[0m\u001b[37m\u001b[0m \u001b[1m0s\u001b[0m 6ms/step - loss: 17156620288.0000 - val_loss: 1390517551104.0000\n",
      "Epoch 116/500\n",
      "\u001b[1m83/83\u001b[0m \u001b[32m━━━━━━━━━━━━━━━━━━━━\u001b[0m\u001b[37m\u001b[0m \u001b[1m0s\u001b[0m 5ms/step - loss: 104004222976.0000 - val_loss: 1388652396544.0000\n",
      "Epoch 117/500\n",
      "\u001b[1m83/83\u001b[0m \u001b[32m━━━━━━━━━━━━━━━━━━━━\u001b[0m\u001b[37m\u001b[0m \u001b[1m0s\u001b[0m 5ms/step - loss: 24988065792.0000 - val_loss: 1387701075968.0000\n",
      "Epoch 118/500\n",
      "\u001b[1m83/83\u001b[0m \u001b[32m━━━━━━━━━━━━━━━━━━━━\u001b[0m\u001b[37m\u001b[0m \u001b[1m0s\u001b[0m 5ms/step - loss: 137033596928.0000 - val_loss: 1385858727936.0000\n",
      "Epoch 119/500\n",
      "\u001b[1m83/83\u001b[0m \u001b[32m━━━━━━━━━━━━━━━━━━━━\u001b[0m\u001b[37m\u001b[0m \u001b[1m0s\u001b[0m 6ms/step - loss: 109117251584.0000 - val_loss: 1385186459648.0000\n",
      "Epoch 120/500\n",
      "\u001b[1m83/83\u001b[0m \u001b[32m━━━━━━━━━━━━━━━━━━━━\u001b[0m\u001b[37m\u001b[0m \u001b[1m0s\u001b[0m 6ms/step - loss: 39248465920.0000 - val_loss: 1383804829696.0000\n",
      "Epoch 121/500\n",
      "\u001b[1m83/83\u001b[0m \u001b[32m━━━━━━━━━━━━━━━━━━━━\u001b[0m\u001b[37m\u001b[0m \u001b[1m1s\u001b[0m 6ms/step - loss: 42672508928.0000 - val_loss: 1382641172480.0000\n",
      "Epoch 122/500\n",
      "\u001b[1m83/83\u001b[0m \u001b[32m━━━━━━━━━━━━━━━━━━━━\u001b[0m\u001b[37m\u001b[0m \u001b[1m0s\u001b[0m 5ms/step - loss: 21892157440.0000 - val_loss: 1381626413056.0000\n",
      "Epoch 123/500\n",
      "\u001b[1m83/83\u001b[0m \u001b[32m━━━━━━━━━━━━━━━━━━━━\u001b[0m\u001b[37m\u001b[0m \u001b[1m0s\u001b[0m 6ms/step - loss: 41327624192.0000 - val_loss: 1379502522368.0000\n",
      "Epoch 124/500\n",
      "\u001b[1m83/83\u001b[0m \u001b[32m━━━━━━━━━━━━━━━━━━━━\u001b[0m\u001b[37m\u001b[0m \u001b[1m0s\u001b[0m 5ms/step - loss: 41019707392.0000 - val_loss: 1378745450496.0000\n",
      "Epoch 125/500\n",
      "\u001b[1m83/83\u001b[0m \u001b[32m━━━━━━━━━━━━━━━━━━━━\u001b[0m\u001b[37m\u001b[0m \u001b[1m0s\u001b[0m 6ms/step - loss: 65765535744.0000 - val_loss: 1376742277120.0000\n",
      "Epoch 126/500\n",
      "\u001b[1m83/83\u001b[0m \u001b[32m━━━━━━━━━━━━━━━━━━━━\u001b[0m\u001b[37m\u001b[0m \u001b[1m0s\u001b[0m 6ms/step - loss: 7477706752.0000 - val_loss: 1376650657792.0000\n",
      "Epoch 127/500\n",
      "\u001b[1m83/83\u001b[0m \u001b[32m━━━━━━━━━━━━━━━━━━━━\u001b[0m\u001b[37m\u001b[0m \u001b[1m0s\u001b[0m 6ms/step - loss: 40590426112.0000 - val_loss: 1373875732480.0000\n",
      "Epoch 128/500\n",
      "\u001b[1m83/83\u001b[0m \u001b[32m━━━━━━━━━━━━━━━━━━━━\u001b[0m\u001b[37m\u001b[0m \u001b[1m0s\u001b[0m 5ms/step - loss: 94231355392.0000 - val_loss: 1373039624192.0000\n",
      "Epoch 129/500\n",
      "\u001b[1m83/83\u001b[0m \u001b[32m━━━━━━━━━━━━━━━━━━━━\u001b[0m\u001b[37m\u001b[0m \u001b[1m0s\u001b[0m 5ms/step - loss: 25397309440.0000 - val_loss: 1372457795584.0000\n",
      "Epoch 130/500\n",
      "\u001b[1m83/83\u001b[0m \u001b[32m━━━━━━━━━━━━━━━━━━━━\u001b[0m\u001b[37m\u001b[0m \u001b[1m0s\u001b[0m 5ms/step - loss: 4898915328.0000 - val_loss: 1370778632192.0000\n",
      "Epoch 131/500\n",
      "\u001b[1m83/83\u001b[0m \u001b[32m━━━━━━━━━━━━━━━━━━━━\u001b[0m\u001b[37m\u001b[0m \u001b[1m0s\u001b[0m 6ms/step - loss: 40435421184.0000 - val_loss: 1369562677248.0000\n",
      "Epoch 132/500\n",
      "\u001b[1m83/83\u001b[0m \u001b[32m━━━━━━━━━━━━━━━━━━━━\u001b[0m\u001b[37m\u001b[0m \u001b[1m1s\u001b[0m 6ms/step - loss: 116551884800.0000 - val_loss: 1367605116928.0000\n",
      "Epoch 133/500\n",
      "\u001b[1m83/83\u001b[0m \u001b[32m━━━━━━━━━━━━━━━━━━━━\u001b[0m\u001b[37m\u001b[0m \u001b[1m0s\u001b[0m 6ms/step - loss: 89258647552.0000 - val_loss: 1366793912320.0000\n",
      "Epoch 134/500\n",
      "\u001b[1m83/83\u001b[0m \u001b[32m━━━━━━━━━━━━━━━━━━━━\u001b[0m\u001b[37m\u001b[0m \u001b[1m0s\u001b[0m 5ms/step - loss: 30223349760.0000 - val_loss: 1366419963904.0000\n",
      "Epoch 135/500\n",
      "\u001b[1m83/83\u001b[0m \u001b[32m━━━━━━━━━━━━━━━━━━━━\u001b[0m\u001b[37m\u001b[0m \u001b[1m0s\u001b[0m 5ms/step - loss: 60634968064.0000 - val_loss: 1364080852992.0000\n",
      "Epoch 136/500\n",
      "\u001b[1m83/83\u001b[0m \u001b[32m━━━━━━━━━━━━━━━━━━━━\u001b[0m\u001b[37m\u001b[0m \u001b[1m0s\u001b[0m 5ms/step - loss: 86485188608.0000 - val_loss: 1363429818368.0000\n",
      "Epoch 137/500\n",
      "\u001b[1m83/83\u001b[0m \u001b[32m━━━━━━━━━━━━━━━━━━━━\u001b[0m\u001b[37m\u001b[0m \u001b[1m0s\u001b[0m 5ms/step - loss: 64954744832.0000 - val_loss: 1362158026752.0000\n",
      "Epoch 138/500\n",
      "\u001b[1m83/83\u001b[0m \u001b[32m━━━━━━━━━━━━━━━━━━━━\u001b[0m\u001b[37m\u001b[0m \u001b[1m0s\u001b[0m 5ms/step - loss: 3395534848.0000 - val_loss: 1362359353344.0000\n",
      "Epoch 139/500\n",
      "\u001b[1m83/83\u001b[0m \u001b[32m━━━━━━━━━━━━━━━━━━━━\u001b[0m\u001b[37m\u001b[0m \u001b[1m0s\u001b[0m 6ms/step - loss: 17370419200.0000 - val_loss: 1359926788096.0000\n",
      "Epoch 140/500\n",
      "\u001b[1m83/83\u001b[0m \u001b[32m━━━━━━━━━━━━━━━━━━━━\u001b[0m\u001b[37m\u001b[0m \u001b[1m0s\u001b[0m 6ms/step - loss: 186836140032.0000 - val_loss: 1358812676096.0000\n",
      "Epoch 141/500\n",
      "\u001b[1m83/83\u001b[0m \u001b[32m━━━━━━━━━━━━━━━━━━━━\u001b[0m\u001b[37m\u001b[0m \u001b[1m0s\u001b[0m 5ms/step - loss: 62078812160.0000 - val_loss: 1357961887744.0000\n",
      "Epoch 142/500\n",
      "\u001b[1m83/83\u001b[0m \u001b[32m━━━━━━━━━━━━━━━━━━━━\u001b[0m\u001b[37m\u001b[0m \u001b[1m0s\u001b[0m 5ms/step - loss: 45284659200.0000 - val_loss: 1356862849024.0000\n",
      "Epoch 143/500\n",
      "\u001b[1m83/83\u001b[0m \u001b[32m━━━━━━━━━━━━━━━━━━━━\u001b[0m\u001b[37m\u001b[0m \u001b[1m0s\u001b[0m 5ms/step - loss: 5533529600.0000 - val_loss: 1356844105728.0000\n",
      "Epoch 144/500\n",
      "\u001b[1m83/83\u001b[0m \u001b[32m━━━━━━━━━━━━━━━━━━━━\u001b[0m\u001b[37m\u001b[0m \u001b[1m0s\u001b[0m 5ms/step - loss: 14333724672.0000 - val_loss: 1355171102720.0000\n",
      "Epoch 145/500\n",
      "\u001b[1m83/83\u001b[0m \u001b[32m━━━━━━━━━━━━━━━━━━━━\u001b[0m\u001b[37m\u001b[0m \u001b[1m0s\u001b[0m 6ms/step - loss: 98581135360.0000 - val_loss: 1353558786048.0000\n",
      "Epoch 146/500\n",
      "\u001b[1m83/83\u001b[0m \u001b[32m━━━━━━━━━━━━━━━━━━━━\u001b[0m\u001b[37m\u001b[0m \u001b[1m0s\u001b[0m 6ms/step - loss: 83376619520.0000 - val_loss: 1353170419712.0000\n",
      "Epoch 147/500\n",
      "\u001b[1m83/83\u001b[0m \u001b[32m━━━━━━━━━━━━━━━━━━━━\u001b[0m\u001b[37m\u001b[0m \u001b[1m0s\u001b[0m 5ms/step - loss: 33726525440.0000 - val_loss: 1352548089856.0000\n",
      "Epoch 148/500\n",
      "\u001b[1m83/83\u001b[0m \u001b[32m━━━━━━━━━━━━━━━━━━━━\u001b[0m\u001b[37m\u001b[0m \u001b[1m0s\u001b[0m 5ms/step - loss: 8041658368.0000 - val_loss: 1352257634304.0000\n",
      "Epoch 149/500\n",
      "\u001b[1m83/83\u001b[0m \u001b[32m━━━━━━━━━━━━━━━━━━━━\u001b[0m\u001b[37m\u001b[0m \u001b[1m0s\u001b[0m 5ms/step - loss: 9927468032.0000 - val_loss: 1351370932224.0000\n",
      "Epoch 150/500\n",
      "\u001b[1m83/83\u001b[0m \u001b[32m━━━━━━━━━━━━━━━━━━━━\u001b[0m\u001b[37m\u001b[0m \u001b[1m0s\u001b[0m 6ms/step - loss: 66587324416.0000 - val_loss: 1350413189120.0000\n",
      "Epoch 151/500\n",
      "\u001b[1m83/83\u001b[0m \u001b[32m━━━━━━━━━━━━━━━━━━━━\u001b[0m\u001b[37m\u001b[0m \u001b[1m0s\u001b[0m 5ms/step - loss: 32083062784.0000 - val_loss: 1350322618368.0000\n",
      "Epoch 152/500\n",
      "\u001b[1m83/83\u001b[0m \u001b[32m━━━━━━━━━━━━━━━━━━━━\u001b[0m\u001b[37m\u001b[0m \u001b[1m0s\u001b[0m 6ms/step - loss: 62808219648.0000 - val_loss: 1349687967744.0000\n",
      "Epoch 153/500\n",
      "\u001b[1m83/83\u001b[0m \u001b[32m━━━━━━━━━━━━━━━━━━━━\u001b[0m\u001b[37m\u001b[0m \u001b[1m1s\u001b[0m 6ms/step - loss: 81464164352.0000 - val_loss: 1349299470336.0000\n",
      "Epoch 154/500\n",
      "\u001b[1m83/83\u001b[0m \u001b[32m━━━━━━━━━━━━━━━━━━━━\u001b[0m\u001b[37m\u001b[0m \u001b[1m0s\u001b[0m 5ms/step - loss: 28799774720.0000 - val_loss: 1348990402560.0000\n",
      "Epoch 155/500\n",
      "\u001b[1m83/83\u001b[0m \u001b[32m━━━━━━━━━━━━━━━━━━━━\u001b[0m\u001b[37m\u001b[0m \u001b[1m0s\u001b[0m 5ms/step - loss: 4192478720.0000 - val_loss: 1348995514368.0000\n",
      "Epoch 156/500\n",
      "\u001b[1m83/83\u001b[0m \u001b[32m━━━━━━━━━━━━━━━━━━━━\u001b[0m\u001b[37m\u001b[0m \u001b[1m0s\u001b[0m 6ms/step - loss: 21419175936.0000 - val_loss: 1347807870976.0000\n",
      "Epoch 157/500\n",
      "\u001b[1m83/83\u001b[0m \u001b[32m━━━━━━━━━━━━━━━━━━━━\u001b[0m\u001b[37m\u001b[0m \u001b[1m0s\u001b[0m 5ms/step - loss: 62445215744.0000 - val_loss: 1347470884864.0000\n",
      "Epoch 158/500\n",
      "\u001b[1m83/83\u001b[0m \u001b[32m━━━━━━━━━━━━━━━━━━━━\u001b[0m\u001b[37m\u001b[0m \u001b[1m0s\u001b[0m 5ms/step - loss: 3576051200.0000 - val_loss: 1347511517184.0000\n",
      "Epoch 159/500\n",
      "\u001b[1m83/83\u001b[0m \u001b[32m━━━━━━━━━━━━━━━━━━━━\u001b[0m\u001b[37m\u001b[0m \u001b[1m0s\u001b[0m 5ms/step - loss: 28398915584.0000 - val_loss: 1346653782016.0000\n",
      "Epoch 160/500\n",
      "\u001b[1m83/83\u001b[0m \u001b[32m━━━━━━━━━━━━━━━━━━━━\u001b[0m\u001b[37m\u001b[0m \u001b[1m0s\u001b[0m 5ms/step - loss: 51649277952.0000 - val_loss: 1346159640576.0000\n",
      "Epoch 161/500\n",
      "\u001b[1m83/83\u001b[0m \u001b[32m━━━━━━━━━━━━━━━━━━━━\u001b[0m\u001b[37m\u001b[0m \u001b[1m0s\u001b[0m 5ms/step - loss: 30675019776.0000 - val_loss: 1346048753664.0000\n",
      "Epoch 162/500\n",
      "\u001b[1m83/83\u001b[0m \u001b[32m━━━━━━━━━━━━━━━━━━━━\u001b[0m\u001b[37m\u001b[0m \u001b[1m0s\u001b[0m 5ms/step - loss: 25371838464.0000 - val_loss: 1345563394048.0000\n",
      "Epoch 163/500\n",
      "\u001b[1m83/83\u001b[0m \u001b[32m━━━━━━━━━━━━━━━━━━━━\u001b[0m\u001b[37m\u001b[0m \u001b[1m0s\u001b[0m 6ms/step - loss: 17774413824.0000 - val_loss: 1345171881984.0000\n",
      "Epoch 164/500\n",
      "\u001b[1m83/83\u001b[0m \u001b[32m━━━━━━━━━━━━━━━━━━━━\u001b[0m\u001b[37m\u001b[0m \u001b[1m0s\u001b[0m 6ms/step - loss: 24603013120.0000 - val_loss: 1344488079360.0000\n",
      "Epoch 165/500\n",
      "\u001b[1m83/83\u001b[0m \u001b[32m━━━━━━━━━━━━━━━━━━━━\u001b[0m\u001b[37m\u001b[0m \u001b[1m1s\u001b[0m 5ms/step - loss: 32219887616.0000 - val_loss: 1344112033792.0000\n",
      "Epoch 166/500\n",
      "\u001b[1m83/83\u001b[0m \u001b[32m━━━━━━━━━━━━━━━━━━━━\u001b[0m\u001b[37m\u001b[0m \u001b[1m0s\u001b[0m 5ms/step - loss: 13664634880.0000 - val_loss: 1343857754112.0000\n",
      "Epoch 167/500\n",
      "\u001b[1m83/83\u001b[0m \u001b[32m━━━━━━━━━━━━━━━━━━━━\u001b[0m\u001b[37m\u001b[0m \u001b[1m1s\u001b[0m 5ms/step - loss: 147651952640.0000 - val_loss: 1342641537024.0000\n",
      "Epoch 168/500\n",
      "\u001b[1m83/83\u001b[0m \u001b[32m━━━━━━━━━━━━━━━━━━━━\u001b[0m\u001b[37m\u001b[0m \u001b[1m0s\u001b[0m 6ms/step - loss: 11087556608.0000 - val_loss: 1343344738304.0000\n",
      "Epoch 169/500\n",
      "\u001b[1m83/83\u001b[0m \u001b[32m━━━━━━━━━━━━━━━━━━━━\u001b[0m\u001b[37m\u001b[0m \u001b[1m1s\u001b[0m 6ms/step - loss: 6089068032.0000 - val_loss: 1342590681088.0000\n",
      "Epoch 170/500\n",
      "\u001b[1m83/83\u001b[0m \u001b[32m━━━━━━━━━━━━━━━━━━━━\u001b[0m\u001b[37m\u001b[0m \u001b[1m1s\u001b[0m 6ms/step - loss: 22219886592.0000 - val_loss: 1342142545920.0000\n",
      "Epoch 171/500\n",
      "\u001b[1m83/83\u001b[0m \u001b[32m━━━━━━━━━━━━━━━━━━━━\u001b[0m\u001b[37m\u001b[0m \u001b[1m0s\u001b[0m 6ms/step - loss: 6291717632.0000 - val_loss: 1342044766208.0000\n",
      "Epoch 172/500\n",
      "\u001b[1m83/83\u001b[0m \u001b[32m━━━━━━━━━━━━━━━━━━━━\u001b[0m\u001b[37m\u001b[0m \u001b[1m0s\u001b[0m 5ms/step - loss: 12876568576.0000 - val_loss: 1341528473600.0000\n",
      "Epoch 173/500\n",
      "\u001b[1m83/83\u001b[0m \u001b[32m━━━━━━━━━━━━━━━━━━━━\u001b[0m\u001b[37m\u001b[0m \u001b[1m1s\u001b[0m 6ms/step - loss: 49619148800.0000 - val_loss: 1340807315456.0000\n",
      "Epoch 174/500\n",
      "\u001b[1m83/83\u001b[0m \u001b[32m━━━━━━━━━━━━━━━━━━━━\u001b[0m\u001b[37m\u001b[0m \u001b[1m0s\u001b[0m 5ms/step - loss: 57888993280.0000 - val_loss: 1340586065920.0000\n",
      "Epoch 175/500\n",
      "\u001b[1m83/83\u001b[0m \u001b[32m━━━━━━━━━━━━━━━━━━━━\u001b[0m\u001b[37m\u001b[0m \u001b[1m0s\u001b[0m 5ms/step - loss: 22396231680.0000 - val_loss: 1340559196160.0000\n",
      "Epoch 176/500\n",
      "\u001b[1m83/83\u001b[0m \u001b[32m━━━━━━━━━━━━━━━━━━━━\u001b[0m\u001b[37m\u001b[0m \u001b[1m0s\u001b[0m 5ms/step - loss: 46380294144.0000 - val_loss: 1339729641472.0000\n",
      "Epoch 177/500\n",
      "\u001b[1m83/83\u001b[0m \u001b[32m━━━━━━━━━━━━━━━━━━━━\u001b[0m\u001b[37m\u001b[0m \u001b[1m0s\u001b[0m 5ms/step - loss: 9534156800.0000 - val_loss: 1339950628864.0000\n",
      "Epoch 178/500\n",
      "\u001b[1m83/83\u001b[0m \u001b[32m━━━━━━━━━━━━━━━━━━━━\u001b[0m\u001b[37m\u001b[0m \u001b[1m0s\u001b[0m 5ms/step - loss: 2555472640.0000 - val_loss: 1339430535168.0000\n",
      "Epoch 179/500\n",
      "\u001b[1m83/83\u001b[0m \u001b[32m━━━━━━━━━━━━━━━━━━━━\u001b[0m\u001b[37m\u001b[0m \u001b[1m0s\u001b[0m 5ms/step - loss: 4049779456.0000 - val_loss: 1339202076672.0000\n",
      "Epoch 180/500\n",
      "\u001b[1m83/83\u001b[0m \u001b[32m━━━━━━━━━━━━━━━━━━━━\u001b[0m\u001b[37m\u001b[0m \u001b[1m0s\u001b[0m 5ms/step - loss: 20397887488.0000 - val_loss: 1338284048384.0000\n",
      "Epoch 181/500\n",
      "\u001b[1m83/83\u001b[0m \u001b[32m━━━━━━━━━━━━━━━━━━━━\u001b[0m\u001b[37m\u001b[0m \u001b[1m0s\u001b[0m 6ms/step - loss: 47151149056.0000 - val_loss: 1337904988160.0000\n",
      "Epoch 182/500\n",
      "\u001b[1m83/83\u001b[0m \u001b[32m━━━━━━━━━━━━━━━━━━━━\u001b[0m\u001b[37m\u001b[0m \u001b[1m0s\u001b[0m 6ms/step - loss: 5029151744.0000 - val_loss: 1338156777472.0000\n",
      "Epoch 183/500\n",
      "\u001b[1m83/83\u001b[0m \u001b[32m━━━━━━━━━━━━━━━━━━━━\u001b[0m\u001b[37m\u001b[0m \u001b[1m0s\u001b[0m 6ms/step - loss: 9857122304.0000 - val_loss: 1337328664576.0000\n",
      "Epoch 184/500\n",
      "\u001b[1m83/83\u001b[0m \u001b[32m━━━━━━━━━━━━━━━━━━━━\u001b[0m\u001b[37m\u001b[0m \u001b[1m0s\u001b[0m 5ms/step - loss: 16524274688.0000 - val_loss: 1336990367744.0000\n",
      "Epoch 185/500\n",
      "\u001b[1m83/83\u001b[0m \u001b[32m━━━━━━━━━━━━━━━━━━━━\u001b[0m\u001b[37m\u001b[0m \u001b[1m0s\u001b[0m 5ms/step - loss: 34395996160.0000 - val_loss: 1336464769024.0000\n",
      "Epoch 186/500\n",
      "\u001b[1m83/83\u001b[0m \u001b[32m━━━━━━━━━━━━━━━━━━━━\u001b[0m\u001b[37m\u001b[0m \u001b[1m0s\u001b[0m 5ms/step - loss: 121661931520.0000 - val_loss: 1335958568960.0000\n",
      "Epoch 187/500\n",
      "\u001b[1m83/83\u001b[0m \u001b[32m━━━━━━━━━━━━━━━━━━━━\u001b[0m\u001b[37m\u001b[0m \u001b[1m0s\u001b[0m 5ms/step - loss: 11504220160.0000 - val_loss: 1336350867456.0000\n",
      "Epoch 188/500\n",
      "\u001b[1m83/83\u001b[0m \u001b[32m━━━━━━━━━━━━━━━━━━━━\u001b[0m\u001b[37m\u001b[0m \u001b[1m0s\u001b[0m 5ms/step - loss: 31611365376.0000 - val_loss: 1335323656192.0000\n",
      "Epoch 189/500\n",
      "\u001b[1m83/83\u001b[0m \u001b[32m━━━━━━━━━━━━━━━━━━━━\u001b[0m\u001b[37m\u001b[0m \u001b[1m0s\u001b[0m 5ms/step - loss: 6608209408.0000 - val_loss: 1335575576576.0000\n",
      "Epoch 190/500\n",
      "\u001b[1m83/83\u001b[0m \u001b[32m━━━━━━━━━━━━━━━━━━━━\u001b[0m\u001b[37m\u001b[0m \u001b[1m0s\u001b[0m 5ms/step - loss: 13495186432.0000 - val_loss: 1334752968704.0000\n",
      "Epoch 191/500\n",
      "\u001b[1m83/83\u001b[0m \u001b[32m━━━━━━━━━━━━━━━━━━━━\u001b[0m\u001b[37m\u001b[0m \u001b[1m0s\u001b[0m 5ms/step - loss: 30121879552.0000 - val_loss: 1334404579328.0000\n",
      "Epoch 192/500\n",
      "\u001b[1m83/83\u001b[0m \u001b[32m━━━━━━━━━━━━━━━━━━━━\u001b[0m\u001b[37m\u001b[0m \u001b[1m0s\u001b[0m 5ms/step - loss: 52264112128.0000 - val_loss: 1333793652736.0000\n",
      "Epoch 193/500\n",
      "\u001b[1m83/83\u001b[0m \u001b[32m━━━━━━━━━━━━━━━━━━━━\u001b[0m\u001b[37m\u001b[0m \u001b[1m0s\u001b[0m 5ms/step - loss: 26805385216.0000 - val_loss: 1333869936640.0000\n",
      "Epoch 194/500\n",
      "\u001b[1m83/83\u001b[0m \u001b[32m━━━━━━━━━━━━━━━━━━━━\u001b[0m\u001b[37m\u001b[0m \u001b[1m1s\u001b[0m 6ms/step - loss: 2348535296.0000 - val_loss: 1333707145216.0000\n",
      "Epoch 195/500\n",
      "\u001b[1m83/83\u001b[0m \u001b[32m━━━━━━━━━━━━━━━━━━━━\u001b[0m\u001b[37m\u001b[0m \u001b[1m0s\u001b[0m 6ms/step - loss: 14412336128.0000 - val_loss: 1333041823744.0000\n",
      "Epoch 196/500\n",
      "\u001b[1m83/83\u001b[0m \u001b[32m━━━━━━━━━━━━━━━━━━━━\u001b[0m\u001b[37m\u001b[0m \u001b[1m0s\u001b[0m 5ms/step - loss: 108280274944.0000 - val_loss: 1332186054656.0000\n",
      "Epoch 197/500\n",
      "\u001b[1m83/83\u001b[0m \u001b[32m━━━━━━━━━━━━━━━━━━━━\u001b[0m\u001b[37m\u001b[0m \u001b[1m0s\u001b[0m 5ms/step - loss: 6555864576.0000 - val_loss: 1332939194368.0000\n",
      "Epoch 198/500\n",
      "\u001b[1m83/83\u001b[0m \u001b[32m━━━━━━━━━━━━━━━━━━━━\u001b[0m\u001b[37m\u001b[0m \u001b[1m0s\u001b[0m 5ms/step - loss: 5246309376.0000 - val_loss: 1332057210880.0000\n",
      "Epoch 199/500\n",
      "\u001b[1m83/83\u001b[0m \u001b[32m━━━━━━━━━━━━━━━━━━━━\u001b[0m\u001b[37m\u001b[0m \u001b[1m0s\u001b[0m 5ms/step - loss: 13887104000.0000 - val_loss: 1331513131008.0000\n",
      "Epoch 200/500\n",
      "\u001b[1m83/83\u001b[0m \u001b[32m━━━━━━━━━━━━━━━━━━━━\u001b[0m\u001b[37m\u001b[0m \u001b[1m0s\u001b[0m 5ms/step - loss: 23974326272.0000 - val_loss: 1330917146624.0000\n",
      "Epoch 201/500\n",
      "\u001b[1m83/83\u001b[0m \u001b[32m━━━━━━━━━━━━━━━━━━━━\u001b[0m\u001b[37m\u001b[0m \u001b[1m0s\u001b[0m 6ms/step - loss: 6413726720.0000 - val_loss: 1331081773056.0000\n",
      "Epoch 202/500\n",
      "\u001b[1m83/83\u001b[0m \u001b[32m━━━━━━━━━━━━━━━━━━━━\u001b[0m\u001b[37m\u001b[0m \u001b[1m0s\u001b[0m 6ms/step - loss: 23112695808.0000 - val_loss: 1329965432832.0000\n",
      "Epoch 203/500\n",
      "\u001b[1m83/83\u001b[0m \u001b[32m━━━━━━━━━━━━━━━━━━━━\u001b[0m\u001b[37m\u001b[0m \u001b[1m0s\u001b[0m 5ms/step - loss: 8107093504.0000 - val_loss: 1330093621248.0000\n",
      "Epoch 204/500\n",
      "\u001b[1m83/83\u001b[0m \u001b[32m━━━━━━━━━━━━━━━━━━━━\u001b[0m\u001b[37m\u001b[0m \u001b[1m0s\u001b[0m 5ms/step - loss: 12644876288.0000 - val_loss: 1329393041408.0000\n",
      "Epoch 205/500\n",
      "\u001b[1m83/83\u001b[0m \u001b[32m━━━━━━━━━━━━━━━━━━━━\u001b[0m\u001b[37m\u001b[0m \u001b[1m0s\u001b[0m 5ms/step - loss: 10969764864.0000 - val_loss: 1329093541888.0000\n",
      "Epoch 206/500\n",
      "\u001b[1m83/83\u001b[0m \u001b[32m━━━━━━━━━━━━━━━━━━━━\u001b[0m\u001b[37m\u001b[0m \u001b[1m0s\u001b[0m 6ms/step - loss: 7011024896.0000 - val_loss: 1328733093888.0000\n",
      "Epoch 207/500\n",
      "\u001b[1m83/83\u001b[0m \u001b[32m━━━━━━━━━━━━━━━━━━━━\u001b[0m\u001b[37m\u001b[0m \u001b[1m0s\u001b[0m 5ms/step - loss: 65788588032.0000 - val_loss: 1327589490688.0000\n",
      "Epoch 208/500\n",
      "\u001b[1m83/83\u001b[0m \u001b[32m━━━━━━━━━━━━━━━━━━━━\u001b[0m\u001b[37m\u001b[0m \u001b[1m0s\u001b[0m 5ms/step - loss: 6672045568.0000 - val_loss: 1328367009792.0000\n",
      "Epoch 209/500\n",
      "\u001b[1m83/83\u001b[0m \u001b[32m━━━━━━━━━━━━━━━━━━━━\u001b[0m\u001b[37m\u001b[0m \u001b[1m0s\u001b[0m 5ms/step - loss: 15457696768.0000 - val_loss: 1326851817472.0000\n",
      "Epoch 210/500\n",
      "\u001b[1m83/83\u001b[0m \u001b[32m━━━━━━━━━━━━━━━━━━━━\u001b[0m\u001b[37m\u001b[0m \u001b[1m0s\u001b[0m 5ms/step - loss: 22345410560.0000 - val_loss: 1326754824192.0000\n",
      "Epoch 211/500\n",
      "\u001b[1m83/83\u001b[0m \u001b[32m━━━━━━━━━━━━━━━━━━━━\u001b[0m\u001b[37m\u001b[0m \u001b[1m0s\u001b[0m 5ms/step - loss: 12958735360.0000 - val_loss: 1326392147968.0000\n",
      "Epoch 212/500\n",
      "\u001b[1m83/83\u001b[0m \u001b[32m━━━━━━━━━━━━━━━━━━━━\u001b[0m\u001b[37m\u001b[0m \u001b[1m0s\u001b[0m 6ms/step - loss: 15728070656.0000 - val_loss: 1325855408128.0000\n",
      "Epoch 213/500\n",
      "\u001b[1m83/83\u001b[0m \u001b[32m━━━━━━━━━━━━━━━━━━━━\u001b[0m\u001b[37m\u001b[0m \u001b[1m0s\u001b[0m 5ms/step - loss: 30373595136.0000 - val_loss: 1325042630656.0000\n",
      "Epoch 214/500\n",
      "\u001b[1m83/83\u001b[0m \u001b[32m━━━━━━━━━━━━━━━━━━━━\u001b[0m\u001b[37m\u001b[0m \u001b[1m0s\u001b[0m 6ms/step - loss: 13132987392.0000 - val_loss: 1325070155776.0000\n",
      "Epoch 215/500\n",
      "\u001b[1m83/83\u001b[0m \u001b[32m━━━━━━━━━━━━━━━━━━━━\u001b[0m\u001b[37m\u001b[0m \u001b[1m0s\u001b[0m 6ms/step - loss: 53346930688.0000 - val_loss: 1323749212160.0000\n",
      "Epoch 216/500\n",
      "\u001b[1m83/83\u001b[0m \u001b[32m━━━━━━━━━━━━━━━━━━━━\u001b[0m\u001b[37m\u001b[0m \u001b[1m0s\u001b[0m 5ms/step - loss: 6934776832.0000 - val_loss: 1324700139520.0000\n",
      "Epoch 217/500\n",
      "\u001b[1m83/83\u001b[0m \u001b[32m━━━━━━━━━━━━━━━━━━━━\u001b[0m\u001b[37m\u001b[0m \u001b[1m0s\u001b[0m 5ms/step - loss: 25109510144.0000 - val_loss: 1322948231168.0000\n",
      "Epoch 218/500\n",
      "\u001b[1m83/83\u001b[0m \u001b[32m━━━━━━━━━━━━━━━━━━━━\u001b[0m\u001b[37m\u001b[0m \u001b[1m0s\u001b[0m 5ms/step - loss: 23122163712.0000 - val_loss: 1323061739520.0000\n",
      "Epoch 219/500\n",
      "\u001b[1m83/83\u001b[0m \u001b[32m━━━━━━━━━━━━━━━━━━━━\u001b[0m\u001b[37m\u001b[0m \u001b[1m0s\u001b[0m 5ms/step - loss: 1486055296.0000 - val_loss: 1322800644096.0000\n",
      "Epoch 220/500\n",
      "\u001b[1m83/83\u001b[0m \u001b[32m━━━━━━━━━━━━━━━━━━━━\u001b[0m\u001b[37m\u001b[0m \u001b[1m0s\u001b[0m 5ms/step - loss: 6086118400.0000 - val_loss: 1322170187776.0000\n",
      "Epoch 221/500\n",
      "\u001b[1m83/83\u001b[0m \u001b[32m━━━━━━━━━━━━━━━━━━━━\u001b[0m\u001b[37m\u001b[0m \u001b[1m0s\u001b[0m 5ms/step - loss: 16634247168.0000 - val_loss: 1321371959296.0000\n",
      "Epoch 222/500\n",
      "\u001b[1m83/83\u001b[0m \u001b[32m━━━━━━━━━━━━━━━━━━━━\u001b[0m\u001b[37m\u001b[0m \u001b[1m0s\u001b[0m 5ms/step - loss: 8595646464.0000 - val_loss: 1321286631424.0000\n",
      "Epoch 223/500\n",
      "\u001b[1m83/83\u001b[0m \u001b[32m━━━━━━━━━━━━━━━━━━━━\u001b[0m\u001b[37m\u001b[0m \u001b[1m0s\u001b[0m 5ms/step - loss: 16350317568.0000 - val_loss: 1320381972480.0000\n",
      "Epoch 224/500\n",
      "\u001b[1m83/83\u001b[0m \u001b[32m━━━━━━━━━━━━━━━━━━━━\u001b[0m\u001b[37m\u001b[0m \u001b[1m0s\u001b[0m 5ms/step - loss: 13461069824.0000 - val_loss: 1320109867008.0000\n",
      "Epoch 225/500\n",
      "\u001b[1m83/83\u001b[0m \u001b[32m━━━━━━━━━━━━━━━━━━━━\u001b[0m\u001b[37m\u001b[0m \u001b[1m0s\u001b[0m 6ms/step - loss: 20096028672.0000 - val_loss: 1319170342912.0000\n",
      "Epoch 226/500\n",
      "\u001b[1m83/83\u001b[0m \u001b[32m━━━━━━━━━━━━━━━━━━━━\u001b[0m\u001b[37m\u001b[0m \u001b[1m0s\u001b[0m 6ms/step - loss: 3918705152.0000 - val_loss: 1319636959232.0000\n",
      "Epoch 227/500\n",
      "\u001b[1m83/83\u001b[0m \u001b[32m━━━━━━━━━━━━━━━━━━━━\u001b[0m\u001b[37m\u001b[0m \u001b[1m0s\u001b[0m 6ms/step - loss: 25579821056.0000 - val_loss: 1317856215040.0000\n",
      "Epoch 228/500\n",
      "\u001b[1m83/83\u001b[0m \u001b[32m━━━━━━━━━━━━━━━━━━━━\u001b[0m\u001b[37m\u001b[0m \u001b[1m0s\u001b[0m 5ms/step - loss: 55813431296.0000 - val_loss: 1317660262400.0000\n",
      "Epoch 229/500\n",
      "\u001b[1m83/83\u001b[0m \u001b[32m━━━━━━━━━━━━━━━━━━━━\u001b[0m\u001b[37m\u001b[0m \u001b[1m0s\u001b[0m 5ms/step - loss: 16391367680.0000 - val_loss: 1317254725632.0000\n",
      "Epoch 230/500\n",
      "\u001b[1m83/83\u001b[0m \u001b[32m━━━━━━━━━━━━━━━━━━━━\u001b[0m\u001b[37m\u001b[0m \u001b[1m0s\u001b[0m 5ms/step - loss: 16328134656.0000 - val_loss: 1316793352192.0000\n",
      "Epoch 231/500\n",
      "\u001b[1m83/83\u001b[0m \u001b[32m━━━━━━━━━━━━━━━━━━━━\u001b[0m\u001b[37m\u001b[0m \u001b[1m0s\u001b[0m 5ms/step - loss: 31832459264.0000 - val_loss: 1316173512704.0000\n",
      "Epoch 232/500\n",
      "\u001b[1m83/83\u001b[0m \u001b[32m━━━━━━━━━━━━━━━━━━━━\u001b[0m\u001b[37m\u001b[0m \u001b[1m0s\u001b[0m 5ms/step - loss: 9102054400.0000 - val_loss: 1316032610304.0000\n",
      "Epoch 233/500\n",
      "\u001b[1m83/83\u001b[0m \u001b[32m━━━━━━━━━━━━━━━━━━━━\u001b[0m\u001b[37m\u001b[0m \u001b[1m0s\u001b[0m 5ms/step - loss: 34256162816.0000 - val_loss: 1314913255424.0000\n",
      "Epoch 234/500\n",
      "\u001b[1m83/83\u001b[0m \u001b[32m━━━━━━━━━━━━━━━━━━━━\u001b[0m\u001b[37m\u001b[0m \u001b[1m0s\u001b[0m 5ms/step - loss: 27536504832.0000 - val_loss: 1314623979520.0000\n",
      "Epoch 235/500\n",
      "\u001b[1m83/83\u001b[0m \u001b[32m━━━━━━━━━━━━━━━━━━━━\u001b[0m\u001b[37m\u001b[0m \u001b[1m1s\u001b[0m 6ms/step - loss: 17289117696.0000 - val_loss: 1314108342272.0000\n",
      "Epoch 236/500\n",
      "\u001b[1m83/83\u001b[0m \u001b[32m━━━━━━━━━━━━━━━━━━━━\u001b[0m\u001b[37m\u001b[0m \u001b[1m1s\u001b[0m 6ms/step - loss: 1226304512.0000 - val_loss: 1314409152512.0000\n",
      "Epoch 237/500\n",
      "\u001b[1m83/83\u001b[0m \u001b[32m━━━━━━━━━━━━━━━━━━━━\u001b[0m\u001b[37m\u001b[0m \u001b[1m1s\u001b[0m 6ms/step - loss: 3871231744.0000 - val_loss: 1313346289664.0000\n",
      "Epoch 238/500\n",
      "\u001b[1m83/83\u001b[0m \u001b[32m━━━━━━━━━━━━━━━━━━━━\u001b[0m\u001b[37m\u001b[0m \u001b[1m0s\u001b[0m 5ms/step - loss: 3067707648.0000 - val_loss: 1313160298496.0000\n",
      "Epoch 239/500\n",
      "\u001b[1m83/83\u001b[0m \u001b[32m━━━━━━━━━━━━━━━━━━━━\u001b[0m\u001b[37m\u001b[0m \u001b[1m0s\u001b[0m 5ms/step - loss: 18477955072.0000 - val_loss: 1311589924864.0000\n",
      "Epoch 240/500\n",
      "\u001b[1m83/83\u001b[0m \u001b[32m━━━━━━━━━━━━━━━━━━━━\u001b[0m\u001b[37m\u001b[0m \u001b[1m0s\u001b[0m 5ms/step - loss: 8674913280.0000 - val_loss: 1311946702848.0000\n",
      "Epoch 241/500\n",
      "\u001b[1m83/83\u001b[0m \u001b[32m━━━━━━━━━━━━━━━━━━━━\u001b[0m\u001b[37m\u001b[0m \u001b[1m0s\u001b[0m 5ms/step - loss: 38899212288.0000 - val_loss: 1310225858560.0000\n",
      "Epoch 242/500\n",
      "\u001b[1m83/83\u001b[0m \u001b[32m━━━━━━━━━━━━━━━━━━━━\u001b[0m\u001b[37m\u001b[0m \u001b[1m0s\u001b[0m 5ms/step - loss: 3005952768.0000 - val_loss: 1311226593280.0000\n",
      "Epoch 243/500\n",
      "\u001b[1m83/83\u001b[0m \u001b[32m━━━━━━━━━━━━━━━━━━━━\u001b[0m\u001b[37m\u001b[0m \u001b[1m0s\u001b[0m 5ms/step - loss: 1310778880.0000 - val_loss: 1309981147136.0000\n",
      "Epoch 244/500\n",
      "\u001b[1m83/83\u001b[0m \u001b[32m━━━━━━━━━━━━━━━━━━━━\u001b[0m\u001b[37m\u001b[0m \u001b[1m0s\u001b[0m 6ms/step - loss: 5048565248.0000 - val_loss: 1309859512320.0000\n",
      "Epoch 245/500\n",
      "\u001b[1m83/83\u001b[0m \u001b[32m━━━━━━━━━━━━━━━━━━━━\u001b[0m\u001b[37m\u001b[0m \u001b[1m0s\u001b[0m 6ms/step - loss: 6575734784.0000 - val_loss: 1309022748672.0000\n",
      "Epoch 246/500\n",
      "\u001b[1m83/83\u001b[0m \u001b[32m━━━━━━━━━━━━━━━━━━━━\u001b[0m\u001b[37m\u001b[0m \u001b[1m0s\u001b[0m 5ms/step - loss: 5087226368.0000 - val_loss: 1308720758784.0000\n",
      "Epoch 247/500\n",
      "\u001b[1m83/83\u001b[0m \u001b[32m━━━━━━━━━━━━━━━━━━━━\u001b[0m\u001b[37m\u001b[0m \u001b[1m0s\u001b[0m 5ms/step - loss: 17498284032.0000 - val_loss: 1307469545472.0000\n",
      "Epoch 248/500\n",
      "\u001b[1m83/83\u001b[0m \u001b[32m━━━━━━━━━━━━━━━━━━━━\u001b[0m\u001b[37m\u001b[0m \u001b[1m0s\u001b[0m 5ms/step - loss: 2527195136.0000 - val_loss: 1308098428928.0000\n",
      "Epoch 249/500\n",
      "\u001b[1m83/83\u001b[0m \u001b[32m━━━━━━━━━━━━━━━━━━━━\u001b[0m\u001b[37m\u001b[0m \u001b[1m0s\u001b[0m 5ms/step - loss: 3626407680.0000 - val_loss: 1307061649408.0000\n",
      "Epoch 250/500\n",
      "\u001b[1m83/83\u001b[0m \u001b[32m━━━━━━━━━━━━━━━━━━━━\u001b[0m\u001b[37m\u001b[0m \u001b[1m0s\u001b[0m 6ms/step - loss: 10995284992.0000 - val_loss: 1306117799936.0000\n",
      "Epoch 251/500\n",
      "\u001b[1m83/83\u001b[0m \u001b[32m━━━━━━━━━━━━━━━━━━━━\u001b[0m\u001b[37m\u001b[0m \u001b[1m0s\u001b[0m 5ms/step - loss: 21741027328.0000 - val_loss: 1305672155136.0000\n",
      "Epoch 252/500\n",
      "\u001b[1m83/83\u001b[0m \u001b[32m━━━━━━━━━━━━━━━━━━━━\u001b[0m\u001b[37m\u001b[0m \u001b[1m0s\u001b[0m 5ms/step - loss: 7465228288.0000 - val_loss: 1305401884672.0000\n",
      "Epoch 253/500\n",
      "\u001b[1m83/83\u001b[0m \u001b[32m━━━━━━━━━━━━━━━━━━━━\u001b[0m\u001b[37m\u001b[0m \u001b[1m0s\u001b[0m 5ms/step - loss: 1316274816.0000 - val_loss: 1305199902720.0000\n",
      "Epoch 254/500\n",
      "\u001b[1m83/83\u001b[0m \u001b[32m━━━━━━━━━━━━━━━━━━━━\u001b[0m\u001b[37m\u001b[0m \u001b[1m0s\u001b[0m 5ms/step - loss: 10576369664.0000 - val_loss: 1304365105152.0000\n",
      "Epoch 255/500\n",
      "\u001b[1m83/83\u001b[0m \u001b[32m━━━━━━━━━━━━━━━━━━━━\u001b[0m\u001b[37m\u001b[0m \u001b[1m0s\u001b[0m 5ms/step - loss: 12290550784.0000 - val_loss: 1303905042432.0000\n",
      "Epoch 256/500\n",
      "\u001b[1m83/83\u001b[0m \u001b[32m━━━━━━━━━━━━━━━━━━━━\u001b[0m\u001b[37m\u001b[0m \u001b[1m1s\u001b[0m 6ms/step - loss: 7599240192.0000 - val_loss: 1303254532096.0000\n",
      "Epoch 257/500\n",
      "\u001b[1m83/83\u001b[0m \u001b[32m━━━━━━━━━━━━━━━━━━━━\u001b[0m\u001b[37m\u001b[0m \u001b[1m0s\u001b[0m 6ms/step - loss: 10091236352.0000 - val_loss: 1302602448896.0000\n",
      "Epoch 258/500\n",
      "\u001b[1m83/83\u001b[0m \u001b[32m━━━━━━━━━━━━━━━━━━━━\u001b[0m\u001b[37m\u001b[0m \u001b[1m0s\u001b[0m 6ms/step - loss: 4600165888.0000 - val_loss: 1302649634816.0000\n",
      "Epoch 259/500\n",
      "\u001b[1m83/83\u001b[0m \u001b[32m━━━━━━━━━━━━━━━━━━━━\u001b[0m\u001b[37m\u001b[0m \u001b[1m0s\u001b[0m 5ms/step - loss: 22725038080.0000 - val_loss: 1301382955008.0000\n",
      "Epoch 260/500\n",
      "\u001b[1m83/83\u001b[0m \u001b[32m━━━━━━━━━━━━━━━━━━━━\u001b[0m\u001b[37m\u001b[0m \u001b[1m0s\u001b[0m 5ms/step - loss: 9207651328.0000 - val_loss: 1301236940800.0000\n",
      "Epoch 261/500\n",
      "\u001b[1m83/83\u001b[0m \u001b[32m━━━━━━━━━━━━━━━━━━━━\u001b[0m\u001b[37m\u001b[0m \u001b[1m0s\u001b[0m 5ms/step - loss: 6129389568.0000 - val_loss: 1300791296000.0000\n",
      "Epoch 262/500\n",
      "\u001b[1m83/83\u001b[0m \u001b[32m━━━━━━━━━━━━━━━━━━━━\u001b[0m\u001b[37m\u001b[0m \u001b[1m0s\u001b[0m 6ms/step - loss: 4454713344.0000 - val_loss: 1300847656960.0000\n",
      "Epoch 263/500\n",
      "\u001b[1m83/83\u001b[0m \u001b[32m━━━━━━━━━━━━━━━━━━━━\u001b[0m\u001b[37m\u001b[0m \u001b[1m0s\u001b[0m 5ms/step - loss: 8342499328.0000 - val_loss: 1299437191168.0000\n",
      "Epoch 264/500\n",
      "\u001b[1m83/83\u001b[0m \u001b[32m━━━━━━━━━━━━━━━━━━━━\u001b[0m\u001b[37m\u001b[0m \u001b[1m0s\u001b[0m 6ms/step - loss: 6078537728.0000 - val_loss: 1299733544960.0000\n",
      "Epoch 265/500\n",
      "\u001b[1m83/83\u001b[0m \u001b[32m━━━━━━━━━━━━━━━━━━━━\u001b[0m\u001b[37m\u001b[0m \u001b[1m0s\u001b[0m 5ms/step - loss: 1558992640.0000 - val_loss: 1299078184960.0000\n",
      "Epoch 266/500\n",
      "\u001b[1m83/83\u001b[0m \u001b[32m━━━━━━━━━━━━━━━━━━━━\u001b[0m\u001b[37m\u001b[0m \u001b[1m0s\u001b[0m 5ms/step - loss: 2090941696.0000 - val_loss: 1298910019584.0000\n",
      "Epoch 267/500\n",
      "\u001b[1m83/83\u001b[0m \u001b[32m━━━━━━━━━━━━━━━━━━━━\u001b[0m\u001b[37m\u001b[0m \u001b[1m0s\u001b[0m 5ms/step - loss: 2196238336.0000 - val_loss: 1298307874816.0000\n",
      "Epoch 268/500\n",
      "\u001b[1m83/83\u001b[0m \u001b[32m━━━━━━━━━━━━━━━━━━━━\u001b[0m\u001b[37m\u001b[0m \u001b[1m0s\u001b[0m 5ms/step - loss: 5334311936.0000 - val_loss: 1298036817920.0000\n",
      "Epoch 269/500\n",
      "\u001b[1m83/83\u001b[0m \u001b[32m━━━━━━━━━━━━━━━━━━━━\u001b[0m\u001b[37m\u001b[0m \u001b[1m0s\u001b[0m 5ms/step - loss: 1567736064.0000 - val_loss: 1297688821760.0000\n",
      "Epoch 270/500\n",
      "\u001b[1m83/83\u001b[0m \u001b[32m━━━━━━━━━━━━━━━━━━━━\u001b[0m\u001b[37m\u001b[0m \u001b[1m0s\u001b[0m 6ms/step - loss: 1733708160.0000 - val_loss: 1297069768704.0000\n",
      "Epoch 271/500\n",
      "\u001b[1m83/83\u001b[0m \u001b[32m━━━━━━━━━━━━━━━━━━━━\u001b[0m\u001b[37m\u001b[0m \u001b[1m0s\u001b[0m 5ms/step - loss: 7897147904.0000 - val_loss: 1297012752384.0000\n",
      "Epoch 272/500\n",
      "\u001b[1m83/83\u001b[0m \u001b[32m━━━━━━━━━━━━━━━━━━━━\u001b[0m\u001b[37m\u001b[0m \u001b[1m0s\u001b[0m 5ms/step - loss: 2699707904.0000 - val_loss: 1295934554112.0000\n",
      "Epoch 273/500\n",
      "\u001b[1m83/83\u001b[0m \u001b[32m━━━━━━━━━━━━━━━━━━━━\u001b[0m\u001b[37m\u001b[0m \u001b[1m0s\u001b[0m 5ms/step - loss: 6820813312.0000 - val_loss: 1295538585600.0000\n",
      "Epoch 274/500\n",
      "\u001b[1m83/83\u001b[0m \u001b[32m━━━━━━━━━━━━━━━━━━━━\u001b[0m\u001b[37m\u001b[0m \u001b[1m0s\u001b[0m 5ms/step - loss: 1505741568.0000 - val_loss: 1295545532416.0000\n",
      "Epoch 275/500\n",
      "\u001b[1m83/83\u001b[0m \u001b[32m━━━━━━━━━━━━━━━━━━━━\u001b[0m\u001b[37m\u001b[0m \u001b[1m0s\u001b[0m 5ms/step - loss: 6876579328.0000 - val_loss: 1294551351296.0000\n",
      "Epoch 276/500\n",
      "\u001b[1m83/83\u001b[0m \u001b[32m━━━━━━━━━━━━━━━━━━━━\u001b[0m\u001b[37m\u001b[0m \u001b[1m0s\u001b[0m 6ms/step - loss: 1905642880.0000 - val_loss: 1294780334080.0000\n",
      "Epoch 277/500\n",
      "\u001b[1m83/83\u001b[0m \u001b[32m━━━━━━━━━━━━━━━━━━━━\u001b[0m\u001b[37m\u001b[0m \u001b[1m1s\u001b[0m 6ms/step - loss: 7130152960.0000 - val_loss: 1293272481792.0000\n",
      "Epoch 278/500\n",
      "\u001b[1m83/83\u001b[0m \u001b[32m━━━━━━━━━━━━━━━━━━━━\u001b[0m\u001b[37m\u001b[0m \u001b[1m0s\u001b[0m 5ms/step - loss: 5737088000.0000 - val_loss: 1293924040704.0000\n",
      "Epoch 279/500\n",
      "\u001b[1m83/83\u001b[0m \u001b[32m━━━━━━━━━━━━━━━━━━━━\u001b[0m\u001b[37m\u001b[0m \u001b[1m0s\u001b[0m 5ms/step - loss: 4798722560.0000 - val_loss: 1293376421888.0000\n",
      "Epoch 280/500\n",
      "\u001b[1m83/83\u001b[0m \u001b[32m━━━━━━━━━━━━━━━━━━━━\u001b[0m\u001b[37m\u001b[0m \u001b[1m0s\u001b[0m 5ms/step - loss: 10988686336.0000 - val_loss: 1292389449728.0000\n",
      "Epoch 281/500\n",
      "\u001b[1m83/83\u001b[0m \u001b[32m━━━━━━━━━━━━━━━━━━━━\u001b[0m\u001b[37m\u001b[0m \u001b[1m0s\u001b[0m 5ms/step - loss: 3084550400.0000 - val_loss: 1292991725568.0000\n",
      "Epoch 282/500\n",
      "\u001b[1m83/83\u001b[0m \u001b[32m━━━━━━━━━━━━━━━━━━━━\u001b[0m\u001b[37m\u001b[0m \u001b[1m0s\u001b[0m 5ms/step - loss: 6654096384.0000 - val_loss: 1291637358592.0000\n",
      "Epoch 283/500\n",
      "\u001b[1m83/83\u001b[0m \u001b[32m━━━━━━━━━━━━━━━━━━━━\u001b[0m\u001b[37m\u001b[0m \u001b[1m1s\u001b[0m 6ms/step - loss: 4331963904.0000 - val_loss: 1291980111872.0000\n",
      "Epoch 284/500\n",
      "\u001b[1m83/83\u001b[0m \u001b[32m━━━━━━━━━━━━━━━━━━━━\u001b[0m\u001b[37m\u001b[0m \u001b[1m0s\u001b[0m 5ms/step - loss: 8024890880.0000 - val_loss: 1290919346176.0000\n",
      "Epoch 285/500\n",
      "\u001b[1m83/83\u001b[0m \u001b[32m━━━━━━━━━━━━━━━━━━━━\u001b[0m\u001b[37m\u001b[0m \u001b[1m0s\u001b[0m 6ms/step - loss: 2389118976.0000 - val_loss: 1291282284544.0000\n",
      "Epoch 286/500\n",
      "\u001b[1m83/83\u001b[0m \u001b[32m━━━━━━━━━━━━━━━━━━━━\u001b[0m\u001b[37m\u001b[0m \u001b[1m0s\u001b[0m 5ms/step - loss: 3349522176.0000 - val_loss: 1290446438400.0000\n",
      "Epoch 287/500\n",
      "\u001b[1m83/83\u001b[0m \u001b[32m━━━━━━━━━━━━━━━━━━━━\u001b[0m\u001b[37m\u001b[0m \u001b[1m0s\u001b[0m 5ms/step - loss: 3228186624.0000 - val_loss: 1290792075264.0000\n",
      "Epoch 288/500\n",
      "\u001b[1m83/83\u001b[0m \u001b[32m━━━━━━━━━━━━━━━━━━━━\u001b[0m\u001b[37m\u001b[0m \u001b[1m0s\u001b[0m 6ms/step - loss: 2108544896.0000 - val_loss: 1289677307904.0000\n",
      "Epoch 289/500\n",
      "\u001b[1m83/83\u001b[0m \u001b[32m━━━━━━━━━━━━━━━━━━━━\u001b[0m\u001b[37m\u001b[0m \u001b[1m0s\u001b[0m 6ms/step - loss: 7754232320.0000 - val_loss: 1289777971200.0000\n",
      "Epoch 290/500\n",
      "\u001b[1m83/83\u001b[0m \u001b[32m━━━━━━━━━━━━━━━━━━━━\u001b[0m\u001b[37m\u001b[0m \u001b[1m0s\u001b[0m 5ms/step - loss: 4457110016.0000 - val_loss: 1289025224704.0000\n",
      "Epoch 291/500\n",
      "\u001b[1m83/83\u001b[0m \u001b[32m━━━━━━━━━━━━━━━━━━━━\u001b[0m\u001b[37m\u001b[0m \u001b[1m0s\u001b[0m 5ms/step - loss: 5468692480.0000 - val_loss: 1289048686592.0000\n",
      "Epoch 292/500\n",
      "\u001b[1m83/83\u001b[0m \u001b[32m━━━━━━━━━━━━━━━━━━━━\u001b[0m\u001b[37m\u001b[0m \u001b[1m0s\u001b[0m 5ms/step - loss: 9228810240.0000 - val_loss: 1289416867840.0000\n",
      "Epoch 293/500\n",
      "\u001b[1m83/83\u001b[0m \u001b[32m━━━━━━━━━━━━━━━━━━━━\u001b[0m\u001b[37m\u001b[0m \u001b[1m0s\u001b[0m 6ms/step - loss: 1184412288.0000 - val_loss: 1288426487808.0000\n",
      "Epoch 294/500\n",
      "\u001b[1m83/83\u001b[0m \u001b[32m━━━━━━━━━━━━━━━━━━━━\u001b[0m\u001b[37m\u001b[0m \u001b[1m0s\u001b[0m 5ms/step - loss: 3697859328.0000 - val_loss: 1288212185088.0000\n",
      "Epoch 295/500\n",
      "\u001b[1m83/83\u001b[0m \u001b[32m━━━━━━━━━━━━━━━━━━━━\u001b[0m\u001b[37m\u001b[0m \u001b[1m0s\u001b[0m 6ms/step - loss: 997734144.0000 - val_loss: 1288469741568.0000\n",
      "Epoch 296/500\n",
      "\u001b[1m83/83\u001b[0m \u001b[32m━━━━━━━━━━━━━━━━━━━━\u001b[0m\u001b[37m\u001b[0m \u001b[1m0s\u001b[0m 5ms/step - loss: 1778172032.0000 - val_loss: 1287934050304.0000\n",
      "Epoch 297/500\n",
      "\u001b[1m83/83\u001b[0m \u001b[32m━━━━━━━━━━━━━━━━━━━━\u001b[0m\u001b[37m\u001b[0m \u001b[1m0s\u001b[0m 5ms/step - loss: 3840663296.0000 - val_loss: 1287516717056.0000\n",
      "Epoch 298/500\n",
      "\u001b[1m83/83\u001b[0m \u001b[32m━━━━━━━━━━━━━━━━━━━━\u001b[0m\u001b[37m\u001b[0m \u001b[1m1s\u001b[0m 6ms/step - loss: 4286532352.0000 - val_loss: 1287247233024.0000\n",
      "Epoch 299/500\n",
      "\u001b[1m83/83\u001b[0m \u001b[32m━━━━━━━━━━━━━━━━━━━━\u001b[0m\u001b[37m\u001b[0m \u001b[1m0s\u001b[0m 5ms/step - loss: 6775779328.0000 - val_loss: 1286687424512.0000\n",
      "Epoch 300/500\n",
      "\u001b[1m83/83\u001b[0m \u001b[32m━━━━━━━━━━━━━━━━━━━━\u001b[0m\u001b[37m\u001b[0m \u001b[1m0s\u001b[0m 5ms/step - loss: 10020662272.0000 - val_loss: 1286917586944.0000\n",
      "Epoch 301/500\n",
      "\u001b[1m83/83\u001b[0m \u001b[32m━━━━━━━━━━━━━━━━━━━━\u001b[0m\u001b[37m\u001b[0m \u001b[1m1s\u001b[0m 6ms/step - loss: 1823438464.0000 - val_loss: 1286630932480.0000\n",
      "Epoch 302/500\n",
      "\u001b[1m83/83\u001b[0m \u001b[32m━━━━━━━━━━━━━━━━━━━━\u001b[0m\u001b[37m\u001b[0m \u001b[1m1s\u001b[0m 6ms/step - loss: 3490777344.0000 - val_loss: 1286108086272.0000\n",
      "Epoch 303/500\n",
      "\u001b[1m83/83\u001b[0m \u001b[32m━━━━━━━━━━━━━━━━━━━━\u001b[0m\u001b[37m\u001b[0m \u001b[1m1s\u001b[0m 6ms/step - loss: 6652785664.0000 - val_loss: 1286460145664.0000\n",
      "Epoch 304/500\n",
      "\u001b[1m83/83\u001b[0m \u001b[32m━━━━━━━━━━━━━━━━━━━━\u001b[0m\u001b[37m\u001b[0m \u001b[1m0s\u001b[0m 5ms/step - loss: 2364404224.0000 - val_loss: 1285428477952.0000\n",
      "Epoch 305/500\n",
      "\u001b[1m83/83\u001b[0m \u001b[32m━━━━━━━━━━━━━━━━━━━━\u001b[0m\u001b[37m\u001b[0m \u001b[1m0s\u001b[0m 5ms/step - loss: 4823427584.0000 - val_loss: 1286191185920.0000\n",
      "Epoch 306/500\n",
      "\u001b[1m83/83\u001b[0m \u001b[32m━━━━━━━━━━━━━━━━━━━━\u001b[0m\u001b[37m\u001b[0m \u001b[1m0s\u001b[0m 5ms/step - loss: 4457750528.0000 - val_loss: 1285219155968.0000\n",
      "Epoch 307/500\n",
      "\u001b[1m83/83\u001b[0m \u001b[32m━━━━━━━━━━━━━━━━━━━━\u001b[0m\u001b[37m\u001b[0m \u001b[1m0s\u001b[0m 6ms/step - loss: 831653248.0000 - val_loss: 1285524815872.0000\n",
      "Epoch 308/500\n",
      "\u001b[1m83/83\u001b[0m \u001b[32m━━━━━━━━━━━━━━━━━━━━\u001b[0m\u001b[37m\u001b[0m \u001b[1m0s\u001b[0m 6ms/step - loss: 7794996224.0000 - val_loss: 1284967104512.0000\n",
      "Epoch 309/500\n",
      "\u001b[1m83/83\u001b[0m \u001b[32m━━━━━━━━━━━━━━━━━━━━\u001b[0m\u001b[37m\u001b[0m \u001b[1m0s\u001b[0m 6ms/step - loss: 2311049984.0000 - val_loss: 1285101322240.0000\n",
      "Epoch 310/500\n",
      "\u001b[1m83/83\u001b[0m \u001b[32m━━━━━━━━━━━━━━━━━━━━\u001b[0m\u001b[37m\u001b[0m \u001b[1m0s\u001b[0m 5ms/step - loss: 1963871488.0000 - val_loss: 1284373872640.0000\n",
      "Epoch 311/500\n",
      "\u001b[1m83/83\u001b[0m \u001b[32m━━━━━━━━━━━━━━━━━━━━\u001b[0m\u001b[37m\u001b[0m \u001b[1m0s\u001b[0m 5ms/step - loss: 1458769408.0000 - val_loss: 1284399824896.0000\n",
      "Epoch 312/500\n",
      "\u001b[1m83/83\u001b[0m \u001b[32m━━━━━━━━━━━━━━━━━━━━\u001b[0m\u001b[37m\u001b[0m \u001b[1m0s\u001b[0m 5ms/step - loss: 909658560.0000 - val_loss: 1284228382720.0000\n",
      "Epoch 313/500\n",
      "\u001b[1m83/83\u001b[0m \u001b[32m━━━━━━━━━━━━━━━━━━━━\u001b[0m\u001b[37m\u001b[0m \u001b[1m0s\u001b[0m 6ms/step - loss: 9232147456.0000 - val_loss: 1284224319488.0000\n",
      "Epoch 314/500\n",
      "\u001b[1m83/83\u001b[0m \u001b[32m━━━━━━━━━━━━━━━━━━━━\u001b[0m\u001b[37m\u001b[0m \u001b[1m0s\u001b[0m 5ms/step - loss: 1337133440.0000 - val_loss: 1283630563328.0000\n",
      "Epoch 315/500\n",
      "\u001b[1m83/83\u001b[0m \u001b[32m━━━━━━━━━━━━━━━━━━━━\u001b[0m\u001b[37m\u001b[0m \u001b[1m0s\u001b[0m 5ms/step - loss: 1726349568.0000 - val_loss: 1283688366080.0000\n",
      "Epoch 316/500\n",
      "\u001b[1m83/83\u001b[0m \u001b[32m━━━━━━━━━━━━━━━━━━━━\u001b[0m\u001b[37m\u001b[0m \u001b[1m0s\u001b[0m 6ms/step - loss: 1049517504.0000 - val_loss: 1283327000576.0000\n",
      "Epoch 317/500\n",
      "\u001b[1m83/83\u001b[0m \u001b[32m━━━━━━━━━━━━━━━━━━━━\u001b[0m\u001b[37m\u001b[0m \u001b[1m0s\u001b[0m 5ms/step - loss: 1967825920.0000 - val_loss: 1283479961600.0000\n",
      "Epoch 318/500\n",
      "\u001b[1m83/83\u001b[0m \u001b[32m━━━━━━━━━━━━━━━━━━━━\u001b[0m\u001b[37m\u001b[0m \u001b[1m1s\u001b[0m 6ms/step - loss: 3561013504.0000 - val_loss: 1282748710912.0000\n",
      "Epoch 319/500\n",
      "\u001b[1m83/83\u001b[0m \u001b[32m━━━━━━━━━━━━━━━━━━━━\u001b[0m\u001b[37m\u001b[0m \u001b[1m0s\u001b[0m 6ms/step - loss: 2221314560.0000 - val_loss: 1283292397568.0000\n",
      "Epoch 320/500\n",
      "\u001b[1m83/83\u001b[0m \u001b[32m━━━━━━━━━━━━━━━━━━━━\u001b[0m\u001b[37m\u001b[0m \u001b[1m0s\u001b[0m 5ms/step - loss: 5565889536.0000 - val_loss: 1282767585280.0000\n",
      "Epoch 321/500\n",
      "\u001b[1m83/83\u001b[0m \u001b[32m━━━━━━━━━━━━━━━━━━━━\u001b[0m\u001b[37m\u001b[0m \u001b[1m0s\u001b[0m 5ms/step - loss: 586595328.0000 - val_loss: 1282669805568.0000\n",
      "Epoch 322/500\n",
      "\u001b[1m83/83\u001b[0m \u001b[32m━━━━━━━━━━━━━━━━━━━━\u001b[0m\u001b[37m\u001b[0m \u001b[1m0s\u001b[0m 6ms/step - loss: 2207935744.0000 - val_loss: 1282652372992.0000\n",
      "Epoch 323/500\n",
      "\u001b[1m83/83\u001b[0m \u001b[32m━━━━━━━━━━━━━━━━━━━━\u001b[0m\u001b[37m\u001b[0m \u001b[1m0s\u001b[0m 5ms/step - loss: 864176576.0000 - val_loss: 1281981939712.0000\n",
      "Epoch 324/500\n",
      "\u001b[1m83/83\u001b[0m \u001b[32m━━━━━━━━━━━━━━━━━━━━\u001b[0m\u001b[37m\u001b[0m \u001b[1m0s\u001b[0m 6ms/step - loss: 3964713472.0000 - val_loss: 1282331246592.0000\n",
      "Epoch 325/500\n",
      "\u001b[1m83/83\u001b[0m \u001b[32m━━━━━━━━━━━━━━━━━━━━\u001b[0m\u001b[37m\u001b[0m \u001b[1m0s\u001b[0m 6ms/step - loss: 2067906560.0000 - val_loss: 1281557266432.0000\n",
      "Epoch 326/500\n",
      "\u001b[1m83/83\u001b[0m \u001b[32m━━━━━━━━━━━━━━━━━━━━\u001b[0m\u001b[37m\u001b[0m \u001b[1m0s\u001b[0m 5ms/step - loss: 3700112896.0000 - val_loss: 1281705508864.0000\n",
      "Epoch 327/500\n",
      "\u001b[1m83/83\u001b[0m \u001b[32m━━━━━━━━━━━━━━━━━━━━\u001b[0m\u001b[37m\u001b[0m \u001b[1m0s\u001b[0m 5ms/step - loss: 504093600.0000 - val_loss: 1281453195264.0000\n",
      "Epoch 328/500\n",
      "\u001b[1m83/83\u001b[0m \u001b[32m━━━━━━━━━━━━━━━━━━━━\u001b[0m\u001b[37m\u001b[0m \u001b[1m0s\u001b[0m 5ms/step - loss: 1666306432.0000 - val_loss: 1281396572160.0000\n",
      "Epoch 329/500\n",
      "\u001b[1m83/83\u001b[0m \u001b[32m━━━━━━━━━━━━━━━━━━━━\u001b[0m\u001b[37m\u001b[0m \u001b[1m0s\u001b[0m 5ms/step - loss: 413225952.0000 - val_loss: 1281024458752.0000\n",
      "Epoch 330/500\n",
      "\u001b[1m83/83\u001b[0m \u001b[32m━━━━━━━━━━━━━━━━━━━━\u001b[0m\u001b[37m\u001b[0m \u001b[1m0s\u001b[0m 6ms/step - loss: 1771907840.0000 - val_loss: 1280972685312.0000\n",
      "Epoch 331/500\n",
      "\u001b[1m83/83\u001b[0m \u001b[32m━━━━━━━━━━━━━━━━━━━━\u001b[0m\u001b[37m\u001b[0m \u001b[1m0s\u001b[0m 5ms/step - loss: 3322215424.0000 - val_loss: 1280995491840.0000\n",
      "Epoch 332/500\n",
      "\u001b[1m83/83\u001b[0m \u001b[32m━━━━━━━━━━━━━━━━━━━━\u001b[0m\u001b[37m\u001b[0m \u001b[1m0s\u001b[0m 5ms/step - loss: 2057157248.0000 - val_loss: 1280602931200.0000\n",
      "Epoch 333/500\n",
      "\u001b[1m83/83\u001b[0m \u001b[32m━━━━━━━━━━━━━━━━━━━━\u001b[0m\u001b[37m\u001b[0m \u001b[1m0s\u001b[0m 5ms/step - loss: 2283865856.0000 - val_loss: 1280565444608.0000\n",
      "Epoch 334/500\n",
      "\u001b[1m83/83\u001b[0m \u001b[32m━━━━━━━━━━━━━━━━━━━━\u001b[0m\u001b[37m\u001b[0m \u001b[1m0s\u001b[0m 5ms/step - loss: 375718176.0000 - val_loss: 1280420085760.0000\n",
      "Epoch 335/500\n",
      "\u001b[1m83/83\u001b[0m \u001b[32m━━━━━━━━━━━━━━━━━━━━\u001b[0m\u001b[37m\u001b[0m \u001b[1m0s\u001b[0m 5ms/step - loss: 1731241856.0000 - val_loss: 1280173801472.0000\n",
      "Epoch 336/500\n",
      "\u001b[1m83/83\u001b[0m \u001b[32m━━━━━━━━━━━━━━━━━━━━\u001b[0m\u001b[37m\u001b[0m \u001b[1m0s\u001b[0m 6ms/step - loss: 265105408.0000 - val_loss: 1279873384448.0000\n",
      "Epoch 337/500\n",
      "\u001b[1m83/83\u001b[0m \u001b[32m━━━━━━━━━━━━━━━━━━━━\u001b[0m\u001b[37m\u001b[0m \u001b[1m0s\u001b[0m 6ms/step - loss: 1585051264.0000 - val_loss: 1279866699776.0000\n",
      "Epoch 338/500\n",
      "\u001b[1m83/83\u001b[0m \u001b[32m━━━━━━━━━━━━━━━━━━━━\u001b[0m\u001b[37m\u001b[0m \u001b[1m0s\u001b[0m 6ms/step - loss: 2711393536.0000 - val_loss: 1279516475392.0000\n",
      "Epoch 339/500\n",
      "\u001b[1m83/83\u001b[0m \u001b[32m━━━━━━━━━━━━━━━━━━━━\u001b[0m\u001b[37m\u001b[0m \u001b[1m1s\u001b[0m 6ms/step - loss: 1284104960.0000 - val_loss: 1279338872832.0000\n",
      "Epoch 340/500\n",
      "\u001b[1m83/83\u001b[0m \u001b[32m━━━━━━━━━━━━━━━━━━━━\u001b[0m\u001b[37m\u001b[0m \u001b[1m0s\u001b[0m 5ms/step - loss: 499895968.0000 - val_loss: 1278920884224.0000\n",
      "Epoch 341/500\n",
      "\u001b[1m83/83\u001b[0m \u001b[32m━━━━━━━━━━━━━━━━━━━━\u001b[0m\u001b[37m\u001b[0m \u001b[1m0s\u001b[0m 5ms/step - loss: 957220288.0000 - val_loss: 1278919573504.0000\n",
      "Epoch 342/500\n",
      "\u001b[1m83/83\u001b[0m \u001b[32m━━━━━━━━━━━━━━━━━━━━\u001b[0m\u001b[37m\u001b[0m \u001b[1m0s\u001b[0m 5ms/step - loss: 586835776.0000 - val_loss: 1278546280448.0000\n",
      "Epoch 343/500\n",
      "\u001b[1m83/83\u001b[0m \u001b[32m━━━━━━━━━━━━━━━━━━━━\u001b[0m\u001b[37m\u001b[0m \u001b[1m0s\u001b[0m 5ms/step - loss: 1662107008.0000 - val_loss: 1278553227264.0000\n",
      "Epoch 344/500\n",
      "\u001b[1m83/83\u001b[0m \u001b[32m━━━━━━━━━━━━━━━━━━━━\u001b[0m\u001b[37m\u001b[0m \u001b[1m0s\u001b[0m 5ms/step - loss: 1628012288.0000 - val_loss: 1278113742848.0000\n",
      "Epoch 345/500\n",
      "\u001b[1m83/83\u001b[0m \u001b[32m━━━━━━━━━━━━━━━━━━━━\u001b[0m\u001b[37m\u001b[0m \u001b[1m0s\u001b[0m 6ms/step - loss: 865723008.0000 - val_loss: 1278047551488.0000\n",
      "Epoch 346/500\n",
      "\u001b[1m83/83\u001b[0m \u001b[32m━━━━━━━━━━━━━━━━━━━━\u001b[0m\u001b[37m\u001b[0m \u001b[1m0s\u001b[0m 5ms/step - loss: 874585216.0000 - val_loss: 1277786718208.0000\n",
      "Epoch 347/500\n",
      "\u001b[1m83/83\u001b[0m \u001b[32m━━━━━━━━━━━━━━━━━━━━\u001b[0m\u001b[37m\u001b[0m \u001b[1m0s\u001b[0m 5ms/step - loss: 194275328.0000 - val_loss: 1277735600128.0000\n",
      "Epoch 348/500\n",
      "\u001b[1m83/83\u001b[0m \u001b[32m━━━━━━━━━━━━━━━━━━━━\u001b[0m\u001b[37m\u001b[0m \u001b[1m0s\u001b[0m 5ms/step - loss: 2164577536.0000 - val_loss: 1277382098944.0000\n",
      "Epoch 349/500\n",
      "\u001b[1m83/83\u001b[0m \u001b[32m━━━━━━━━━━━━━━━━━━━━\u001b[0m\u001b[37m\u001b[0m \u001b[1m1s\u001b[0m 6ms/step - loss: 1504610816.0000 - val_loss: 1276933963776.0000\n",
      "Epoch 350/500\n",
      "\u001b[1m83/83\u001b[0m \u001b[32m━━━━━━━━━━━━━━━━━━━━\u001b[0m\u001b[37m\u001b[0m \u001b[1m0s\u001b[0m 6ms/step - loss: 1207268736.0000 - val_loss: 1276831203328.0000\n",
      "Epoch 351/500\n",
      "\u001b[1m83/83\u001b[0m \u001b[32m━━━━━━━━━━━━━━━━━━━━\u001b[0m\u001b[37m\u001b[0m \u001b[1m0s\u001b[0m 6ms/step - loss: 334993504.0000 - val_loss: 1276751904768.0000\n",
      "Epoch 352/500\n",
      "\u001b[1m83/83\u001b[0m \u001b[32m━━━━━━━━━━━━━━━━━━━━\u001b[0m\u001b[37m\u001b[0m \u001b[1m0s\u001b[0m 5ms/step - loss: 852330432.0000 - val_loss: 1276369960960.0000\n",
      "Epoch 353/500\n",
      "\u001b[1m83/83\u001b[0m \u001b[32m━━━━━━━━━━━━━━━━━━━━\u001b[0m\u001b[37m\u001b[0m \u001b[1m0s\u001b[0m 6ms/step - loss: 515708448.0000 - val_loss: 1276070723584.0000\n",
      "Epoch 354/500\n",
      "\u001b[1m83/83\u001b[0m \u001b[32m━━━━━━━━━━━━━━━━━━━━\u001b[0m\u001b[37m\u001b[0m \u001b[1m0s\u001b[0m 5ms/step - loss: 2109800320.0000 - val_loss: 1275864678400.0000\n",
      "Epoch 355/500\n",
      "\u001b[1m83/83\u001b[0m \u001b[32m━━━━━━━━━━━━━━━━━━━━\u001b[0m\u001b[37m\u001b[0m \u001b[1m0s\u001b[0m 5ms/step - loss: 203241136.0000 - val_loss: 1275660468224.0000\n",
      "Epoch 356/500\n",
      "\u001b[1m83/83\u001b[0m \u001b[32m━━━━━━━━━━━━━━━━━━━━\u001b[0m\u001b[37m\u001b[0m \u001b[1m0s\u001b[0m 6ms/step - loss: 3523911424.0000 - val_loss: 1275279048704.0000\n",
      "Epoch 357/500\n",
      "\u001b[1m83/83\u001b[0m \u001b[32m━━━━━━━━━━━━━━━━━━━━\u001b[0m\u001b[37m\u001b[0m \u001b[1m0s\u001b[0m 6ms/step - loss: 846022336.0000 - val_loss: 1274833666048.0000\n",
      "Epoch 358/500\n",
      "\u001b[1m83/83\u001b[0m \u001b[32m━━━━━━━━━━━━━━━━━━━━\u001b[0m\u001b[37m\u001b[0m \u001b[1m0s\u001b[0m 5ms/step - loss: 1664725888.0000 - val_loss: 1274754891776.0000\n",
      "Epoch 359/500\n",
      "\u001b[1m83/83\u001b[0m \u001b[32m━━━━━━━━━━━━━━━━━━━━\u001b[0m\u001b[37m\u001b[0m \u001b[1m1s\u001b[0m 6ms/step - loss: 266463680.0000 - val_loss: 1274458144768.0000\n",
      "Epoch 360/500\n",
      "\u001b[1m83/83\u001b[0m \u001b[32m━━━━━━━━━━━━━━━━━━━━\u001b[0m\u001b[37m\u001b[0m \u001b[1m0s\u001b[0m 5ms/step - loss: 195665024.0000 - val_loss: 1274399293440.0000\n",
      "Epoch 361/500\n",
      "\u001b[1m83/83\u001b[0m \u001b[32m━━━━━━━━━━━━━━━━━━━━\u001b[0m\u001b[37m\u001b[0m \u001b[1m0s\u001b[0m 6ms/step - loss: 778680000.0000 - val_loss: 1273953255424.0000\n",
      "Epoch 362/500\n",
      "\u001b[1m83/83\u001b[0m \u001b[32m━━━━━━━━━━━━━━━━━━━━\u001b[0m\u001b[37m\u001b[0m \u001b[1m0s\u001b[0m 5ms/step - loss: 1053666368.0000 - val_loss: 1273658867712.0000\n",
      "Epoch 363/500\n",
      "\u001b[1m83/83\u001b[0m \u001b[32m━━━━━━━━━━━━━━━━━━━━\u001b[0m\u001b[37m\u001b[0m \u001b[1m0s\u001b[0m 5ms/step - loss: 144106416.0000 - val_loss: 1273693077504.0000\n",
      "Epoch 364/500\n",
      "\u001b[1m83/83\u001b[0m \u001b[32m━━━━━━━━━━━━━━━━━━━━\u001b[0m\u001b[37m\u001b[0m \u001b[1m0s\u001b[0m 5ms/step - loss: 408506976.0000 - val_loss: 1273217941504.0000\n",
      "Epoch 365/500\n",
      "\u001b[1m83/83\u001b[0m \u001b[32m━━━━━━━━━━━━━━━━━━━━\u001b[0m\u001b[37m\u001b[0m \u001b[1m0s\u001b[0m 5ms/step - loss: 305390592.0000 - val_loss: 1273100369920.0000\n",
      "Epoch 366/500\n",
      "\u001b[1m83/83\u001b[0m \u001b[32m━━━━━━━━━━━━━━━━━━━━\u001b[0m\u001b[37m\u001b[0m \u001b[1m0s\u001b[0m 5ms/step - loss: 307526560.0000 - val_loss: 1272925126656.0000\n",
      "Epoch 367/500\n",
      "\u001b[1m83/83\u001b[0m \u001b[32m━━━━━━━━━━━━━━━━━━━━\u001b[0m\u001b[37m\u001b[0m \u001b[1m1s\u001b[0m 6ms/step - loss: 468667424.0000 - val_loss: 1272499798016.0000\n",
      "Epoch 368/500\n",
      "\u001b[1m83/83\u001b[0m \u001b[32m━━━━━━━━━━━━━━━━━━━━\u001b[0m\u001b[37m\u001b[0m \u001b[1m1s\u001b[0m 6ms/step - loss: 1143087744.0000 - val_loss: 1272368201728.0000\n",
      "Epoch 369/500\n",
      "\u001b[1m83/83\u001b[0m \u001b[32m━━━━━━━━━━━━━━━━━━━━\u001b[0m\u001b[37m\u001b[0m \u001b[1m1s\u001b[0m 6ms/step - loss: 429160608.0000 - val_loss: 1272006574080.0000\n",
      "Epoch 370/500\n",
      "\u001b[1m83/83\u001b[0m \u001b[32m━━━━━━━━━━━━━━━━━━━━\u001b[0m\u001b[37m\u001b[0m \u001b[1m0s\u001b[0m 5ms/step - loss: 1221958400.0000 - val_loss: 1271870259200.0000\n",
      "Epoch 371/500\n",
      "\u001b[1m83/83\u001b[0m \u001b[32m━━━━━━━━━━━━━━━━━━━━\u001b[0m\u001b[37m\u001b[0m \u001b[1m1s\u001b[0m 6ms/step - loss: 274736928.0000 - val_loss: 1271610343424.0000\n",
      "Epoch 372/500\n",
      "\u001b[1m83/83\u001b[0m \u001b[32m━━━━━━━━━━━━━━━━━━━━\u001b[0m\u001b[37m\u001b[0m \u001b[1m0s\u001b[0m 5ms/step - loss: 163832448.0000 - val_loss: 1271551885312.0000\n",
      "Epoch 373/500\n",
      "\u001b[1m83/83\u001b[0m \u001b[32m━━━━━━━━━━━━━━━━━━━━\u001b[0m\u001b[37m\u001b[0m \u001b[1m0s\u001b[0m 5ms/step - loss: 134989680.0000 - val_loss: 1271308484608.0000\n",
      "Epoch 374/500\n",
      "\u001b[1m83/83\u001b[0m \u001b[32m━━━━━━━━━━━━━━━━━━━━\u001b[0m\u001b[37m\u001b[0m \u001b[1m0s\u001b[0m 5ms/step - loss: 2466076928.0000 - val_loss: 1270985129984.0000\n",
      "Epoch 375/500\n",
      "\u001b[1m83/83\u001b[0m \u001b[32m━━━━━━━━━━━━━━━━━━━━\u001b[0m\u001b[37m\u001b[0m \u001b[1m0s\u001b[0m 6ms/step - loss: 510299296.0000 - val_loss: 1270630973440.0000\n",
      "Epoch 376/500\n",
      "\u001b[1m83/83\u001b[0m \u001b[32m━━━━━━━━━━━━━━━━━━━━\u001b[0m\u001b[37m\u001b[0m \u001b[1m0s\u001b[0m 5ms/step - loss: 314358496.0000 - val_loss: 1270545907712.0000\n",
      "Epoch 377/500\n",
      "\u001b[1m83/83\u001b[0m \u001b[32m━━━━━━━━━━━━━━━━━━━━\u001b[0m\u001b[37m\u001b[0m \u001b[1m0s\u001b[0m 5ms/step - loss: 690845632.0000 - val_loss: 1270357950464.0000\n",
      "Epoch 378/500\n",
      "\u001b[1m83/83\u001b[0m \u001b[32m━━━━━━━━━━━━━━━━━━━━\u001b[0m\u001b[37m\u001b[0m \u001b[1m0s\u001b[0m 5ms/step - loss: 100816904.0000 - val_loss: 1270329769984.0000\n",
      "Epoch 379/500\n",
      "\u001b[1m83/83\u001b[0m \u001b[32m━━━━━━━━━━━━━━━━━━━━\u001b[0m\u001b[37m\u001b[0m \u001b[1m0s\u001b[0m 6ms/step - loss: 3228221440.0000 - val_loss: 1270103015424.0000\n",
      "Epoch 380/500\n",
      "\u001b[1m83/83\u001b[0m \u001b[32m━━━━━━━━━━━━━━━━━━━━\u001b[0m\u001b[37m\u001b[0m \u001b[1m1s\u001b[0m 6ms/step - loss: 837913344.0000 - val_loss: 1269690662912.0000\n",
      "Epoch 381/500\n",
      "\u001b[1m83/83\u001b[0m \u001b[32m━━━━━━━━━━━━━━━━━━━━\u001b[0m\u001b[37m\u001b[0m \u001b[1m1s\u001b[0m 6ms/step - loss: 987779008.0000 - val_loss: 1269792374784.0000\n",
      "Epoch 382/500\n",
      "\u001b[1m83/83\u001b[0m \u001b[32m━━━━━━━━━━━━━━━━━━━━\u001b[0m\u001b[37m\u001b[0m \u001b[1m0s\u001b[0m 6ms/step - loss: 265082992.0000 - val_loss: 1269465350144.0000\n",
      "Epoch 383/500\n",
      "\u001b[1m83/83\u001b[0m \u001b[32m━━━━━━━━━━━━━━━━━━━━\u001b[0m\u001b[37m\u001b[0m \u001b[1m0s\u001b[0m 6ms/step - loss: 1005397504.0000 - val_loss: 1269339914240.0000\n",
      "Epoch 384/500\n",
      "\u001b[1m83/83\u001b[0m \u001b[32m━━━━━━━━━━━━━━━━━━━━\u001b[0m\u001b[37m\u001b[0m \u001b[1m0s\u001b[0m 5ms/step - loss: 419933280.0000 - val_loss: 1269206220800.0000\n",
      "Epoch 385/500\n",
      "\u001b[1m83/83\u001b[0m \u001b[32m━━━━━━━━━━━━━━━━━━━━\u001b[0m\u001b[37m\u001b[0m \u001b[1m0s\u001b[0m 6ms/step - loss: 951755712.0000 - val_loss: 1269035696128.0000\n",
      "Epoch 386/500\n",
      "\u001b[1m83/83\u001b[0m \u001b[32m━━━━━━━━━━━━━━━━━━━━\u001b[0m\u001b[37m\u001b[0m \u001b[1m0s\u001b[0m 6ms/step - loss: 2269970944.0000 - val_loss: 1268898332672.0000\n",
      "Epoch 387/500\n",
      "\u001b[1m83/83\u001b[0m \u001b[32m━━━━━━━━━━━━━━━━━━━━\u001b[0m\u001b[37m\u001b[0m \u001b[1m0s\u001b[0m 6ms/step - loss: 535949152.0000 - val_loss: 1268964130816.0000\n",
      "Epoch 388/500\n",
      "\u001b[1m83/83\u001b[0m \u001b[32m━━━━━━━━━━━━━━━━━━━━\u001b[0m\u001b[37m\u001b[0m \u001b[1m0s\u001b[0m 5ms/step - loss: 266284720.0000 - val_loss: 1268711030784.0000\n",
      "Epoch 389/500\n",
      "\u001b[1m83/83\u001b[0m \u001b[32m━━━━━━━━━━━━━━━━━━━━\u001b[0m\u001b[37m\u001b[0m \u001b[1m0s\u001b[0m 5ms/step - loss: 874065856.0000 - val_loss: 1268475756544.0000\n",
      "Epoch 390/500\n",
      "\u001b[1m83/83\u001b[0m \u001b[32m━━━━━━━━━━━━━━━━━━━━\u001b[0m\u001b[37m\u001b[0m \u001b[1m0s\u001b[0m 5ms/step - loss: 346070048.0000 - val_loss: 1268373127168.0000\n",
      "Epoch 391/500\n",
      "\u001b[1m83/83\u001b[0m \u001b[32m━━━━━━━━━━━━━━━━━━━━\u001b[0m\u001b[37m\u001b[0m \u001b[1m0s\u001b[0m 5ms/step - loss: 610082880.0000 - val_loss: 1268234190848.0000\n",
      "Epoch 392/500\n",
      "\u001b[1m83/83\u001b[0m \u001b[32m━━━━━━━━━━━━━━━━━━━━\u001b[0m\u001b[37m\u001b[0m \u001b[1m0s\u001b[0m 5ms/step - loss: 209397728.0000 - val_loss: 1268300906496.0000\n",
      "Epoch 393/500\n",
      "\u001b[1m83/83\u001b[0m \u001b[32m━━━━━━━━━━━━━━━━━━━━\u001b[0m\u001b[37m\u001b[0m \u001b[1m0s\u001b[0m 5ms/step - loss: 138557376.0000 - val_loss: 1268014514176.0000\n",
      "Epoch 394/500\n",
      "\u001b[1m83/83\u001b[0m \u001b[32m━━━━━━━━━━━━━━━━━━━━\u001b[0m\u001b[37m\u001b[0m \u001b[1m0s\u001b[0m 5ms/step - loss: 216152976.0000 - val_loss: 1267975585792.0000\n",
      "Epoch 395/500\n",
      "\u001b[1m83/83\u001b[0m \u001b[32m━━━━━━━━━━━━━━━━━━━━\u001b[0m\u001b[37m\u001b[0m \u001b[1m0s\u001b[0m 5ms/step - loss: 1226666496.0000 - val_loss: 1267741229056.0000\n",
      "Epoch 396/500\n",
      "\u001b[1m83/83\u001b[0m \u001b[32m━━━━━━━━━━━━━━━━━━━━\u001b[0m\u001b[37m\u001b[0m \u001b[1m0s\u001b[0m 5ms/step - loss: 444458592.0000 - val_loss: 1267767050240.0000\n",
      "Epoch 397/500\n",
      "\u001b[1m83/83\u001b[0m \u001b[32m━━━━━━━━━━━━━━━━━━━━\u001b[0m\u001b[37m\u001b[0m \u001b[1m0s\u001b[0m 5ms/step - loss: 216042464.0000 - val_loss: 1267617103872.0000\n",
      "Epoch 398/500\n",
      "\u001b[1m83/83\u001b[0m \u001b[32m━━━━━━━━━━━━━━━━━━━━\u001b[0m\u001b[37m\u001b[0m \u001b[1m0s\u001b[0m 5ms/step - loss: 336494528.0000 - val_loss: 1267567558656.0000\n",
      "Epoch 399/500\n",
      "\u001b[1m83/83\u001b[0m \u001b[32m━━━━━━━━━━━━━━━━━━━━\u001b[0m\u001b[37m\u001b[0m \u001b[1m0s\u001b[0m 6ms/step - loss: 582922432.0000 - val_loss: 1267525615616.0000\n",
      "Epoch 400/500\n",
      "\u001b[1m83/83\u001b[0m \u001b[32m━━━━━━━━━━━━━━━━━━━━\u001b[0m\u001b[37m\u001b[0m \u001b[1m1s\u001b[0m 6ms/step - loss: 414662784.0000 - val_loss: 1267411058688.0000\n",
      "Epoch 401/500\n",
      "\u001b[1m83/83\u001b[0m \u001b[32m━━━━━━━━━━━━━━━━━━━━\u001b[0m\u001b[37m\u001b[0m \u001b[1m1s\u001b[0m 5ms/step - loss: 1892424448.0000 - val_loss: 1267151273984.0000\n",
      "Epoch 402/500\n",
      "\u001b[1m83/83\u001b[0m \u001b[32m━━━━━━━━━━━━━━━━━━━━\u001b[0m\u001b[37m\u001b[0m \u001b[1m0s\u001b[0m 5ms/step - loss: 180245920.0000 - val_loss: 1267169492992.0000\n",
      "Epoch 403/500\n",
      "\u001b[1m83/83\u001b[0m \u001b[32m━━━━━━━━━━━━━━━━━━━━\u001b[0m\u001b[37m\u001b[0m \u001b[1m0s\u001b[0m 5ms/step - loss: 247841744.0000 - val_loss: 1266982191104.0000\n",
      "Epoch 404/500\n",
      "\u001b[1m83/83\u001b[0m \u001b[32m━━━━━━━━━━━━━━━━━━━━\u001b[0m\u001b[37m\u001b[0m \u001b[1m0s\u001b[0m 5ms/step - loss: 85541688.0000 - val_loss: 1267043532800.0000\n",
      "Epoch 405/500\n",
      "\u001b[1m83/83\u001b[0m \u001b[32m━━━━━━━━━━━━━━━━━━━━\u001b[0m\u001b[37m\u001b[0m \u001b[1m0s\u001b[0m 5ms/step - loss: 132422536.0000 - val_loss: 1266796462080.0000\n",
      "Epoch 406/500\n",
      "\u001b[1m83/83\u001b[0m \u001b[32m━━━━━━━━━━━━━━━━━━━━\u001b[0m\u001b[37m\u001b[0m \u001b[1m0s\u001b[0m 6ms/step - loss: 656375808.0000 - val_loss: 1266917310464.0000\n",
      "Epoch 407/500\n",
      "\u001b[1m83/83\u001b[0m \u001b[32m━━━━━━━━━━━━━━━━━━━━\u001b[0m\u001b[37m\u001b[0m \u001b[1m0s\u001b[0m 5ms/step - loss: 294511872.0000 - val_loss: 1266856493056.0000\n",
      "Epoch 408/500\n",
      "\u001b[1m83/83\u001b[0m \u001b[32m━━━━━━━━━━━━━━━━━━━━\u001b[0m\u001b[37m\u001b[0m \u001b[1m0s\u001b[0m 5ms/step - loss: 310636896.0000 - val_loss: 1266655166464.0000\n",
      "Epoch 409/500\n",
      "\u001b[1m83/83\u001b[0m \u001b[32m━━━━━━━━━━━━━━━━━━━━\u001b[0m\u001b[37m\u001b[0m \u001b[1m0s\u001b[0m 5ms/step - loss: 102377352.0000 - val_loss: 1266655690752.0000\n",
      "Epoch 410/500\n",
      "\u001b[1m83/83\u001b[0m \u001b[32m━━━━━━━━━━━━━━━━━━━━\u001b[0m\u001b[37m\u001b[0m \u001b[1m0s\u001b[0m 5ms/step - loss: 143279728.0000 - val_loss: 1266357501952.0000\n",
      "Epoch 411/500\n",
      "\u001b[1m83/83\u001b[0m \u001b[32m━━━━━━━━━━━━━━━━━━━━\u001b[0m\u001b[37m\u001b[0m \u001b[1m0s\u001b[0m 5ms/step - loss: 256968016.0000 - val_loss: 1266594349056.0000\n",
      "Epoch 412/500\n",
      "\u001b[1m83/83\u001b[0m \u001b[32m━━━━━━━━━━━━━━━━━━━━\u001b[0m\u001b[37m\u001b[0m \u001b[1m0s\u001b[0m 6ms/step - loss: 1603181440.0000 - val_loss: 1266248974336.0000\n",
      "Epoch 413/500\n",
      "\u001b[1m83/83\u001b[0m \u001b[32m━━━━━━━━━━━━━━━━━━━━\u001b[0m\u001b[37m\u001b[0m \u001b[1m0s\u001b[0m 5ms/step - loss: 1993111168.0000 - val_loss: 1266425397248.0000\n",
      "Epoch 414/500\n",
      "\u001b[1m83/83\u001b[0m \u001b[32m━━━━━━━━━━━━━━━━━━━━\u001b[0m\u001b[37m\u001b[0m \u001b[1m0s\u001b[0m 5ms/step - loss: 471458496.0000 - val_loss: 1266215026688.0000\n",
      "Epoch 415/500\n",
      "\u001b[1m83/83\u001b[0m \u001b[32m━━━━━━━━━━━━━━━━━━━━\u001b[0m\u001b[37m\u001b[0m \u001b[1m0s\u001b[0m 5ms/step - loss: 1357232256.0000 - val_loss: 1266143723520.0000\n",
      "Epoch 416/500\n",
      "\u001b[1m83/83\u001b[0m \u001b[32m━━━━━━━━━━━━━━━━━━━━\u001b[0m\u001b[37m\u001b[0m \u001b[1m0s\u001b[0m 5ms/step - loss: 950850880.0000 - val_loss: 1266041618432.0000\n",
      "Epoch 417/500\n",
      "\u001b[1m83/83\u001b[0m \u001b[32m━━━━━━━━━━━━━━━━━━━━\u001b[0m\u001b[37m\u001b[0m \u001b[1m0s\u001b[0m 5ms/step - loss: 334573120.0000 - val_loss: 1266250678272.0000\n",
      "Epoch 418/500\n",
      "\u001b[1m83/83\u001b[0m \u001b[32m━━━━━━━━━━━━━━━━━━━━\u001b[0m\u001b[37m\u001b[0m \u001b[1m0s\u001b[0m 5ms/step - loss: 465640640.0000 - val_loss: 1266035589120.0000\n",
      "Epoch 419/500\n",
      "\u001b[1m83/83\u001b[0m \u001b[32m━━━━━━━━━━━━━━━━━━━━\u001b[0m\u001b[37m\u001b[0m \u001b[1m0s\u001b[0m 5ms/step - loss: 338917088.0000 - val_loss: 1266125766656.0000\n",
      "Epoch 420/500\n",
      "\u001b[1m83/83\u001b[0m \u001b[32m━━━━━━━━━━━━━━━━━━━━\u001b[0m\u001b[37m\u001b[0m \u001b[1m0s\u001b[0m 5ms/step - loss: 391764416.0000 - val_loss: 1266053677056.0000\n",
      "Epoch 421/500\n",
      "\u001b[1m83/83\u001b[0m \u001b[32m━━━━━━━━━━━━━━━━━━━━\u001b[0m\u001b[37m\u001b[0m \u001b[1m0s\u001b[0m 6ms/step - loss: 416926784.0000 - val_loss: 1265895342080.0000\n",
      "Epoch 422/500\n",
      "\u001b[1m83/83\u001b[0m \u001b[32m━━━━━━━━━━━━━━━━━━━━\u001b[0m\u001b[37m\u001b[0m \u001b[1m0s\u001b[0m 5ms/step - loss: 1428523264.0000 - val_loss: 1265817223168.0000\n",
      "Epoch 423/500\n",
      "\u001b[1m83/83\u001b[0m \u001b[32m━━━━━━━━━━━━━━━━━━━━\u001b[0m\u001b[37m\u001b[0m \u001b[1m0s\u001b[0m 5ms/step - loss: 272738784.0000 - val_loss: 1265915265024.0000\n",
      "Epoch 424/500\n",
      "\u001b[1m83/83\u001b[0m \u001b[32m━━━━━━━━━━━━━━━━━━━━\u001b[0m\u001b[37m\u001b[0m \u001b[1m0s\u001b[0m 5ms/step - loss: 565589120.0000 - val_loss: 1265563467776.0000\n",
      "Epoch 425/500\n",
      "\u001b[1m83/83\u001b[0m \u001b[32m━━━━━━━━━━━━━━━━━━━━\u001b[0m\u001b[37m\u001b[0m \u001b[1m0s\u001b[0m 5ms/step - loss: 405178400.0000 - val_loss: 1265844092928.0000\n",
      "Epoch 426/500\n",
      "\u001b[1m83/83\u001b[0m \u001b[32m━━━━━━━━━━━━━━━━━━━━\u001b[0m\u001b[37m\u001b[0m \u001b[1m0s\u001b[0m 5ms/step - loss: 949136640.0000 - val_loss: 1265453498368.0000\n",
      "Epoch 427/500\n",
      "\u001b[1m83/83\u001b[0m \u001b[32m━━━━━━━━━━━━━━━━━━━━\u001b[0m\u001b[37m\u001b[0m \u001b[1m0s\u001b[0m 5ms/step - loss: 124590624.0000 - val_loss: 1265738973184.0000\n",
      "Epoch 428/500\n",
      "\u001b[1m83/83\u001b[0m \u001b[32m━━━━━━━━━━━━━━━━━━━━\u001b[0m\u001b[37m\u001b[0m \u001b[1m0s\u001b[0m 5ms/step - loss: 466522528.0000 - val_loss: 1265165271040.0000\n",
      "Epoch 429/500\n",
      "\u001b[1m83/83\u001b[0m \u001b[32m━━━━━━━━━━━━━━━━━━━━\u001b[0m\u001b[37m\u001b[0m \u001b[1m0s\u001b[0m 5ms/step - loss: 654712704.0000 - val_loss: 1265561370624.0000\n",
      "Epoch 430/500\n",
      "\u001b[1m83/83\u001b[0m \u001b[32m━━━━━━━━━━━━━━━━━━━━\u001b[0m\u001b[37m\u001b[0m \u001b[1m0s\u001b[0m 5ms/step - loss: 236668080.0000 - val_loss: 1265329897472.0000\n",
      "Epoch 431/500\n",
      "\u001b[1m83/83\u001b[0m \u001b[32m━━━━━━━━━━━━━━━━━━━━\u001b[0m\u001b[37m\u001b[0m \u001b[1m0s\u001b[0m 6ms/step - loss: 466888704.0000 - val_loss: 1265331994624.0000\n",
      "Epoch 432/500\n",
      "\u001b[1m83/83\u001b[0m \u001b[32m━━━━━━━━━━━━━━━━━━━━\u001b[0m\u001b[37m\u001b[0m \u001b[1m0s\u001b[0m 5ms/step - loss: 561555200.0000 - val_loss: 1265218486272.0000\n",
      "Epoch 433/500\n",
      "\u001b[1m83/83\u001b[0m \u001b[32m━━━━━━━━━━━━━━━━━━━━\u001b[0m\u001b[37m\u001b[0m \u001b[1m1s\u001b[0m 6ms/step - loss: 567347712.0000 - val_loss: 1265219272704.0000\n",
      "Epoch 434/500\n",
      "\u001b[1m83/83\u001b[0m \u001b[32m━━━━━━━━━━━━━━━━━━━━\u001b[0m\u001b[37m\u001b[0m \u001b[1m1s\u001b[0m 7ms/step - loss: 603064832.0000 - val_loss: 1265091477504.0000\n",
      "Epoch 435/500\n",
      "\u001b[1m83/83\u001b[0m \u001b[32m━━━━━━━━━━━━━━━━━━━━\u001b[0m\u001b[37m\u001b[0m \u001b[1m0s\u001b[0m 6ms/step - loss: 559319104.0000 - val_loss: 1265170382848.0000\n",
      "Epoch 436/500\n",
      "\u001b[1m83/83\u001b[0m \u001b[32m━━━━━━━━━━━━━━━━━━━━\u001b[0m\u001b[37m\u001b[0m \u001b[1m0s\u001b[0m 5ms/step - loss: 178667440.0000 - val_loss: 1265130799104.0000\n",
      "Epoch 437/500\n",
      "\u001b[1m83/83\u001b[0m \u001b[32m━━━━━━━━━━━━━━━━━━━━\u001b[0m\u001b[37m\u001b[0m \u001b[1m0s\u001b[0m 5ms/step - loss: 400519104.0000 - val_loss: 1264950181888.0000\n",
      "Epoch 438/500\n",
      "\u001b[1m83/83\u001b[0m \u001b[32m━━━━━━━━━━━━━━━━━━━━\u001b[0m\u001b[37m\u001b[0m \u001b[1m0s\u001b[0m 5ms/step - loss: 555370368.0000 - val_loss: 1265097900032.0000\n",
      "Epoch 439/500\n",
      "\u001b[1m83/83\u001b[0m \u001b[32m━━━━━━━━━━━━━━━━━━━━\u001b[0m\u001b[37m\u001b[0m \u001b[1m0s\u001b[0m 5ms/step - loss: 347256448.0000 - val_loss: 1264801546240.0000\n",
      "Epoch 440/500\n",
      "\u001b[1m83/83\u001b[0m \u001b[32m━━━━━━━━━━━━━━━━━━━━\u001b[0m\u001b[37m\u001b[0m \u001b[1m0s\u001b[0m 5ms/step - loss: 302717184.0000 - val_loss: 1264995663872.0000\n",
      "Epoch 441/500\n",
      "\u001b[1m83/83\u001b[0m \u001b[32m━━━━━━━━━━━━━━━━━━━━\u001b[0m\u001b[37m\u001b[0m \u001b[1m0s\u001b[0m 6ms/step - loss: 380069280.0000 - val_loss: 1264758816768.0000\n",
      "Epoch 442/500\n",
      "\u001b[1m83/83\u001b[0m \u001b[32m━━━━━━━━━━━━━━━━━━━━\u001b[0m\u001b[37m\u001b[0m \u001b[1m1s\u001b[0m 6ms/step - loss: 1112526976.0000 - val_loss: 1264647667712.0000\n",
      "Epoch 443/500\n",
      "\u001b[1m83/83\u001b[0m \u001b[32m━━━━━━━━━━━━━━━━━━━━\u001b[0m\u001b[37m\u001b[0m \u001b[1m0s\u001b[0m 6ms/step - loss: 114483944.0000 - val_loss: 1264692494336.0000\n",
      "Epoch 444/500\n",
      "\u001b[1m83/83\u001b[0m \u001b[32m━━━━━━━━━━━━━━━━━━━━\u001b[0m\u001b[37m\u001b[0m \u001b[1m0s\u001b[0m 6ms/step - loss: 311953728.0000 - val_loss: 1264539795456.0000\n",
      "Epoch 445/500\n",
      "\u001b[1m83/83\u001b[0m \u001b[32m━━━━━━━━━━━━━━━━━━━━\u001b[0m\u001b[37m\u001b[0m \u001b[1m0s\u001b[0m 5ms/step - loss: 162274992.0000 - val_loss: 1264921477120.0000\n",
      "Epoch 446/500\n",
      "\u001b[1m83/83\u001b[0m \u001b[32m━━━━━━━━━━━━━━━━━━━━\u001b[0m\u001b[37m\u001b[0m \u001b[1m0s\u001b[0m 5ms/step - loss: 97629616.0000 - val_loss: 1264224698368.0000\n",
      "Epoch 447/500\n",
      "\u001b[1m83/83\u001b[0m \u001b[32m━━━━━━━━━━━━━━━━━━━━\u001b[0m\u001b[37m\u001b[0m \u001b[1m0s\u001b[0m 5ms/step - loss: 114577904.0000 - val_loss: 1264456957952.0000\n",
      "Epoch 448/500\n",
      "\u001b[1m83/83\u001b[0m \u001b[32m━━━━━━━━━━━━━━━━━━━━\u001b[0m\u001b[37m\u001b[0m \u001b[1m0s\u001b[0m 5ms/step - loss: 109814272.0000 - val_loss: 1264440573952.0000\n",
      "Epoch 449/500\n",
      "\u001b[1m83/83\u001b[0m \u001b[32m━━━━━━━━━━━━━━━━━━━━\u001b[0m\u001b[37m\u001b[0m \u001b[1m0s\u001b[0m 6ms/step - loss: 141654128.0000 - val_loss: 1264341876736.0000\n",
      "Epoch 450/500\n",
      "\u001b[1m83/83\u001b[0m \u001b[32m━━━━━━━━━━━━━━━━━━━━\u001b[0m\u001b[37m\u001b[0m \u001b[1m0s\u001b[0m 5ms/step - loss: 89208520.0000 - val_loss: 1264365207552.0000\n",
      "Epoch 451/500\n",
      "\u001b[1m83/83\u001b[0m \u001b[32m━━━━━━━━━━━━━━━━━━━━\u001b[0m\u001b[37m\u001b[0m \u001b[1m0s\u001b[0m 5ms/step - loss: 708810368.0000 - val_loss: 1264158900224.0000\n",
      "Epoch 452/500\n",
      "\u001b[1m83/83\u001b[0m \u001b[32m━━━━━━━━━━━━━━━━━━━━\u001b[0m\u001b[37m\u001b[0m \u001b[1m0s\u001b[0m 5ms/step - loss: 92740032.0000 - val_loss: 1264388145152.0000\n",
      "Epoch 453/500\n",
      "\u001b[1m83/83\u001b[0m \u001b[32m━━━━━━━━━━━━━━━━━━━━\u001b[0m\u001b[37m\u001b[0m \u001b[1m0s\u001b[0m 6ms/step - loss: 86031104.0000 - val_loss: 1264021667840.0000\n",
      "Epoch 454/500\n",
      "\u001b[1m83/83\u001b[0m \u001b[32m━━━━━━━━━━━━━━━━━━━━\u001b[0m\u001b[37m\u001b[0m \u001b[1m0s\u001b[0m 5ms/step - loss: 207692160.0000 - val_loss: 1264432054272.0000\n",
      "Epoch 455/500\n",
      "\u001b[1m83/83\u001b[0m \u001b[32m━━━━━━━━━━━━━━━━━━━━\u001b[0m\u001b[37m\u001b[0m \u001b[1m0s\u001b[0m 6ms/step - loss: 180438144.0000 - val_loss: 1264207527936.0000\n",
      "Epoch 456/500\n",
      "\u001b[1m83/83\u001b[0m \u001b[32m━━━━━━━━━━━━━━━━━━━━\u001b[0m\u001b[37m\u001b[0m \u001b[1m0s\u001b[0m 5ms/step - loss: 722542016.0000 - val_loss: 1264000565248.0000\n",
      "Epoch 457/500\n",
      "\u001b[1m83/83\u001b[0m \u001b[32m━━━━━━━━━━━━━━━━━━━━\u001b[0m\u001b[37m\u001b[0m \u001b[1m0s\u001b[0m 5ms/step - loss: 253534960.0000 - val_loss: 1264079339520.0000\n",
      "Epoch 458/500\n",
      "\u001b[1m83/83\u001b[0m \u001b[32m━━━━━━━━━━━━━━━━━━━━\u001b[0m\u001b[37m\u001b[0m \u001b[1m0s\u001b[0m 5ms/step - loss: 618850304.0000 - val_loss: 1263968976896.0000\n",
      "Epoch 459/500\n",
      "\u001b[1m83/83\u001b[0m \u001b[32m━━━━━━━━━━━━━━━━━━━━\u001b[0m\u001b[37m\u001b[0m \u001b[1m0s\u001b[0m 5ms/step - loss: 176639184.0000 - val_loss: 1264189440000.0000\n",
      "Epoch 460/500\n",
      "\u001b[1m83/83\u001b[0m \u001b[32m━━━━━━━━━━━━━━━━━━━━\u001b[0m\u001b[37m\u001b[0m \u001b[1m0s\u001b[0m 5ms/step - loss: 363232384.0000 - val_loss: 1263805005824.0000\n",
      "Epoch 461/500\n",
      "\u001b[1m83/83\u001b[0m \u001b[32m━━━━━━━━━━━━━━━━━━━━\u001b[0m\u001b[37m\u001b[0m \u001b[1m0s\u001b[0m 5ms/step - loss: 139784016.0000 - val_loss: 1264092184576.0000\n",
      "Epoch 462/500\n",
      "\u001b[1m83/83\u001b[0m \u001b[32m━━━━━━━━━━━━━━━━━━━━\u001b[0m\u001b[37m\u001b[0m \u001b[1m1s\u001b[0m 6ms/step - loss: 467601184.0000 - val_loss: 1263499214848.0000\n",
      "Epoch 463/500\n",
      "\u001b[1m83/83\u001b[0m \u001b[32m━━━━━━━━━━━━━━━━━━━━\u001b[0m\u001b[37m\u001b[0m \u001b[1m0s\u001b[0m 5ms/step - loss: 120061208.0000 - val_loss: 1264111583232.0000\n",
      "Epoch 464/500\n",
      "\u001b[1m83/83\u001b[0m \u001b[32m━━━━━━━━━━━━━━━━━━━━\u001b[0m\u001b[37m\u001b[0m \u001b[1m0s\u001b[0m 5ms/step - loss: 291112960.0000 - val_loss: 1263519006720.0000\n",
      "Epoch 465/500\n",
      "\u001b[1m83/83\u001b[0m \u001b[32m━━━━━━━━━━━━━━━━━━━━\u001b[0m\u001b[37m\u001b[0m \u001b[1m0s\u001b[0m 5ms/step - loss: 294208512.0000 - val_loss: 1263794520064.0000\n",
      "Epoch 466/500\n",
      "\u001b[1m83/83\u001b[0m \u001b[32m━━━━━━━━━━━━━━━━━━━━\u001b[0m\u001b[37m\u001b[0m \u001b[1m0s\u001b[0m 5ms/step - loss: 241993504.0000 - val_loss: 1263508520960.0000\n",
      "Epoch 467/500\n",
      "\u001b[1m83/83\u001b[0m \u001b[32m━━━━━━━━━━━━━━━━━━━━\u001b[0m\u001b[37m\u001b[0m \u001b[1m0s\u001b[0m 5ms/step - loss: 133278344.0000 - val_loss: 1263884566528.0000\n",
      "Epoch 468/500\n",
      "\u001b[1m83/83\u001b[0m \u001b[32m━━━━━━━━━━━━━━━━━━━━\u001b[0m\u001b[37m\u001b[0m \u001b[1m0s\u001b[0m 5ms/step - loss: 162987664.0000 - val_loss: 1263624650752.0000\n",
      "Epoch 469/500\n",
      "\u001b[1m83/83\u001b[0m \u001b[32m━━━━━━━━━━━━━━━━━━━━\u001b[0m\u001b[37m\u001b[0m \u001b[1m0s\u001b[0m 5ms/step - loss: 104976872.0000 - val_loss: 1263681273856.0000\n",
      "Epoch 470/500\n",
      "\u001b[1m83/83\u001b[0m \u001b[32m━━━━━━━━━━━━━━━━━━━━\u001b[0m\u001b[37m\u001b[0m \u001b[1m0s\u001b[0m 5ms/step - loss: 258515552.0000 - val_loss: 1263397502976.0000\n",
      "Epoch 471/500\n",
      "\u001b[1m83/83\u001b[0m \u001b[32m━━━━━━━━━━━━━━━━━━━━\u001b[0m\u001b[37m\u001b[0m \u001b[1m0s\u001b[0m 5ms/step - loss: 209168736.0000 - val_loss: 1263617966080.0000\n",
      "Epoch 472/500\n",
      "\u001b[1m83/83\u001b[0m \u001b[32m━━━━━━━━━━━━━━━━━━━━\u001b[0m\u001b[37m\u001b[0m \u001b[1m0s\u001b[0m 5ms/step - loss: 356412896.0000 - val_loss: 1263223963648.0000\n",
      "Epoch 473/500\n",
      "\u001b[1m83/83\u001b[0m \u001b[32m━━━━━━━━━━━━━━━━━━━━\u001b[0m\u001b[37m\u001b[0m \u001b[1m1s\u001b[0m 6ms/step - loss: 126376376.0000 - val_loss: 1263591227392.0000\n",
      "Epoch 474/500\n",
      "\u001b[1m83/83\u001b[0m \u001b[32m━━━━━━━━━━━━━━━━━━━━\u001b[0m\u001b[37m\u001b[0m \u001b[1m1s\u001b[0m 6ms/step - loss: 76847808.0000 - val_loss: 1263366438912.0000\n",
      "Epoch 475/500\n",
      "\u001b[1m83/83\u001b[0m \u001b[32m━━━━━━━━━━━━━━━━━━━━\u001b[0m\u001b[37m\u001b[0m \u001b[1m0s\u001b[0m 5ms/step - loss: 226500720.0000 - val_loss: 1263262105600.0000\n",
      "Epoch 476/500\n",
      "\u001b[1m83/83\u001b[0m \u001b[32m━━━━━━━━━━━━━━━━━━━━\u001b[0m\u001b[37m\u001b[0m \u001b[1m0s\u001b[0m 5ms/step - loss: 159041792.0000 - val_loss: 1263287795712.0000\n",
      "Epoch 477/500\n",
      "\u001b[1m83/83\u001b[0m \u001b[32m━━━━━━━━━━━━━━━━━━━━\u001b[0m\u001b[37m\u001b[0m \u001b[1m0s\u001b[0m 6ms/step - loss: 280311776.0000 - val_loss: 1263253192704.0000\n",
      "Epoch 478/500\n",
      "\u001b[1m83/83\u001b[0m \u001b[32m━━━━━━━━━━━━━━━━━━━━\u001b[0m\u001b[37m\u001b[0m \u001b[1m0s\u001b[0m 5ms/step - loss: 98770112.0000 - val_loss: 1263355166720.0000\n",
      "Epoch 479/500\n",
      "\u001b[1m83/83\u001b[0m \u001b[32m━━━━━━━━━━━━━━━━━━━━\u001b[0m\u001b[37m\u001b[0m \u001b[1m0s\u001b[0m 5ms/step - loss: 381782880.0000 - val_loss: 1262803615744.0000\n",
      "Epoch 480/500\n",
      "\u001b[1m83/83\u001b[0m \u001b[32m━━━━━━━━━━━━━━━━━━━━\u001b[0m\u001b[37m\u001b[0m \u001b[1m0s\u001b[0m 6ms/step - loss: 119262392.0000 - val_loss: 1263400648704.0000\n",
      "Epoch 481/500\n",
      "\u001b[1m83/83\u001b[0m \u001b[32m━━━━━━━━━━━━━━━━━━━━\u001b[0m\u001b[37m\u001b[0m \u001b[1m0s\u001b[0m 5ms/step - loss: 291982016.0000 - val_loss: 1262828126208.0000\n",
      "Epoch 482/500\n",
      "\u001b[1m83/83\u001b[0m \u001b[32m━━━━━━━━━━━━━━━━━━━━\u001b[0m\u001b[37m\u001b[0m \u001b[1m0s\u001b[0m 5ms/step - loss: 187676464.0000 - val_loss: 1263305621504.0000\n",
      "Epoch 483/500\n",
      "\u001b[1m83/83\u001b[0m \u001b[32m━━━━━━━━━━━━━━━━━━━━\u001b[0m\u001b[37m\u001b[0m \u001b[1m0s\u001b[0m 6ms/step - loss: 131836616.0000 - val_loss: 1262878457856.0000\n",
      "Epoch 484/500\n",
      "\u001b[1m83/83\u001b[0m \u001b[32m━━━━━━━━━━━━━━━━━━━━\u001b[0m\u001b[37m\u001b[0m \u001b[1m0s\u001b[0m 5ms/step - loss: 283563360.0000 - val_loss: 1263100231680.0000\n",
      "Epoch 485/500\n",
      "\u001b[1m83/83\u001b[0m \u001b[32m━━━━━━━━━━━━━━━━━━━━\u001b[0m\u001b[37m\u001b[0m \u001b[1m0s\u001b[0m 5ms/step - loss: 136183968.0000 - val_loss: 1262996815872.0000\n",
      "Epoch 486/500\n",
      "\u001b[1m83/83\u001b[0m \u001b[32m━━━━━━━━━━━━━━━━━━━━\u001b[0m\u001b[37m\u001b[0m \u001b[1m0s\u001b[0m 5ms/step - loss: 112276816.0000 - val_loss: 1263154888704.0000\n",
      "Epoch 487/500\n",
      "\u001b[1m83/83\u001b[0m \u001b[32m━━━━━━━━━━━━━━━━━━━━\u001b[0m\u001b[37m\u001b[0m \u001b[1m0s\u001b[0m 5ms/step - loss: 93367304.0000 - val_loss: 1262907162624.0000\n",
      "Epoch 488/500\n",
      "\u001b[1m83/83\u001b[0m \u001b[32m━━━━━━━━━━━━━━━━━━━━\u001b[0m\u001b[37m\u001b[0m \u001b[1m0s\u001b[0m 5ms/step - loss: 70602720.0000 - val_loss: 1262737162240.0000\n",
      "Epoch 489/500\n",
      "\u001b[1m83/83\u001b[0m \u001b[32m━━━━━━━━━━━━━━━━━━━━\u001b[0m\u001b[37m\u001b[0m \u001b[1m0s\u001b[0m 5ms/step - loss: 287769728.0000 - val_loss: 1262706229248.0000\n",
      "Epoch 490/500\n",
      "\u001b[1m83/83\u001b[0m \u001b[32m━━━━━━━━━━━━━━━━━━━━\u001b[0m\u001b[37m\u001b[0m \u001b[1m0s\u001b[0m 5ms/step - loss: 189740112.0000 - val_loss: 1262902050816.0000\n",
      "Epoch 491/500\n",
      "\u001b[1m83/83\u001b[0m \u001b[32m━━━━━━━━━━━━━━━━━━━━\u001b[0m\u001b[37m\u001b[0m \u001b[1m0s\u001b[0m 5ms/step - loss: 66526548.0000 - val_loss: 1262618935296.0000\n",
      "Epoch 492/500\n",
      "\u001b[1m83/83\u001b[0m \u001b[32m━━━━━━━━━━━━━━━━━━━━\u001b[0m\u001b[37m\u001b[0m \u001b[1m0s\u001b[0m 5ms/step - loss: 124404048.0000 - val_loss: 1262888419328.0000\n",
      "Epoch 493/500\n",
      "\u001b[1m83/83\u001b[0m \u001b[32m━━━━━━━━━━━━━━━━━━━━\u001b[0m\u001b[37m\u001b[0m \u001b[1m0s\u001b[0m 6ms/step - loss: 95833512.0000 - val_loss: 1262759968768.0000\n",
      "Epoch 494/500\n",
      "\u001b[1m83/83\u001b[0m \u001b[32m━━━━━━━━━━━━━━━━━━━━\u001b[0m\u001b[37m\u001b[0m \u001b[1m0s\u001b[0m 5ms/step - loss: 163873648.0000 - val_loss: 1262610677760.0000\n",
      "Epoch 495/500\n",
      "\u001b[1m83/83\u001b[0m \u001b[32m━━━━━━━━━━━━━━━━━━━━\u001b[0m\u001b[37m\u001b[0m \u001b[1m0s\u001b[0m 5ms/step - loss: 643360640.0000 - val_loss: 1262495858688.0000\n",
      "Epoch 496/500\n",
      "\u001b[1m83/83\u001b[0m \u001b[32m━━━━━━━━━━━━━━━━━━━━\u001b[0m\u001b[37m\u001b[0m \u001b[1m0s\u001b[0m 5ms/step - loss: 228273728.0000 - val_loss: 1262635319296.0000\n",
      "Epoch 497/500\n",
      "\u001b[1m83/83\u001b[0m \u001b[32m━━━━━━━━━━━━━━━━━━━━\u001b[0m\u001b[37m\u001b[0m \u001b[1m1s\u001b[0m 6ms/step - loss: 92630312.0000 - val_loss: 1262733623296.0000\n",
      "Epoch 498/500\n",
      "\u001b[1m83/83\u001b[0m \u001b[32m━━━━━━━━━━━━━━━━━━━━\u001b[0m\u001b[37m\u001b[0m \u001b[1m1s\u001b[0m 7ms/step - loss: 93400176.0000 - val_loss: 1262518272000.0000\n",
      "Epoch 499/500\n",
      "\u001b[1m83/83\u001b[0m \u001b[32m━━━━━━━━━━━━━━━━━━━━\u001b[0m\u001b[37m\u001b[0m \u001b[1m1s\u001b[0m 6ms/step - loss: 403379648.0000 - val_loss: 1262508441600.0000\n",
      "Epoch 500/500\n",
      "\u001b[1m83/83\u001b[0m \u001b[32m━━━━━━━━━━━━━━━━━━━━\u001b[0m\u001b[37m\u001b[0m \u001b[1m1s\u001b[0m 6ms/step - loss: 218183744.0000 - val_loss: 1262375272448.0000\n",
      "\u001b[1m104/104\u001b[0m \u001b[32m━━━━━━━━━━━━━━━━━━━━\u001b[0m\u001b[37m\u001b[0m \u001b[1m0s\u001b[0m 2ms/step\n",
      "\u001b[1m26/26\u001b[0m \u001b[32m━━━━━━━━━━━━━━━━━━━━\u001b[0m\u001b[37m\u001b[0m \u001b[1m0s\u001b[0m 2ms/step \n"
     ]
    }
   ],
   "source": [
    "# Define and Compile the ANN Model\n",
    "model = Sequential()\n",
    "model.add(Dense(100, input_dim=X_train.shape[1], activation='relu'))\n",
    "model.add(Dense(50, activation='relu'))\n",
    "# model.add(Dense(16, activation='relu'))\n",
    "model.add(Dense(1))\n",
    "\n",
    "model.compile(optimizer=Adam(learning_rate=0.001), loss='mse')\n",
    "\n",
    "# Train the Model\n",
    "history = model.fit(X_train, y_train, epochs=500, batch_size=32, validation_split=0.2, verbose=1)\n",
    "\n",
    "# Evaluate the Model\n",
    "y_pred_train = model.predict(X_train)\n",
    "y_pred_test = model.predict(X_test)\n"
   ]
  },
  {
   "cell_type": "code",
   "execution_count": 31,
   "id": "e25d0b74",
   "metadata": {
    "execution": {
     "iopub.execute_input": "2024-07-25T18:20:15.068050Z",
     "iopub.status.busy": "2024-07-25T18:20:15.067545Z",
     "iopub.status.idle": "2024-07-25T18:20:15.081125Z",
     "shell.execute_reply": "2024-07-25T18:20:15.079527Z"
    },
    "papermill": {
     "duration": 0.381326,
     "end_time": "2024-07-25T18:20:15.085382",
     "exception": false,
     "start_time": "2024-07-25T18:20:14.704056",
     "status": "completed"
    },
    "tags": []
   },
   "outputs": [
    {
     "name": "stdout",
     "output_type": "stream",
     "text": [
      "Training MSE: 252838428165.3118\n",
      "Testing MSE: 179716138427.57776\n",
      "Training R2 Score: 0.36708602501472964\n",
      "Testing R2 Score: -0.7142688556291719\n"
     ]
    }
   ],
   "source": [
    "# Calculate Metrics\n",
    "mse_train = mean_squared_error(y_train, y_pred_train)\n",
    "mse_test = mean_squared_error(y_test, y_pred_test)\n",
    "r2_train = r2_score(y_train, y_pred_train)\n",
    "r2_test = r2_score(y_test, y_pred_test)\n",
    "\n",
    "print(f\"Training MSE: {mse_train}\")\n",
    "print(f\"Testing MSE: {mse_test}\")\n",
    "print(f\"Training R2 Score: {r2_train}\")\n",
    "print(f\"Testing R2 Score: {r2_test}\")"
   ]
  }
 ],
 "metadata": {
  "kaggle": {
   "accelerator": "none",
   "dataSources": [
    {
     "datasetId": 5424127,
     "sourceId": 9003752,
     "sourceType": "datasetVersion"
    }
   ],
   "dockerImageVersionId": 30746,
   "isGpuEnabled": false,
   "isInternetEnabled": true,
   "language": "python",
   "sourceType": "notebook"
  },
  "kernelspec": {
   "display_name": "Python 3",
   "language": "python",
   "name": "python3"
  },
  "language_info": {
   "codemirror_mode": {
    "name": "ipython",
    "version": 3
   },
   "file_extension": ".py",
   "mimetype": "text/x-python",
   "name": "python",
   "nbconvert_exporter": "python",
   "pygments_lexer": "ipython3",
   "version": "3.10.13"
  },
  "papermill": {
   "default_parameters": {},
   "duration": 591.469788,
   "end_time": "2024-07-25T18:20:17.072597",
   "environment_variables": {},
   "exception": null,
   "input_path": "__notebook__.ipynb",
   "output_path": "__notebook__.ipynb",
   "parameters": {},
   "start_time": "2024-07-25T18:10:25.602809",
   "version": "2.5.0"
  }
 },
 "nbformat": 4,
 "nbformat_minor": 5
}
